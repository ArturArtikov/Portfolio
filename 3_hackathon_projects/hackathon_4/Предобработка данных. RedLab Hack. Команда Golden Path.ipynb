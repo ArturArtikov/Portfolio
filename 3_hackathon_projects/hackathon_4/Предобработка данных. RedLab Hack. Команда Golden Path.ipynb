{
  "cells": [
    {
      "cell_type": "markdown",
      "metadata": {},
      "source": [
        "# Предобработка данных и подготовка датасетов для ML - моделей"
      ]
    },
    {
      "cell_type": "code",
      "execution_count": 1,
      "metadata": {
        "id": "3fwxHZ5Y_kNu"
      },
      "outputs": [],
      "source": [
        "import pandas as pd\n",
        "import numpy as np"
      ]
    },
    {
      "cell_type": "code",
      "execution_count": 2,
      "metadata": {
        "colab": {
          "base_uri": "https://localhost:8080/",
          "height": 434
        },
        "id": "UGJAc4GTCa1v",
        "outputId": "9729d7ae-f57a-41a0-aa68-8b1657cc46db"
      },
      "outputs": [
        {
          "name": "stderr",
          "output_type": "stream",
          "text": [
            "C:\\Users\\Artur\\AppData\\Local\\Temp\\ipykernel_12156\\3948894926.py:2: DtypeWarning: Columns (13) have mixed types. Specify dtype option on import or set low_memory=False.\n",
            "  data = pd.read_csv('metrics_collector.tsv',\n"
          ]
        },
        {
          "data": {
            "text/html": [
              "<div>\n",
              "<style scoped>\n",
              "    .dataframe tbody tr th:only-of-type {\n",
              "        vertical-align: middle;\n",
              "    }\n",
              "\n",
              "    .dataframe tbody tr th {\n",
              "        vertical-align: top;\n",
              "    }\n",
              "\n",
              "    .dataframe thead th {\n",
              "        text-align: right;\n",
              "    }\n",
              "</style>\n",
              "<table border=\"1\" class=\"dataframe\">\n",
              "  <thead>\n",
              "    <tr style=\"text-align: right;\">\n",
              "      <th></th>\n",
              "      <th>account_id</th>\n",
              "      <th>name</th>\n",
              "      <th>point</th>\n",
              "      <th>call_count</th>\n",
              "      <th>total_call_time</th>\n",
              "      <th>total_exclusive_time</th>\n",
              "      <th>min_call_time</th>\n",
              "      <th>max_call_time</th>\n",
              "      <th>sum_of_squares</th>\n",
              "      <th>instances</th>\n",
              "      <th>language</th>\n",
              "      <th>app_name</th>\n",
              "      <th>app_id</th>\n",
              "      <th>scope</th>\n",
              "      <th>host</th>\n",
              "      <th>display_host</th>\n",
              "      <th>pid</th>\n",
              "      <th>agent_version</th>\n",
              "      <th>labels</th>\n",
              "    </tr>\n",
              "  </thead>\n",
              "  <tbody>\n",
              "    <tr>\n",
              "      <th>0</th>\n",
              "      <td>1</td>\n",
              "      <td>AgentCheck/CircuitBreaker/tripped/all</td>\n",
              "      <td>2024-04-15 23:33:00</td>\n",
              "      <td>0.0</td>\n",
              "      <td>0.0</td>\n",
              "      <td>0.0</td>\n",
              "      <td>0.0</td>\n",
              "      <td>0.0</td>\n",
              "      <td>0.0</td>\n",
              "      <td>1.0</td>\n",
              "      <td>java</td>\n",
              "      <td>[GMonit] Collector</td>\n",
              "      <td>17592186045423</td>\n",
              "      <td>NaN</td>\n",
              "      <td>575f5ba20b4b</td>\n",
              "      <td>575f5ba20b4b</td>\n",
              "      <td>1</td>\n",
              "      <td>8.5.0</td>\n",
              "      <td>{}</td>\n",
              "    </tr>\n",
              "    <tr>\n",
              "      <th>1</th>\n",
              "      <td>1</td>\n",
              "      <td>AgentCheck/CircuitBreaker/tripped/all</td>\n",
              "      <td>2024-04-15 23:34:00</td>\n",
              "      <td>0.0</td>\n",
              "      <td>0.0</td>\n",
              "      <td>0.0</td>\n",
              "      <td>0.0</td>\n",
              "      <td>0.0</td>\n",
              "      <td>0.0</td>\n",
              "      <td>1.0</td>\n",
              "      <td>java</td>\n",
              "      <td>[GMonit] Collector</td>\n",
              "      <td>17592186045423</td>\n",
              "      <td>NaN</td>\n",
              "      <td>575f5ba20b4b</td>\n",
              "      <td>575f5ba20b4b</td>\n",
              "      <td>1</td>\n",
              "      <td>8.5.0</td>\n",
              "      <td>{}</td>\n",
              "    </tr>\n",
              "    <tr>\n",
              "      <th>2</th>\n",
              "      <td>1</td>\n",
              "      <td>AgentCheck/CircuitBreaker/tripped/all</td>\n",
              "      <td>2024-04-15 23:35:00</td>\n",
              "      <td>0.0</td>\n",
              "      <td>0.0</td>\n",
              "      <td>0.0</td>\n",
              "      <td>0.0</td>\n",
              "      <td>0.0</td>\n",
              "      <td>0.0</td>\n",
              "      <td>1.0</td>\n",
              "      <td>java</td>\n",
              "      <td>[GMonit] Collector</td>\n",
              "      <td>17592186045423</td>\n",
              "      <td>NaN</td>\n",
              "      <td>575f5ba20b4b</td>\n",
              "      <td>575f5ba20b4b</td>\n",
              "      <td>1</td>\n",
              "      <td>8.5.0</td>\n",
              "      <td>{}</td>\n",
              "    </tr>\n",
              "    <tr>\n",
              "      <th>3</th>\n",
              "      <td>1</td>\n",
              "      <td>AgentCheck/CircuitBreaker/tripped/all</td>\n",
              "      <td>2024-04-15 23:36:00</td>\n",
              "      <td>0.0</td>\n",
              "      <td>0.0</td>\n",
              "      <td>0.0</td>\n",
              "      <td>0.0</td>\n",
              "      <td>0.0</td>\n",
              "      <td>0.0</td>\n",
              "      <td>1.0</td>\n",
              "      <td>java</td>\n",
              "      <td>[GMonit] Collector</td>\n",
              "      <td>17592186045423</td>\n",
              "      <td>NaN</td>\n",
              "      <td>575f5ba20b4b</td>\n",
              "      <td>575f5ba20b4b</td>\n",
              "      <td>1</td>\n",
              "      <td>8.5.0</td>\n",
              "      <td>{}</td>\n",
              "    </tr>\n",
              "    <tr>\n",
              "      <th>4</th>\n",
              "      <td>1</td>\n",
              "      <td>AgentCheck/CircuitBreaker/tripped/all</td>\n",
              "      <td>2024-04-15 23:37:00</td>\n",
              "      <td>0.0</td>\n",
              "      <td>0.0</td>\n",
              "      <td>0.0</td>\n",
              "      <td>0.0</td>\n",
              "      <td>0.0</td>\n",
              "      <td>0.0</td>\n",
              "      <td>1.0</td>\n",
              "      <td>java</td>\n",
              "      <td>[GMonit] Collector</td>\n",
              "      <td>17592186045423</td>\n",
              "      <td>NaN</td>\n",
              "      <td>575f5ba20b4b</td>\n",
              "      <td>575f5ba20b4b</td>\n",
              "      <td>1</td>\n",
              "      <td>8.5.0</td>\n",
              "      <td>{}</td>\n",
              "    </tr>\n",
              "  </tbody>\n",
              "</table>\n",
              "</div>"
            ],
            "text/plain": [
              "   account_id                                   name                point  \\\n",
              "0           1  AgentCheck/CircuitBreaker/tripped/all  2024-04-15 23:33:00   \n",
              "1           1  AgentCheck/CircuitBreaker/tripped/all  2024-04-15 23:34:00   \n",
              "2           1  AgentCheck/CircuitBreaker/tripped/all  2024-04-15 23:35:00   \n",
              "3           1  AgentCheck/CircuitBreaker/tripped/all  2024-04-15 23:36:00   \n",
              "4           1  AgentCheck/CircuitBreaker/tripped/all  2024-04-15 23:37:00   \n",
              "\n",
              "   call_count  total_call_time  total_exclusive_time  min_call_time  \\\n",
              "0         0.0              0.0                   0.0            0.0   \n",
              "1         0.0              0.0                   0.0            0.0   \n",
              "2         0.0              0.0                   0.0            0.0   \n",
              "3         0.0              0.0                   0.0            0.0   \n",
              "4         0.0              0.0                   0.0            0.0   \n",
              "\n",
              "   max_call_time  sum_of_squares  instances language            app_name  \\\n",
              "0            0.0             0.0        1.0     java  [GMonit] Collector   \n",
              "1            0.0             0.0        1.0     java  [GMonit] Collector   \n",
              "2            0.0             0.0        1.0     java  [GMonit] Collector   \n",
              "3            0.0             0.0        1.0     java  [GMonit] Collector   \n",
              "4            0.0             0.0        1.0     java  [GMonit] Collector   \n",
              "\n",
              "           app_id scope          host  display_host  pid agent_version labels  \n",
              "0  17592186045423   NaN  575f5ba20b4b  575f5ba20b4b    1         8.5.0     {}  \n",
              "1  17592186045423   NaN  575f5ba20b4b  575f5ba20b4b    1         8.5.0     {}  \n",
              "2  17592186045423   NaN  575f5ba20b4b  575f5ba20b4b    1         8.5.0     {}  \n",
              "3  17592186045423   NaN  575f5ba20b4b  575f5ba20b4b    1         8.5.0     {}  \n",
              "4  17592186045423   NaN  575f5ba20b4b  575f5ba20b4b    1         8.5.0     {}  "
            ]
          },
          "execution_count": 2,
          "metadata": {},
          "output_type": "execute_result"
        }
      ],
      "source": [
        "columns = ['account_id', 'name', 'point', 'call_count', 'total_call_time', 'total_exclusive_time', 'min_call_time', 'max_call_time', 'sum_of_squares', 'instances', 'language', 'app_name', 'app_id', 'scope', 'host', 'display_host', 'pid', 'agent_version', 'labels']\n",
        "data = pd.read_csv('metrics_collector.tsv',\n",
        "                   sep='\\t',\n",
        "                   header=0,\n",
        "                   names=columns)\n",
        "data.head()"
      ]
    },
    {
      "cell_type": "markdown",
      "metadata": {
        "id": "ZxEdpbCFC-BS"
      },
      "source": [
        "# Анализ данных"
      ]
    },
    {
      "cell_type": "markdown",
      "metadata": {
        "id": "xh81D3vhWeMD"
      },
      "source": [
        "## Работа с признаками\n",
        "\n",
        "По умолчанию для работы нам даны 19 признаков:\n",
        "\n",
        "* account_id;\n",
        "* name;\n",
        "* point;\n",
        "* call_count;\n",
        "* total_call_time;\n",
        "* total_exclusive_time;\n",
        "* min_call_time;\n",
        "* max_call_time;\n",
        "* sum_of_squares;\n",
        "* instances;\n",
        "* language;\n",
        "* app_name;\n",
        "* app_id;\n",
        "* scope;\n",
        "* host;\n",
        "* display_host;\n",
        "* pid;\n",
        "* agent_version;\n",
        "* labels,\n",
        "\n",
        "однако среди них есть те, которые не представляют интереса для создания ML-модели, или предсказания выбросов, ввиду отсутствия различий в значениях для разных элементов столбца.\n",
        "\n",
        "Для того чтобы получить информацию по уникальным значениям для каждого столбца, а также по количеству данных уникальных значений, воспользуемся методом .value_counts(), тем самым мы сможем понять, какие признаки являются неинформативными, что позволит понизить размерность данных, без потери качества.\n",
        "\n",
        "\n"
      ]
    },
    {
      "cell_type": "code",
      "execution_count": 3,
      "metadata": {
        "colab": {
          "base_uri": "https://localhost:8080/"
        },
        "id": "zstzKNo1YUyN",
        "outputId": "3718535c-43e4-4b0c-e28d-4072d744a49d"
      },
      "outputs": [
        {
          "name": "stdout",
          "output_type": "stream",
          "text": [
            "Размерность данных составляет 18,363,749 строк и 19 столбцов\n"
          ]
        }
      ],
      "source": [
        "# выведем дополнительную информацию о размерности данных\n",
        "print('Размерность данных составляет {:,} строк и {:,} столбцов'.format(*list(data.shape)))"
      ]
    },
    {
      "cell_type": "markdown",
      "metadata": {
        "id": "wDKHf4NSZVib"
      },
      "source": [
        "Рассмотрим признак __account_id__ содержащий информацию об идентефикаторе аккаунта, с которого происходит выгрузка данных.\n",
        "\n",
        "Для всех предоставленных данных - 18 363 749 значениям, в данной колонке соответствует единственное значение - ***1***. Следовательно можно отнести признак к неинформативным."
      ]
    },
    {
      "cell_type": "code",
      "execution_count": 4,
      "metadata": {
        "colab": {
          "base_uri": "https://localhost:8080/"
        },
        "id": "bTdIWzSoYNdL",
        "outputId": "fdaa7011-a8d1-4613-f35e-7fd20f586e69"
      },
      "outputs": [
        {
          "data": {
            "text/plain": [
              "account_id\n",
              "1    18363749\n",
              "Name: count, dtype: int64"
            ]
          },
          "execution_count": 4,
          "metadata": {},
          "output_type": "execute_result"
        }
      ],
      "source": [
        "data['account_id'].value_counts()"
      ]
    },
    {
      "cell_type": "markdown",
      "metadata": {
        "id": "VkqmTSduZ6e_"
      },
      "source": [
        "Признак **language** с информацией о языке программирования также содержит единственное значение - ***java***, которое также не добавляет данным никакой информативности."
      ]
    },
    {
      "cell_type": "code",
      "execution_count": 5,
      "metadata": {
        "colab": {
          "base_uri": "https://localhost:8080/"
        },
        "id": "E5lksGeTZueW",
        "outputId": "d37c4087-0f68-4299-9ba3-e988765df40b"
      },
      "outputs": [
        {
          "data": {
            "text/plain": [
              "language\n",
              "java    18363749\n",
              "Name: count, dtype: int64"
            ]
          },
          "execution_count": 5,
          "metadata": {},
          "output_type": "execute_result"
        }
      ],
      "source": [
        "data['language'].value_counts()"
      ]
    },
    {
      "cell_type": "markdown",
      "metadata": {
        "id": "TauAXRUfaVn0"
      },
      "source": [
        "Для признака **app_name** характерно наличие одного значения - **[GMonit] Collector**, которое используется для выбора данных для подсчета метрик. Однако в нашем случае, ввиду того, что данные являются неинформативными мы также избавляемся от данного признкака, как от ненужного.\n"
      ]
    },
    {
      "cell_type": "code",
      "execution_count": 6,
      "metadata": {
        "colab": {
          "base_uri": "https://localhost:8080/"
        },
        "id": "bYEcFU_BaxTM",
        "outputId": "e09dbac1-d769-4177-ac74-beed354f784d"
      },
      "outputs": [
        {
          "data": {
            "text/plain": [
              "app_name\n",
              "[GMonit] Collector    18363749\n",
              "Name: count, dtype: int64"
            ]
          },
          "execution_count": 6,
          "metadata": {},
          "output_type": "execute_result"
        }
      ],
      "source": [
        "data['app_name'].value_counts()"
      ]
    },
    {
      "cell_type": "markdown",
      "metadata": {
        "id": "sLsH2anBa6fI"
      },
      "source": [
        "Столбец **app_id** аналогично не содержит полезной информации, т.к. имеет единственное значение - ***17592186045423***. Из чего следует, что его также нужно подвергунть удалению.\n"
      ]
    },
    {
      "cell_type": "code",
      "execution_count": 7,
      "metadata": {
        "colab": {
          "base_uri": "https://localhost:8080/"
        },
        "id": "tMnKtspebTb9",
        "outputId": "1154ea68-72b2-4ed3-c4b7-a5aa0e15e502"
      },
      "outputs": [
        {
          "data": {
            "text/plain": [
              "app_id\n",
              "17592186045423    18363749\n",
              "Name: count, dtype: int64"
            ]
          },
          "execution_count": 7,
          "metadata": {},
          "output_type": "execute_result"
        }
      ],
      "source": [
        "data['app_id'].value_counts()"
      ]
    },
    {
      "cell_type": "markdown",
      "metadata": {
        "id": "1ewmqjaTcjLK"
      },
      "source": [
        "Среди оставшихся признаков у нас имеется еще два неинформативных признака - **pid** и **labels**, содержащие также по 1 значению - ***1*** и ***{}*** соответственно. Следовательно нам нужно избавиться и от этих признаков тоже."
      ]
    },
    {
      "cell_type": "code",
      "execution_count": 8,
      "metadata": {
        "colab": {
          "base_uri": "https://localhost:8080/"
        },
        "id": "T8zvFyQtckIy",
        "outputId": "0855cf2d-a4e9-4a8e-9ed0-9563de85ba09"
      },
      "outputs": [
        {
          "name": "stdout",
          "output_type": "stream",
          "text": [
            "pid\n",
            "1    18363749\n",
            "Name: count, dtype: int64\n",
            "\n",
            "labels\n",
            "{}    18363749\n",
            "Name: count, dtype: int64\n"
          ]
        }
      ],
      "source": [
        "print(data['pid'].value_counts(), data['labels'].value_counts(), sep='\\n\\n')"
      ]
    },
    {
      "cell_type": "markdown",
      "metadata": {},
      "source": [
        "Преобразуем данные, удалив неинфомративные столбцы. Тем самым мы понизим размерность данных без потери информации"
      ]
    },
    {
      "cell_type": "code",
      "execution_count": 9,
      "metadata": {
        "colab": {
          "base_uri": "https://localhost:8080/",
          "height": 400
        },
        "id": "oCCTqpQcds5U",
        "outputId": "131a28af-22ac-410c-9e23-445f4eda8903"
      },
      "outputs": [
        {
          "data": {
            "text/html": [
              "<div>\n",
              "<style scoped>\n",
              "    .dataframe tbody tr th:only-of-type {\n",
              "        vertical-align: middle;\n",
              "    }\n",
              "\n",
              "    .dataframe tbody tr th {\n",
              "        vertical-align: top;\n",
              "    }\n",
              "\n",
              "    .dataframe thead th {\n",
              "        text-align: right;\n",
              "    }\n",
              "</style>\n",
              "<table border=\"1\" class=\"dataframe\">\n",
              "  <thead>\n",
              "    <tr style=\"text-align: right;\">\n",
              "      <th></th>\n",
              "      <th>name</th>\n",
              "      <th>point</th>\n",
              "      <th>call_count</th>\n",
              "      <th>total_call_time</th>\n",
              "      <th>total_exclusive_time</th>\n",
              "      <th>min_call_time</th>\n",
              "      <th>max_call_time</th>\n",
              "      <th>sum_of_squares</th>\n",
              "      <th>instances</th>\n",
              "      <th>scope</th>\n",
              "      <th>host</th>\n",
              "      <th>display_host</th>\n",
              "      <th>agent_version</th>\n",
              "    </tr>\n",
              "  </thead>\n",
              "  <tbody>\n",
              "    <tr>\n",
              "      <th>0</th>\n",
              "      <td>AgentCheck/CircuitBreaker/tripped/all</td>\n",
              "      <td>2024-04-15 23:33:00</td>\n",
              "      <td>0.0</td>\n",
              "      <td>0.0</td>\n",
              "      <td>0.0</td>\n",
              "      <td>0.0</td>\n",
              "      <td>0.0</td>\n",
              "      <td>0.0</td>\n",
              "      <td>1.0</td>\n",
              "      <td>NaN</td>\n",
              "      <td>575f5ba20b4b</td>\n",
              "      <td>575f5ba20b4b</td>\n",
              "      <td>8.5.0</td>\n",
              "    </tr>\n",
              "    <tr>\n",
              "      <th>1</th>\n",
              "      <td>AgentCheck/CircuitBreaker/tripped/all</td>\n",
              "      <td>2024-04-15 23:34:00</td>\n",
              "      <td>0.0</td>\n",
              "      <td>0.0</td>\n",
              "      <td>0.0</td>\n",
              "      <td>0.0</td>\n",
              "      <td>0.0</td>\n",
              "      <td>0.0</td>\n",
              "      <td>1.0</td>\n",
              "      <td>NaN</td>\n",
              "      <td>575f5ba20b4b</td>\n",
              "      <td>575f5ba20b4b</td>\n",
              "      <td>8.5.0</td>\n",
              "    </tr>\n",
              "    <tr>\n",
              "      <th>2</th>\n",
              "      <td>AgentCheck/CircuitBreaker/tripped/all</td>\n",
              "      <td>2024-04-15 23:35:00</td>\n",
              "      <td>0.0</td>\n",
              "      <td>0.0</td>\n",
              "      <td>0.0</td>\n",
              "      <td>0.0</td>\n",
              "      <td>0.0</td>\n",
              "      <td>0.0</td>\n",
              "      <td>1.0</td>\n",
              "      <td>NaN</td>\n",
              "      <td>575f5ba20b4b</td>\n",
              "      <td>575f5ba20b4b</td>\n",
              "      <td>8.5.0</td>\n",
              "    </tr>\n",
              "    <tr>\n",
              "      <th>3</th>\n",
              "      <td>AgentCheck/CircuitBreaker/tripped/all</td>\n",
              "      <td>2024-04-15 23:36:00</td>\n",
              "      <td>0.0</td>\n",
              "      <td>0.0</td>\n",
              "      <td>0.0</td>\n",
              "      <td>0.0</td>\n",
              "      <td>0.0</td>\n",
              "      <td>0.0</td>\n",
              "      <td>1.0</td>\n",
              "      <td>NaN</td>\n",
              "      <td>575f5ba20b4b</td>\n",
              "      <td>575f5ba20b4b</td>\n",
              "      <td>8.5.0</td>\n",
              "    </tr>\n",
              "    <tr>\n",
              "      <th>4</th>\n",
              "      <td>AgentCheck/CircuitBreaker/tripped/all</td>\n",
              "      <td>2024-04-15 23:37:00</td>\n",
              "      <td>0.0</td>\n",
              "      <td>0.0</td>\n",
              "      <td>0.0</td>\n",
              "      <td>0.0</td>\n",
              "      <td>0.0</td>\n",
              "      <td>0.0</td>\n",
              "      <td>1.0</td>\n",
              "      <td>NaN</td>\n",
              "      <td>575f5ba20b4b</td>\n",
              "      <td>575f5ba20b4b</td>\n",
              "      <td>8.5.0</td>\n",
              "    </tr>\n",
              "  </tbody>\n",
              "</table>\n",
              "</div>"
            ],
            "text/plain": [
              "                                    name                point  call_count  \\\n",
              "0  AgentCheck/CircuitBreaker/tripped/all  2024-04-15 23:33:00         0.0   \n",
              "1  AgentCheck/CircuitBreaker/tripped/all  2024-04-15 23:34:00         0.0   \n",
              "2  AgentCheck/CircuitBreaker/tripped/all  2024-04-15 23:35:00         0.0   \n",
              "3  AgentCheck/CircuitBreaker/tripped/all  2024-04-15 23:36:00         0.0   \n",
              "4  AgentCheck/CircuitBreaker/tripped/all  2024-04-15 23:37:00         0.0   \n",
              "\n",
              "   total_call_time  total_exclusive_time  min_call_time  max_call_time  \\\n",
              "0              0.0                   0.0            0.0            0.0   \n",
              "1              0.0                   0.0            0.0            0.0   \n",
              "2              0.0                   0.0            0.0            0.0   \n",
              "3              0.0                   0.0            0.0            0.0   \n",
              "4              0.0                   0.0            0.0            0.0   \n",
              "\n",
              "   sum_of_squares  instances scope          host  display_host agent_version  \n",
              "0             0.0        1.0   NaN  575f5ba20b4b  575f5ba20b4b         8.5.0  \n",
              "1             0.0        1.0   NaN  575f5ba20b4b  575f5ba20b4b         8.5.0  \n",
              "2             0.0        1.0   NaN  575f5ba20b4b  575f5ba20b4b         8.5.0  \n",
              "3             0.0        1.0   NaN  575f5ba20b4b  575f5ba20b4b         8.5.0  \n",
              "4             0.0        1.0   NaN  575f5ba20b4b  575f5ba20b4b         8.5.0  "
            ]
          },
          "execution_count": 9,
          "metadata": {},
          "output_type": "execute_result"
        }
      ],
      "source": [
        "data = data.drop(['account_id', 'language', 'app_name', 'app_id', 'pid', 'labels'], axis=1)\n",
        "data.head()"
      ]
    },
    {
      "cell_type": "markdown",
      "metadata": {},
      "source": [
        "Переведем дату и время в формат datetime, а также выведем основную информацию о датафрейме"
      ]
    },
    {
      "cell_type": "code",
      "execution_count": 10,
      "metadata": {
        "colab": {
          "base_uri": "https://localhost:8080/"
        },
        "id": "hFdwr3oCeNSx",
        "outputId": "4b3cabae-eae1-4bd8-a430-17141fb9b5e6"
      },
      "outputs": [
        {
          "name": "stdout",
          "output_type": "stream",
          "text": [
            "<class 'pandas.core.frame.DataFrame'>\n",
            "RangeIndex: 18363749 entries, 0 to 18363748\n",
            "Data columns (total 13 columns):\n",
            " #   Column                Dtype         \n",
            "---  ------                -----         \n",
            " 0   name                  object        \n",
            " 1   point                 datetime64[ns]\n",
            " 2   call_count            float64       \n",
            " 3   total_call_time       float64       \n",
            " 4   total_exclusive_time  float64       \n",
            " 5   min_call_time         float64       \n",
            " 6   max_call_time         float64       \n",
            " 7   sum_of_squares        float64       \n",
            " 8   instances             float64       \n",
            " 9   scope                 object        \n",
            " 10  host                  object        \n",
            " 11  display_host          object        \n",
            " 12  agent_version         object        \n",
            "dtypes: datetime64[ns](1), float64(7), object(5)\n",
            "memory usage: 1.8+ GB\n"
          ]
        }
      ],
      "source": [
        "# переведем время и дату в формат datetime\n",
        "data['point'] = pd.to_datetime(data['point'])\n",
        "data.info()"
      ]
    },
    {
      "cell_type": "markdown",
      "metadata": {
        "id": "Kmrh9dYdfo-c"
      },
      "source": [
        "## Рассчет метрик на данных"
      ]
    },
    {
      "cell_type": "markdown",
      "metadata": {
        "id": "Y1VPtg1vf3b3"
      },
      "source": [
        "### Web Response\n",
        "\n",
        "Рассчитаем метрику Web Response на наших данных, с учетом условий для их рассчета\n",
        "\n",
        "> Web Response - время ответа сервиса на внешний http-запрос\n",
        "\n",
        "Нам доступен код SQL-запроса:\n",
        "\n",
        "```sql\n",
        "select\n",
        " point as time,\n",
        " sumOrNull(total_call_time) / sumOrNull(call_count) as \" \"\n",
        "from metrics_collector\n",
        "where\n",
        " language = 'java'\n",
        " and app_name = '[GMonit] Collector'\n",
        " and scope = ''\n",
        " and name = 'HttpDispatcher'\n",
        "group by time\n",
        "order by time\n",
        "```\n",
        "\n",
        "После выполнения этого запроса нам необходимо получить время и дату, а также значение метрики в виде суммы значений переменной **total_call_time** разделенной на сумму значений переменной **call_count**\n",
        "\n",
        "\n",
        "Также в запросе присутствует упорядочивание данных по дате и времени в порядке возрастания, помимо этого данные следует выбирать по следующим условиям:\n",
        "\n",
        "```sql\n",
        "where\n",
        " language = 'java'\n",
        " and app_name = '[GMonit] Collector'\n",
        " and scope = ''\n",
        " and name = 'HttpDispatcher'\n",
        "```\n",
        "\n",
        "После очистки данных мы автоматически учитываем условия переменных **language**, **app_name**. Осталось учесть данные для двух последних условий и получить результат"
      ]
    },
    {
      "cell_type": "markdown",
      "metadata": {},
      "source": [
        "Создаем маски для первого набора данных и получаем интересующий результат"
      ]
    },
    {
      "cell_type": "code",
      "execution_count": 11,
      "metadata": {
        "id": "iMyq7U-lf3Ce"
      },
      "outputs": [],
      "source": [
        "mask1 = data['scope'].isna()\n",
        "mask2 = data['name'] == 'HttpDispatcher'\n",
        "web_response = data[mask1 | mask2]"
      ]
    },
    {
      "cell_type": "markdown",
      "metadata": {},
      "source": [
        "Импортируем библиотеку warnings для блокировки появления информации о предупреждениях, при работе с большими данными"
      ]
    },
    {
      "cell_type": "code",
      "execution_count": 12,
      "metadata": {
        "id": "5jtl0MVJt0ud"
      },
      "outputs": [],
      "source": [
        "import warnings\n",
        "warnings.filterwarnings('ignore')"
      ]
    },
    {
      "cell_type": "code",
      "execution_count": 13,
      "metadata": {},
      "outputs": [
        {
          "data": {
            "text/html": [
              "<div>\n",
              "<style scoped>\n",
              "    .dataframe tbody tr th:only-of-type {\n",
              "        vertical-align: middle;\n",
              "    }\n",
              "\n",
              "    .dataframe tbody tr th {\n",
              "        vertical-align: top;\n",
              "    }\n",
              "\n",
              "    .dataframe thead th {\n",
              "        text-align: right;\n",
              "    }\n",
              "</style>\n",
              "<table border=\"1\" class=\"dataframe\">\n",
              "  <thead>\n",
              "    <tr style=\"text-align: right;\">\n",
              "      <th></th>\n",
              "      <th>name</th>\n",
              "      <th>point</th>\n",
              "      <th>call_count</th>\n",
              "      <th>total_call_time</th>\n",
              "      <th>total_exclusive_time</th>\n",
              "      <th>min_call_time</th>\n",
              "      <th>max_call_time</th>\n",
              "      <th>sum_of_squares</th>\n",
              "      <th>instances</th>\n",
              "      <th>scope</th>\n",
              "      <th>host</th>\n",
              "      <th>display_host</th>\n",
              "      <th>agent_version</th>\n",
              "    </tr>\n",
              "  </thead>\n",
              "  <tbody>\n",
              "    <tr>\n",
              "      <th>0</th>\n",
              "      <td>AgentCheck/CircuitBreaker/tripped/all</td>\n",
              "      <td>2024-04-15 23:33:00</td>\n",
              "      <td>0.0</td>\n",
              "      <td>0.0</td>\n",
              "      <td>0.0</td>\n",
              "      <td>0.0</td>\n",
              "      <td>0.0</td>\n",
              "      <td>0.0</td>\n",
              "      <td>1.0</td>\n",
              "      <td>NaN</td>\n",
              "      <td>575f5ba20b4b</td>\n",
              "      <td>575f5ba20b4b</td>\n",
              "      <td>8.5.0</td>\n",
              "    </tr>\n",
              "    <tr>\n",
              "      <th>1</th>\n",
              "      <td>AgentCheck/CircuitBreaker/tripped/all</td>\n",
              "      <td>2024-04-15 23:34:00</td>\n",
              "      <td>0.0</td>\n",
              "      <td>0.0</td>\n",
              "      <td>0.0</td>\n",
              "      <td>0.0</td>\n",
              "      <td>0.0</td>\n",
              "      <td>0.0</td>\n",
              "      <td>1.0</td>\n",
              "      <td>NaN</td>\n",
              "      <td>575f5ba20b4b</td>\n",
              "      <td>575f5ba20b4b</td>\n",
              "      <td>8.5.0</td>\n",
              "    </tr>\n",
              "    <tr>\n",
              "      <th>2</th>\n",
              "      <td>AgentCheck/CircuitBreaker/tripped/all</td>\n",
              "      <td>2024-04-15 23:35:00</td>\n",
              "      <td>0.0</td>\n",
              "      <td>0.0</td>\n",
              "      <td>0.0</td>\n",
              "      <td>0.0</td>\n",
              "      <td>0.0</td>\n",
              "      <td>0.0</td>\n",
              "      <td>1.0</td>\n",
              "      <td>NaN</td>\n",
              "      <td>575f5ba20b4b</td>\n",
              "      <td>575f5ba20b4b</td>\n",
              "      <td>8.5.0</td>\n",
              "    </tr>\n",
              "    <tr>\n",
              "      <th>3</th>\n",
              "      <td>AgentCheck/CircuitBreaker/tripped/all</td>\n",
              "      <td>2024-04-15 23:36:00</td>\n",
              "      <td>0.0</td>\n",
              "      <td>0.0</td>\n",
              "      <td>0.0</td>\n",
              "      <td>0.0</td>\n",
              "      <td>0.0</td>\n",
              "      <td>0.0</td>\n",
              "      <td>1.0</td>\n",
              "      <td>NaN</td>\n",
              "      <td>575f5ba20b4b</td>\n",
              "      <td>575f5ba20b4b</td>\n",
              "      <td>8.5.0</td>\n",
              "    </tr>\n",
              "    <tr>\n",
              "      <th>4</th>\n",
              "      <td>AgentCheck/CircuitBreaker/tripped/all</td>\n",
              "      <td>2024-04-15 23:37:00</td>\n",
              "      <td>0.0</td>\n",
              "      <td>0.0</td>\n",
              "      <td>0.0</td>\n",
              "      <td>0.0</td>\n",
              "      <td>0.0</td>\n",
              "      <td>0.0</td>\n",
              "      <td>1.0</td>\n",
              "      <td>NaN</td>\n",
              "      <td>575f5ba20b4b</td>\n",
              "      <td>575f5ba20b4b</td>\n",
              "      <td>8.5.0</td>\n",
              "    </tr>\n",
              "  </tbody>\n",
              "</table>\n",
              "</div>"
            ],
            "text/plain": [
              "                                    name               point  call_count  \\\n",
              "0  AgentCheck/CircuitBreaker/tripped/all 2024-04-15 23:33:00         0.0   \n",
              "1  AgentCheck/CircuitBreaker/tripped/all 2024-04-15 23:34:00         0.0   \n",
              "2  AgentCheck/CircuitBreaker/tripped/all 2024-04-15 23:35:00         0.0   \n",
              "3  AgentCheck/CircuitBreaker/tripped/all 2024-04-15 23:36:00         0.0   \n",
              "4  AgentCheck/CircuitBreaker/tripped/all 2024-04-15 23:37:00         0.0   \n",
              "\n",
              "   total_call_time  total_exclusive_time  min_call_time  max_call_time  \\\n",
              "0              0.0                   0.0            0.0            0.0   \n",
              "1              0.0                   0.0            0.0            0.0   \n",
              "2              0.0                   0.0            0.0            0.0   \n",
              "3              0.0                   0.0            0.0            0.0   \n",
              "4              0.0                   0.0            0.0            0.0   \n",
              "\n",
              "   sum_of_squares  instances scope          host  display_host agent_version  \n",
              "0             0.0        1.0   NaN  575f5ba20b4b  575f5ba20b4b         8.5.0  \n",
              "1             0.0        1.0   NaN  575f5ba20b4b  575f5ba20b4b         8.5.0  \n",
              "2             0.0        1.0   NaN  575f5ba20b4b  575f5ba20b4b         8.5.0  \n",
              "3             0.0        1.0   NaN  575f5ba20b4b  575f5ba20b4b         8.5.0  \n",
              "4             0.0        1.0   NaN  575f5ba20b4b  575f5ba20b4b         8.5.0  "
            ]
          },
          "execution_count": 13,
          "metadata": {},
          "output_type": "execute_result"
        }
      ],
      "source": [
        "web_response.head()"
      ]
    },
    {
      "cell_type": "markdown",
      "metadata": {},
      "source": [
        "Находим метрику для каждого конкретного значения в конкретный момент времени и заполняем все значения *Nan* нулями"
      ]
    },
    {
      "cell_type": "code",
      "execution_count": 14,
      "metadata": {
        "id": "oJ7kKVH_jK5_"
      },
      "outputs": [],
      "source": [
        "web_response['web_response'] = web_response['total_call_time'] / web_response['call_count']\n",
        "web_response['web_response'] = web_response['web_response'].fillna(0)"
      ]
    },
    {
      "cell_type": "markdown",
      "metadata": {},
      "source": [
        "Для получения верной метрики группируем данные по дате и времени, а значения метрик в каждой из записей суммируем по датам"
      ]
    },
    {
      "cell_type": "code",
      "execution_count": 15,
      "metadata": {},
      "outputs": [],
      "source": [
        "result = web_response.groupby('point')['web_response'].sum()"
      ]
    },
    {
      "cell_type": "markdown",
      "metadata": {},
      "source": [
        "Округляем значения до 3 знаков после запятой (ввиду их больших значений высокая точность не требуется), после чего сохраняем первый файл с метрикой - web_response.csv"
      ]
    },
    {
      "cell_type": "code",
      "execution_count": 16,
      "metadata": {},
      "outputs": [],
      "source": [
        "result = result.apply(lambda x: round(x, 3))"
      ]
    },
    {
      "cell_type": "code",
      "execution_count": 17,
      "metadata": {},
      "outputs": [],
      "source": [
        "result.to_csv('web_response.csv', index=True)"
      ]
    },
    {
      "cell_type": "markdown",
      "metadata": {},
      "source": [
        "### Throughput\n",
        "\n",
        "Рассчитаем метрику throughput на найденных данных\n",
        "\n",
        "> Throughput - пропускная способность сервиса. Измеряется в запросах в минуту.\n",
        "\n",
        "Нам снова доступен код SQL-запроса:\n",
        "\n",
        "```sql\n",
        "select\n",
        " point as time,\n",
        " sumOrNull(call_count)\n",
        "from metrics_collector\n",
        "where\n",
        " language = 'java'\n",
        " and app_name = '[GMonit] Collector'\n",
        " and scope = ''\n",
        " and name = 'HttpDispatcher'\n",
        "group by time\n",
        "order by time\n",
        "```\n",
        "\n",
        "Как видно, то что касается условия выбора данных при **where** наши запросы для *web response* и *throughput* - идентичны. Следовательно воспользуемся уже готовыми данными и получим значение метрики."
      ]
    },
    {
      "cell_type": "markdown",
      "metadata": {},
      "source": [
        "Заполним *Nan* нулями в столбце *call_count*, т.к. именно от него зависит вторая метрика"
      ]
    },
    {
      "cell_type": "code",
      "execution_count": 18,
      "metadata": {},
      "outputs": [],
      "source": [
        "web_response['call_count'] = web_response['call_count'].fillna(0)"
      ]
    },
    {
      "cell_type": "markdown",
      "metadata": {},
      "source": [
        "Проведем аналогичные действия, что и для нахождения первой метрики. Группируем данные по дате и времени, суммируем значения,\n",
        "округляем результаты до 3 знаков после запятой, сохраняем файл со второй метрикой."
      ]
    },
    {
      "cell_type": "code",
      "execution_count": 19,
      "metadata": {},
      "outputs": [],
      "source": [
        "result2 = web_response.groupby('point')['call_count'].sum()\n",
        "result2 = result2.apply(lambda x: round(x, 3))\n",
        "result2.to_csv('throughput.csv', index=True)"
      ]
    },
    {
      "cell_type": "markdown",
      "metadata": {},
      "source": [
        "### Apdex\n",
        "\n",
        "> APDEX - сводный синтетический показатель “здоровья” сервиса. Изменяется от 0 до 1. Чем ближе к 1, тем лучше.\n",
        "\n",
        "```sql\n",
        "with\n",
        " sumOrNull(call_count) as s,\n",
        " sumOrNull(total_call_time) as t,\n",
        " sumOrNull(total_exclusive_time) as f\n",
        "select\n",
        " point as time,\n",
        " (s + t/2) / (s + t + f) as \" \"\n",
        "from metrics_collector\n",
        "where\n",
        " language = 'java'\n",
        " and app_name = '[GMonit] Collector'\n",
        " and scope = ''\n",
        " and name = 'Apdex'\n",
        "group by time\n",
        "order by time\n",
        "\n",
        "```\n",
        "\n",
        "В нашем случае SQL-запрос отличается от ранее приведенных только наличием нового условия:\n",
        "```sql\n",
        " and name = 'Apdex'\n",
        "```\n",
        "\n",
        "а также измененным кодом для нахождения значения метрики\n",
        "\n",
        "```sql\n",
        "with\n",
        " sumOrNull(call_count) as s,\n",
        " sumOrNull(total_call_time) as t,\n",
        " sumOrNull(total_exclusive_time) as f\n",
        "select\n",
        " point as time,\n",
        " (s + t/2) / (s + t + f) as \" \"\n",
        "```"
      ]
    },
    {
      "cell_type": "markdown",
      "metadata": {},
      "source": [
        "Пропишем новые маски для данных и выведем отдельный датасет для поиска метрики"
      ]
    },
    {
      "cell_type": "code",
      "execution_count": 20,
      "metadata": {},
      "outputs": [],
      "source": [
        "mask3 = data['scope'].isna()\n",
        "mask4 = data['name'] == 'Apdex'\n",
        "data3 = data[mask3 | mask4]"
      ]
    },
    {
      "cell_type": "markdown",
      "metadata": {},
      "source": [
        "Заполним значения во всех трех столбцах (избавимся от Nan), т.к. наличие пропусков способно ухудшить результаты оценки"
      ]
    },
    {
      "cell_type": "code",
      "execution_count": 21,
      "metadata": {},
      "outputs": [],
      "source": [
        "data3['call_count'] = data3['call_count'].fillna(0)\n",
        "data3['total_call_time'] = data3['total_call_time'].fillna(0)\n",
        "data3['total_exclusive_time'] = data3['total_exclusive_time'].fillna(0)"
      ]
    },
    {
      "cell_type": "markdown",
      "metadata": {},
      "source": [
        "Проведем математические вычисления для нахождения метрики"
      ]
    },
    {
      "cell_type": "code",
      "execution_count": 22,
      "metadata": {},
      "outputs": [],
      "source": [
        "data3['apdex'] = (data3['call_count'] + data3['total_call_time']/2) / (data3['call_count'] + data3['total_call_time'] + data3['total_exclusive_time'])"
      ]
    },
    {
      "cell_type": "markdown",
      "metadata": {},
      "source": [
        "Сгруппируем данные, найдем сумму значений по датам и сохраним файл с метрикой"
      ]
    },
    {
      "cell_type": "code",
      "execution_count": 23,
      "metadata": {},
      "outputs": [],
      "source": [
        "result3 = data3.groupby('point')['apdex'].sum()\n",
        "result3 = result3.apply(lambda x: round(x, 3))\n",
        "result3.to_csv('apdex.csv', index=True)"
      ]
    },
    {
      "cell_type": "markdown",
      "metadata": {},
      "source": [
        "### Error\n",
        "\n",
        "> Error - процент ошибок в обработанных запросах\n",
        " \n",
        "```sql\n",
        "select\n",
        " point as time,\n",
        " sumOrNullIf(call_count, name='Errors/allWeb') / sumOrNullIf(call_count, name='HttpDispatcher') as \" \"\n",
        "from metrics_collector\n",
        "where\n",
        " language = 'java'\n",
        " and app_name = '[GMonit] Collector'\n",
        " and scope = ''\n",
        " and name in ('HttpDispatcher', 'Errors/allWeb')\n",
        "group by time\n",
        "order by time\n",
        "```\n",
        "\n",
        "В данном случае метрика зависит от нескольких условий, во-первых подсчет *call_count* ведется только если значение в столбце **name** равняется \"Errors/allWeb\", делится же результат на значения при том же столбце, однако со значением **name** равном \"HttpDispatcher\"\n",
        "\n",
        "Также обратим внимание на новое условие where, которое требует двух значений в столбце name для нахождения метрики:\n",
        "\n",
        "```sql\n",
        "where\n",
        " language = 'java'\n",
        " and app_name = '[GMonit] Collector'\n",
        " and scope = ''\n",
        " and name in ('HttpDispatcher', 'Errors/allWeb')\n",
        "```"
      ]
    },
    {
      "cell_type": "markdown",
      "metadata": {},
      "source": [
        "Напишем новые маски, для получения нужной части данных"
      ]
    },
    {
      "cell_type": "code",
      "execution_count": 24,
      "metadata": {},
      "outputs": [],
      "source": [
        "mask5 = data['scope'].isna()\n",
        "mask6 = data['name'] == 'HttpDispatcher'\n",
        "mask7 = data['name'] == 'Errors/allWeb'"
      ]
    },
    {
      "cell_type": "markdown",
      "metadata": {},
      "source": [
        "Объединяем условия и получаем новые данные"
      ]
    },
    {
      "cell_type": "code",
      "execution_count": 26,
      "metadata": {},
      "outputs": [],
      "source": [
        "data4 = data[(mask6 | mask7) & mask5]"
      ]
    },
    {
      "cell_type": "markdown",
      "metadata": {},
      "source": [
        "Группируем и получаем отдельно значения для 'name' == 'Errors/allWeb' и 'name' == 'HttpDispatcher'"
      ]
    },
    {
      "cell_type": "code",
      "execution_count": 21,
      "metadata": {},
      "outputs": [],
      "source": [
        "sub_result4 = data[data['name'] == 'HttpDispatcher'].groupby('point')['call_count'].sum()\n",
        "sub_result5 = data[data['name'] == 'Errors/allWeb'].groupby('point')['call_count'].sum()"
      ]
    },
    {
      "cell_type": "markdown",
      "metadata": {},
      "source": [
        "Делим одно значение на другое, как то указано в SQL-запросе"
      ]
    },
    {
      "cell_type": "code",
      "execution_count": 26,
      "metadata": {},
      "outputs": [],
      "source": [
        "result4 = sub_result5 / sub_result4\n",
        "result4 = result4.fillna(0)"
      ]
    },
    {
      "cell_type": "markdown",
      "metadata": {},
      "source": [
        "Сохраняем полученные данные с агрегированной метрикой"
      ]
    },
    {
      "cell_type": "code",
      "execution_count": 28,
      "metadata": {},
      "outputs": [],
      "source": [
        "result4.to_csv('error.csv', index=True)"
      ]
    }
  ],
  "metadata": {
    "colab": {
      "provenance": []
    },
    "kernelspec": {
      "display_name": "Python 3",
      "name": "python3"
    },
    "language_info": {
      "codemirror_mode": {
        "name": "ipython",
        "version": 3
      },
      "file_extension": ".py",
      "mimetype": "text/x-python",
      "name": "python",
      "nbconvert_exporter": "python",
      "pygments_lexer": "ipython3",
      "version": "3.12.3"
    }
  },
  "nbformat": 4,
  "nbformat_minor": 0
}

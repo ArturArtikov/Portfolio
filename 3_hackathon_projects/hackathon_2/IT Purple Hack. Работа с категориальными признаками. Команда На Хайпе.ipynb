{
  "cells": [
    {
      "cell_type": "markdown",
      "id": "8b7bef09-9e86-4b19-bbb7-e0ccb7515328",
      "metadata": {
        "execution": {
          "iopub.execute_input": "2024-02-14T22:50:38.627643Z",
          "iopub.status.busy": "2024-02-14T22:50:38.627255Z",
          "iopub.status.idle": "2024-02-14T22:50:39.496067Z",
          "shell.execute_reply": "2024-02-14T22:50:39.495215Z",
          "shell.execute_reply.started": "2024-02-14T22:50:38.627616Z"
        },
        "tags": [],
        "id": "8b7bef09-9e86-4b19-bbb7-e0ccb7515328"
      },
      "source": [
        "#  Работа с категориальными признаками"
      ]
    },
    {
      "cell_type": "code",
      "source": [
        "%load_ext autoreload\n",
        "%autoreload 2"
      ],
      "metadata": {
        "id": "Dv8aPbgg84Fo"
      },
      "id": "Dv8aPbgg84Fo",
      "execution_count": null,
      "outputs": []
    },
    {
      "cell_type": "code",
      "execution_count": null,
      "id": "e0ddb399-18f4-4051-86c0-39f1c623eef5",
      "metadata": {
        "execution": {
          "iopub.execute_input": "2024-02-15T11:34:39.109032Z",
          "iopub.status.busy": "2024-02-15T11:34:39.108624Z",
          "iopub.status.idle": "2024-02-15T11:34:39.955360Z",
          "shell.execute_reply": "2024-02-15T11:34:39.954584Z",
          "shell.execute_reply.started": "2024-02-15T11:34:39.109007Z"
        },
        "tags": [],
        "id": "e0ddb399-18f4-4051-86c0-39f1c623eef5"
      },
      "outputs": [],
      "source": [
        "import numpy as np\n",
        "import pandas as pd\n",
        "from lightgbm import LGBMClassifier\n",
        "from sklearn.metrics import roc_auc_score\n",
        "from sklearn.model_selection import train_test_split"
      ]
    },
    {
      "cell_type": "code",
      "source": [
        "!pip freeze | grep \"numpy\\|pandas\\|lightgbm\\|scikit-learn\""
      ],
      "metadata": {
        "colab": {
          "base_uri": "https://localhost:8080/"
        },
        "id": "WremRMspEMJA",
        "outputId": "00a1fe11-681c-466e-a69a-db60d02e1dae"
      },
      "id": "WremRMspEMJA",
      "execution_count": null,
      "outputs": [
        {
          "output_type": "stream",
          "name": "stdout",
          "text": [
            "geopandas==0.13.2\n",
            "lightgbm==4.1.0\n",
            "numpy==1.25.2\n",
            "pandas==1.5.3\n",
            "pandas-datareader==0.10.0\n",
            "pandas-gbq==0.19.2\n",
            "pandas-stubs==1.5.3.230304\n",
            "scikit-learn==1.2.2\n",
            "sklearn-pandas==2.2.0\n"
          ]
        }
      ]
    },
    {
      "cell_type": "markdown",
      "id": "cbcf3aae-5417-42a3-9ed2-818b9aef0f2f",
      "metadata": {
        "id": "cbcf3aae-5417-42a3-9ed2-818b9aef0f2f"
      },
      "source": [
        "## Загрузка данных"
      ]
    },
    {
      "cell_type": "code",
      "source": [
        "from google.colab import drive\n",
        "drive.mount('/content/drive/')"
      ],
      "metadata": {
        "colab": {
          "base_uri": "https://localhost:8080/"
        },
        "id": "9serF2D2K1YC",
        "outputId": "e765f98b-97ea-4e46-ce0c-697d8f2df87c"
      },
      "id": "9serF2D2K1YC",
      "execution_count": null,
      "outputs": [
        {
          "output_type": "stream",
          "name": "stdout",
          "text": [
            "Mounted at /content/drive/\n"
          ]
        }
      ]
    },
    {
      "cell_type": "code",
      "execution_count": null,
      "id": "32c8b1b0-f95e-4cb5-bbc1-c0edb76568c1",
      "metadata": {
        "execution": {
          "iopub.execute_input": "2024-02-15T11:34:44.750723Z",
          "iopub.status.busy": "2024-02-15T11:34:44.750145Z",
          "iopub.status.idle": "2024-02-15T11:34:46.098228Z",
          "shell.execute_reply": "2024-02-15T11:34:46.097494Z",
          "shell.execute_reply.started": "2024-02-15T11:34:44.750694Z"
        },
        "tags": [],
        "id": "32c8b1b0-f95e-4cb5-bbc1-c0edb76568c1"
      },
      "outputs": [],
      "source": [
        "train = pd.read_parquet('/content/drive/MyDrive/Purple_Hack/train_data.pqt') # Подгружаем файл тренировочных данных\n",
        "test = pd.read_parquet('/content/drive/MyDrive/Purple_Hack/test_data.pqt') # Подгружаем файл тестовых данных"
      ]
    },
    {
      "cell_type": "markdown",
      "source": [
        "# Получим список категориальных признаков"
      ],
      "metadata": {
        "id": "sW-8uH1EqEnZ"
      },
      "id": "sW-8uH1EqEnZ"
    },
    {
      "cell_type": "code",
      "source": [
        "object_columns_train = [s for s in train.columns if train[s].dtypes == 'object']\n",
        "print('{} - категориальные столбцы датасета, всего их - {} штук'.format(object_columns_train, len(object_columns_train)))"
      ],
      "metadata": {
        "colab": {
          "base_uri": "https://localhost:8080/"
        },
        "id": "SudMGryIqUVV",
        "outputId": "1b0f4ef2-2391-41cb-ac9c-7dd591a6d388"
      },
      "id": "SudMGryIqUVV",
      "execution_count": null,
      "outputs": [
        {
          "output_type": "stream",
          "name": "stdout",
          "text": [
            "['date', 'channel_code', 'city', 'city_type', 'index_city_code', 'ogrn_month', 'ogrn_year', 'okved', 'segment', 'start_cluster', 'end_cluster'] - категориальные столбцы датасета, всего их - 11 штук\n"
          ]
        }
      ]
    },
    {
      "cell_type": "markdown",
      "source": [
        "Получим список столбцов, которые есть в train, но которых нет в test"
      ],
      "metadata": {
        "id": "oCNRnHU7qhdR"
      },
      "id": "oCNRnHU7qhdR"
    },
    {
      "cell_type": "code",
      "execution_count": null,
      "id": "05a1edfe-fcca-4945-a00d-c0b1627d1718",
      "metadata": {
        "execution": {
          "iopub.execute_input": "2024-02-14T23:09:54.232295Z",
          "iopub.status.busy": "2024-02-14T23:09:54.232055Z",
          "iopub.status.idle": "2024-02-14T23:09:54.256480Z",
          "shell.execute_reply": "2024-02-14T23:09:54.255966Z",
          "shell.execute_reply.started": "2024-02-14T23:09:54.232276Z"
        },
        "tags": [],
        "id": "05a1edfe-fcca-4945-a00d-c0b1627d1718",
        "colab": {
          "base_uri": "https://localhost:8080/"
        },
        "outputId": "0a72bcf7-9245-42a0-dab9-eac129c80bdd"
      },
      "outputs": [
        {
          "output_type": "stream",
          "name": "stdout",
          "text": [
            "Признака end_cluster - нет в тестовых данных\n"
          ]
        }
      ],
      "source": [
        "for col_train in train.columns:\n",
        "  if col_train not in test.columns:\n",
        "    print('Признака {} - нет в тестовых данных'.format(col_train))"
      ]
    },
    {
      "cell_type": "markdown",
      "source": [
        "Поскольку для работы с пропусками в файле test необходимо иметь полное представление о данных, создадим новый признак sample - отделяющий тестовые данные от тренировочных. Также для объединения данных для заполнения признаков создадим признак __end_cluster__ в тестовом наборе, чтобы избежать проблем при объединении."
      ],
      "metadata": {
        "id": "VARa6e9drB-x"
      },
      "id": "VARa6e9drB-x"
    },
    {
      "cell_type": "code",
      "source": [
        "test['end_cluster'] = 0"
      ],
      "metadata": {
        "id": "wWxiNb9QrgOk"
      },
      "id": "wWxiNb9QrgOk",
      "execution_count": null,
      "outputs": []
    },
    {
      "cell_type": "code",
      "source": [
        "test['sample'] = 1  # Тестовые данные\n",
        "train['sample'] = 0 # Тренировочные данные\n",
        "\n",
        "data = pd.concat([test, train], ignore_index=True).reset_index(drop=True)"
      ],
      "metadata": {
        "id": "ZK_wq3Q5rgIG"
      },
      "id": "ZK_wq3Q5rgIG",
      "execution_count": null,
      "outputs": []
    },
    {
      "cell_type": "code",
      "source": [
        "null_data = data.isnull()\n",
        "cols_with_null = null_data[null_data > 0].sum()"
      ],
      "metadata": {
        "id": "-36WVFQArfVD"
      },
      "id": "-36WVFQArfVD",
      "execution_count": null,
      "outputs": []
    },
    {
      "cell_type": "code",
      "source": [
        "columns_with_nan = list(cols_with_null[cols_with_null>0].index)"
      ],
      "metadata": {
        "id": "TuGjrAgYtALn"
      },
      "id": "TuGjrAgYtALn",
      "execution_count": null,
      "outputs": []
    },
    {
      "cell_type": "code",
      "source": [
        "print(columns_with_nan)"
      ],
      "metadata": {
        "colab": {
          "base_uri": "https://localhost:8080/"
        },
        "id": "R6q53-uEB63I",
        "outputId": "0363796d-2b98-4ffa-e8d8-18da216fed25"
      },
      "id": "R6q53-uEB63I",
      "execution_count": null,
      "outputs": [
        {
          "output_type": "stream",
          "name": "stdout",
          "text": [
            "['balance_amt_avg', 'balance_amt_max', 'balance_amt_min', 'balance_amt_day_avg', 'channel_code', 'city', 'city_type', 'index_city_code', 'ogrn_days_end_month', 'ogrn_days_end_quarter', 'ogrn_month', 'ogrn_year', 'ft_registration_date', 'max_founderpres', 'min_founderpres', 'ogrn_exist_months', 'okved', 'segment', 'sum_of_paym_2m', 'sum_of_paym_6m', 'sum_of_paym_1y', 'cnt_a_oper_1m', 'cnt_b_oper_1m', 'cnt_c_oper_1m', 'cnt_deb_d_oper_1m', 'cnt_cred_d_oper_1m', 'cnt_deb_e_oper_1m', 'cnt_days_deb_e_oper_1m', 'cnt_cred_e_oper_1m', 'cnt_days_cred_e_oper_1m', 'cnt_deb_f_oper_1m', 'cnt_days_deb_f_oper_1m', 'cnt_cred_f_oper_1m', 'cnt_days_cred_f_oper_1m', 'cnt_deb_g_oper_1m', 'cnt_days_deb_g_oper_1m', 'cnt_cred_g_oper_1m', 'cnt_days_cred_g_oper_1m', 'cnt_deb_h_oper_1m', 'cnt_days_deb_h_oper_1m', 'cnt_cred_h_oper_1m', 'cnt_days_cred_h_oper_1m', 'cnt_a_oper_3m', 'cnt_b_oper_3m', 'cnt_c_oper_3m', 'cnt_deb_d_oper_3m', 'cnt_cred_d_oper_3m', 'cnt_deb_e_oper_3m', 'cnt_days_deb_e_oper_3m', 'cnt_cred_e_oper_3m', 'cnt_days_cred_e_oper_3m', 'cnt_deb_f_oper_3m', 'cnt_days_deb_f_oper_3m', 'cnt_cred_f_oper_3m', 'cnt_days_cred_f_oper_3m', 'cnt_deb_g_oper_3m', 'cnt_days_deb_g_oper_3m', 'cnt_cred_g_oper_3m', 'cnt_days_cred_g_oper_3m', 'cnt_deb_h_oper_3m', 'cnt_days_deb_h_oper_3m', 'cnt_cred_h_oper_3m', 'cnt_days_cred_h_oper_3m', 'start_cluster']\n"
          ]
        }
      ]
    },
    {
      "cell_type": "markdown",
      "source": [
        "Получим список тех категориальных столбцов, в которых имеются пропуски\n"
      ],
      "metadata": {
        "id": "VL_wN_vGZYZA"
      },
      "id": "VL_wN_vGZYZA"
    },
    {
      "cell_type": "code",
      "source": [
        "cat_cols_with_null = list()\n",
        "for col in object_columns_train:\n",
        "  if col in columns_with_nan:\n",
        "    cat_cols_with_null.append(col)\n",
        "  else:\n",
        "    continue\n",
        "\n",
        "print('Список категориальных признаков с пропусками - {}, число таких столбцов - {}'.format(cat_cols_with_null, len(cat_cols_with_null)))"
      ],
      "metadata": {
        "colab": {
          "base_uri": "https://localhost:8080/"
        },
        "id": "KPn-Y-llZdwp",
        "outputId": "5ed7a6da-5103-4649-f902-c9549c8a6752"
      },
      "id": "KPn-Y-llZdwp",
      "execution_count": null,
      "outputs": [
        {
          "output_type": "stream",
          "name": "stdout",
          "text": [
            "Список категориальных признаков с пропусками - ['channel_code', 'city', 'city_type', 'index_city_code', 'ogrn_month', 'ogrn_year', 'okved', 'segment', 'start_cluster'], число таких столбцов - 9\n"
          ]
        }
      ]
    },
    {
      "cell_type": "markdown",
      "source": [
        "Выделим ту часть данных, в категориальных признаках которой есть пропуски. Будем отдельно работать с этими данными с пропусками, а после внесем полученные изменения в изначальный датасет."
      ],
      "metadata": {
        "id": "m7iSXotVayeu"
      },
      "id": "m7iSXotVayeu"
    },
    {
      "cell_type": "code",
      "source": [
        "data_cat_null = data[cat_cols_with_null].copy()"
      ],
      "metadata": {
        "id": "YsHBzzBBadj0"
      },
      "id": "YsHBzzBBadj0",
      "execution_count": null,
      "outputs": []
    },
    {
      "cell_type": "code",
      "source": [
        "display(data_cat_null)"
      ],
      "metadata": {
        "colab": {
          "base_uri": "https://localhost:8080/",
          "height": 424
        },
        "id": "lTIWDtYiankZ",
        "outputId": "1a3d0061-a197-4aae-a2c6-0e6ce948aaa3"
      },
      "id": "lTIWDtYiankZ",
      "execution_count": null,
      "outputs": [
        {
          "output_type": "display_data",
          "data": {
            "text/plain": [
              "           channel_code       city    city_type      index_city_code  \\\n",
              "0       channel_code_12    city_14  city_type_0                 None   \n",
              "1       channel_code_12    city_14  city_type_0                 None   \n",
              "2       channel_code_12    city_14  city_type_0                 None   \n",
              "3        channel_code_9    city_76  city_type_0                 None   \n",
              "4        channel_code_9    city_76  city_type_0                 None   \n",
              "...                 ...        ...          ...                  ...   \n",
              "890115   channel_code_9    city_14  city_type_0                 None   \n",
              "890116   channel_code_9    city_14  city_type_0                 None   \n",
              "890117  channel_code_14  city_1876  city_type_0  index_city_code_195   \n",
              "890118  channel_code_14  city_1876  city_type_0  index_city_code_195   \n",
              "890119  channel_code_14  city_1876  city_type_0  index_city_code_195   \n",
              "\n",
              "           ogrn_month     ogrn_year     okved    segment start_cluster  \n",
              "0        ogrn_month_8  ogrn_year_11   okved_0  segment_3           {α}  \n",
              "1        ogrn_month_8  ogrn_year_11   okved_0  segment_3           {α}  \n",
              "2        ogrn_month_8  ogrn_year_11   okved_0  segment_3          None  \n",
              "3       ogrn_month_10  ogrn_year_11   okved_6  segment_3           {α}  \n",
              "4       ogrn_month_10  ogrn_year_11   okved_6  segment_3           {α}  \n",
              "...               ...           ...       ...        ...           ...  \n",
              "890115   ogrn_month_6  ogrn_year_10   okved_5  segment_3            {}  \n",
              "890116   ogrn_month_6  ogrn_year_10   okved_5  segment_3           {α}  \n",
              "890117   ogrn_month_2  ogrn_year_17  okved_31  segment_3            {}  \n",
              "890118   ogrn_month_2  ogrn_year_17  okved_31  segment_3            {}  \n",
              "890119   ogrn_month_2  ogrn_year_17  okved_31  segment_3           {α}  \n",
              "\n",
              "[890120 rows x 9 columns]"
            ],
            "text/html": [
              "\n",
              "  <div id=\"df-6e69797c-dcbd-40dc-82c0-2df92e4d8856\" class=\"colab-df-container\">\n",
              "    <div>\n",
              "<style scoped>\n",
              "    .dataframe tbody tr th:only-of-type {\n",
              "        vertical-align: middle;\n",
              "    }\n",
              "\n",
              "    .dataframe tbody tr th {\n",
              "        vertical-align: top;\n",
              "    }\n",
              "\n",
              "    .dataframe thead th {\n",
              "        text-align: right;\n",
              "    }\n",
              "</style>\n",
              "<table border=\"1\" class=\"dataframe\">\n",
              "  <thead>\n",
              "    <tr style=\"text-align: right;\">\n",
              "      <th></th>\n",
              "      <th>channel_code</th>\n",
              "      <th>city</th>\n",
              "      <th>city_type</th>\n",
              "      <th>index_city_code</th>\n",
              "      <th>ogrn_month</th>\n",
              "      <th>ogrn_year</th>\n",
              "      <th>okved</th>\n",
              "      <th>segment</th>\n",
              "      <th>start_cluster</th>\n",
              "    </tr>\n",
              "  </thead>\n",
              "  <tbody>\n",
              "    <tr>\n",
              "      <th>0</th>\n",
              "      <td>channel_code_12</td>\n",
              "      <td>city_14</td>\n",
              "      <td>city_type_0</td>\n",
              "      <td>None</td>\n",
              "      <td>ogrn_month_8</td>\n",
              "      <td>ogrn_year_11</td>\n",
              "      <td>okved_0</td>\n",
              "      <td>segment_3</td>\n",
              "      <td>{α}</td>\n",
              "    </tr>\n",
              "    <tr>\n",
              "      <th>1</th>\n",
              "      <td>channel_code_12</td>\n",
              "      <td>city_14</td>\n",
              "      <td>city_type_0</td>\n",
              "      <td>None</td>\n",
              "      <td>ogrn_month_8</td>\n",
              "      <td>ogrn_year_11</td>\n",
              "      <td>okved_0</td>\n",
              "      <td>segment_3</td>\n",
              "      <td>{α}</td>\n",
              "    </tr>\n",
              "    <tr>\n",
              "      <th>2</th>\n",
              "      <td>channel_code_12</td>\n",
              "      <td>city_14</td>\n",
              "      <td>city_type_0</td>\n",
              "      <td>None</td>\n",
              "      <td>ogrn_month_8</td>\n",
              "      <td>ogrn_year_11</td>\n",
              "      <td>okved_0</td>\n",
              "      <td>segment_3</td>\n",
              "      <td>None</td>\n",
              "    </tr>\n",
              "    <tr>\n",
              "      <th>3</th>\n",
              "      <td>channel_code_9</td>\n",
              "      <td>city_76</td>\n",
              "      <td>city_type_0</td>\n",
              "      <td>None</td>\n",
              "      <td>ogrn_month_10</td>\n",
              "      <td>ogrn_year_11</td>\n",
              "      <td>okved_6</td>\n",
              "      <td>segment_3</td>\n",
              "      <td>{α}</td>\n",
              "    </tr>\n",
              "    <tr>\n",
              "      <th>4</th>\n",
              "      <td>channel_code_9</td>\n",
              "      <td>city_76</td>\n",
              "      <td>city_type_0</td>\n",
              "      <td>None</td>\n",
              "      <td>ogrn_month_10</td>\n",
              "      <td>ogrn_year_11</td>\n",
              "      <td>okved_6</td>\n",
              "      <td>segment_3</td>\n",
              "      <td>{α}</td>\n",
              "    </tr>\n",
              "    <tr>\n",
              "      <th>...</th>\n",
              "      <td>...</td>\n",
              "      <td>...</td>\n",
              "      <td>...</td>\n",
              "      <td>...</td>\n",
              "      <td>...</td>\n",
              "      <td>...</td>\n",
              "      <td>...</td>\n",
              "      <td>...</td>\n",
              "      <td>...</td>\n",
              "    </tr>\n",
              "    <tr>\n",
              "      <th>890115</th>\n",
              "      <td>channel_code_9</td>\n",
              "      <td>city_14</td>\n",
              "      <td>city_type_0</td>\n",
              "      <td>None</td>\n",
              "      <td>ogrn_month_6</td>\n",
              "      <td>ogrn_year_10</td>\n",
              "      <td>okved_5</td>\n",
              "      <td>segment_3</td>\n",
              "      <td>{}</td>\n",
              "    </tr>\n",
              "    <tr>\n",
              "      <th>890116</th>\n",
              "      <td>channel_code_9</td>\n",
              "      <td>city_14</td>\n",
              "      <td>city_type_0</td>\n",
              "      <td>None</td>\n",
              "      <td>ogrn_month_6</td>\n",
              "      <td>ogrn_year_10</td>\n",
              "      <td>okved_5</td>\n",
              "      <td>segment_3</td>\n",
              "      <td>{α}</td>\n",
              "    </tr>\n",
              "    <tr>\n",
              "      <th>890117</th>\n",
              "      <td>channel_code_14</td>\n",
              "      <td>city_1876</td>\n",
              "      <td>city_type_0</td>\n",
              "      <td>index_city_code_195</td>\n",
              "      <td>ogrn_month_2</td>\n",
              "      <td>ogrn_year_17</td>\n",
              "      <td>okved_31</td>\n",
              "      <td>segment_3</td>\n",
              "      <td>{}</td>\n",
              "    </tr>\n",
              "    <tr>\n",
              "      <th>890118</th>\n",
              "      <td>channel_code_14</td>\n",
              "      <td>city_1876</td>\n",
              "      <td>city_type_0</td>\n",
              "      <td>index_city_code_195</td>\n",
              "      <td>ogrn_month_2</td>\n",
              "      <td>ogrn_year_17</td>\n",
              "      <td>okved_31</td>\n",
              "      <td>segment_3</td>\n",
              "      <td>{}</td>\n",
              "    </tr>\n",
              "    <tr>\n",
              "      <th>890119</th>\n",
              "      <td>channel_code_14</td>\n",
              "      <td>city_1876</td>\n",
              "      <td>city_type_0</td>\n",
              "      <td>index_city_code_195</td>\n",
              "      <td>ogrn_month_2</td>\n",
              "      <td>ogrn_year_17</td>\n",
              "      <td>okved_31</td>\n",
              "      <td>segment_3</td>\n",
              "      <td>{α}</td>\n",
              "    </tr>\n",
              "  </tbody>\n",
              "</table>\n",
              "<p>890120 rows × 9 columns</p>\n",
              "</div>\n",
              "    <div class=\"colab-df-buttons\">\n",
              "\n",
              "  <div class=\"colab-df-container\">\n",
              "    <button class=\"colab-df-convert\" onclick=\"convertToInteractive('df-6e69797c-dcbd-40dc-82c0-2df92e4d8856')\"\n",
              "            title=\"Convert this dataframe to an interactive table.\"\n",
              "            style=\"display:none;\">\n",
              "\n",
              "  <svg xmlns=\"http://www.w3.org/2000/svg\" height=\"24px\" viewBox=\"0 -960 960 960\">\n",
              "    <path d=\"M120-120v-720h720v720H120Zm60-500h600v-160H180v160Zm220 220h160v-160H400v160Zm0 220h160v-160H400v160ZM180-400h160v-160H180v160Zm440 0h160v-160H620v160ZM180-180h160v-160H180v160Zm440 0h160v-160H620v160Z\"/>\n",
              "  </svg>\n",
              "    </button>\n",
              "\n",
              "  <style>\n",
              "    .colab-df-container {\n",
              "      display:flex;\n",
              "      gap: 12px;\n",
              "    }\n",
              "\n",
              "    .colab-df-convert {\n",
              "      background-color: #E8F0FE;\n",
              "      border: none;\n",
              "      border-radius: 50%;\n",
              "      cursor: pointer;\n",
              "      display: none;\n",
              "      fill: #1967D2;\n",
              "      height: 32px;\n",
              "      padding: 0 0 0 0;\n",
              "      width: 32px;\n",
              "    }\n",
              "\n",
              "    .colab-df-convert:hover {\n",
              "      background-color: #E2EBFA;\n",
              "      box-shadow: 0px 1px 2px rgba(60, 64, 67, 0.3), 0px 1px 3px 1px rgba(60, 64, 67, 0.15);\n",
              "      fill: #174EA6;\n",
              "    }\n",
              "\n",
              "    .colab-df-buttons div {\n",
              "      margin-bottom: 4px;\n",
              "    }\n",
              "\n",
              "    [theme=dark] .colab-df-convert {\n",
              "      background-color: #3B4455;\n",
              "      fill: #D2E3FC;\n",
              "    }\n",
              "\n",
              "    [theme=dark] .colab-df-convert:hover {\n",
              "      background-color: #434B5C;\n",
              "      box-shadow: 0px 1px 3px 1px rgba(0, 0, 0, 0.15);\n",
              "      filter: drop-shadow(0px 1px 2px rgba(0, 0, 0, 0.3));\n",
              "      fill: #FFFFFF;\n",
              "    }\n",
              "  </style>\n",
              "\n",
              "    <script>\n",
              "      const buttonEl =\n",
              "        document.querySelector('#df-6e69797c-dcbd-40dc-82c0-2df92e4d8856 button.colab-df-convert');\n",
              "      buttonEl.style.display =\n",
              "        google.colab.kernel.accessAllowed ? 'block' : 'none';\n",
              "\n",
              "      async function convertToInteractive(key) {\n",
              "        const element = document.querySelector('#df-6e69797c-dcbd-40dc-82c0-2df92e4d8856');\n",
              "        const dataTable =\n",
              "          await google.colab.kernel.invokeFunction('convertToInteractive',\n",
              "                                                    [key], {});\n",
              "        if (!dataTable) return;\n",
              "\n",
              "        const docLinkHtml = 'Like what you see? Visit the ' +\n",
              "          '<a target=\"_blank\" href=https://colab.research.google.com/notebooks/data_table.ipynb>data table notebook</a>'\n",
              "          + ' to learn more about interactive tables.';\n",
              "        element.innerHTML = '';\n",
              "        dataTable['output_type'] = 'display_data';\n",
              "        await google.colab.output.renderOutput(dataTable, element);\n",
              "        const docLink = document.createElement('div');\n",
              "        docLink.innerHTML = docLinkHtml;\n",
              "        element.appendChild(docLink);\n",
              "      }\n",
              "    </script>\n",
              "  </div>\n",
              "\n",
              "\n",
              "<div id=\"df-33788ce3-2cab-4ea5-8807-8cd5ca6eda1e\">\n",
              "  <button class=\"colab-df-quickchart\" onclick=\"quickchart('df-33788ce3-2cab-4ea5-8807-8cd5ca6eda1e')\"\n",
              "            title=\"Suggest charts\"\n",
              "            style=\"display:none;\">\n",
              "\n",
              "<svg xmlns=\"http://www.w3.org/2000/svg\" height=\"24px\"viewBox=\"0 0 24 24\"\n",
              "     width=\"24px\">\n",
              "    <g>\n",
              "        <path d=\"M19 3H5c-1.1 0-2 .9-2 2v14c0 1.1.9 2 2 2h14c1.1 0 2-.9 2-2V5c0-1.1-.9-2-2-2zM9 17H7v-7h2v7zm4 0h-2V7h2v10zm4 0h-2v-4h2v4z\"/>\n",
              "    </g>\n",
              "</svg>\n",
              "  </button>\n",
              "\n",
              "<style>\n",
              "  .colab-df-quickchart {\n",
              "      --bg-color: #E8F0FE;\n",
              "      --fill-color: #1967D2;\n",
              "      --hover-bg-color: #E2EBFA;\n",
              "      --hover-fill-color: #174EA6;\n",
              "      --disabled-fill-color: #AAA;\n",
              "      --disabled-bg-color: #DDD;\n",
              "  }\n",
              "\n",
              "  [theme=dark] .colab-df-quickchart {\n",
              "      --bg-color: #3B4455;\n",
              "      --fill-color: #D2E3FC;\n",
              "      --hover-bg-color: #434B5C;\n",
              "      --hover-fill-color: #FFFFFF;\n",
              "      --disabled-bg-color: #3B4455;\n",
              "      --disabled-fill-color: #666;\n",
              "  }\n",
              "\n",
              "  .colab-df-quickchart {\n",
              "    background-color: var(--bg-color);\n",
              "    border: none;\n",
              "    border-radius: 50%;\n",
              "    cursor: pointer;\n",
              "    display: none;\n",
              "    fill: var(--fill-color);\n",
              "    height: 32px;\n",
              "    padding: 0;\n",
              "    width: 32px;\n",
              "  }\n",
              "\n",
              "  .colab-df-quickchart:hover {\n",
              "    background-color: var(--hover-bg-color);\n",
              "    box-shadow: 0 1px 2px rgba(60, 64, 67, 0.3), 0 1px 3px 1px rgba(60, 64, 67, 0.15);\n",
              "    fill: var(--button-hover-fill-color);\n",
              "  }\n",
              "\n",
              "  .colab-df-quickchart-complete:disabled,\n",
              "  .colab-df-quickchart-complete:disabled:hover {\n",
              "    background-color: var(--disabled-bg-color);\n",
              "    fill: var(--disabled-fill-color);\n",
              "    box-shadow: none;\n",
              "  }\n",
              "\n",
              "  .colab-df-spinner {\n",
              "    border: 2px solid var(--fill-color);\n",
              "    border-color: transparent;\n",
              "    border-bottom-color: var(--fill-color);\n",
              "    animation:\n",
              "      spin 1s steps(1) infinite;\n",
              "  }\n",
              "\n",
              "  @keyframes spin {\n",
              "    0% {\n",
              "      border-color: transparent;\n",
              "      border-bottom-color: var(--fill-color);\n",
              "      border-left-color: var(--fill-color);\n",
              "    }\n",
              "    20% {\n",
              "      border-color: transparent;\n",
              "      border-left-color: var(--fill-color);\n",
              "      border-top-color: var(--fill-color);\n",
              "    }\n",
              "    30% {\n",
              "      border-color: transparent;\n",
              "      border-left-color: var(--fill-color);\n",
              "      border-top-color: var(--fill-color);\n",
              "      border-right-color: var(--fill-color);\n",
              "    }\n",
              "    40% {\n",
              "      border-color: transparent;\n",
              "      border-right-color: var(--fill-color);\n",
              "      border-top-color: var(--fill-color);\n",
              "    }\n",
              "    60% {\n",
              "      border-color: transparent;\n",
              "      border-right-color: var(--fill-color);\n",
              "    }\n",
              "    80% {\n",
              "      border-color: transparent;\n",
              "      border-right-color: var(--fill-color);\n",
              "      border-bottom-color: var(--fill-color);\n",
              "    }\n",
              "    90% {\n",
              "      border-color: transparent;\n",
              "      border-bottom-color: var(--fill-color);\n",
              "    }\n",
              "  }\n",
              "</style>\n",
              "\n",
              "  <script>\n",
              "    async function quickchart(key) {\n",
              "      const quickchartButtonEl =\n",
              "        document.querySelector('#' + key + ' button');\n",
              "      quickchartButtonEl.disabled = true;  // To prevent multiple clicks.\n",
              "      quickchartButtonEl.classList.add('colab-df-spinner');\n",
              "      try {\n",
              "        const charts = await google.colab.kernel.invokeFunction(\n",
              "            'suggestCharts', [key], {});\n",
              "      } catch (error) {\n",
              "        console.error('Error during call to suggestCharts:', error);\n",
              "      }\n",
              "      quickchartButtonEl.classList.remove('colab-df-spinner');\n",
              "      quickchartButtonEl.classList.add('colab-df-quickchart-complete');\n",
              "    }\n",
              "    (() => {\n",
              "      let quickchartButtonEl =\n",
              "        document.querySelector('#df-33788ce3-2cab-4ea5-8807-8cd5ca6eda1e button');\n",
              "      quickchartButtonEl.style.display =\n",
              "        google.colab.kernel.accessAllowed ? 'block' : 'none';\n",
              "    })();\n",
              "  </script>\n",
              "</div>\n",
              "\n",
              "  <div id=\"id_894b3acc-8486-4f60-8fd3-6601b8d62fad\">\n",
              "    <style>\n",
              "      .colab-df-generate {\n",
              "        background-color: #E8F0FE;\n",
              "        border: none;\n",
              "        border-radius: 50%;\n",
              "        cursor: pointer;\n",
              "        display: none;\n",
              "        fill: #1967D2;\n",
              "        height: 32px;\n",
              "        padding: 0 0 0 0;\n",
              "        width: 32px;\n",
              "      }\n",
              "\n",
              "      .colab-df-generate:hover {\n",
              "        background-color: #E2EBFA;\n",
              "        box-shadow: 0px 1px 2px rgba(60, 64, 67, 0.3), 0px 1px 3px 1px rgba(60, 64, 67, 0.15);\n",
              "        fill: #174EA6;\n",
              "      }\n",
              "\n",
              "      [theme=dark] .colab-df-generate {\n",
              "        background-color: #3B4455;\n",
              "        fill: #D2E3FC;\n",
              "      }\n",
              "\n",
              "      [theme=dark] .colab-df-generate:hover {\n",
              "        background-color: #434B5C;\n",
              "        box-shadow: 0px 1px 3px 1px rgba(0, 0, 0, 0.15);\n",
              "        filter: drop-shadow(0px 1px 2px rgba(0, 0, 0, 0.3));\n",
              "        fill: #FFFFFF;\n",
              "      }\n",
              "    </style>\n",
              "    <button class=\"colab-df-generate\" onclick=\"generateWithVariable('data_cat_null')\"\n",
              "            title=\"Generate code using this dataframe.\"\n",
              "            style=\"display:none;\">\n",
              "\n",
              "  <svg xmlns=\"http://www.w3.org/2000/svg\" height=\"24px\"viewBox=\"0 0 24 24\"\n",
              "       width=\"24px\">\n",
              "    <path d=\"M7,19H8.4L18.45,9,17,7.55,7,17.6ZM5,21V16.75L18.45,3.32a2,2,0,0,1,2.83,0l1.4,1.43a1.91,1.91,0,0,1,.58,1.4,1.91,1.91,0,0,1-.58,1.4L9.25,21ZM18.45,9,17,7.55Zm-12,3A5.31,5.31,0,0,0,4.9,8.1,5.31,5.31,0,0,0,1,6.5,5.31,5.31,0,0,0,4.9,4.9,5.31,5.31,0,0,0,6.5,1,5.31,5.31,0,0,0,8.1,4.9,5.31,5.31,0,0,0,12,6.5,5.46,5.46,0,0,0,6.5,12Z\"/>\n",
              "  </svg>\n",
              "    </button>\n",
              "    <script>\n",
              "      (() => {\n",
              "      const buttonEl =\n",
              "        document.querySelector('#id_894b3acc-8486-4f60-8fd3-6601b8d62fad button.colab-df-generate');\n",
              "      buttonEl.style.display =\n",
              "        google.colab.kernel.accessAllowed ? 'block' : 'none';\n",
              "\n",
              "      buttonEl.onclick = () => {\n",
              "        google.colab.notebook.generateWithVariable('data_cat_null');\n",
              "      }\n",
              "      })();\n",
              "    </script>\n",
              "  </div>\n",
              "\n",
              "    </div>\n",
              "  </div>\n"
            ],
            "application/vnd.google.colaboratory.intrinsic+json": {
              "type": "dataframe",
              "variable_name": "data_cat_null"
            }
          },
          "metadata": {}
        }
      ]
    },
    {
      "cell_type": "code",
      "source": [
        "data_cat_null.describe()"
      ],
      "metadata": {
        "colab": {
          "base_uri": "https://localhost:8080/",
          "height": 175
        },
        "id": "i2EQ4uYQbDp4",
        "outputId": "5120589a-4138-4578-fdd7-597481aef818"
      },
      "id": "i2EQ4uYQbDp4",
      "execution_count": null,
      "outputs": [
        {
          "output_type": "execute_result",
          "data": {
            "text/plain": [
              "          channel_code    city    city_type     index_city_code    ogrn_month  \\\n",
              "count           827242  751164       750784              408435        844369   \n",
              "unique              45    8917         7931                 233            12   \n",
              "top     channel_code_8  city_0  city_type_0  index_city_code_46  ogrn_month_0   \n",
              "freq            152175  125034       670615               14974         80029   \n",
              "\n",
              "          ogrn_year    okved    segment start_cluster  \n",
              "count        844369   843748     845949        790120  \n",
              "unique           21       88          4            17  \n",
              "top     ogrn_year_4  okved_5  segment_3           {α}  \n",
              "freq         139179   129948     508446        491192  "
            ],
            "text/html": [
              "\n",
              "  <div id=\"df-973839bb-a2bd-429f-9a96-a8e7133d9289\" class=\"colab-df-container\">\n",
              "    <div>\n",
              "<style scoped>\n",
              "    .dataframe tbody tr th:only-of-type {\n",
              "        vertical-align: middle;\n",
              "    }\n",
              "\n",
              "    .dataframe tbody tr th {\n",
              "        vertical-align: top;\n",
              "    }\n",
              "\n",
              "    .dataframe thead th {\n",
              "        text-align: right;\n",
              "    }\n",
              "</style>\n",
              "<table border=\"1\" class=\"dataframe\">\n",
              "  <thead>\n",
              "    <tr style=\"text-align: right;\">\n",
              "      <th></th>\n",
              "      <th>channel_code</th>\n",
              "      <th>city</th>\n",
              "      <th>city_type</th>\n",
              "      <th>index_city_code</th>\n",
              "      <th>ogrn_month</th>\n",
              "      <th>ogrn_year</th>\n",
              "      <th>okved</th>\n",
              "      <th>segment</th>\n",
              "      <th>start_cluster</th>\n",
              "    </tr>\n",
              "  </thead>\n",
              "  <tbody>\n",
              "    <tr>\n",
              "      <th>count</th>\n",
              "      <td>827242</td>\n",
              "      <td>751164</td>\n",
              "      <td>750784</td>\n",
              "      <td>408435</td>\n",
              "      <td>844369</td>\n",
              "      <td>844369</td>\n",
              "      <td>843748</td>\n",
              "      <td>845949</td>\n",
              "      <td>790120</td>\n",
              "    </tr>\n",
              "    <tr>\n",
              "      <th>unique</th>\n",
              "      <td>45</td>\n",
              "      <td>8917</td>\n",
              "      <td>7931</td>\n",
              "      <td>233</td>\n",
              "      <td>12</td>\n",
              "      <td>21</td>\n",
              "      <td>88</td>\n",
              "      <td>4</td>\n",
              "      <td>17</td>\n",
              "    </tr>\n",
              "    <tr>\n",
              "      <th>top</th>\n",
              "      <td>channel_code_8</td>\n",
              "      <td>city_0</td>\n",
              "      <td>city_type_0</td>\n",
              "      <td>index_city_code_46</td>\n",
              "      <td>ogrn_month_0</td>\n",
              "      <td>ogrn_year_4</td>\n",
              "      <td>okved_5</td>\n",
              "      <td>segment_3</td>\n",
              "      <td>{α}</td>\n",
              "    </tr>\n",
              "    <tr>\n",
              "      <th>freq</th>\n",
              "      <td>152175</td>\n",
              "      <td>125034</td>\n",
              "      <td>670615</td>\n",
              "      <td>14974</td>\n",
              "      <td>80029</td>\n",
              "      <td>139179</td>\n",
              "      <td>129948</td>\n",
              "      <td>508446</td>\n",
              "      <td>491192</td>\n",
              "    </tr>\n",
              "  </tbody>\n",
              "</table>\n",
              "</div>\n",
              "    <div class=\"colab-df-buttons\">\n",
              "\n",
              "  <div class=\"colab-df-container\">\n",
              "    <button class=\"colab-df-convert\" onclick=\"convertToInteractive('df-973839bb-a2bd-429f-9a96-a8e7133d9289')\"\n",
              "            title=\"Convert this dataframe to an interactive table.\"\n",
              "            style=\"display:none;\">\n",
              "\n",
              "  <svg xmlns=\"http://www.w3.org/2000/svg\" height=\"24px\" viewBox=\"0 -960 960 960\">\n",
              "    <path d=\"M120-120v-720h720v720H120Zm60-500h600v-160H180v160Zm220 220h160v-160H400v160Zm0 220h160v-160H400v160ZM180-400h160v-160H180v160Zm440 0h160v-160H620v160ZM180-180h160v-160H180v160Zm440 0h160v-160H620v160Z\"/>\n",
              "  </svg>\n",
              "    </button>\n",
              "\n",
              "  <style>\n",
              "    .colab-df-container {\n",
              "      display:flex;\n",
              "      gap: 12px;\n",
              "    }\n",
              "\n",
              "    .colab-df-convert {\n",
              "      background-color: #E8F0FE;\n",
              "      border: none;\n",
              "      border-radius: 50%;\n",
              "      cursor: pointer;\n",
              "      display: none;\n",
              "      fill: #1967D2;\n",
              "      height: 32px;\n",
              "      padding: 0 0 0 0;\n",
              "      width: 32px;\n",
              "    }\n",
              "\n",
              "    .colab-df-convert:hover {\n",
              "      background-color: #E2EBFA;\n",
              "      box-shadow: 0px 1px 2px rgba(60, 64, 67, 0.3), 0px 1px 3px 1px rgba(60, 64, 67, 0.15);\n",
              "      fill: #174EA6;\n",
              "    }\n",
              "\n",
              "    .colab-df-buttons div {\n",
              "      margin-bottom: 4px;\n",
              "    }\n",
              "\n",
              "    [theme=dark] .colab-df-convert {\n",
              "      background-color: #3B4455;\n",
              "      fill: #D2E3FC;\n",
              "    }\n",
              "\n",
              "    [theme=dark] .colab-df-convert:hover {\n",
              "      background-color: #434B5C;\n",
              "      box-shadow: 0px 1px 3px 1px rgba(0, 0, 0, 0.15);\n",
              "      filter: drop-shadow(0px 1px 2px rgba(0, 0, 0, 0.3));\n",
              "      fill: #FFFFFF;\n",
              "    }\n",
              "  </style>\n",
              "\n",
              "    <script>\n",
              "      const buttonEl =\n",
              "        document.querySelector('#df-973839bb-a2bd-429f-9a96-a8e7133d9289 button.colab-df-convert');\n",
              "      buttonEl.style.display =\n",
              "        google.colab.kernel.accessAllowed ? 'block' : 'none';\n",
              "\n",
              "      async function convertToInteractive(key) {\n",
              "        const element = document.querySelector('#df-973839bb-a2bd-429f-9a96-a8e7133d9289');\n",
              "        const dataTable =\n",
              "          await google.colab.kernel.invokeFunction('convertToInteractive',\n",
              "                                                    [key], {});\n",
              "        if (!dataTable) return;\n",
              "\n",
              "        const docLinkHtml = 'Like what you see? Visit the ' +\n",
              "          '<a target=\"_blank\" href=https://colab.research.google.com/notebooks/data_table.ipynb>data table notebook</a>'\n",
              "          + ' to learn more about interactive tables.';\n",
              "        element.innerHTML = '';\n",
              "        dataTable['output_type'] = 'display_data';\n",
              "        await google.colab.output.renderOutput(dataTable, element);\n",
              "        const docLink = document.createElement('div');\n",
              "        docLink.innerHTML = docLinkHtml;\n",
              "        element.appendChild(docLink);\n",
              "      }\n",
              "    </script>\n",
              "  </div>\n",
              "\n",
              "\n",
              "<div id=\"df-82a6bbc6-cc69-4290-a5dc-700e687ee4cd\">\n",
              "  <button class=\"colab-df-quickchart\" onclick=\"quickchart('df-82a6bbc6-cc69-4290-a5dc-700e687ee4cd')\"\n",
              "            title=\"Suggest charts\"\n",
              "            style=\"display:none;\">\n",
              "\n",
              "<svg xmlns=\"http://www.w3.org/2000/svg\" height=\"24px\"viewBox=\"0 0 24 24\"\n",
              "     width=\"24px\">\n",
              "    <g>\n",
              "        <path d=\"M19 3H5c-1.1 0-2 .9-2 2v14c0 1.1.9 2 2 2h14c1.1 0 2-.9 2-2V5c0-1.1-.9-2-2-2zM9 17H7v-7h2v7zm4 0h-2V7h2v10zm4 0h-2v-4h2v4z\"/>\n",
              "    </g>\n",
              "</svg>\n",
              "  </button>\n",
              "\n",
              "<style>\n",
              "  .colab-df-quickchart {\n",
              "      --bg-color: #E8F0FE;\n",
              "      --fill-color: #1967D2;\n",
              "      --hover-bg-color: #E2EBFA;\n",
              "      --hover-fill-color: #174EA6;\n",
              "      --disabled-fill-color: #AAA;\n",
              "      --disabled-bg-color: #DDD;\n",
              "  }\n",
              "\n",
              "  [theme=dark] .colab-df-quickchart {\n",
              "      --bg-color: #3B4455;\n",
              "      --fill-color: #D2E3FC;\n",
              "      --hover-bg-color: #434B5C;\n",
              "      --hover-fill-color: #FFFFFF;\n",
              "      --disabled-bg-color: #3B4455;\n",
              "      --disabled-fill-color: #666;\n",
              "  }\n",
              "\n",
              "  .colab-df-quickchart {\n",
              "    background-color: var(--bg-color);\n",
              "    border: none;\n",
              "    border-radius: 50%;\n",
              "    cursor: pointer;\n",
              "    display: none;\n",
              "    fill: var(--fill-color);\n",
              "    height: 32px;\n",
              "    padding: 0;\n",
              "    width: 32px;\n",
              "  }\n",
              "\n",
              "  .colab-df-quickchart:hover {\n",
              "    background-color: var(--hover-bg-color);\n",
              "    box-shadow: 0 1px 2px rgba(60, 64, 67, 0.3), 0 1px 3px 1px rgba(60, 64, 67, 0.15);\n",
              "    fill: var(--button-hover-fill-color);\n",
              "  }\n",
              "\n",
              "  .colab-df-quickchart-complete:disabled,\n",
              "  .colab-df-quickchart-complete:disabled:hover {\n",
              "    background-color: var(--disabled-bg-color);\n",
              "    fill: var(--disabled-fill-color);\n",
              "    box-shadow: none;\n",
              "  }\n",
              "\n",
              "  .colab-df-spinner {\n",
              "    border: 2px solid var(--fill-color);\n",
              "    border-color: transparent;\n",
              "    border-bottom-color: var(--fill-color);\n",
              "    animation:\n",
              "      spin 1s steps(1) infinite;\n",
              "  }\n",
              "\n",
              "  @keyframes spin {\n",
              "    0% {\n",
              "      border-color: transparent;\n",
              "      border-bottom-color: var(--fill-color);\n",
              "      border-left-color: var(--fill-color);\n",
              "    }\n",
              "    20% {\n",
              "      border-color: transparent;\n",
              "      border-left-color: var(--fill-color);\n",
              "      border-top-color: var(--fill-color);\n",
              "    }\n",
              "    30% {\n",
              "      border-color: transparent;\n",
              "      border-left-color: var(--fill-color);\n",
              "      border-top-color: var(--fill-color);\n",
              "      border-right-color: var(--fill-color);\n",
              "    }\n",
              "    40% {\n",
              "      border-color: transparent;\n",
              "      border-right-color: var(--fill-color);\n",
              "      border-top-color: var(--fill-color);\n",
              "    }\n",
              "    60% {\n",
              "      border-color: transparent;\n",
              "      border-right-color: var(--fill-color);\n",
              "    }\n",
              "    80% {\n",
              "      border-color: transparent;\n",
              "      border-right-color: var(--fill-color);\n",
              "      border-bottom-color: var(--fill-color);\n",
              "    }\n",
              "    90% {\n",
              "      border-color: transparent;\n",
              "      border-bottom-color: var(--fill-color);\n",
              "    }\n",
              "  }\n",
              "</style>\n",
              "\n",
              "  <script>\n",
              "    async function quickchart(key) {\n",
              "      const quickchartButtonEl =\n",
              "        document.querySelector('#' + key + ' button');\n",
              "      quickchartButtonEl.disabled = true;  // To prevent multiple clicks.\n",
              "      quickchartButtonEl.classList.add('colab-df-spinner');\n",
              "      try {\n",
              "        const charts = await google.colab.kernel.invokeFunction(\n",
              "            'suggestCharts', [key], {});\n",
              "      } catch (error) {\n",
              "        console.error('Error during call to suggestCharts:', error);\n",
              "      }\n",
              "      quickchartButtonEl.classList.remove('colab-df-spinner');\n",
              "      quickchartButtonEl.classList.add('colab-df-quickchart-complete');\n",
              "    }\n",
              "    (() => {\n",
              "      let quickchartButtonEl =\n",
              "        document.querySelector('#df-82a6bbc6-cc69-4290-a5dc-700e687ee4cd button');\n",
              "      quickchartButtonEl.style.display =\n",
              "        google.colab.kernel.accessAllowed ? 'block' : 'none';\n",
              "    })();\n",
              "  </script>\n",
              "</div>\n",
              "\n",
              "    </div>\n",
              "  </div>\n"
            ],
            "application/vnd.google.colaboratory.intrinsic+json": {
              "type": "dataframe",
              "summary": "{\n  \"name\": \"data_cat_null\",\n  \"rows\": 4,\n  \"fields\": [\n    {\n      \"column\": \"channel_code\",\n      \"properties\": {\n        \"dtype\": \"string\",\n        \"num_unique_values\": 4,\n        \"samples\": [\n          45,\n          \"152175\",\n          \"827242\"\n        ],\n        \"semantic_type\": \"\",\n        \"description\": \"\"\n      }\n    },\n    {\n      \"column\": \"city\",\n      \"properties\": {\n        \"dtype\": \"string\",\n        \"num_unique_values\": 4,\n        \"samples\": [\n          8917,\n          \"125034\",\n          \"751164\"\n        ],\n        \"semantic_type\": \"\",\n        \"description\": \"\"\n      }\n    },\n    {\n      \"column\": \"city_type\",\n      \"properties\": {\n        \"dtype\": \"string\",\n        \"num_unique_values\": 4,\n        \"samples\": [\n          7931,\n          \"670615\",\n          \"750784\"\n        ],\n        \"semantic_type\": \"\",\n        \"description\": \"\"\n      }\n    },\n    {\n      \"column\": \"index_city_code\",\n      \"properties\": {\n        \"dtype\": \"string\",\n        \"num_unique_values\": 4,\n        \"samples\": [\n          233,\n          \"14974\",\n          \"408435\"\n        ],\n        \"semantic_type\": \"\",\n        \"description\": \"\"\n      }\n    },\n    {\n      \"column\": \"ogrn_month\",\n      \"properties\": {\n        \"dtype\": \"string\",\n        \"num_unique_values\": 4,\n        \"samples\": [\n          12,\n          \"80029\",\n          \"844369\"\n        ],\n        \"semantic_type\": \"\",\n        \"description\": \"\"\n      }\n    },\n    {\n      \"column\": \"ogrn_year\",\n      \"properties\": {\n        \"dtype\": \"string\",\n        \"num_unique_values\": 4,\n        \"samples\": [\n          21,\n          \"139179\",\n          \"844369\"\n        ],\n        \"semantic_type\": \"\",\n        \"description\": \"\"\n      }\n    },\n    {\n      \"column\": \"okved\",\n      \"properties\": {\n        \"dtype\": \"string\",\n        \"num_unique_values\": 4,\n        \"samples\": [\n          88,\n          \"129948\",\n          \"843748\"\n        ],\n        \"semantic_type\": \"\",\n        \"description\": \"\"\n      }\n    },\n    {\n      \"column\": \"segment\",\n      \"properties\": {\n        \"dtype\": \"string\",\n        \"num_unique_values\": 4,\n        \"samples\": [\n          4,\n          \"508446\",\n          \"845949\"\n        ],\n        \"semantic_type\": \"\",\n        \"description\": \"\"\n      }\n    },\n    {\n      \"column\": \"start_cluster\",\n      \"properties\": {\n        \"dtype\": \"string\",\n        \"num_unique_values\": 4,\n        \"samples\": [\n          17,\n          \"491192\",\n          \"790120\"\n        ],\n        \"semantic_type\": \"\",\n        \"description\": \"\"\n      }\n    }\n  ]\n}"
            }
          },
          "metadata": {},
          "execution_count": 16
        }
      ]
    },
    {
      "cell_type": "markdown",
      "source": [
        "Заменим значения в каждом столбце на моду\n"
      ],
      "metadata": {
        "id": "Jgw8UFrjqpTF"
      },
      "id": "Jgw8UFrjqpTF"
    },
    {
      "cell_type": "code",
      "source": [
        "fill_data1 = data.copy()\n",
        "\n",
        "values = {\n",
        "    'channel_code': data['channel_code'].mode(),\n",
        "    'city': data['city'].mode(),\n",
        "    'city_type': data['city_type'].mode(),\n",
        "    'index_city_code': data['city_type'].mode(),\n",
        "    'ogrn_month': data['ogrn_month'].mode(),\n",
        "    'ogrn_year': data['ogrn_year'].mode(),\n",
        "    'okved': data['okved'].mode(),\n",
        "    'segment': data['segment'].mode(),\n",
        "    'start_cluster': data['start_cluster'].mode()\n",
        "}\n",
        "\n",
        "fill_data1 = fill_data1.fillna(values)\n",
        "fill_data1.isnull().mean()"
      ],
      "metadata": {
        "colab": {
          "base_uri": "https://localhost:8080/"
        },
        "id": "AZuM5ChwrM_9",
        "outputId": "e36a109e-a072-41ba-d8eb-a729a0364764"
      },
      "id": "AZuM5ChwrM_9",
      "execution_count": null,
      "outputs": [
        {
          "output_type": "execute_result",
          "data": {
            "text/plain": [
              "id                         0.000000\n",
              "date                       0.000000\n",
              "balance_amt_avg            0.106795\n",
              "balance_amt_max            0.106795\n",
              "balance_amt_min            0.106795\n",
              "                             ...   \n",
              "cnt_cred_h_oper_3m         0.275040\n",
              "cnt_days_cred_h_oper_3m    0.275040\n",
              "start_cluster              0.112344\n",
              "end_cluster                0.000000\n",
              "sample                     0.000000\n",
              "Length: 94, dtype: float64"
            ]
          },
          "metadata": {},
          "execution_count": 23
        }
      ]
    },
    {
      "cell_type": "markdown",
      "source": [
        "Разделим наш датасет обратно и получим новые данные для нашей модели"
      ],
      "metadata": {
        "id": "cdM4--FcTK0u"
      },
      "id": "cdM4--FcTK0u"
    },
    {
      "cell_type": "code",
      "source": [
        "train = fill_data1.query('sample == 0').drop(['sample'], axis=1) # Восстанавливаем train\n",
        "test = fill_data1.query('sample == 1').drop(['sample', 'end_cluster'], axis=1) # Восстанавливаем test"
      ],
      "metadata": {
        "id": "zh5X5hHnsp99"
      },
      "id": "zh5X5hHnsp99",
      "execution_count": null,
      "outputs": []
    },
    {
      "cell_type": "code",
      "source": [
        "train.to_parquet('train1.pqt', index=False)\n",
        "test.to_parquet('test1.pqt', index=False)"
      ],
      "metadata": {
        "id": "fxi4k7rys3Fl"
      },
      "id": "fxi4k7rys3Fl",
      "execution_count": null,
      "outputs": []
    }
  ],
  "metadata": {
    "kernelspec": {
      "display_name": "python3",
      "language": "python",
      "name": "python3"
    },
    "language_info": {
      "codemirror_mode": {
        "name": "ipython",
        "version": 3
      },
      "file_extension": ".py",
      "mimetype": "text/x-python",
      "name": "python",
      "nbconvert_exporter": "python",
      "pygments_lexer": "ipython3",
      "version": "3.7.12"
    },
    "colab": {
      "provenance": []
    }
  },
  "nbformat": 4,
  "nbformat_minor": 5
}

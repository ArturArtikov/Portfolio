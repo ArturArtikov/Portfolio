{
  "cells": [
    {
      "cell_type": "markdown",
      "metadata": {
        "id": "cbcf3aae-5417-42a3-9ed2-818b9aef0f2f"
      },
      "source": [
        "# Установка и импорт библиотек"
      ],
      "id": "cbcf3aae-5417-42a3-9ed2-818b9aef0f2f"
    },
    {
      "cell_type": "code",
      "execution_count": null,
      "metadata": {
        "id": "MsVYZusW-UZV"
      },
      "outputs": [],
      "source": [
        "%load_ext autoreload\n",
        "%autoreload 2"
      ],
      "id": "MsVYZusW-UZV"
    },
    {
      "cell_type": "code",
      "execution_count": null,
      "metadata": {
        "colab": {
          "base_uri": "https://localhost:8080/"
        },
        "id": "0xaAf6o-FKse",
        "outputId": "59b4805a-b09d-467f-b5fb-c6b2e2701f39"
      },
      "outputs": [
        {
          "output_type": "stream",
          "name": "stdout",
          "text": [
            "Mounted at /content/drive/\n"
          ]
        }
      ],
      "source": [
        "from google.colab import drive\n",
        "drive.mount('/content/drive/')"
      ],
      "id": "0xaAf6o-FKse"
    },
    {
      "cell_type": "code",
      "execution_count": null,
      "metadata": {
        "colab": {
          "base_uri": "https://localhost:8080/"
        },
        "id": "T0w2j1omclwV",
        "outputId": "3123c89b-faa5-4df9-bcff-7514714420b5"
      },
      "outputs": [
        {
          "output_type": "stream",
          "name": "stdout",
          "text": [
            "Collecting chromadb\n",
            "  Downloading chromadb-0.4.24-py3-none-any.whl (525 kB)\n",
            "\u001b[?25l     \u001b[90m━━━━━━━━━━━━━━━━━━━━━━━━━━━━━━━━━━━━━━━━\u001b[0m \u001b[32m0.0/525.5 kB\u001b[0m \u001b[31m?\u001b[0m eta \u001b[36m-:--:--\u001b[0m\r\u001b[2K     \u001b[91m━━━━━━━━━━━━━━━━━━━━━━━\u001b[0m\u001b[90m╺\u001b[0m\u001b[90m━━━━━━━━━━━━━━━━\u001b[0m \u001b[32m307.2/525.5 kB\u001b[0m \u001b[31m9.1 MB/s\u001b[0m eta \u001b[36m0:00:01\u001b[0m\r\u001b[2K     \u001b[90m━━━━━━━━━━━━━━━━━━━━━━━━━━━━━━━━━━━━━━━━\u001b[0m \u001b[32m525.5/525.5 kB\u001b[0m \u001b[31m10.8 MB/s\u001b[0m eta \u001b[36m0:00:00\u001b[0m\n",
            "\u001b[?25hRequirement already satisfied: build>=1.0.3 in /usr/local/lib/python3.10/dist-packages (from chromadb) (1.1.1)\n",
            "Requirement already satisfied: requests>=2.28 in /usr/local/lib/python3.10/dist-packages (from chromadb) (2.31.0)\n",
            "Requirement already satisfied: pydantic>=1.9 in /usr/local/lib/python3.10/dist-packages (from chromadb) (2.6.3)\n",
            "Collecting chroma-hnswlib==0.7.3 (from chromadb)\n",
            "  Downloading chroma_hnswlib-0.7.3-cp310-cp310-manylinux_2_17_x86_64.manylinux2014_x86_64.whl (2.4 MB)\n",
            "\u001b[2K     \u001b[90m━━━━━━━━━━━━━━━━━━━━━━━━━━━━━━━━━━━━━━━━\u001b[0m \u001b[32m2.4/2.4 MB\u001b[0m \u001b[31m52.3 MB/s\u001b[0m eta \u001b[36m0:00:00\u001b[0m\n",
            "\u001b[?25hCollecting fastapi>=0.95.2 (from chromadb)\n",
            "  Downloading fastapi-0.110.0-py3-none-any.whl (92 kB)\n",
            "\u001b[2K     \u001b[90m━━━━━━━━━━━━━━━━━━━━━━━━━━━━━━━━━━━━━━━━\u001b[0m \u001b[32m92.1/92.1 kB\u001b[0m \u001b[31m13.3 MB/s\u001b[0m eta \u001b[36m0:00:00\u001b[0m\n",
            "\u001b[?25hCollecting uvicorn[standard]>=0.18.3 (from chromadb)\n",
            "  Downloading uvicorn-0.28.0-py3-none-any.whl (60 kB)\n",
            "\u001b[2K     \u001b[90m━━━━━━━━━━━━━━━━━━━━━━━━━━━━━━━━━━━━━━━━\u001b[0m \u001b[32m60.6/60.6 kB\u001b[0m \u001b[31m7.6 MB/s\u001b[0m eta \u001b[36m0:00:00\u001b[0m\n",
            "\u001b[?25hRequirement already satisfied: numpy>=1.22.5 in /usr/local/lib/python3.10/dist-packages (from chromadb) (1.25.2)\n",
            "Collecting posthog>=2.4.0 (from chromadb)\n",
            "  Downloading posthog-3.5.0-py2.py3-none-any.whl (41 kB)\n",
            "\u001b[2K     \u001b[90m━━━━━━━━━━━━━━━━━━━━━━━━━━━━━━━━━━━━━━━━\u001b[0m \u001b[32m41.3/41.3 kB\u001b[0m \u001b[31m5.2 MB/s\u001b[0m eta \u001b[36m0:00:00\u001b[0m\n",
            "\u001b[?25hRequirement already satisfied: typing-extensions>=4.5.0 in /usr/local/lib/python3.10/dist-packages (from chromadb) (4.10.0)\n",
            "Collecting pulsar-client>=3.1.0 (from chromadb)\n",
            "  Downloading pulsar_client-3.4.0-cp310-cp310-manylinux_2_17_x86_64.manylinux2014_x86_64.whl (5.4 MB)\n",
            "\u001b[2K     \u001b[90m━━━━━━━━━━━━━━━━━━━━━━━━━━━━━━━━━━━━━━━━\u001b[0m \u001b[32m5.4/5.4 MB\u001b[0m \u001b[31m46.4 MB/s\u001b[0m eta \u001b[36m0:00:00\u001b[0m\n",
            "\u001b[?25hCollecting onnxruntime>=1.14.1 (from chromadb)\n",
            "  Downloading onnxruntime-1.17.1-cp310-cp310-manylinux_2_27_x86_64.manylinux_2_28_x86_64.whl (6.8 MB)\n",
            "\u001b[2K     \u001b[90m━━━━━━━━━━━━━━━━━━━━━━━━━━━━━━━━━━━━━━━━\u001b[0m \u001b[32m6.8/6.8 MB\u001b[0m \u001b[31m104.4 MB/s\u001b[0m eta \u001b[36m0:00:00\u001b[0m\n",
            "\u001b[?25hCollecting opentelemetry-api>=1.2.0 (from chromadb)\n",
            "  Downloading opentelemetry_api-1.23.0-py3-none-any.whl (58 kB)\n",
            "\u001b[2K     \u001b[90m━━━━━━━━━━━━━━━━━━━━━━━━━━━━━━━━━━━━━━━━\u001b[0m \u001b[32m58.4/58.4 kB\u001b[0m \u001b[31m8.7 MB/s\u001b[0m eta \u001b[36m0:00:00\u001b[0m\n",
            "\u001b[?25hCollecting opentelemetry-exporter-otlp-proto-grpc>=1.2.0 (from chromadb)\n",
            "  Downloading opentelemetry_exporter_otlp_proto_grpc-1.23.0-py3-none-any.whl (18 kB)\n",
            "Collecting opentelemetry-instrumentation-fastapi>=0.41b0 (from chromadb)\n",
            "  Downloading opentelemetry_instrumentation_fastapi-0.44b0-py3-none-any.whl (11 kB)\n",
            "Collecting opentelemetry-sdk>=1.2.0 (from chromadb)\n",
            "  Downloading opentelemetry_sdk-1.23.0-py3-none-any.whl (105 kB)\n",
            "\u001b[2K     \u001b[90m━━━━━━━━━━━━━━━━━━━━━━━━━━━━━━━━━━━━━━━━\u001b[0m \u001b[32m105.7/105.7 kB\u001b[0m \u001b[31m18.7 MB/s\u001b[0m eta \u001b[36m0:00:00\u001b[0m\n",
            "\u001b[?25hRequirement already satisfied: tokenizers>=0.13.2 in /usr/local/lib/python3.10/dist-packages (from chromadb) (0.15.2)\n",
            "Collecting pypika>=0.48.9 (from chromadb)\n",
            "  Downloading PyPika-0.48.9.tar.gz (67 kB)\n",
            "\u001b[2K     \u001b[90m━━━━━━━━━━━━━━━━━━━━━━━━━━━━━━━━━━━━━━━━\u001b[0m \u001b[32m67.3/67.3 kB\u001b[0m \u001b[31m8.2 MB/s\u001b[0m eta \u001b[36m0:00:00\u001b[0m\n",
            "\u001b[?25h  Installing build dependencies ... \u001b[?25l\u001b[?25hdone\n",
            "  Getting requirements to build wheel ... \u001b[?25l\u001b[?25hdone\n",
            "  Preparing metadata (pyproject.toml) ... \u001b[?25l\u001b[?25hdone\n",
            "Requirement already satisfied: tqdm>=4.65.0 in /usr/local/lib/python3.10/dist-packages (from chromadb) (4.66.2)\n",
            "Collecting overrides>=7.3.1 (from chromadb)\n",
            "  Downloading overrides-7.7.0-py3-none-any.whl (17 kB)\n",
            "Requirement already satisfied: importlib-resources in /usr/local/lib/python3.10/dist-packages (from chromadb) (6.1.3)\n",
            "Requirement already satisfied: grpcio>=1.58.0 in /usr/local/lib/python3.10/dist-packages (from chromadb) (1.62.1)\n",
            "Collecting bcrypt>=4.0.1 (from chromadb)\n",
            "  Downloading bcrypt-4.1.2-cp39-abi3-manylinux_2_28_x86_64.whl (698 kB)\n",
            "\u001b[2K     \u001b[90m━━━━━━━━━━━━━━━━━━━━━━━━━━━━━━━━━━━━━━━━\u001b[0m \u001b[32m698.9/698.9 kB\u001b[0m \u001b[31m67.3 MB/s\u001b[0m eta \u001b[36m0:00:00\u001b[0m\n",
            "\u001b[?25hRequirement already satisfied: typer>=0.9.0 in /usr/local/lib/python3.10/dist-packages (from chromadb) (0.9.0)\n",
            "Collecting kubernetes>=28.1.0 (from chromadb)\n",
            "  Downloading kubernetes-29.0.0-py2.py3-none-any.whl (1.6 MB)\n",
            "\u001b[2K     \u001b[90m━━━━━━━━━━━━━━━━━━━━━━━━━━━━━━━━━━━━━━━━\u001b[0m \u001b[32m1.6/1.6 MB\u001b[0m \u001b[31m92.8 MB/s\u001b[0m eta \u001b[36m0:00:00\u001b[0m\n",
            "\u001b[?25hRequirement already satisfied: tenacity>=8.2.3 in /usr/local/lib/python3.10/dist-packages (from chromadb) (8.2.3)\n",
            "Requirement already satisfied: PyYAML>=6.0.0 in /usr/local/lib/python3.10/dist-packages (from chromadb) (6.0.1)\n",
            "Collecting mmh3>=4.0.1 (from chromadb)\n",
            "  Downloading mmh3-4.1.0-cp310-cp310-manylinux_2_5_x86_64.manylinux1_x86_64.manylinux_2_17_x86_64.manylinux2014_x86_64.whl (67 kB)\n",
            "\u001b[2K     \u001b[90m━━━━━━━━━━━━━━━━━━━━━━━━━━━━━━━━━━━━━━━━\u001b[0m \u001b[32m67.6/67.6 kB\u001b[0m \u001b[31m11.0 MB/s\u001b[0m eta \u001b[36m0:00:00\u001b[0m\n",
            "\u001b[?25hCollecting orjson>=3.9.12 (from chromadb)\n",
            "  Downloading orjson-3.9.15-cp310-cp310-manylinux_2_17_x86_64.manylinux2014_x86_64.whl (138 kB)\n",
            "\u001b[2K     \u001b[90m━━━━━━━━━━━━━━━━━━━━━━━━━━━━━━━━━━━━━━━━\u001b[0m \u001b[32m138.5/138.5 kB\u001b[0m \u001b[31m21.9 MB/s\u001b[0m eta \u001b[36m0:00:00\u001b[0m\n",
            "\u001b[?25hRequirement already satisfied: packaging>=19.0 in /usr/local/lib/python3.10/dist-packages (from build>=1.0.3->chromadb) (24.0)\n",
            "Requirement already satisfied: pyproject_hooks in /usr/local/lib/python3.10/dist-packages (from build>=1.0.3->chromadb) (1.0.0)\n",
            "Requirement already satisfied: tomli>=1.1.0 in /usr/local/lib/python3.10/dist-packages (from build>=1.0.3->chromadb) (2.0.1)\n",
            "Collecting starlette<0.37.0,>=0.36.3 (from fastapi>=0.95.2->chromadb)\n",
            "  Downloading starlette-0.36.3-py3-none-any.whl (71 kB)\n",
            "\u001b[2K     \u001b[90m━━━━━━━━━━━━━━━━━━━━━━━━━━━━━━━━━━━━━━━━\u001b[0m \u001b[32m71.5/71.5 kB\u001b[0m \u001b[31m11.3 MB/s\u001b[0m eta \u001b[36m0:00:00\u001b[0m\n",
            "\u001b[?25hRequirement already satisfied: certifi>=14.05.14 in /usr/local/lib/python3.10/dist-packages (from kubernetes>=28.1.0->chromadb) (2024.2.2)\n",
            "Requirement already satisfied: six>=1.9.0 in /usr/local/lib/python3.10/dist-packages (from kubernetes>=28.1.0->chromadb) (1.16.0)\n",
            "Requirement already satisfied: python-dateutil>=2.5.3 in /usr/local/lib/python3.10/dist-packages (from kubernetes>=28.1.0->chromadb) (2.8.2)\n",
            "Requirement already satisfied: google-auth>=1.0.1 in /usr/local/lib/python3.10/dist-packages (from kubernetes>=28.1.0->chromadb) (2.27.0)\n",
            "Requirement already satisfied: websocket-client!=0.40.0,!=0.41.*,!=0.42.*,>=0.32.0 in /usr/local/lib/python3.10/dist-packages (from kubernetes>=28.1.0->chromadb) (1.7.0)\n",
            "Requirement already satisfied: requests-oauthlib in /usr/local/lib/python3.10/dist-packages (from kubernetes>=28.1.0->chromadb) (1.4.0)\n",
            "Requirement already satisfied: oauthlib>=3.2.2 in /usr/local/lib/python3.10/dist-packages (from kubernetes>=28.1.0->chromadb) (3.2.2)\n",
            "Requirement already satisfied: urllib3>=1.24.2 in /usr/local/lib/python3.10/dist-packages (from kubernetes>=28.1.0->chromadb) (2.0.7)\n",
            "Collecting coloredlogs (from onnxruntime>=1.14.1->chromadb)\n",
            "  Downloading coloredlogs-15.0.1-py2.py3-none-any.whl (46 kB)\n",
            "\u001b[2K     \u001b[90m━━━━━━━━━━━━━━━━━━━━━━━━━━━━━━━━━━━━━━━━\u001b[0m \u001b[32m46.0/46.0 kB\u001b[0m \u001b[31m7.5 MB/s\u001b[0m eta \u001b[36m0:00:00\u001b[0m\n",
            "\u001b[?25hRequirement already satisfied: flatbuffers in /usr/local/lib/python3.10/dist-packages (from onnxruntime>=1.14.1->chromadb) (24.3.7)\n",
            "Requirement already satisfied: protobuf in /usr/local/lib/python3.10/dist-packages (from onnxruntime>=1.14.1->chromadb) (3.20.3)\n",
            "Requirement already satisfied: sympy in /usr/local/lib/python3.10/dist-packages (from onnxruntime>=1.14.1->chromadb) (1.12)\n",
            "Collecting deprecated>=1.2.6 (from opentelemetry-api>=1.2.0->chromadb)\n",
            "  Downloading Deprecated-1.2.14-py2.py3-none-any.whl (9.6 kB)\n",
            "Collecting importlib-metadata<7.0,>=6.0 (from opentelemetry-api>=1.2.0->chromadb)\n",
            "  Downloading importlib_metadata-6.11.0-py3-none-any.whl (23 kB)\n",
            "Requirement already satisfied: googleapis-common-protos~=1.52 in /usr/local/lib/python3.10/dist-packages (from opentelemetry-exporter-otlp-proto-grpc>=1.2.0->chromadb) (1.63.0)\n",
            "Collecting opentelemetry-exporter-otlp-proto-common==1.23.0 (from opentelemetry-exporter-otlp-proto-grpc>=1.2.0->chromadb)\n",
            "  Downloading opentelemetry_exporter_otlp_proto_common-1.23.0-py3-none-any.whl (17 kB)\n",
            "Collecting opentelemetry-proto==1.23.0 (from opentelemetry-exporter-otlp-proto-grpc>=1.2.0->chromadb)\n",
            "  Downloading opentelemetry_proto-1.23.0-py3-none-any.whl (50 kB)\n",
            "\u001b[2K     \u001b[90m━━━━━━━━━━━━━━━━━━━━━━━━━━━━━━━━━━━━━━━━\u001b[0m \u001b[32m50.8/50.8 kB\u001b[0m \u001b[31m3.6 MB/s\u001b[0m eta \u001b[36m0:00:00\u001b[0m\n",
            "\u001b[?25hCollecting opentelemetry-instrumentation-asgi==0.44b0 (from opentelemetry-instrumentation-fastapi>=0.41b0->chromadb)\n",
            "  Downloading opentelemetry_instrumentation_asgi-0.44b0-py3-none-any.whl (14 kB)\n",
            "Collecting opentelemetry-instrumentation==0.44b0 (from opentelemetry-instrumentation-fastapi>=0.41b0->chromadb)\n",
            "  Downloading opentelemetry_instrumentation-0.44b0-py3-none-any.whl (28 kB)\n",
            "Collecting opentelemetry-semantic-conventions==0.44b0 (from opentelemetry-instrumentation-fastapi>=0.41b0->chromadb)\n",
            "  Downloading opentelemetry_semantic_conventions-0.44b0-py3-none-any.whl (36 kB)\n",
            "Collecting opentelemetry-util-http==0.44b0 (from opentelemetry-instrumentation-fastapi>=0.41b0->chromadb)\n",
            "  Downloading opentelemetry_util_http-0.44b0-py3-none-any.whl (6.9 kB)\n",
            "Requirement already satisfied: setuptools>=16.0 in /usr/local/lib/python3.10/dist-packages (from opentelemetry-instrumentation==0.44b0->opentelemetry-instrumentation-fastapi>=0.41b0->chromadb) (67.7.2)\n",
            "Requirement already satisfied: wrapt<2.0.0,>=1.0.0 in /usr/local/lib/python3.10/dist-packages (from opentelemetry-instrumentation==0.44b0->opentelemetry-instrumentation-fastapi>=0.41b0->chromadb) (1.14.1)\n",
            "Collecting asgiref~=3.0 (from opentelemetry-instrumentation-asgi==0.44b0->opentelemetry-instrumentation-fastapi>=0.41b0->chromadb)\n",
            "  Downloading asgiref-3.7.2-py3-none-any.whl (24 kB)\n",
            "Collecting monotonic>=1.5 (from posthog>=2.4.0->chromadb)\n",
            "  Downloading monotonic-1.6-py2.py3-none-any.whl (8.2 kB)\n",
            "Collecting backoff>=1.10.0 (from posthog>=2.4.0->chromadb)\n",
            "  Downloading backoff-2.2.1-py3-none-any.whl (15 kB)\n",
            "Requirement already satisfied: annotated-types>=0.4.0 in /usr/local/lib/python3.10/dist-packages (from pydantic>=1.9->chromadb) (0.6.0)\n",
            "Requirement already satisfied: pydantic-core==2.16.3 in /usr/local/lib/python3.10/dist-packages (from pydantic>=1.9->chromadb) (2.16.3)\n",
            "Requirement already satisfied: charset-normalizer<4,>=2 in /usr/local/lib/python3.10/dist-packages (from requests>=2.28->chromadb) (3.3.2)\n",
            "Requirement already satisfied: idna<4,>=2.5 in /usr/local/lib/python3.10/dist-packages (from requests>=2.28->chromadb) (3.6)\n",
            "Requirement already satisfied: huggingface_hub<1.0,>=0.16.4 in /usr/local/lib/python3.10/dist-packages (from tokenizers>=0.13.2->chromadb) (0.20.3)\n",
            "Requirement already satisfied: click<9.0.0,>=7.1.1 in /usr/local/lib/python3.10/dist-packages (from typer>=0.9.0->chromadb) (8.1.7)\n",
            "Collecting h11>=0.8 (from uvicorn[standard]>=0.18.3->chromadb)\n",
            "  Downloading h11-0.14.0-py3-none-any.whl (58 kB)\n",
            "\u001b[2K     \u001b[90m━━━━━━━━━━━━━━━━━━━━━━━━━━━━━━━━━━━━━━━━\u001b[0m \u001b[32m58.3/58.3 kB\u001b[0m \u001b[31m9.1 MB/s\u001b[0m eta \u001b[36m0:00:00\u001b[0m\n",
            "\u001b[?25hCollecting httptools>=0.5.0 (from uvicorn[standard]>=0.18.3->chromadb)\n",
            "  Downloading httptools-0.6.1-cp310-cp310-manylinux_2_5_x86_64.manylinux1_x86_64.manylinux_2_17_x86_64.manylinux2014_x86_64.whl (341 kB)\n",
            "\u001b[2K     \u001b[90m━━━━━━━━━━━━━━━━━━━━━━━━━━━━━━━━━━━━━━━━\u001b[0m \u001b[32m341.4/341.4 kB\u001b[0m \u001b[31m39.6 MB/s\u001b[0m eta \u001b[36m0:00:00\u001b[0m\n",
            "\u001b[?25hCollecting python-dotenv>=0.13 (from uvicorn[standard]>=0.18.3->chromadb)\n",
            "  Downloading python_dotenv-1.0.1-py3-none-any.whl (19 kB)\n",
            "Collecting uvloop!=0.15.0,!=0.15.1,>=0.14.0 (from uvicorn[standard]>=0.18.3->chromadb)\n",
            "  Downloading uvloop-0.19.0-cp310-cp310-manylinux_2_17_x86_64.manylinux2014_x86_64.whl (3.4 MB)\n",
            "\u001b[2K     \u001b[90m━━━━━━━━━━━━━━━━━━━━━━━━━━━━━━━━━━━━━━━━\u001b[0m \u001b[32m3.4/3.4 MB\u001b[0m \u001b[31m96.8 MB/s\u001b[0m eta \u001b[36m0:00:00\u001b[0m\n",
            "\u001b[?25hCollecting watchfiles>=0.13 (from uvicorn[standard]>=0.18.3->chromadb)\n",
            "  Downloading watchfiles-0.21.0-cp310-cp310-manylinux_2_17_x86_64.manylinux2014_x86_64.whl (1.3 MB)\n",
            "\u001b[2K     \u001b[90m━━━━━━━━━━━━━━━━━━━━━━━━━━━━━━━━━━━━━━━━\u001b[0m \u001b[32m1.3/1.3 MB\u001b[0m \u001b[31m20.6 MB/s\u001b[0m eta \u001b[36m0:00:00\u001b[0m\n",
            "\u001b[?25hCollecting websockets>=10.4 (from uvicorn[standard]>=0.18.3->chromadb)\n",
            "  Downloading websockets-12.0-cp310-cp310-manylinux_2_5_x86_64.manylinux1_x86_64.manylinux_2_17_x86_64.manylinux2014_x86_64.whl (130 kB)\n",
            "\u001b[2K     \u001b[90m━━━━━━━━━━━━━━━━━━━━━━━━━━━━━━━━━━━━━━━━\u001b[0m \u001b[32m130.2/130.2 kB\u001b[0m \u001b[31m18.8 MB/s\u001b[0m eta \u001b[36m0:00:00\u001b[0m\n",
            "\u001b[?25hRequirement already satisfied: cachetools<6.0,>=2.0.0 in /usr/local/lib/python3.10/dist-packages (from google-auth>=1.0.1->kubernetes>=28.1.0->chromadb) (5.3.3)\n",
            "Requirement already satisfied: pyasn1-modules>=0.2.1 in /usr/local/lib/python3.10/dist-packages (from google-auth>=1.0.1->kubernetes>=28.1.0->chromadb) (0.3.0)\n",
            "Requirement already satisfied: rsa<5,>=3.1.4 in /usr/local/lib/python3.10/dist-packages (from google-auth>=1.0.1->kubernetes>=28.1.0->chromadb) (4.9)\n",
            "Requirement already satisfied: filelock in /usr/local/lib/python3.10/dist-packages (from huggingface_hub<1.0,>=0.16.4->tokenizers>=0.13.2->chromadb) (3.13.1)\n",
            "Requirement already satisfied: fsspec>=2023.5.0 in /usr/local/lib/python3.10/dist-packages (from huggingface_hub<1.0,>=0.16.4->tokenizers>=0.13.2->chromadb) (2023.6.0)\n",
            "Requirement already satisfied: zipp>=0.5 in /usr/local/lib/python3.10/dist-packages (from importlib-metadata<7.0,>=6.0->opentelemetry-api>=1.2.0->chromadb) (3.17.0)\n",
            "Requirement already satisfied: anyio<5,>=3.4.0 in /usr/local/lib/python3.10/dist-packages (from starlette<0.37.0,>=0.36.3->fastapi>=0.95.2->chromadb) (3.7.1)\n",
            "Collecting humanfriendly>=9.1 (from coloredlogs->onnxruntime>=1.14.1->chromadb)\n",
            "  Downloading humanfriendly-10.0-py2.py3-none-any.whl (86 kB)\n",
            "\u001b[2K     \u001b[90m━━━━━━━━━━━━━━━━━━━━━━━━━━━━━━━━━━━━━━━━\u001b[0m \u001b[32m86.8/86.8 kB\u001b[0m \u001b[31m14.0 MB/s\u001b[0m eta \u001b[36m0:00:00\u001b[0m\n",
            "\u001b[?25hRequirement already satisfied: mpmath>=0.19 in /usr/local/lib/python3.10/dist-packages (from sympy->onnxruntime>=1.14.1->chromadb) (1.3.0)\n",
            "Requirement already satisfied: sniffio>=1.1 in /usr/local/lib/python3.10/dist-packages (from anyio<5,>=3.4.0->starlette<0.37.0,>=0.36.3->fastapi>=0.95.2->chromadb) (1.3.1)\n",
            "Requirement already satisfied: exceptiongroup in /usr/local/lib/python3.10/dist-packages (from anyio<5,>=3.4.0->starlette<0.37.0,>=0.36.3->fastapi>=0.95.2->chromadb) (1.2.0)\n",
            "Requirement already satisfied: pyasn1<0.6.0,>=0.4.6 in /usr/local/lib/python3.10/dist-packages (from pyasn1-modules>=0.2.1->google-auth>=1.0.1->kubernetes>=28.1.0->chromadb) (0.5.1)\n",
            "Building wheels for collected packages: pypika\n",
            "  Building wheel for pypika (pyproject.toml) ... \u001b[?25l\u001b[?25hdone\n",
            "  Created wheel for pypika: filename=PyPika-0.48.9-py2.py3-none-any.whl size=53724 sha256=33849eca0721e74e1761676d2fc0eff33c2e4084f7bc9146a86b2f3a3b89e515\n",
            "  Stored in directory: /root/.cache/pip/wheels/e1/26/51/d0bffb3d2fd82256676d7ad3003faea3bd6dddc9577af665f4\n",
            "Successfully built pypika\n",
            "Installing collected packages: pypika, monotonic, mmh3, websockets, uvloop, python-dotenv, pulsar-client, overrides, orjson, opentelemetry-util-http, opentelemetry-semantic-conventions, opentelemetry-proto, importlib-metadata, humanfriendly, httptools, h11, deprecated, chroma-hnswlib, bcrypt, backoff, asgiref, watchfiles, uvicorn, starlette, posthog, opentelemetry-exporter-otlp-proto-common, opentelemetry-api, coloredlogs, opentelemetry-sdk, opentelemetry-instrumentation, onnxruntime, kubernetes, fastapi, opentelemetry-instrumentation-asgi, opentelemetry-exporter-otlp-proto-grpc, opentelemetry-instrumentation-fastapi, chromadb\n",
            "  Attempting uninstall: importlib-metadata\n",
            "    Found existing installation: importlib_metadata 7.0.2\n",
            "    Uninstalling importlib_metadata-7.0.2:\n",
            "      Successfully uninstalled importlib_metadata-7.0.2\n",
            "Successfully installed asgiref-3.7.2 backoff-2.2.1 bcrypt-4.1.2 chroma-hnswlib-0.7.3 chromadb-0.4.24 coloredlogs-15.0.1 deprecated-1.2.14 fastapi-0.110.0 h11-0.14.0 httptools-0.6.1 humanfriendly-10.0 importlib-metadata-6.11.0 kubernetes-29.0.0 mmh3-4.1.0 monotonic-1.6 onnxruntime-1.17.1 opentelemetry-api-1.23.0 opentelemetry-exporter-otlp-proto-common-1.23.0 opentelemetry-exporter-otlp-proto-grpc-1.23.0 opentelemetry-instrumentation-0.44b0 opentelemetry-instrumentation-asgi-0.44b0 opentelemetry-instrumentation-fastapi-0.44b0 opentelemetry-proto-1.23.0 opentelemetry-sdk-1.23.0 opentelemetry-semantic-conventions-0.44b0 opentelemetry-util-http-0.44b0 orjson-3.9.15 overrides-7.7.0 posthog-3.5.0 pulsar-client-3.4.0 pypika-0.48.9 python-dotenv-1.0.1 starlette-0.36.3 uvicorn-0.28.0 uvloop-0.19.0 watchfiles-0.21.0 websockets-12.0\n",
            "Collecting catboost\n",
            "  Downloading catboost-1.2.3-cp310-cp310-manylinux2014_x86_64.whl (98.5 MB)\n",
            "\u001b[2K     \u001b[90m━━━━━━━━━━━━━━━━━━━━━━━━━━━━━━━━━━━━━━━━\u001b[0m \u001b[32m98.5/98.5 MB\u001b[0m \u001b[31m6.0 MB/s\u001b[0m eta \u001b[36m0:00:00\u001b[0m\n",
            "\u001b[?25hRequirement already satisfied: graphviz in /usr/local/lib/python3.10/dist-packages (from catboost) (0.20.1)\n",
            "Requirement already satisfied: matplotlib in /usr/local/lib/python3.10/dist-packages (from catboost) (3.7.1)\n",
            "Requirement already satisfied: numpy>=1.16.0 in /usr/local/lib/python3.10/dist-packages (from catboost) (1.25.2)\n",
            "Requirement already satisfied: pandas>=0.24 in /usr/local/lib/python3.10/dist-packages (from catboost) (1.5.3)\n",
            "Requirement already satisfied: scipy in /usr/local/lib/python3.10/dist-packages (from catboost) (1.11.4)\n",
            "Requirement already satisfied: plotly in /usr/local/lib/python3.10/dist-packages (from catboost) (5.15.0)\n",
            "Requirement already satisfied: six in /usr/local/lib/python3.10/dist-packages (from catboost) (1.16.0)\n",
            "Requirement already satisfied: python-dateutil>=2.8.1 in /usr/local/lib/python3.10/dist-packages (from pandas>=0.24->catboost) (2.8.2)\n",
            "Requirement already satisfied: pytz>=2020.1 in /usr/local/lib/python3.10/dist-packages (from pandas>=0.24->catboost) (2023.4)\n",
            "Requirement already satisfied: contourpy>=1.0.1 in /usr/local/lib/python3.10/dist-packages (from matplotlib->catboost) (1.2.0)\n",
            "Requirement already satisfied: cycler>=0.10 in /usr/local/lib/python3.10/dist-packages (from matplotlib->catboost) (0.12.1)\n",
            "Requirement already satisfied: fonttools>=4.22.0 in /usr/local/lib/python3.10/dist-packages (from matplotlib->catboost) (4.49.0)\n",
            "Requirement already satisfied: kiwisolver>=1.0.1 in /usr/local/lib/python3.10/dist-packages (from matplotlib->catboost) (1.4.5)\n",
            "Requirement already satisfied: packaging>=20.0 in /usr/local/lib/python3.10/dist-packages (from matplotlib->catboost) (24.0)\n",
            "Requirement already satisfied: pillow>=6.2.0 in /usr/local/lib/python3.10/dist-packages (from matplotlib->catboost) (9.4.0)\n",
            "Requirement already satisfied: pyparsing>=2.3.1 in /usr/local/lib/python3.10/dist-packages (from matplotlib->catboost) (3.1.2)\n",
            "Requirement already satisfied: tenacity>=6.2.0 in /usr/local/lib/python3.10/dist-packages (from plotly->catboost) (8.2.3)\n",
            "Installing collected packages: catboost\n",
            "Successfully installed catboost-1.2.3\n",
            "Collecting shap\n",
            "  Downloading shap-0.45.0-cp310-cp310-manylinux_2_12_x86_64.manylinux2010_x86_64.manylinux_2_17_x86_64.manylinux2014_x86_64.whl (538 kB)\n",
            "\u001b[2K     \u001b[90m━━━━━━━━━━━━━━━━━━━━━━━━━━━━━━━━━━━━━━━━\u001b[0m \u001b[32m538.2/538.2 kB\u001b[0m \u001b[31m13.9 MB/s\u001b[0m eta \u001b[36m0:00:00\u001b[0m\n",
            "\u001b[?25hRequirement already satisfied: numpy in /usr/local/lib/python3.10/dist-packages (from shap) (1.25.2)\n",
            "Requirement already satisfied: scipy in /usr/local/lib/python3.10/dist-packages (from shap) (1.11.4)\n",
            "Requirement already satisfied: scikit-learn in /usr/local/lib/python3.10/dist-packages (from shap) (1.2.2)\n",
            "Requirement already satisfied: pandas in /usr/local/lib/python3.10/dist-packages (from shap) (1.5.3)\n",
            "Requirement already satisfied: tqdm>=4.27.0 in /usr/local/lib/python3.10/dist-packages (from shap) (4.66.2)\n",
            "Requirement already satisfied: packaging>20.9 in /usr/local/lib/python3.10/dist-packages (from shap) (24.0)\n",
            "Collecting slicer==0.0.7 (from shap)\n",
            "  Downloading slicer-0.0.7-py3-none-any.whl (14 kB)\n",
            "Requirement already satisfied: numba in /usr/local/lib/python3.10/dist-packages (from shap) (0.58.1)\n",
            "Requirement already satisfied: cloudpickle in /usr/local/lib/python3.10/dist-packages (from shap) (2.2.1)\n",
            "Requirement already satisfied: llvmlite<0.42,>=0.41.0dev0 in /usr/local/lib/python3.10/dist-packages (from numba->shap) (0.41.1)\n",
            "Requirement already satisfied: python-dateutil>=2.8.1 in /usr/local/lib/python3.10/dist-packages (from pandas->shap) (2.8.2)\n",
            "Requirement already satisfied: pytz>=2020.1 in /usr/local/lib/python3.10/dist-packages (from pandas->shap) (2023.4)\n",
            "Requirement already satisfied: joblib>=1.1.1 in /usr/local/lib/python3.10/dist-packages (from scikit-learn->shap) (1.3.2)\n",
            "Requirement already satisfied: threadpoolctl>=2.0.0 in /usr/local/lib/python3.10/dist-packages (from scikit-learn->shap) (3.3.0)\n",
            "Requirement already satisfied: six>=1.5 in /usr/local/lib/python3.10/dist-packages (from python-dateutil>=2.8.1->pandas->shap) (1.16.0)\n",
            "Installing collected packages: slicer, shap\n",
            "Successfully installed shap-0.45.0 slicer-0.0.7\n"
          ]
        }
      ],
      "source": [
        "!pip install chromadb\n",
        "!pip install catboost\n",
        "!pip install shap"
      ],
      "id": "T0w2j1omclwV"
    },
    {
      "cell_type": "code",
      "execution_count": null,
      "metadata": {
        "colab": {
          "base_uri": "https://localhost:8080/"
        },
        "id": "WremRMspEMJA",
        "outputId": "23f05afa-2ca8-4511-93e3-e8afd3714adc"
      },
      "outputs": [
        {
          "output_type": "stream",
          "name": "stdout",
          "text": [
            "absl-py==1.4.0\n",
            "aiohttp==3.9.3\n",
            "aiosignal==1.3.1\n",
            "alabaster==0.7.16\n",
            "albumentations==1.3.1\n",
            "altair==4.2.2\n",
            "annotated-types==0.6.0\n",
            "anyio==3.7.1\n",
            "appdirs==1.4.4\n",
            "argon2-cffi==23.1.0\n",
            "argon2-cffi-bindings==21.2.0\n",
            "array-record==0.5.0\n",
            "arviz==0.15.1\n",
            "asgiref==3.7.2\n",
            "astropy==5.3.4\n",
            "astunparse==1.6.3\n",
            "async-timeout==4.0.3\n",
            "atpublic==4.0\n",
            "attrs==23.2.0\n",
            "audioread==3.0.1\n",
            "autograd==1.6.2\n",
            "Babel==2.14.0\n",
            "backcall==0.2.0\n",
            "backoff==2.2.1\n",
            "bcrypt==4.1.2\n",
            "beautifulsoup4==4.12.3\n",
            "bidict==0.23.1\n",
            "bigframes==0.23.0\n",
            "bleach==6.1.0\n",
            "blinker==1.4\n",
            "blis==0.7.11\n",
            "blosc2==2.0.0\n",
            "bokeh==3.3.4\n",
            "bqplot==0.12.43\n",
            "branca==0.7.1\n",
            "build==1.1.1\n",
            "CacheControl==0.14.0\n",
            "cachetools==5.3.3\n",
            "catalogue==2.0.10\n",
            "catboost==1.2.3\n",
            "certifi==2024.2.2\n",
            "cffi==1.16.0\n",
            "chardet==5.2.0\n",
            "charset-normalizer==3.3.2\n",
            "chex==0.1.85\n",
            "chroma-hnswlib==0.7.3\n",
            "chromadb==0.4.24\n",
            "click==8.1.7\n",
            "click-plugins==1.1.1\n",
            "cligj==0.7.2\n",
            "cloudpathlib==0.16.0\n",
            "cloudpickle==2.2.1\n",
            "cmake==3.27.9\n",
            "cmdstanpy==1.2.1\n",
            "colorcet==3.1.0\n",
            "coloredlogs==15.0.1\n",
            "colorlover==0.3.0\n",
            "colour==0.1.5\n",
            "community==1.0.0b1\n",
            "confection==0.1.4\n",
            "cons==0.4.6\n",
            "contextlib2==21.6.0\n",
            "contourpy==1.2.0\n",
            "cryptography==42.0.5\n",
            "cufflinks==0.17.3\n",
            "cupy-cuda12x==12.2.0\n",
            "cvxopt==1.3.2\n",
            "cvxpy==1.3.3\n",
            "cycler==0.12.1\n",
            "cymem==2.0.8\n",
            "Cython==3.0.9\n",
            "dask==2023.8.1\n",
            "datascience==0.17.6\n",
            "db-dtypes==1.2.0\n",
            "dbus-python==1.2.18\n",
            "debugpy==1.6.6\n",
            "decorator==4.4.2\n",
            "defusedxml==0.7.1\n",
            "Deprecated==1.2.14\n",
            "distributed==2023.8.1\n",
            "distro==1.7.0\n",
            "dlib==19.24.2\n",
            "dm-tree==0.1.8\n",
            "docutils==0.18.1\n",
            "dopamine-rl==4.0.6\n",
            "duckdb==0.9.2\n",
            "earthengine-api==0.1.393\n",
            "easydict==1.13\n",
            "ecos==2.0.13\n",
            "editdistance==0.6.2\n",
            "eerepr==0.0.4\n",
            "en-core-web-sm @ https://github.com/explosion/spacy-models/releases/download/en_core_web_sm-3.7.1/en_core_web_sm-3.7.1-py3-none-any.whl#sha256=86cc141f63942d4b2c5fcee06630fd6f904788d2f0ab005cce45aadb8fb73889\n",
            "entrypoints==0.4\n",
            "et-xmlfile==1.1.0\n",
            "etils==1.7.0\n",
            "etuples==0.3.9\n",
            "exceptiongroup==1.2.0\n",
            "fastai==2.7.14\n",
            "fastapi==0.110.0\n",
            "fastcore==1.5.29\n",
            "fastdownload==0.0.7\n",
            "fastjsonschema==2.19.1\n",
            "fastprogress==1.0.3\n",
            "fastrlock==0.8.2\n",
            "filelock==3.13.1\n",
            "fiona==1.9.6\n",
            "firebase-admin==5.3.0\n",
            "Flask==2.2.5\n",
            "flatbuffers==24.3.7\n",
            "flax==0.8.1\n",
            "folium==0.14.0\n",
            "fonttools==4.49.0\n",
            "frozendict==2.4.0\n",
            "frozenlist==1.4.1\n",
            "fsspec==2023.6.0\n",
            "future==0.18.3\n",
            "gast==0.5.4\n",
            "gcsfs==2023.6.0\n",
            "GDAL==3.6.4\n",
            "gdown==4.7.3\n",
            "geemap==0.32.0\n",
            "gensim==4.3.2\n",
            "geocoder==1.38.1\n",
            "geographiclib==2.0\n",
            "geopandas==0.13.2\n",
            "geopy==2.3.0\n",
            "gin-config==0.5.0\n",
            "glob2==0.7\n",
            "google==2.0.3\n",
            "google-ai-generativelanguage==0.4.0\n",
            "google-api-core==2.11.1\n",
            "google-api-python-client==2.84.0\n",
            "google-auth==2.27.0\n",
            "google-auth-httplib2==0.1.1\n",
            "google-auth-oauthlib==1.2.0\n",
            "google-cloud-aiplatform==1.43.0\n",
            "google-cloud-bigquery==3.12.0\n",
            "google-cloud-bigquery-connection==1.12.1\n",
            "google-cloud-bigquery-storage==2.24.0\n",
            "google-cloud-core==2.3.3\n",
            "google-cloud-datastore==2.15.2\n",
            "google-cloud-firestore==2.11.1\n",
            "google-cloud-functions==1.13.3\n",
            "google-cloud-iam==2.14.3\n",
            "google-cloud-language==2.13.3\n",
            "google-cloud-resource-manager==1.12.3\n",
            "google-cloud-storage==2.8.0\n",
            "google-cloud-translate==3.11.3\n",
            "google-colab @ file:///colabtools/dist/google-colab-1.0.0.tar.gz#sha256=6963a1ce339bb4ddcfb079428079a780b6f437d308107ad8e62e952c55162c77\n",
            "google-crc32c==1.5.0\n",
            "google-generativeai==0.3.2\n",
            "google-pasta==0.2.0\n",
            "google-resumable-media==2.7.0\n",
            "googleapis-common-protos==1.63.0\n",
            "googledrivedownloader==0.4\n",
            "graphviz==0.20.1\n",
            "greenlet==3.0.3\n",
            "grpc-google-iam-v1==0.13.0\n",
            "grpcio==1.62.1\n",
            "grpcio-status==1.48.2\n",
            "gspread==3.4.2\n",
            "gspread-dataframe==3.3.1\n",
            "gym==0.25.2\n",
            "gym-notices==0.0.8\n",
            "h11==0.14.0\n",
            "h5netcdf==1.3.0\n",
            "h5py==3.9.0\n",
            "holidays==0.44\n",
            "holoviews==1.17.1\n",
            "html5lib==1.1\n",
            "httpimport==1.3.1\n",
            "httplib2==0.22.0\n",
            "httptools==0.6.1\n",
            "huggingface-hub==0.20.3\n",
            "humanfriendly==10.0\n",
            "humanize==4.7.0\n",
            "hyperopt==0.2.7\n",
            "ibis-framework==8.0.0\n",
            "idna==3.6\n",
            "imageio==2.31.6\n",
            "imageio-ffmpeg==0.4.9\n",
            "imagesize==1.4.1\n",
            "imbalanced-learn==0.10.1\n",
            "imgaug==0.4.0\n",
            "importlib-metadata==6.11.0\n",
            "importlib_resources==6.1.3\n",
            "imutils==0.5.4\n",
            "inflect==7.0.0\n",
            "iniconfig==2.0.0\n",
            "intel-openmp==2023.2.3\n",
            "ipyevents==2.0.2\n",
            "ipyfilechooser==0.6.0\n",
            "ipykernel==5.5.6\n",
            "ipyleaflet==0.18.2\n",
            "ipython==7.34.0\n",
            "ipython-genutils==0.2.0\n",
            "ipython-sql==0.5.0\n",
            "ipytree==0.2.2\n",
            "ipywidgets==7.7.1\n",
            "itsdangerous==2.1.2\n",
            "jax==0.4.23\n",
            "jaxlib @ https://storage.googleapis.com/jax-releases/cuda12/jaxlib-0.4.23+cuda12.cudnn89-cp310-cp310-manylinux2014_x86_64.whl#sha256=8e42000672599e7ec0ea7f551acfcc95dcdd0e22b05a1d1f12f97b56a9fce4a8\n",
            "jeepney==0.7.1\n",
            "jieba==0.42.1\n",
            "Jinja2==3.1.3\n",
            "joblib==1.3.2\n",
            "jsonpickle==3.0.3\n",
            "jsonschema==4.19.2\n",
            "jsonschema-specifications==2023.12.1\n",
            "jupyter-client==6.1.12\n",
            "jupyter-console==6.1.0\n",
            "jupyter-server==1.24.0\n",
            "jupyter_core==5.7.1\n",
            "jupyterlab_pygments==0.3.0\n",
            "jupyterlab_widgets==3.0.10\n",
            "kaggle==1.5.16\n",
            "kagglehub==0.2.0\n",
            "keras==2.15.0\n",
            "keyring==23.5.0\n",
            "kiwisolver==1.4.5\n",
            "kubernetes==29.0.0\n",
            "langcodes==3.3.0\n",
            "launchpadlib==1.10.16\n",
            "lazr.restfulclient==0.14.4\n",
            "lazr.uri==1.0.6\n",
            "lazy_loader==0.3\n",
            "libclang==16.0.6\n",
            "librosa==0.10.1\n",
            "lightgbm==4.1.0\n",
            "linkify-it-py==2.0.3\n",
            "llvmlite==0.41.1\n",
            "locket==1.0.0\n",
            "logical-unification==0.4.6\n",
            "lxml==4.9.4\n",
            "malloy==2023.1067\n",
            "Markdown==3.5.2\n",
            "markdown-it-py==3.0.0\n",
            "MarkupSafe==2.1.5\n",
            "matplotlib==3.7.1\n",
            "matplotlib-inline==0.1.6\n",
            "matplotlib-venn==0.11.10\n",
            "mdit-py-plugins==0.4.0\n",
            "mdurl==0.1.2\n",
            "miniKanren==1.0.3\n",
            "missingno==0.5.2\n",
            "mistune==0.8.4\n",
            "mizani==0.9.3\n",
            "mkl==2023.2.0\n",
            "ml-dtypes==0.2.0\n",
            "mlxtend==0.22.0\n",
            "mmh3==4.1.0\n",
            "monotonic==1.6\n",
            "more-itertools==10.1.0\n",
            "moviepy==1.0.3\n",
            "mpmath==1.3.0\n",
            "msgpack==1.0.8\n",
            "multidict==6.0.5\n",
            "multipledispatch==1.0.0\n",
            "multitasking==0.0.11\n",
            "murmurhash==1.0.10\n",
            "music21==9.1.0\n",
            "natsort==8.4.0\n",
            "nbclassic==1.0.0\n",
            "nbclient==0.9.0\n",
            "nbconvert==6.5.4\n",
            "nbformat==5.9.2\n",
            "nest-asyncio==1.6.0\n",
            "networkx==3.2.1\n",
            "nibabel==4.0.2\n",
            "nltk==3.8.1\n",
            "notebook==6.5.5\n",
            "notebook_shim==0.2.4\n",
            "numba==0.58.1\n",
            "numexpr==2.9.0\n",
            "numpy==1.25.2\n",
            "oauth2client==4.1.3\n",
            "oauthlib==3.2.2\n",
            "onnxruntime==1.17.1\n",
            "opencv-contrib-python==4.8.0.76\n",
            "opencv-python==4.8.0.76\n",
            "opencv-python-headless==4.9.0.80\n",
            "openpyxl==3.1.2\n",
            "opentelemetry-api==1.23.0\n",
            "opentelemetry-exporter-otlp-proto-common==1.23.0\n",
            "opentelemetry-exporter-otlp-proto-grpc==1.23.0\n",
            "opentelemetry-instrumentation==0.44b0\n",
            "opentelemetry-instrumentation-asgi==0.44b0\n",
            "opentelemetry-instrumentation-fastapi==0.44b0\n",
            "opentelemetry-proto==1.23.0\n",
            "opentelemetry-sdk==1.23.0\n",
            "opentelemetry-semantic-conventions==0.44b0\n",
            "opentelemetry-util-http==0.44b0\n",
            "opt-einsum==3.3.0\n",
            "optax==0.2.1\n",
            "orbax-checkpoint==0.4.4\n",
            "orjson==3.9.15\n",
            "osqp==0.6.2.post8\n",
            "overrides==7.7.0\n",
            "packaging==24.0\n",
            "pandas==1.5.3\n",
            "pandas-datareader==0.10.0\n",
            "pandas-gbq==0.19.2\n",
            "pandas-stubs==1.5.3.230304\n",
            "pandocfilters==1.5.1\n",
            "panel==1.3.8\n",
            "param==2.0.2\n",
            "parso==0.8.3\n",
            "parsy==2.1\n",
            "partd==1.4.1\n",
            "pathlib==1.0.1\n",
            "patsy==0.5.6\n",
            "peewee==3.17.1\n",
            "pexpect==4.9.0\n",
            "pickleshare==0.7.5\n",
            "Pillow==9.4.0\n",
            "pip-tools==6.13.0\n",
            "platformdirs==4.2.0\n",
            "plotly==5.15.0\n",
            "plotnine==0.12.4\n",
            "pluggy==1.4.0\n",
            "polars==0.20.2\n",
            "pooch==1.8.1\n",
            "portpicker==1.5.2\n",
            "posthog==3.5.0\n",
            "prefetch-generator==1.0.3\n",
            "preshed==3.0.9\n",
            "prettytable==3.10.0\n",
            "proglog==0.1.10\n",
            "progressbar2==4.2.0\n",
            "prometheus_client==0.20.0\n",
            "promise==2.3\n",
            "prompt-toolkit==3.0.43\n",
            "prophet==1.1.5\n",
            "proto-plus==1.23.0\n",
            "protobuf==3.20.3\n",
            "psutil==5.9.5\n",
            "psycopg2==2.9.9\n",
            "ptyprocess==0.7.0\n",
            "pulsar-client==3.4.0\n",
            "py-cpuinfo==9.0.0\n",
            "py4j==0.10.9.7\n",
            "pyarrow==14.0.2\n",
            "pyarrow-hotfix==0.6\n",
            "pyasn1==0.5.1\n",
            "pyasn1-modules==0.3.0\n",
            "pycocotools==2.0.7\n",
            "pycparser==2.21\n",
            "pydantic==2.6.3\n",
            "pydantic_core==2.16.3\n",
            "pydata-google-auth==1.8.2\n",
            "pydot==1.4.2\n",
            "pydot-ng==2.0.0\n",
            "pydotplus==2.0.2\n",
            "PyDrive==1.3.1\n",
            "PyDrive2==1.6.3\n",
            "pyerfa==2.0.1.1\n",
            "pygame==2.5.2\n",
            "Pygments==2.16.1\n",
            "PyGObject==3.42.1\n",
            "PyJWT==2.3.0\n",
            "pymc==5.10.4\n",
            "pymystem3==0.2.0\n",
            "PyOpenGL==3.1.7\n",
            "pyOpenSSL==24.1.0\n",
            "pyparsing==3.1.2\n",
            "pyperclip==1.8.2\n",
            "PyPika==0.48.9\n",
            "pyproj==3.6.1\n",
            "pyproject_hooks==1.0.0\n",
            "pyshp==2.3.1\n",
            "PySocks==1.7.1\n",
            "pytensor==2.18.6\n",
            "pytest==7.4.4\n",
            "python-apt @ file:///backend-container/containers/python_apt-0.0.0-cp310-cp310-linux_x86_64.whl#sha256=b209c7165d6061963abe611492f8c91c3bcef4b7a6600f966bab58900c63fefa\n",
            "python-box==7.1.1\n",
            "python-dateutil==2.8.2\n",
            "python-dotenv==1.0.1\n",
            "python-louvain==0.16\n",
            "python-slugify==8.0.4\n",
            "python-utils==3.8.2\n",
            "pytz==2023.4\n",
            "pyviz_comms==3.0.1\n",
            "PyWavelets==1.5.0\n",
            "PyYAML==6.0.1\n",
            "pyzmq==23.2.1\n",
            "qdldl==0.1.7.post0\n",
            "qudida==0.0.4\n",
            "ratelim==0.1.6\n",
            "referencing==0.33.0\n",
            "regex==2023.12.25\n",
            "requests==2.31.0\n",
            "requests-oauthlib==1.4.0\n",
            "requirements-parser==0.5.0\n",
            "rich==13.7.1\n",
            "rpds-py==0.18.0\n",
            "rpy2==3.4.2\n",
            "rsa==4.9\n",
            "safetensors==0.4.2\n",
            "scikit-image==0.19.3\n",
            "scikit-learn==1.2.2\n",
            "scipy==1.11.4\n",
            "scooby==0.9.2\n",
            "scs==3.2.4.post1\n",
            "seaborn==0.13.1\n",
            "SecretStorage==3.3.1\n",
            "Send2Trash==1.8.2\n",
            "sentencepiece==0.1.99\n",
            "shap==0.45.0\n",
            "shapely==2.0.3\n",
            "six==1.16.0\n",
            "sklearn-pandas==2.2.0\n",
            "slicer==0.0.7\n",
            "smart-open==6.4.0\n",
            "sniffio==1.3.1\n",
            "snowballstemmer==2.2.0\n",
            "sortedcontainers==2.4.0\n",
            "soundfile==0.12.1\n",
            "soupsieve==2.5\n",
            "soxr==0.3.7\n",
            "spacy==3.7.4\n",
            "spacy-legacy==3.0.12\n",
            "spacy-loggers==1.0.5\n",
            "Sphinx==5.0.2\n",
            "sphinxcontrib-applehelp==1.0.8\n",
            "sphinxcontrib-devhelp==1.0.6\n",
            "sphinxcontrib-htmlhelp==2.0.5\n",
            "sphinxcontrib-jsmath==1.0.1\n",
            "sphinxcontrib-qthelp==1.0.7\n",
            "sphinxcontrib-serializinghtml==1.1.10\n",
            "SQLAlchemy==2.0.28\n",
            "sqlglot==20.11.0\n",
            "sqlparse==0.4.4\n",
            "srsly==2.4.8\n",
            "stanio==0.3.0\n",
            "starlette==0.36.3\n",
            "statsmodels==0.14.1\n",
            "sympy==1.12\n",
            "tables==3.8.0\n",
            "tabulate==0.9.0\n",
            "tbb==2021.11.0\n",
            "tblib==3.0.0\n",
            "tenacity==8.2.3\n",
            "tensorboard==2.15.2\n",
            "tensorboard-data-server==0.7.2\n",
            "tensorflow==2.15.0\n",
            "tensorflow-datasets==4.9.4\n",
            "tensorflow-estimator==2.15.0\n",
            "tensorflow-gcs-config==2.15.0\n",
            "tensorflow-hub==0.16.1\n",
            "tensorflow-io-gcs-filesystem==0.36.0\n",
            "tensorflow-metadata==1.14.0\n",
            "tensorflow-probability==0.23.0\n",
            "tensorstore==0.1.45\n",
            "termcolor==2.4.0\n",
            "terminado==0.18.0\n",
            "text-unidecode==1.3\n",
            "textblob==0.17.1\n",
            "tf-slim==1.1.0\n",
            "tf_keras==2.15.1\n",
            "thinc==8.2.3\n",
            "threadpoolctl==3.3.0\n",
            "tifffile==2024.2.12\n",
            "tinycss2==1.2.1\n",
            "tokenizers==0.15.2\n",
            "toml==0.10.2\n",
            "tomli==2.0.1\n",
            "toolz==0.12.1\n",
            "torch @ https://download.pytorch.org/whl/cu121/torch-2.2.1%2Bcu121-cp310-cp310-linux_x86_64.whl#sha256=1adf430f01ff649c848ac021785e18007b0714fdde68e4e65bd0c640bf3fb8e1\n",
            "torchaudio @ https://download.pytorch.org/whl/cu121/torchaudio-2.2.1%2Bcu121-cp310-cp310-linux_x86_64.whl#sha256=23f6236429e2bf676b820e8e7221a1d58aaf908bff2ba2665aa852df71a97961\n",
            "torchdata==0.7.1\n",
            "torchsummary==1.5.1\n",
            "torchtext==0.17.1\n",
            "torchvision @ https://download.pytorch.org/whl/cu121/torchvision-0.17.1%2Bcu121-cp310-cp310-linux_x86_64.whl#sha256=27af47915f6e762c1d44e58e8088d22ac97445668f9f793524032b2baf4f34bd\n",
            "tornado==6.3.3\n",
            "tqdm==4.66.2\n",
            "traitlets==5.7.1\n",
            "traittypes==0.2.1\n",
            "transformers==4.38.2\n",
            "triton==2.2.0\n",
            "tweepy==4.14.0\n",
            "typer==0.9.0\n",
            "types-pytz==2024.1.0.20240203\n",
            "types-setuptools==69.1.0.20240310\n",
            "typing_extensions==4.10.0\n",
            "tzlocal==5.2\n",
            "uc-micro-py==1.0.3\n",
            "uritemplate==4.1.1\n",
            "urllib3==2.0.7\n",
            "uvicorn==0.28.0\n",
            "uvloop==0.19.0\n",
            "vega-datasets==0.9.0\n",
            "wadllib==1.3.6\n",
            "wasabi==1.1.2\n",
            "watchfiles==0.21.0\n",
            "wcwidth==0.2.13\n",
            "weasel==0.3.4\n",
            "webcolors==1.13\n",
            "webencodings==0.5.1\n",
            "websocket-client==1.7.0\n",
            "websockets==12.0\n",
            "Werkzeug==3.0.1\n",
            "widgetsnbextension==3.6.6\n",
            "wordcloud==1.9.3\n",
            "wrapt==1.14.1\n",
            "xarray==2023.7.0\n",
            "xarray-einstats==0.7.0\n",
            "xgboost==2.0.3\n",
            "xlrd==2.0.1\n",
            "xyzservices==2023.10.1\n",
            "yarl==1.9.4\n",
            "yellowbrick==1.5\n",
            "yfinance==0.2.37\n",
            "zict==3.0.0\n",
            "zipp==3.17.0\n"
          ]
        }
      ],
      "source": [
        "!pip freeze #| grep \"numpy\\|pandas\\|lightgbm\\|scikit-learn\""
      ],
      "id": "WremRMspEMJA"
    },
    {
      "cell_type": "code",
      "execution_count": null,
      "metadata": {
        "id": "jtb2Ze3kc4ge"
      },
      "outputs": [],
      "source": [
        "import pandas as pd\n",
        "import numpy as np\n",
        "from sklearn.model_selection import train_test_split\n",
        "import chromadb\n",
        "import catboost\n",
        "from sklearn.metrics import confusion_matrix\n",
        "import seaborn as sns\n",
        "import matplotlib.pyplot as plt\n",
        "import shap"
      ],
      "id": "jtb2Ze3kc4ge"
    },
    {
      "cell_type": "markdown",
      "metadata": {
        "id": "8b7bef09-9e86-4b19-bbb7-e0ccb7515328"
      },
      "source": [
        "# Работа с данными"
      ],
      "id": "8b7bef09-9e86-4b19-bbb7-e0ccb7515328"
    },
    {
      "cell_type": "code",
      "execution_count": null,
      "metadata": {
        "id": "32c8b1b0-f95e-4cb5-bbc1-c0edb76568c1"
      },
      "outputs": [],
      "source": [
        "train_df = pd.read_parquet(\"/content/drive/MyDrive/purple/train_data.pqt\")\n"
      ],
      "id": "32c8b1b0-f95e-4cb5-bbc1-c0edb76568c1"
    },
    {
      "cell_type": "code",
      "execution_count": null,
      "metadata": {
        "colab": {
          "base_uri": "https://localhost:8080/"
        },
        "id": "siZ3zc4IaC7M",
        "outputId": "e9199bcb-a6ab-4127-d024-50d9c6e02ce8"
      },
      "outputs": [
        {
          "output_type": "execute_result",
          "data": {
            "text/plain": [
              "id                              0\n",
              "date                            0\n",
              "balance_amt_avg             65577\n",
              "balance_amt_max             65577\n",
              "balance_amt_min             65577\n",
              "                            ...  \n",
              "sum_cred_h_oper_3m              0\n",
              "cnt_cred_h_oper_3m         165252\n",
              "cnt_days_cred_h_oper_3m    165252\n",
              "start_cluster                   0\n",
              "end_cluster                     0\n",
              "Length: 93, dtype: int64"
            ]
          },
          "metadata": {},
          "execution_count": 7
        }
      ],
      "source": [
        "train_df.isna().sum()"
      ],
      "id": "siZ3zc4IaC7M"
    },
    {
      "cell_type": "markdown",
      "metadata": {
        "id": "0ZfNmW6QYv4W"
      },
      "source": [
        "##Мини анализ данных"
      ],
      "id": "0ZfNmW6QYv4W"
    },
    {
      "cell_type": "markdown",
      "metadata": {
        "id": "8CnR1snA8fee"
      },
      "source": [
        "кол-во классов"
      ],
      "id": "8CnR1snA8fee"
    },
    {
      "cell_type": "code",
      "execution_count": null,
      "metadata": {
        "colab": {
          "base_uri": "https://localhost:8080/"
        },
        "id": "JCuhWHsC9I0k",
        "outputId": "ba723f7a-afc4-49f0-c4d9-4901288878f9"
      },
      "outputs": [
        {
          "output_type": "execute_result",
          "data": {
            "text/plain": [
              "{α}          375947\n",
              "{}            78803\n",
              "{α, η}        43824\n",
              "{α, γ}        32790\n",
              "{other}       31813\n",
              "{α, β}         9869\n",
              "{α, δ}         8537\n",
              "{α, ε}         5843\n",
              "{α, θ}         4968\n",
              "{α, ψ}         3000\n",
              "{α, μ}         1341\n",
              "{α, ε, η}      1207\n",
              "{α, ε, θ}       851\n",
              "{α, λ}          739\n",
              "{α, ε, ψ}       374\n",
              "{λ}              69\n",
              "{α, π}           25\n",
              "Name: start_cluster, dtype: int64"
            ]
          },
          "metadata": {},
          "execution_count": 8
        }
      ],
      "source": [
        "train_df['start_cluster'].value_counts()"
      ],
      "id": "JCuhWHsC9I0k"
    },
    {
      "cell_type": "code",
      "execution_count": null,
      "metadata": {
        "colab": {
          "base_uri": "https://localhost:8080/",
          "height": 494
        },
        "id": "xBXlMcok8i80",
        "outputId": "019f2a17-19db-43d4-b27d-68ee0546779a"
      },
      "outputs": [
        {
          "output_type": "execute_result",
          "data": {
            "text/plain": [
              "<Axes: >"
            ]
          },
          "metadata": {},
          "execution_count": 9
        },
        {
          "output_type": "display_data",
          "data": {
            "text/plain": [
              "<Figure size 640x480 with 1 Axes>"
            ],
            "image/png": "[encoded data removed]"
          },
          "metadata": {}
        }
      ],
      "source": [
        "train_df['start_cluster'].value_counts().plot(kind='bar')"
      ],
      "id": "xBXlMcok8i80"
    },
    {
      "cell_type": "code",
      "execution_count": null,
      "metadata": {
        "colab": {
          "base_uri": "https://localhost:8080/"
        },
        "id": "XCp4iNiYPGSo",
        "outputId": "b682e7be-fd97-496c-e5ff-c2d8fcd33e8f"
      },
      "outputs": [
        {
          "output_type": "execute_result",
          "data": {
            "text/plain": [
              "array(['{other}', '{α}', '{α, γ}', '{}', '{α, ε}', '{α, β}', '{α, η}',\n",
              "       '{α, μ}', '{α, ψ}', '{α, λ}', '{α, δ}', '{α, θ}', '{α, ε, θ}',\n",
              "       '{α, ε, ψ}', '{α, ε, η}', '{λ}', '{α, π}'], dtype=object)"
            ]
          },
          "metadata": {},
          "execution_count": 10
        }
      ],
      "source": [
        "classes=train_df['end_cluster'].unique()\n",
        "classes"
      ],
      "id": "XCp4iNiYPGSo"
    },
    {
      "cell_type": "markdown",
      "metadata": {
        "id": "akr1CvbxabKa"
      },
      "source": [
        "##Обработка данных"
      ],
      "id": "akr1CvbxabKa"
    },
    {
      "cell_type": "markdown",
      "source": [
        "###Переменные"
      ],
      "metadata": {
        "id": "IZiIpNOXtIee"
      },
      "id": "IZiIpNOXtIee"
    },
    {
      "cell_type": "code",
      "execution_count": null,
      "metadata": {
        "id": "VUdK9BRHgemG"
      },
      "outputs": [],
      "source": [
        "#категориальные признаки\n",
        "cat_cols = [\n",
        "    \"channel_code\", \"city\", \"city_type\",\n",
        "    \"okved\", \"segment\", \"start_cluster\",\n",
        "    \"index_city_code\", \"ogrn_month\", \"ogrn_year\",\n",
        "]"
      ],
      "id": "VUdK9BRHgemG"
    },
    {
      "cell_type": "code",
      "source": [
        "#Столбцы для обработки некоторомыми фунциями (названия столбцов вынесены, чтобы пользователь мог регулировать обработку + если вы решите изменить название столбцов нужно будет это отобразить только здесь)\n",
        "select_dict={\n",
        "    'list_operations': ['cnt_a_oper_1m', 'cnt_b_oper_1m', 'cnt_c_oper_1m'],\n",
        "    'list_incoming_operations':['cnt_cred_d_oper_1m', 'cnt_cred_e_oper_1m', 'cnt_cred_f_oper_1m', 'cnt_cred_g_oper_1m', 'cnt_cred_h_oper_1m'],#список входящих операций\n",
        "    'list_outgoing_operations': ['cnt_deb_d_oper_1m', 'cnt_deb_e_oper_1m', 'cnt_deb_f_oper_1m', 'cnt_deb_g_oper_1m', 'cnt_deb_h_oper_1m'],#список исходящих операций\n",
        "    'list_operations_summi':['sum_a_oper_1m', 'sum_b_oper_1m', 'sum_c_oper_1m']#список сумм A,B,C операций\n",
        "}"
      ],
      "metadata": {
        "id": "39QYTFs9-nSM"
      },
      "id": "39QYTFs9-nSM",
      "execution_count": null,
      "outputs": []
    },
    {
      "cell_type": "markdown",
      "source": [
        "список признаков для удаления"
      ],
      "metadata": {
        "id": "zKeZmXVB8RU7"
      },
      "id": "zKeZmXVB8RU7"
    },
    {
      "cell_type": "code",
      "execution_count": null,
      "metadata": {
        "id": "LF1xaisAMi7H"
      },
      "outputs": [],
      "source": [
        "drop_list=['cnt_deb_g_oper_3m_3',\n",
        " 'cnt_cred_g_oper_3m_3',\n",
        " 'cnt_days_cred_g_oper_3m_3',\n",
        " 'cnt_cred_h_oper_3m_3',\n",
        " 'ogrn_days_end_quarter_mean',\n",
        " 'cnt_b_oper_1m_mean',\n",
        " 'sum_cred_d_oper_1m_mean',\n",
        " 'cnt_days_cred_g_oper_1m_mean',\n",
        " 'cnt_deb_d_oper_3m_mean',\n",
        " 'cnt_cred_d_oper_3m_mean',\n",
        " 'sum_cred_f_oper_3m_mean',\n",
        " 'cnt_days_cred_f_oper_3m_mean',\n",
        " 'cnt_a_oper_1m_sum',\n",
        " 'cnt_b_oper_1m_sum',\n",
        " 'sum_of_paym_2m_hide_1',\n",
        " 'sum_of_paym_6m_hide_1',\n",
        " 'sum_of_paym_1y_hide_1',\n",
        " 'city_1',\n",
        " 'sum_of_paym_1y_hide_2',\n",
        " 'city_2',\n",
        " 'city_type_2',\n",
        " 'cnt_cred_f_oper_3m_2',\n",
        " 'sum_of_paym_2m_hide_3',\n",
        " 'sum_of_paym_6m_hide_3',\n",
        " 'sum_of_paym_1y_hide_3',\n",
        " 'city_type_3']"
      ],
      "id": "LF1xaisAMi7H"
    },
    {
      "cell_type": "markdown",
      "metadata": {
        "id": "fd-AuKt2UxFv"
      },
      "source": [
        "###Фунции для заполнения NaN значений"
      ],
      "id": "fd-AuKt2UxFv"
    },
    {
      "cell_type": "code",
      "execution_count": null,
      "metadata": {
        "id": "jDTvxHJFmT3s"
      },
      "outputs": [],
      "source": [
        "#самое простое заполнение NaN (не используется)\n",
        "def simple_fill(df,cat_cols):\n",
        "  val_cols = df.select_dtypes(include = [\"int64\", \"float64\"])\n",
        "  #считаем среднее значение по столбцам для каждой группы\n",
        "  #где не смогли посчитать среднее значение заменяем на 0\n",
        "  df[val_cols.columns] = df[val_cols.columns].fillna(0)\n",
        "  df.fillna('', inplace=True)\n",
        "  #df[cat_cols] = df[cat_cols].astype(\"category\")\n",
        "  return df\n",
        "\n",
        "#заменяем все NaN в числовых столбцах на среднее значение по столбцам для каждой группы\n",
        "def smart_fill_na(full_df, num_month):\n",
        "  #берем только числовые столбцы\n",
        "  df = full_df.select_dtypes(include = [\"int64\", \"float64\"])\n",
        "  #считаем среднее значение по столбцам для каждой группы\n",
        "  mean_df = (df.groupby('id').max() + df.groupby('id').min())/2\n",
        "  #где не смогли посчитать среднее значение заменяем на 0\n",
        "  mean_df = mean_df.reset_index().fillna(0)\n",
        "  #дублируем строки несколько раз\n",
        "  mean_df = mean_df.loc[mean_df.index.repeat(num_month)].reset_index(drop=True)\n",
        "  #заменяем все NaN на среднее значение по столбцам для каждой группы\n",
        "  mask_fill_na = df.isna()*mean_df\n",
        "  #объединяем с исходной таблицой, так чтобы на месте всех NaN стояли средние значения по маске\n",
        "  new_val_columns = df.fillna(0)+mask_fill_na\n",
        "\n",
        "  #full_df.update(new_df)\n",
        "  return new_val_columns\n",
        "\n"
      ],
      "id": "jDTvxHJFmT3s"
    },
    {
      "cell_type": "code",
      "execution_count": null,
      "metadata": {
        "id": "r_-YrdT128Ew"
      },
      "outputs": [],
      "source": [
        "#заполнение пропущенных строк в тестовом датасете\n",
        "def fill_spaces(test_df):\n",
        "  month_count=len(test_df['date'].unique())\n",
        "  users_count=len(test_df['id'].unique())\n",
        "\n",
        "  rows = sorted(np.repeat(test_df['id'].unique(),month_count))\n",
        "  columns = ['id', 'date']# test_df.columns\n",
        "  dates=list(test_df['date'].unique())*users_count\n",
        "\n",
        "  # Создание DataFrame с пустыми строками\n",
        "  empty_df = pd.DataFrame('', index=range(len(rows)), columns=columns)\n",
        "  empty_df['id']=rows\n",
        "  empty_df['date']=dates\n",
        "\n",
        "  # Заполнение пробелов в test_df\n",
        "  merged_df = pd.merge(empty_df, test_df, on=['id', 'date'], how='left')\n",
        "  return merged_df"
      ],
      "id": "r_-YrdT128Ew"
    },
    {
      "cell_type": "code",
      "execution_count": null,
      "metadata": {
        "id": "a1ZmIPF5UwU_"
      },
      "outputs": [],
      "source": [
        "#Создание векторной бд для поиска схожих строчек и заполнения пропусков\n",
        "def create_db(good_df_arr):\n",
        "  ids=[str(x) for x in range(len(good_df_arr))]\n",
        "  client = chromadb.Client()\n",
        "  print('good_df_arr:',good_df_arr.shape)\n",
        "\n",
        "  try:\n",
        "    client.delete_collection(name=\"all-my-documents\")\n",
        "  except:\n",
        "    pass\n",
        "  collection = client.create_collection(\"all-my-documents\")\n",
        "\n",
        "  collection.add(\n",
        "      embeddings=good_df_arr,\n",
        "      ids=ids\n",
        "  )\n",
        "  return collection\n",
        "\n",
        "#Ищет похожих пользователей в базе данных (эмбединги пользователей состоят из числовых признаков, и чем они ближе - тем ближе пользователи)\n",
        "def get_simularity_samples(collection,bad_rows_arr):\n",
        "\n",
        "\n",
        "  print('bad_rows_arr:',bad_rows_arr.shape)\n",
        "  results = collection.query(\n",
        "      query_embeddings=bad_rows_arr,\n",
        "      n_results=2,\n",
        "\n",
        "  )\n",
        "  return results\n"
      ],
      "id": "a1ZmIPF5UwU_"
    },
    {
      "cell_type": "code",
      "source": [
        "#заполняет пустые числовые и категориальные значения\n",
        "def preprocessing_min(df, cat_cols, num_month):\n",
        "  #заполнение пустых числовых значений\n",
        "  new_val_columns=smart_fill_na(df, num_month)\n",
        "  df.update(new_val_columns)\n",
        "\n",
        "  df[cat_cols] = df[cat_cols].fillna('')\n",
        "  #заполнение пустых категориальных значений\n",
        "  df[cat_cols] = df[cat_cols].astype(\"category\")\n",
        "  return df\n",
        "\n",
        "#заполнять нулями значения, которые мы не смогли заполнить на прошлом этапе\n",
        "def preprocessing_simularity_fill(input_df, df_db):\n",
        "  df=input_df\n",
        "  df_for_db=df_db\n",
        "\n",
        "  df = df.drop('id', axis=1)\n",
        "  #берем только числовые столбцы\n",
        "  df = df.select_dtypes(include = [\"int64\", \"float64\"])\n",
        "\n",
        "  df_for_db = df_for_db.drop('id', axis=1)\n",
        "  #берем только числовые столбцы\n",
        "  df_for_db = df_for_db.select_dtypes(include = [\"int64\", \"float64\"])\n",
        "\n",
        "  #Находим идеальные строчки (сточки без единого NaN)\n",
        "  df.replace(0, np.nan, inplace=True)\n",
        "  df_for_db.replace(0, np.nan, inplace=True)\n",
        "\n",
        "  df_for_fill=df\n",
        "  good_df=df_for_db.dropna(axis=0)\n",
        "\n",
        "\n",
        "  #берем заданное количество идеальных строчек\n",
        "  good_df=good_df.sample(40000)\n",
        "  good_df_arr=np.array(good_df.values)\n",
        "\n",
        "\n",
        "  #берем строки, в которых содержится NaN\n",
        "  bad_rows=df_for_fill[df_for_fill.isna().any(axis=1)]\n",
        "  bad_rows_arr=bad_rows.fillna(0)\n",
        "  index_list = bad_rows_arr.index.tolist()\n",
        "  bad_rows_arr = np.array(bad_rows_arr.values)\n",
        "\n",
        "  #для каждой строки с пропущеным значением находим схожую\n",
        "  collection = create_db(good_df_arr)\n",
        "  results=get_simularity_samples(collection,bad_rows_arr)\n",
        "  #жадно берем самую ближайшую строку из идеальных строк для каждой плохой строки\n",
        "  idx=np.array(results['ids'])[:, 0]\n",
        "  good_values_df = good_df.iloc[idx]\n",
        "\n",
        "\n",
        "  #Заменяем все NaN значения из плохих строк на значения (стоящие в том же столбце) из идеальных строк. И так для кажой плохой строки\n",
        "  bad_rows_idxs=bad_rows.index.tolist()\n",
        "  good_values_df=good_values_df.set_index(pd.Index(bad_rows_idxs))\n",
        "  good_values_df.replace(0, np.nan, inplace=True)\n",
        "  good_values_df=good_values_df.dropna(axis=0)\n",
        "  bad_rows=bad_rows.fillna(good_values_df)\n",
        "\n",
        "\n",
        "  #Встраивание обработанных строк в исходную таблицу\n",
        "  input_df.update(bad_rows)\n",
        "  return input_df"
      ],
      "metadata": {
        "id": "c4Xl4wka9_8O"
      },
      "id": "c4Xl4wka9_8O",
      "execution_count": null,
      "outputs": []
    },
    {
      "cell_type": "markdown",
      "metadata": {
        "id": "9kFyKVO2WWFq"
      },
      "source": [
        "###Фунции для генерации фичей"
      ],
      "id": "9kFyKVO2WWFq"
    },
    {
      "cell_type": "code",
      "execution_count": null,
      "metadata": {
        "id": "QPM5MpgmMihI"
      },
      "outputs": [],
      "source": [
        "#считает среднее значение по всем числовы характеристикам среди месяцев\n",
        "def meaning(df):\n",
        "  new_df = df.select_dtypes(include = [\"int64\", \"float64\"])\n",
        "  new_df['id']=df['id']\n",
        "  new_df = new_df.groupby(\"id\").mean(numeric_only = True)\n",
        "\n",
        "  #переименовка признаков\n",
        "  rename_dict={}\n",
        "  for name in new_df.columns:\n",
        "    rename_dict[name]=f'{name}_mean'\n",
        "  new_df.rename(columns=rename_dict, inplace=True)\n",
        "\n",
        "  return new_df\n",
        "\n",
        "#создание подпоследовательностей для каждого пользователя\n",
        "def do_sublist(df, windows):\n",
        "  # Получаем подсписки\n",
        "  sublists = [group.tolist() for group in df['start_cluster'].rolling(window=windows)]\n",
        "\n",
        "  # Убираем первые windows - 1 элементов, так как они содержат NaN и делаем срез шагом windows\n",
        "  sublists = sublists[windows-1:]\n",
        "  sublists = sublists[::windows]\n",
        "  return sublists\n",
        "\n",
        "#считает очень быстро, но не точно\n",
        "def light_check_change_clusters(df):\n",
        "  unique_counts = df.groupby('id')['start_cluster'].nunique()-1\n",
        "  unique_counts.name='change_clusters'\n",
        "  return unique_counts\n",
        "\n",
        "#подсчет сколько раз пользователь менял свой кластер\n",
        "def check_change_clusters(df, month_to_predict, light_varsion = True):\n",
        "  #Избавляемся от месяца для предсказаний и сохраняем в список столбец id\n",
        "  df = df.drop(df[df['date'] == month_to_predict].index)\n",
        "\n",
        "  if light_varsion : return light_check_change_clusters(df)\n",
        "\n",
        "  id_pole = list(df['id'])\n",
        "\n",
        "  #Вызов функции для разбития start_cluster на подсписки\n",
        "  sublists = do_sublist(df, 2)\n",
        "\n",
        "  #формируем словарь из кластеров продуктов и булевых значений чтобы понять менел ли пользователь свой продукт при переходе в новый месяц\n",
        "  dict_start_cluster = {'cluster':[k for group in sublists for k in group], 'change_clusters':[]}\n",
        "\n",
        "  #Заполняем словарь булевых значений\n",
        "  for group in sublists:\n",
        "    for i in range(0, len(group)-1):\n",
        "      if group[i] != group[i+1]:\n",
        "        dict_start_cluster['change_clusters'].append(True)\n",
        "      else:\n",
        "        dict_start_cluster['change_clusters'].append(False)\n",
        "    dict_start_cluster['change_clusters'].append(False)\n",
        "\n",
        "  #Формируем DataFrame из словаря\n",
        "  df = pd.DataFrame.from_dict(dict_start_cluster)\n",
        "  df['id'] = id_pole\n",
        "\n",
        "  df= df.groupby('id')['change_clusters'].sum()\n",
        "\n",
        "  #df= df['change_clusters'].apply(str).astype(\"category\")\n",
        "  return df\n",
        "\n",
        "\n",
        "def rename_columns(old_names, idx_month):\n",
        "  new_names={}\n",
        "  for old_name in old_names:\n",
        "    new_names[old_name]=old_name+\"_\"+str(idx_month)\n",
        "  return new_names\n",
        "\n",
        "#Объедениение всех месяцев в одну строку\n",
        "def concat_names(df, test_mode, num_month):\n",
        "\n",
        "  if test_mode:\n",
        "    start_month=num_month+1\n",
        "    drop_arr=['date']\n",
        "    return pd.concat([df[df['date']==f'month_{x}'].set_index('id').drop(drop_arr, axis=1).rename(rename_columns(df.columns, x-num_month), axis=1) for x in range(start_month, start_month+num_month)], axis=1)\n",
        "  else:\n",
        "    drop_arr=['date', 'end_cluster']\n",
        "    start_month=1\n",
        "    return pd.concat([df[df['date']==f'month_{x}'].set_index('id').drop(drop_arr, axis=1).rename(rename_columns(df.columns, x), axis=1) for x in range(start_month, start_month+num_month)], axis=1)\n",
        "\n",
        "  return new_df\n",
        "\n",
        "def drop_useless_columns(new_df, df, num_month):\n",
        "  new_df = new_df.drop([f'start_cluster_{num_month}'], axis=1)\n",
        "  return new_df\n",
        "\n",
        "#смотрит скрывает ли клиент статистику по определеннвм столбцам\n",
        "def check_hide_payment(df):\n",
        "  list_of_payment=['sum_of_paym_2m','sum_of_paym_6m','sum_of_paym_1y']\n",
        "  rename_dict={}\n",
        "  for x in list_of_payment:\n",
        "    rename_dict[x]=f'{x}_hide'\n",
        "  hide_payment = df[list_of_payment]==0\n",
        "  hide_payment = hide_payment.rename(rename_dict, axis=1)\n",
        "  #hide_payment['id']=df['id']\n",
        "  return hide_payment\n",
        "\n",
        "\n",
        "\n"
      ],
      "id": "QPM5MpgmMihI"
    },
    {
      "cell_type": "code",
      "source": [
        "#подсчет кол-ва операций A,B,C за месяца и их общее кол-во\n",
        "def sum_abc(df, list_operations):\n",
        "  dict_for_column={old:f'{old}_sum' for old in list_operations}\n",
        "  list_operations2 = list(dict_for_column.keys())\n",
        "  list_operations2.append('id')\n",
        "  df = df[list_operations2]\n",
        "\n",
        "\n",
        "  #Подсчет суммы количества операций за месяца\n",
        "  new_dff = df.groupby('id').sum().rename(dict_for_column, axis=1)\n",
        "\n",
        "  #Сумма abc\n",
        "  new_dff['sum_operations'] = new_dff[new_dff.columns].sum(axis=1)\n",
        "\n",
        "  return new_dff\n",
        "\n",
        "def sum_incoming_operations(df, list_incoming_operations):\n",
        "  #Создание словаря для смены названия колонок\n",
        "  dict_for_column={old:f'{old}_sum' for old in list_incoming_operations}\n",
        "  list_incoming_operations2 = list(dict_for_column.keys())\n",
        "  list_incoming_operations2.append('id')\n",
        "  df = df[list_incoming_operations2]\n",
        "\n",
        "  #Подсчет суммы количества входящих операций за 3 месяца\n",
        "  df = df.groupby('id').sum().rename(dict_for_column, axis=1)\n",
        "\n",
        "  #Подсчет суммы количества входящих операций D,E,F,G,H\n",
        "  df['sum_incoming_operations'] = df[df.columns].sum(axis=1)\n",
        "  return df\n",
        "\n",
        "def sum_outgoing_operations(df, list_outgoing_operations):\n",
        "  #Создание словаря для смены названия колонок\n",
        "  dict_for_column={old:f'{old}_sum' for old in list_outgoing_operations}\n",
        "  list_outgoing_operations2 = list(dict_for_column.keys())\n",
        "  list_outgoing_operations2.append('id')\n",
        "  df = df[list_outgoing_operations2]\n",
        "\n",
        "  #Подсчет суммы количества входящих операций за 3 месяца\n",
        "  df = df.groupby('id').sum().rename(dict_for_column, axis=1)\n",
        "\n",
        "  #Подсчет суммы количества исходящих операций D,E,F,G,H\n",
        "  df['sum_outgoing_operations'] = df[df.columns].sum(axis=1)\n",
        "  return df\n",
        "\n",
        "#Подсчет суммы сумм операций A,B,C\n",
        "def sum_operations_summi(df, list_operations_summi):\n",
        "  #Создание словаря для смены названия колонок\n",
        "  dict_for_column={old:f'{old}_sum' for old in ['sum_a_oper_1m', 'sum_b_oper_1m', 'sum_c_oper_1m']}\n",
        "  list_incoming_operations2 = list(dict_for_column.keys())\n",
        "  list_incoming_operations2.append('id')\n",
        "  df = df[list_incoming_operations2]\n",
        "\n",
        "  #Подсчет суммы суммы A,B,C операций за 3 месяца\n",
        "  dff = df.groupby('id').sum().rename(dict_for_column, axis=1)\n",
        "\n",
        "  #Подсчет суммы суммы A,B,C операций\n",
        "  dff['sum_operations_summi'] = dff[dff.columns].sum(axis=1)\n",
        "  return dff\n",
        "\n",
        "def ratio_of_summi_to_sum_operations(df):\n",
        "  sum_operations_summi = df['sum_operations_summi'].values\n",
        "  sum_operations = df['sum_operations'].values\n",
        "\n",
        "  ratios = np.where(sum_operations != 0, sum_operations_summi / sum_operations, 0)\n",
        "\n",
        "  return pd.DataFrame(ratios, columns=['ratio_of_summi_to_sum_operations'])\n",
        "\n",
        "#Отношение входящих к исходящим операциям\n",
        "def ratio_of_incoming_to_outgoin_operations(df):\n",
        "  return pd.DataFrame(df.apply(lambda row: row['sum_incoming_operations'] / row['sum_outgoing_operations'] if row['sum_outgoing_operations'] != 0 else 0, axis=1), columns=['ratio_incoming_to_outgoin_operations'])\n",
        "\n",
        "#Отношение sum_cred_e_oper_1m к sum_deb_h_oper_1m\n",
        "def ratio_cred_e_to_deb_h(df):\n",
        "  return pd.DataFrame(df.apply(lambda row: row['sum_cred_e_oper_1m_mean'] * row['sum_deb_h_oper_1m_1'], axis=1), columns=['sum_cred_e_oper_1m_mean * sum_deb_h_oper_1m_1'])\n",
        "\n",
        "#Отношение min_founderpres к max_founderpres\n",
        "def ratio_minfound_to_maxfound(df):\n",
        "  return pd.DataFrame(df.apply(lambda row: row['min_founderpres_1'] / row['max_founderpres_1'] if row['max_founderpres_1'] != 0 else 0, axis=1), columns=['min_founderpres_1 / max_founderpres_1'])"
      ],
      "metadata": {
        "id": "R3bDQ9n3VJNs"
      },
      "id": "R3bDQ9n3VJNs",
      "execution_count": null,
      "outputs": []
    },
    {
      "cell_type": "code",
      "execution_count": null,
      "metadata": {
        "id": "lkh70hMWSY51"
      },
      "outputs": [],
      "source": [
        "#выполнение различных операций над некоторыми столбцами\n",
        "def analise_operations(df, new_df, select_dict):\n",
        "\n",
        "  #подсчет кол-ва операций A,B,C за месяца и их общее кол-во\n",
        "  new_df = pd.concat((new_df, sum_abc(df, select_dict['list_operations'])), axis=1)\n",
        "\n",
        "  #подсчет исходящих кол-ва операций D,E,F,G,H за месяца и их общее кол-во\n",
        "  new_df = pd.concat((new_df, sum_incoming_operations(df, select_dict['list_incoming_operations'])), axis=1)\n",
        "\n",
        "  #подсчет входящих кол-ва операций D,E,F,G,H за месяца и их общее кол-во\n",
        "  new_df = pd.concat((new_df, sum_outgoing_operations(df, select_dict['list_outgoing_operations'])), axis=1)\n",
        "\n",
        "  #подсчет суммы сумм операций A,B,C за месяца и их общая сумма\n",
        "  new_df = pd.concat((new_df,sum_operations_summi(df, select_dict['list_operations_summi'])), axis=1)\n",
        "\n",
        "  #Подсчет отношения входящих к исходящим операциям\n",
        "  new_df = pd.concat((new_df, ratio_of_incoming_to_outgoin_operations(new_df)), axis=1)\n",
        "\n",
        "  #Подсчет отношения суммы A,B,C к кол-ву операции A,B,C\n",
        "  new_df = pd.concat((new_df, ratio_of_summi_to_sum_operations(new_df)), axis=1)\n",
        "\n",
        "  new_df = pd.concat((new_df, ratio_cred_e_to_deb_h(new_df)), axis=1)\n",
        "\n",
        "  new_df = pd.concat((new_df, ratio_minfound_to_maxfound(new_df)), axis=1)\n",
        "  return new_df"
      ],
      "id": "lkh70hMWSY51"
    },
    {
      "cell_type": "code",
      "source": [
        "#Отношение минимального к среднему остатку на счету\n",
        "def ratio_of_min_to_avg_operations(df):\n",
        "  return pd.DataFrame(df.apply(lambda row: row['balance_amt_min'] / row['balance_amt_avg'] if row['balance_amt_avg'] != 0 else 0, axis=1), columns=['ratio_of_min_to_avg_operations'])\n",
        "\n",
        "#Отношение максимального к среднему остатку на счету\n",
        "def ratio_of_max_to_avg_operations(df):\n",
        "  return pd.DataFrame(df.apply(lambda row: row['balance_amt_max'] / row['balance_amt_avg'] if row['balance_amt_avg'] != 0 else 0, axis=1), columns=['ratio_of_max_to_avg_operations'])\n",
        "\n"
      ],
      "metadata": {
        "id": "cTQy_7Oo6aE5"
      },
      "id": "cTQy_7Oo6aE5",
      "execution_count": null,
      "outputs": []
    },
    {
      "cell_type": "markdown",
      "metadata": {
        "id": "RIImmPwNuJLg"
      },
      "source": [
        "##pipeline добавления всех фитч"
      ],
      "id": "RIImmPwNuJLg"
    },
    {
      "cell_type": "markdown",
      "metadata": {
        "id": "w6gCljChWelR"
      },
      "source": [
        "pipeline добавление всех фитч"
      ],
      "id": "w6gCljChWelR"
    },
    {
      "cell_type": "code",
      "execution_count": null,
      "metadata": {
        "id": "b8lNKpLLWdva"
      },
      "outputs": [],
      "source": [
        "#фунция, объеденяющая остальные функции обработки и генерации фич\n",
        "def make_features(df, df_for_db, month_to_predict, cat_cols, select_dict, test_mode=False):\n",
        "  \"\"\"\n",
        "  df - таблица, для которой хотим сгенерировать фичи\n",
        "  df_for_db - таблица для создания векторной бд\n",
        "  month_to_predict - месяц, для которого будем предсказывать end_cluster\n",
        "  cat_cols - катигориальные столбцы\n",
        "  select_dict - словарь, содержащий в себе названия столбцов для специальной обработки\n",
        "  test_mode - если True, то обрабатывается тестовый датасет\n",
        "  \"\"\"\n",
        "\n",
        "  #кол-во месяцев для анализа\n",
        "  num_month=len(list(df['date'].unique()))\n",
        "\n",
        "  #заполнение пустых значений среднним значением по пользователю: считаем среднее значение по столбцам для каждой группы, где не смогли посчитать среднее значение заменяем на 0\n",
        "  df = preprocessing_min(df, cat_cols, num_month)\n",
        "  #df_for_db = preprocessing_min(df_for_db, cat_cols, num_month) - раскоментируйте, если хотите использовать бд для заполнения значений NaN значениям схожих пользователей (таких 2 строки)\n",
        "\n",
        "  #смотрит скрывает ли клиент статистику по определеннвм столбцам\n",
        "  df_1 = check_hide_payment(df)\n",
        "\n",
        "  #заполнение пустых  значений значениеми со схожих строк\n",
        "  #df = preprocessing_simularity_fill(df, df_for_db) - раскоментируйте, если хотите использовать бд для заполнения значений NaN значениям схожих пользователей (таких 2 строки)\n",
        "\n",
        "\n",
        "  df = pd.concat((df_1, df), axis=1)\n",
        "\n",
        "  #Объедениение всех месяцев в одну строку\n",
        "  new_df = concat_names(df,test_mode,num_month)\n",
        "\n",
        "  #считает среднее значение по всем числовы характеристикам среди 3 месяцев\n",
        "  new_df = pd.concat((new_df,meaning(df)), axis=1)\n",
        "\n",
        "  #подсчет сколько раз пользователь менял свой кластер\n",
        "  new_df = pd.concat((new_df,check_change_clusters(df, month_to_predict, light_varsion=True)), axis=1)\n",
        "\n",
        "  #подсчет кол-ва операций A,B,C за 3 месяца и их общее кол-во\n",
        "  new_df = pd.concat((new_df, sum_abc(df, select_dict['list_operations'])), axis=1)\n",
        "\n",
        "  #выбрасывание столбца start_cluster для последнего месеца\n",
        "  new_df = drop_useless_columns(new_df, df, num_month)\n",
        "\n",
        "\n",
        "\n",
        "  if not test_mode : new_df['end_cluster']=df[df['date']==month_to_predict][['end_cluster', 'id']].set_index('id')\n",
        "\n",
        "  #удаление лишних признаков\n",
        "  try:\n",
        "    new_df = new_df.drop(drop_list, axis=1)\n",
        "  except:\n",
        "    print('Столбцы для удаления не найдены в датафрейме. Обновите список drop_list')\n",
        "\n",
        "  return new_df"
      ],
      "id": "b8lNKpLLWdva"
    },
    {
      "cell_type": "code",
      "source": [
        "#выравнивание кол-ва экземпляров класса по определенному числу (дальше это нужно для генерации базы данных)\n",
        "def equalize_classes(df, classes, cut_value=20000):\n",
        "  counts_class = df['end_cluster'] .value_counts()\n",
        "\n",
        "  for class_ in classes:\n",
        "    if counts_class[class_]>cut_value:\n",
        "      all_samples_class=df[df['end_cluster']==class_]\n",
        "      df=df.drop(all_samples_class.index)\n",
        "      df=df.append(all_samples_class.sample(cut_value,replace=True),ignore_index=True)\n",
        "    else:\n",
        "      all_samples_class=df[df['end_cluster']==class_]\n",
        "      df=df.drop(all_samples_class.index)\n",
        "      df=df.append(all_samples_class.sample(cut_value,replace=True),ignore_index=True)\n",
        "  return df\n",
        "\n"
      ],
      "metadata": {
        "id": "TXtwGC3FZ5mJ"
      },
      "id": "TXtwGC3FZ5mJ",
      "execution_count": null,
      "outputs": []
    },
    {
      "cell_type": "markdown",
      "metadata": {
        "id": "mLuNW0nYWa9K"
      },
      "source": [
        "Обработка датасета"
      ],
      "id": "mLuNW0nYWa9K"
    },
    {
      "cell_type": "code",
      "source": [
        "classes=train_df['end_cluster'].unique()\n",
        "classes"
      ],
      "metadata": {
        "colab": {
          "base_uri": "https://localhost:8080/"
        },
        "id": "nIxQXR8EZtqs",
        "outputId": "4274b7ca-174e-43bc-dd6d-21efb6c97dd7"
      },
      "id": "nIxQXR8EZtqs",
      "execution_count": null,
      "outputs": [
        {
          "output_type": "execute_result",
          "data": {
            "text/plain": [
              "array(['{other}', '{α}', '{α, γ}', '{}', '{α, ε}', '{α, β}', '{α, η}',\n",
              "       '{α, μ}', '{α, ψ}', '{α, λ}', '{α, δ}', '{α, θ}', '{α, ε, θ}',\n",
              "       '{α, ε, ψ}', '{α, ε, η}', '{λ}', '{α, π}'], dtype=object)"
            ]
          },
          "metadata": {},
          "execution_count": 24
        }
      ]
    },
    {
      "cell_type": "code",
      "source": [
        "#напишите месяц для которого хотите предсказывать end_cluster\n",
        "month_to_predict='month_3'"
      ],
      "metadata": {
        "id": "2GTwoufusgvy"
      },
      "id": "2GTwoufusgvy",
      "execution_count": null,
      "outputs": []
    },
    {
      "cell_type": "code",
      "source": [
        "#Наше решение поддерживает неограниченное кол-во месяцев в истории (не только 3), в закоментированном коде вы можите удалить несколько месяцев из датафрейма (с добавление тоже будет работать)\n",
        "#month_to_drop='month_3'\n",
        "#train_df=train_df.drop(train_df[train_df['date']==month_to_drop].index)\n",
        "#month_to_predict='month_2'"
      ],
      "metadata": {
        "id": "4_OKsJHaoJ9P"
      },
      "id": "4_OKsJHaoJ9P",
      "execution_count": null,
      "outputs": []
    },
    {
      "cell_type": "code",
      "source": [
        "#Создает балансированную выборку из классов (служит для заполнения бд)\n",
        "df_db= equalize_classes(train_df,classes)"
      ],
      "metadata": {
        "colab": {
          "base_uri": "https://localhost:8080/"
        },
        "id": "0Jtyls0kaoTP",
        "outputId": "2632b4bb-8714-431b-87c1-6a291a64e04f"
      },
      "id": "0Jtyls0kaoTP",
      "execution_count": null,
      "outputs": [
        {
          "output_type": "stream",
          "name": "stderr",
          "text": [
            "<ipython-input-23-fddc977834d5>:9: FutureWarning: The frame.append method is deprecated and will be removed from pandas in a future version. Use pandas.concat instead.\n",
            "  df=df.append(all_samples_class.sample(cut_value,replace=True),ignore_index=True)\n",
            "<ipython-input-23-fddc977834d5>:13: FutureWarning: The frame.append method is deprecated and will be removed from pandas in a future version. Use pandas.concat instead.\n",
            "  df=df.append(all_samples_class.sample(cut_value,replace=True),ignore_index=True)\n"
          ]
        }
      ]
    },
    {
      "cell_type": "code",
      "execution_count": null,
      "metadata": {
        "id": "HgZO5oGBOPRr"
      },
      "outputs": [],
      "source": [
        "\n",
        "#заполнение фичами\n",
        "train_df = make_features(train_df.copy(),df_db.copy(), month_to_predict, cat_cols, select_dict)"
      ],
      "id": "HgZO5oGBOPRr"
    },
    {
      "cell_type": "markdown",
      "metadata": {
        "id": "_jnP604FFFZU"
      },
      "source": [
        "##Подготовка данных для обучения"
      ],
      "id": "_jnP604FFFZU"
    },
    {
      "cell_type": "markdown",
      "metadata": {
        "id": "DCN4DEaNqjr2"
      },
      "source": [
        "Разделение датасета"
      ],
      "id": "DCN4DEaNqjr2"
    },
    {
      "cell_type": "code",
      "execution_count": null,
      "metadata": {
        "id": "GoXLDzHq9ptG"
      },
      "outputs": [],
      "source": [
        "df_train, df_val = train_test_split(train_df,test_size=0.2,random_state=42)\n",
        "#del train_df"
      ],
      "id": "GoXLDzHq9ptG"
    },
    {
      "cell_type": "code",
      "execution_count": null,
      "metadata": {
        "id": "1qtfu_Nd9bdK"
      },
      "outputs": [],
      "source": [
        "plt.subplot(1, 2, 1)\n",
        "df_val['end_cluster'].value_counts().plot(kind='bar')\n",
        "plt.title(\"df_val histogramm\")\n",
        "plt.subplot(1, 2, 2)\n",
        "df_train['end_cluster'].value_counts().plot(kind='bar')\n",
        "plt.title(\"df_train histogramm\")\n",
        "plt.tight_layout()  # Этот метод позволяет избежать наложения элементов графиков\n",
        "plt.show()"
      ],
      "id": "1qtfu_Nd9bdK"
    },
    {
      "cell_type": "markdown",
      "metadata": {
        "id": "zci3Jaei1_3O"
      },
      "source": [
        "Веса классов"
      ],
      "id": "zci3Jaei1_3O"
    },
    {
      "cell_type": "code",
      "execution_count": null,
      "metadata": {
        "id": "dNp4RlkbJmqE"
      },
      "outputs": [],
      "source": [
        "cluster_weights = pd.read_excel(\"/content/drive/MyDrive/purple/cluster_weights.xlsx\").set_index(\"cluster\")\n",
        "weights_dict = cluster_weights[\"unnorm_weight\"].to_dict()"
      ],
      "id": "dNp4RlkbJmqE"
    },
    {
      "cell_type": "code",
      "execution_count": null,
      "metadata": {
        "id": "MF4jgiMZBYRG"
      },
      "outputs": [],
      "source": [
        "#функция для изменения весов классам\n",
        "def transform_weight(weights_dict, koef):\n",
        "  new_weights_dict={}\n",
        "  for key, val in weights_dict.items():\n",
        "    new_weights_dict[key]=val*koef\n",
        "  return new_weights_dict"
      ],
      "id": "MF4jgiMZBYRG"
    },
    {
      "cell_type": "code",
      "execution_count": null,
      "metadata": {
        "id": "yhJvKHOdBwbk"
      },
      "outputs": [],
      "source": [
        "weights_dict = transform_weight(weights_dict, 1)\n",
        "weights_dict"
      ],
      "id": "yhJvKHOdBwbk"
    },
    {
      "cell_type": "markdown",
      "metadata": {
        "id": "vkyL_GYgNMCL"
      },
      "source": [
        "\n",
        "\n",
        "\n",
        "\n",
        "# Работа с моделью"
      ],
      "id": "vkyL_GYgNMCL"
    },
    {
      "cell_type": "code",
      "execution_count": null,
      "metadata": {
        "id": "2tk9_HmEe4Oh"
      },
      "outputs": [],
      "source": [
        "df_train.info()"
      ],
      "id": "2tk9_HmEe4Oh"
    },
    {
      "cell_type": "markdown",
      "metadata": {
        "id": "c5yJ_UBA3Kaz"
      },
      "source": [
        "Подготовка данных"
      ],
      "id": "c5yJ_UBA3Kaz"
    },
    {
      "cell_type": "code",
      "execution_count": null,
      "metadata": {
        "id": "9cF9RWb36He2"
      },
      "outputs": [],
      "source": [
        "auxiliary_columns = [\"date\"]\n",
        "cat_features = list(df_train.select_dtypes(include=['category']).columns)"
      ],
      "id": "9cF9RWb36He2"
    },
    {
      "cell_type": "code",
      "source": [
        "#словари для перевод класса в число и наоборот\n",
        "n2c={}\n",
        "c2n={}\n",
        "for i, class_ in enumerate(classes):\n",
        "  n2c[i]=class_\n",
        "  c2n[class_]=i"
      ],
      "metadata": {
        "id": "ajYNDhSDDDsd"
      },
      "id": "ajYNDhSDDDsd",
      "execution_count": null,
      "outputs": []
    },
    {
      "cell_type": "code",
      "execution_count": null,
      "metadata": {
        "id": "19LMMX5q6H22"
      },
      "outputs": [],
      "source": [
        "def class_to_num(s):\n",
        "  s=[c2n[x] for x in s]\n",
        "  return s\n",
        "\n",
        "def preprocess_data_part(data_part, c2n_bool = False):\n",
        "    #data_part = data_part.drop(auxiliary_columns, axis=1)\n",
        "\n",
        "    X = data_part.drop(['end_cluster'], axis=1)\n",
        "    y = data_part['end_cluster']\n",
        "    if c2n_bool : y = class_to_num(y)\n",
        "    return X, y\n",
        "\n",
        "X_train, y_train = preprocess_data_part(df_train)\n",
        "X_val, y_val = preprocess_data_part(df_val)\n",
        "\n"
      ],
      "id": "19LMMX5q6H22"
    },
    {
      "cell_type": "code",
      "source": [
        "X_train.sample(3)"
      ],
      "metadata": {
        "id": "5Eip0xpXPrOh"
      },
      "id": "5Eip0xpXPrOh",
      "execution_count": null,
      "outputs": []
    },
    {
      "cell_type": "markdown",
      "metadata": {
        "id": "O2-qj_c_3DnT"
      },
      "source": [
        "Преобразование датасетов к catboost формату"
      ],
      "id": "O2-qj_c_3DnT"
    },
    {
      "cell_type": "code",
      "execution_count": null,
      "metadata": {
        "id": "ZDzb35UK58jf"
      },
      "outputs": [],
      "source": [
        "from catboost import Pool\n",
        "\n",
        "train_pool = Pool(\n",
        "    X_train, y_train,\n",
        "    cat_features=cat_features,\n",
        ")\n",
        "\n",
        "validation_pool = Pool(\n",
        "    X_val, y_val,\n",
        "    cat_features=cat_features,\n",
        ")\n"
      ],
      "id": "ZDzb35UK58jf"
    },
    {
      "cell_type": "markdown",
      "metadata": {
        "id": "YR9Yv4is3PZz"
      },
      "source": [
        "##Обучение"
      ],
      "id": "YR9Yv4is3PZz"
    },
    {
      "cell_type": "code",
      "execution_count": null,
      "metadata": {
        "id": "VpoUBJpW5Bhh"
      },
      "outputs": [],
      "source": [
        "from catboost import CatBoostClassifier\n",
        "\n",
        "def fit_model(train_pool, validation_pool, **kwargs):\n",
        "    model = CatBoostClassifier(\n",
        "        class_weights=weights_dict,#list_of_weights,\n",
        "        iterations=10000,\n",
        "        learning_rate=0.05,\n",
        "        loss_function=\"MultiClass\",\n",
        "        eval_metric='AUC',\n",
        "        task_type='GPU',\n",
        "        train_dir='train',\n",
        "        early_stopping_rounds=1000,\n",
        "        grow_policy = \"SymmetricTree\",#\"SymmetricTree\" #Depthwise #Lossguide\n",
        "        **kwargs\n",
        "    )\n",
        "\n",
        "    return model.fit(\n",
        "        train_pool,\n",
        "        eval_set=validation_pool,\n",
        "        verbose=500,\n",
        "    )\n",
        "\n",
        "model = fit_model(train_pool, validation_pool)"
      ],
      "id": "VpoUBJpW5Bhh"
    },
    {
      "cell_type": "code",
      "source": [
        "model.save_model('catboost_model.bin')"
      ],
      "metadata": {
        "id": "x8w9NUi6scFi"
      },
      "id": "x8w9NUi6scFi",
      "execution_count": null,
      "outputs": []
    },
    {
      "cell_type": "code",
      "execution_count": null,
      "metadata": {
        "id": "H6mEp9ISenSe"
      },
      "outputs": [],
      "source": [
        "model.predict(validation_pool, prediction_type=\"Probability\")"
      ],
      "id": "H6mEp9ISenSe"
    },
    {
      "cell_type": "markdown",
      "metadata": {
        "id": "JH2Q8VNE64kd"
      },
      "source": [
        "##Обработка ответа"
      ],
      "id": "JH2Q8VNE64kd"
    },
    {
      "cell_type": "code",
      "execution_count": null,
      "metadata": {
        "id": "1i_n_8Z4j6uJ"
      },
      "outputs": [],
      "source": [
        "y_pred = model.predict(validation_pool)"
      ],
      "id": "1i_n_8Z4j6uJ"
    },
    {
      "cell_type": "code",
      "execution_count": null,
      "metadata": {
        "id": "x-nLWAeNvsWN"
      },
      "outputs": [],
      "source": [
        "del train_df\n",
        "del y_train, train_pool, validation_pool, X_train\n",
        "del df_train, df_val"
      ],
      "id": "x-nLWAeNvsWN"
    },
    {
      "cell_type": "markdown",
      "metadata": {
        "id": "1PHrdyuAAAqn"
      },
      "source": [
        "###Confusion matrix"
      ],
      "id": "1PHrdyuAAAqn"
    },
    {
      "cell_type": "code",
      "execution_count": null,
      "metadata": {
        "id": "AUIg6XGCJtsF"
      },
      "outputs": [],
      "source": [
        "y_val"
      ],
      "id": "AUIg6XGCJtsF"
    },
    {
      "cell_type": "code",
      "execution_count": null,
      "metadata": {
        "id": "8Xv73RmjOjCB"
      },
      "outputs": [],
      "source": [
        "#подсчет количества различных классов, находящихся в y_val\n",
        "gg=pd.DataFrame(y_val).value_counts()\n",
        "gg=pd.DataFrame(gg).transpose().to_dict()\n",
        "count_dict={}\n",
        "for c in classes:\n",
        "  count_dict[c]=gg[(c,)][0]\n",
        "\n",
        "counts = np.array(list(count_dict.values()))"
      ],
      "id": "8Xv73RmjOjCB"
    },
    {
      "cell_type": "code",
      "execution_count": null,
      "metadata": {
        "id": "WuOqoksREmNf"
      },
      "outputs": [],
      "source": [
        "counts"
      ],
      "id": "WuOqoksREmNf"
    },
    {
      "cell_type": "code",
      "execution_count": null,
      "metadata": {
        "id": "Vq4EKAni646p"
      },
      "outputs": [],
      "source": [
        "#вычисление матрицы путанницы\n",
        "cm = confusion_matrix(y_val, y_pred, labels=classes)\n"
      ],
      "id": "Vq4EKAni646p"
    },
    {
      "cell_type": "code",
      "execution_count": null,
      "metadata": {
        "id": "3givTKHrWeIW"
      },
      "outputs": [],
      "source": [
        "plt.figure(figsize=(12, 10))\n",
        "sns.heatmap(cm, annot=True, fmt=\"d\", cmap=\"Blues\", xticklabels=classes, yticklabels=classes)\n",
        "plt.xlabel(\"Predicted\")\n",
        "plt.ylabel(\"True\")\n",
        "plt.title(\"Confusion Matrix\")\n",
        "plt.show()"
      ],
      "id": "3givTKHrWeIW"
    },
    {
      "cell_type": "code",
      "execution_count": null,
      "metadata": {
        "id": "EdALxsZ5WQHO"
      },
      "outputs": [],
      "source": [
        "#отобразим матрицу путанницы в процентах (100% распыляются по строкам)\n",
        "procent_cm = cm / counts[:, np.newaxis]\n",
        "plt.figure(figsize=(12, 10))\n",
        "sns.heatmap(np.round(procent_cm, decimals=2), annot=True, cmap=\"Blues\", xticklabels=classes, yticklabels=classes)\n",
        "plt.xlabel(\"Predicted\")\n",
        "plt.ylabel(\"True\")\n",
        "plt.title(\"Procented Confusion Matrix\")\n",
        "plt.show()"
      ],
      "id": "EdALxsZ5WQHO"
    },
    {
      "cell_type": "markdown",
      "metadata": {
        "id": "BYRVKqvv7Cbx"
      },
      "source": [
        "###Подсчет важности фичей"
      ],
      "id": "BYRVKqvv7Cbx"
    },
    {
      "cell_type": "code",
      "execution_count": null,
      "metadata": {
        "id": "m-lJ56mT7AwZ"
      },
      "outputs": [],
      "source": [
        "feature_importances = model.get_feature_importance(prettified=True)\n",
        "print(feature_importances)"
      ],
      "id": "m-lJ56mT7AwZ"
    },
    {
      "cell_type": "code",
      "execution_count": null,
      "metadata": {
        "id": "Zr9M0hFzAQ-_"
      },
      "outputs": [],
      "source": [
        "len(feature_importances)"
      ],
      "id": "Zr9M0hFzAQ-_"
    },
    {
      "cell_type": "code",
      "execution_count": null,
      "metadata": {
        "id": "njnw6TMAPTHX"
      },
      "outputs": [],
      "source": [
        "list(feature_importances['Importances'][320:])"
      ],
      "id": "njnw6TMAPTHX"
    },
    {
      "cell_type": "code",
      "execution_count": null,
      "metadata": {
        "id": "ggfSUZoj_bSg"
      },
      "outputs": [],
      "source": [
        "list(feature_importances['Feature Id'][320:])"
      ],
      "id": "ggfSUZoj_bSg"
    },
    {
      "cell_type": "code",
      "execution_count": null,
      "metadata": {
        "id": "eYscCK-WgeKS"
      },
      "outputs": [],
      "source": [
        "importances = model.get_feature_importance(type='PredictionValuesChange')#[:20]\n",
        "feature_importances = pd.Series(importances, index=X_val.columns).sort_values().iloc[len(X_val.columns)-20:]"
      ],
      "id": "eYscCK-WgeKS"
    },
    {
      "cell_type": "code",
      "execution_count": null,
      "metadata": {
        "id": "dVs_pWzwf-WD"
      },
      "outputs": [],
      "source": [
        "plt.figure(figsize=(10, 10))\n",
        "plt.barh(feature_importances.index, feature_importances.values)\n",
        "plt.title('CatBoost Feature Importance')\n",
        "plt.xlabel('Importance')\n",
        "plt.ylabel('Features')"
      ],
      "id": "dVs_pWzwf-WD"
    },
    {
      "cell_type": "markdown",
      "metadata": {
        "id": "XFune928uENx"
      },
      "source": [
        "#Анализ важности фичей"
      ],
      "id": "XFune928uENx"
    },
    {
      "cell_type": "markdown",
      "source": [
        "Для улучшения работы модели и более глубокого понимания исходных данных мы анализируем важность наших фичей, используя библиотеку shap, то есть расчитываем вклад каждой функции в итоговое предсказание модели. Для анализа используются графики force plot (график силы) и summary plot(итоговый график).\n",
        "\n",
        "На графике силы красные полосы показывают, что их функции увеличивают значение до более высоких значений. Синие полосы показывают, что их особенности приводят к снижению ценности. Чем шире полоса, тем выше (по абсолютному значению) вклад. Сумма этих вкладов увеличивает значение целевой переменной до конечного, прогнозируемого значения.\n",
        "\n",
        "На итоговом графике каждая точка каждой строки является записью тестового набора данных. Функции отсортированы от наиболее важных к менее важным. Цветом обозначены значения соответствующего признака: высокие – красным , низкие – синим."
      ],
      "metadata": {
        "id": "pp6QR8h4wcu3"
      },
      "id": "pp6QR8h4wcu3"
    },
    {
      "cell_type": "code",
      "execution_count": null,
      "metadata": {
        "id": "iIWoRGf_uXwZ"
      },
      "outputs": [],
      "source": [
        "classes"
      ],
      "id": "iIWoRGf_uXwZ"
    },
    {
      "cell_type": "markdown",
      "metadata": {
        "id": "5KMOnpZtwJXc"
      },
      "source": [
        "**Выбор класса для анализа**"
      ],
      "id": "5KMOnpZtwJXc"
    },
    {
      "cell_type": "code",
      "execution_count": null,
      "metadata": {
        "id": "U2O6N77NvcQQ"
      },
      "outputs": [],
      "source": [
        "mini_coef=10"
      ],
      "id": "U2O6N77NvcQQ"
    },
    {
      "cell_type": "code",
      "execution_count": null,
      "metadata": {
        "id": "ddzQ4c4Mvn9m"
      },
      "outputs": [],
      "source": [
        "X_val=X_val[:len(X_val)//mini_coef]\n",
        "y_val=y_val[:len(y_val)//mini_coef]"
      ],
      "id": "ddzQ4c4Mvn9m"
    },
    {
      "cell_type": "code",
      "execution_count": null,
      "metadata": {
        "id": "arZ5VOmmplmE"
      },
      "outputs": [],
      "source": [
        "name_of_class = '{α, ε, θ}' #@param ['{α}', '{}', '{α, η}', '{α, β}', '{other}', '{α, γ}', '{α, θ}','{α, δ}', '{α, μ}', '{α, ε}', '{α, ε, θ}', '{α, ε, η}', '{α, ψ}','{α, ε, ψ}', '{λ}', '{α, λ}', '{α, π}']\n",
        "\n",
        "#выборк на которой будем смотреть важность\n",
        "pool = Pool(\n",
        "    X_val, y_val, cat_features=cat_features\n",
        ")\n",
        "\n",
        "#расчет важности фичей\n",
        "num_class=c2n[name_of_class]\n",
        "explainer = shap.TreeExplainer(model)\n",
        "shap_values=explainer.shap_values(pool)[:, :, num_class]\n",
        "print(shap_values.shape)"
      ],
      "id": "arZ5VOmmplmE"
    },
    {
      "cell_type": "markdown",
      "metadata": {
        "id": "hTB2I8wCyVhm"
      },
      "source": [
        "##force plot"
      ],
      "id": "hTB2I8wCyVhm"
    },
    {
      "cell_type": "markdown",
      "metadata": {
        "id": "6YN5a_OHyPLP"
      },
      "source": [
        "Визуализация, называемая силовой график (force plot), которая помогает понять, как входные признаки влияют на предсказания модели.\n",
        "\n",
        "Силовой график SHAP состоит из графика, в котором каждая стрелка представляет влияние одного конкретного признака на предсказание модели. В каждой стрелке отображается величина вклада этого признака в изменение предсказания от базового уровня (чаще всего среднего значения предсказания). Таким образом, силовой график помогает визуализировать влияние каждого признака на изменение предсказаний модели относительно базового уров"
      ],
      "id": "6YN5a_OHyPLP"
    },
    {
      "cell_type": "code",
      "execution_count": null,
      "metadata": {
        "id": "OBb6i8s-n6N_"
      },
      "outputs": [],
      "source": [
        "#пользователь для проверки\n",
        "user=3\n",
        "\n",
        "shap.initjs()\n",
        "shap.force_plot(explainer.expected_value[num_class], shap_values[user,:], X_val.iloc[user,:])"
      ],
      "id": "OBb6i8s-n6N_"
    },
    {
      "cell_type": "markdown",
      "metadata": {
        "id": "7RBT-rsJyfl2"
      },
      "source": [
        "##force_plot для среза людей"
      ],
      "id": "7RBT-rsJyfl2"
    },
    {
      "cell_type": "markdown",
      "metadata": {
        "id": "-TA2YrBfyrVd"
      },
      "source": [
        "По оси X у нас расположена шкала вклада значения фичи, по оси Y — количество объектов."
      ],
      "id": "-TA2YrBfyrVd"
    },
    {
      "cell_type": "markdown",
      "metadata": {
        "id": "bweCRQYvxPRi"
      },
      "source": [
        "**Количество пользователей для проверки**"
      ],
      "id": "bweCRQYvxPRi"
    },
    {
      "cell_type": "code",
      "execution_count": null,
      "metadata": {
        "id": "S6MEhJ5KtbRD"
      },
      "outputs": [],
      "source": [
        "count_users = 253 #@param {type:\"slider\", min:0, max:40000, step:1}\n",
        "\n",
        "#срез пользователей для проверки\n",
        "shap.initjs()\n",
        "X_small = X_val.iloc[:count_users]\n",
        "shap_small = shap_values[:count_users]\n",
        "shap.force_plot(explainer.expected_value[num_class], shap_small, X_small)"
      ],
      "id": "S6MEhJ5KtbRD"
    },
    {
      "cell_type": "markdown",
      "metadata": {
        "id": "o7496A4UzIet"
      },
      "source": [
        "##summary_plot"
      ],
      "id": "o7496A4UzIet"
    },
    {
      "cell_type": "markdown",
      "metadata": {
        "id": "dogsUVhUzG9X"
      },
      "source": [
        "\n",
        "shap.summary_plot в библиотеке SHAP предназначен для визуализации обобщенного вклада признаков в модель машинного обучения. Этот график предоставляет общий обзор важности каждого признака в датасете.\n",
        "\n",
        "Визуализация включает в себя вертикальные полосы, представляющие различные признаки, а горизонтальные полосы представляют вклад каждого признака для каждого наблюдения. Цвет каждой полосы указывает на значение признака (например, красный для более высоких значений, синий для более низких).\n",
        "\n",
        "В shap.summary_plot, серые полосы представляют базовое значение (expected value) модели. Базовое значение представляет собой среднюю ожидаемую предсказанную целевую переменную на всем наборе данных. Такие полосы влияния (SHAP values) отображают вклад каждого признака в отклонение предсказания от базового уровня.\n",
        "\n",
        "-------------------------\n",
        "\n",
        "В случае классификации, каждая серая полоса представляет собой базовое значение для каждого класса. Таким образом, они отображают средние предсказания для каждого класса на всем наборе данных.\n",
        "\n",
        "Если полоса признака пересекает серую полосу, это указывает на отклонение от базового значения для данного признака. Если полоса идет вправо от серой полосы, это значит, что значение признака положительно влияет на предсказание, а если влево — отрицательно.\n",
        "\n",
        "Важно отметить, что ширина полосы также важна. Чем шире полоса, тем больше разброс значений признака в данных. Таким образом, ширина полосы также предоставляет информацию о дисперсии значений признака в выборке."
      ],
      "id": "dogsUVhUzG9X"
    },
    {
      "cell_type": "code",
      "execution_count": null,
      "metadata": {
        "id": "zK4uu7cFvLg2"
      },
      "outputs": [],
      "source": [
        "X_val"
      ],
      "id": "zK4uu7cFvLg2"
    },
    {
      "cell_type": "code",
      "execution_count": null,
      "metadata": {
        "id": "YSOpufqtxcBY"
      },
      "outputs": [],
      "source": [
        "shap.summary_plot(shap_values, X_val)"
      ],
      "id": "YSOpufqtxcBY"
    },
    {
      "cell_type": "markdown",
      "metadata": {
        "id": "cfLFjyYHNTE4"
      },
      "source": [
        "# Прогноз на тестовой выборке"
      ],
      "id": "cfLFjyYHNTE4"
    },
    {
      "cell_type": "code",
      "execution_count": null,
      "metadata": {
        "id": "y3MSypdHxPai"
      },
      "outputs": [],
      "source": [
        "test_df = pd.read_parquet(\"/content/drive/MyDrive/purple/test_data.pqt\")\n",
        "#train_df = pd.read_parquet(\"/content/drive/MyDrive/purple/train_data.pqt\")\n",
        "\n",
        "\n",
        "test_df = fill_spaces(test_df)"
      ],
      "id": "y3MSypdHxPai"
    },
    {
      "cell_type": "code",
      "execution_count": null,
      "metadata": {
        "id": "au-oQ1N6x4Io"
      },
      "outputs": [],
      "source": [
        "month_to_predict_test='month_6'\n",
        "test_df = make_features(test_df.copy(),df_db.copy(), month_to_predict_test, cat_cols,select_dict, test_mode=True)"
      ],
      "id": "au-oQ1N6x4Io"
    },
    {
      "cell_type": "code",
      "execution_count": null,
      "metadata": {
        "id": "WYOZCWWSfBWb"
      },
      "outputs": [],
      "source": [
        "test_df.sample(3)"
      ],
      "id": "WYOZCWWSfBWb"
    },
    {
      "cell_type": "markdown",
      "metadata": {
        "id": "1qVgADkI1MnS"
      },
      "source": [
        "Делаем прогноз"
      ],
      "id": "1qVgADkI1MnS"
    },
    {
      "cell_type": "code",
      "execution_count": null,
      "metadata": {
        "id": "19UEoMavq5GC"
      },
      "outputs": [],
      "source": [
        "test_pred = model.predict(test_df, prediction_type=\"Probability\")\n",
        "test_pred = pd.DataFrame(test_pred, columns=model.classes_)\n",
        "sorted_classes = sorted(test_pred.columns.to_list())\n",
        "test_pred_proba_df = test_pred[sorted_classes]"
      ],
      "id": "19UEoMavq5GC"
    },
    {
      "cell_type": "code",
      "execution_count": null,
      "metadata": {
        "id": "xUa5e3c4UcSe"
      },
      "outputs": [],
      "source": [
        "test_pred_proba_df.shape"
      ],
      "id": "xUa5e3c4UcSe"
    },
    {
      "cell_type": "code",
      "execution_count": null,
      "metadata": {
        "id": "QqDRm_FB1oWF"
      },
      "outputs": [],
      "source": [
        "test_pred_proba_df.head(2)"
      ],
      "id": "QqDRm_FB1oWF"
    },
    {
      "cell_type": "code",
      "execution_count": null,
      "metadata": {
        "id": "efc8b64a-86db-4564-af7b-be649612df82"
      },
      "outputs": [],
      "source": [
        "sample_submission_df = pd.read_csv(\"/content/drive/MyDrive/purple/sample_submission.csv\")"
      ],
      "id": "efc8b64a-86db-4564-af7b-be649612df82"
    },
    {
      "cell_type": "code",
      "execution_count": null,
      "metadata": {
        "id": "a6fbe390-7b56-45a9-8e5b-ab43f9bb7dfc"
      },
      "outputs": [],
      "source": [
        "sample_submission_df[sorted_classes] = test_pred_proba_df\n",
        "sample_submission_df.to_csv(\"baseline_submission.csv\", index=False)"
      ],
      "id": "a6fbe390-7b56-45a9-8e5b-ab43f9bb7dfc"
    }
  ],
  "metadata": {
    "colab": {
      "provenance": [],
      "gpuType": "T4"
    },
    "kernelspec": {
      "display_name": "Python 3",
      "name": "python3"
    },
    "language_info": {
      "codemirror_mode": {
        "name": "ipython",
        "version": 3
      },
      "file_extension": ".py",
      "mimetype": "text/x-python",
      "name": "python",
      "nbconvert_exporter": "python",
      "pygments_lexer": "ipython3",
      "version": "3.7.12"
    },
    "accelerator": "GPU"
  },
  "nbformat": 4,
  "nbformat_minor": 5
}
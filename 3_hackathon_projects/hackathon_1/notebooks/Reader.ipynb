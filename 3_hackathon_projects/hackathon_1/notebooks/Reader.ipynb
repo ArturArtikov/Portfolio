{
 "cells": [
  {
   "cell_type": "code",
   "execution_count": 2,
   "metadata": {},
   "outputs": [
    {
     "name": "stdout",
     "output_type": "stream",
     "text": [
      "Список файлов:\n",
      "\n",
      "AHMAT SULEIMENOV.docx\n",
      "Akhundov Damat.pdf\n",
      "Alan Abdirasul.pdf\n",
      "Alan Iusupov .pdf\n",
      "ALAN TAZHIMBETOV.docx\n",
      "Alan Ulubayev.docx\n",
      "Albert SERIAKOV.pdf\n",
      "Albina Batmanova.pdf\n",
      "Albina Roshchupkina.docx\n",
      "Aldar Myagky.pdf\n",
      "Aldar Ulubayev.pdf\n",
      "Alena Guseinova.pdf\n",
      "Alex Boreiko.docx\n",
      "Alex Konev.docx\n",
      "Alex Morozko.pdf\n",
      "Alexandr Burakov.pdf\n",
      "Alexandr Petrov.docx\n",
      "Alexey Melnichnikov.pdf\n",
      "Alina   MANAFLI.pdf\n",
      "Alina Borovik.docx\n",
      "Alina Synhaievska.docx\n",
      "ALLA VERNIGOR.pdf\n",
      "ALMAZ ManSUrOV.docx\n",
      "Aman Yersultan.pdf\n",
      "ANDREW MIRONOV.pdf\n",
      "Andrey Korovkin.docx\n",
      "Andrey Maximov.pdf\n",
      "Andrey Pichugin.pdf\n",
      "ANDREY PODKIDYSHEV.pdf\n",
      "Anna Shemerey.pdf\n",
      "Ann_Mokhan.docx\n",
      "Anton Garkavy.pdf\n",
      "Anton Nesterenko.pdf\n",
      "Anzola AMANBEK.pdf\n",
      "Arseniy Konev.pdf\n",
      "Artur Nagimov.pdf\n",
      "Artur Yapparov.docx\n",
      "Artyom Orlov.pdf\n",
      "Artyom Poluhin.pdf\n",
      "ASLAN TOLEUBAY.docx\n",
      "ASLANBEK ASADOV.docx\n",
      "Azamat Tsiamruk.docx\n",
      "Baidar NU R I E V.docx\n",
      "BALAMANOVA ASSEL.pdf\n",
      "BALAMANOVA KATE.docx\n",
      "BOGDANOV NIKOLA.pdf\n",
      "Budniak Ivan.pdf\n",
      "BURAKOV FEDOR.docx\n",
      "CHE RNY AVS K I Y Artyom.pdf\n",
      "DANIIL BULYGA.pdf\n",
      "Danil Kikvadze.pdf\n",
      "Danil Vibly.pdf\n",
      "Danila Doroshenko.pdf\n",
      "Danila Shiga.pdf\n",
      "Dasha Yavorska.pdf\n",
      "David Samoylov.pdf\n",
      "Denis Chernov.pdf\n",
      "DENIS GRIGOREV.pdf\n",
      "Denis Korenyako.pdf\n",
      "DENIS NEBESNOV.pdf\n",
      "Denis Rakitnykh.pdf\n",
      "Dima Samoylov.docx\n",
      "Dima SIDORENKO.pdf\n",
      "DMIRTII TKACHENKO.pdf\n",
      "Dmitrii DUBCHAK.docx\n",
      "Dmitriy Korenyako.docx\n",
      "Dmitry Dumnov.docx\n",
      "Eduard SCETININ.docx\n",
      "Eduard SCETININ.pdf\n",
      "EGOR BALIUK.pdf\n",
      "Egor Kormulev.docx\n",
      "Egor Pianykh.pdf\n",
      "EGOR SADIBEKOV .pdf\n",
      "Eldar SHAKIRBEKOV.docx\n",
      "Elena Akterskaia.pdf\n",
      "Elena Araslanova.docx\n",
      "Elena Gale.pdf\n",
      "ELIZAVETA FEDOSEEVA.docx\n",
      "Eshi Juraev.pdf\n",
      "Evgenii Kalinin.pdf\n",
      "Fedor Elianov.docx\n",
      "Fedor Shulyak.pdf\n",
      "Firyan Artem.docx\n",
      "Gregoriy Alexeev.pdf\n",
      "Idar Kashaev.docx\n",
      "Igor Rodin.pdf\n",
      "ILDAR AIBEKOV.docx\n",
      "Ildar Noskov.docx\n",
      "Iliya Stepanov.pdf\n",
      "Innokentiy ZORYCH.docx\n",
      "Ivan CHUDINOV.pdf\n",
      "Ivan Iarish.docx\n",
      "IVAN IVANOV.docx\n",
      "Ivan Kalashnikov.docx\n",
      "Ivan Kudaibergenov.docx\n",
      "Ivan Litmanovich.docx\n",
      "IVAN LOPTEV.pdf\n",
      "Ivan Melnichnikov.docx\n",
      "Ivan Petrov.pdf\n",
      "Ivan Sandalov.docx\n",
      "Ivan Sosnov.docx\n",
      "Ivan Ulyanov.pdf\n",
      "IVAN VOVCHUK.docx\n",
      "IVASHCHENKO VIKTOR.docx\n",
      "JOHN SMITH.pdf\n",
      "Kairat KHISAMIEV.pdf\n",
      "Karen Kekov.pdf\n",
      "KHALIMBETOV ASLAN.pdf\n",
      "Kirill Petrov.docx\n",
      "Kirill Piaternev.pdf\n",
      "Kirill Radezky.docx\n",
      "Kirill Valiavskyi.docx\n",
      "Konstantin Alex.docx\n",
      "Konstantin Grachev.docx\n",
      "KRAVTSOVA ELENA.docx\n",
      "Leonid Brovtsev.docx\n",
      "Leonid Kolesnikov.pdf\n",
      "Leonid Sheremeev.docx\n",
      "Lilya SUCHKOVA.pdf\n",
      "Liza MOKHAN.pdf\n",
      "Lysikov Nikita.docx\n",
      "Malik Raiskhanov .pdf\n",
      "Marat Dolya.pdf\n",
      "Marat Drozdov.docx\n",
      "Marat Kydyrsha.docx\n",
      "Marat Nuriev.pdf\n",
      "MARAT TAZHIMBETOV.docx\n",
      "Marat Tereshkov.pdf\n",
      "MARGO SAGITOVA.pdf\n",
      "Mark Iarish.docx\n",
      "Mark Orlov.docx\n",
      "Mark Pavlenko.pdf\n",
      "Mark Ten.docx\n",
      "Matvey Sheremeev.docx\n",
      "Mikhail Mukhamatulin.pdf\n",
      "Miron MEDVEDEV.pdf\n",
      "Mitya Brezovsky.pdf\n",
      "Nick Koshlan.docx\n",
      "Nick Vinogradov.docx\n",
      "Nickita Valchkou.pdf\n",
      "Nickolay Wolozin.docx\n",
      "Nikita Ivanov.pdf\n",
      "Nikolas Evsiukov.pdf\n",
      "Nikolay Rakitnykh.docx\n",
      "Nina Pugacheva.docx\n",
      "Oleg Buhai.docx\n",
      "Oleg Burdeniuc.docx\n",
      "Oleg FOROFONTOV.docx\n",
      "Oleg Protsenko.pdf\n",
      "Oleg Ushakov.docx\n",
      "Pavel Diakov.docx\n",
      "Pavel Egorov .pdf\n",
      "Pavel Fedotov.docx\n",
      "Pavel Korniltsev.pdf\n",
      "Pavel Orlov.docx\n",
      "Pavel Paveluc.pdf\n",
      "Pavel Proskurnikov.docx\n",
      "Pavel Prysiazhniuk.pdf\n",
      "Petr  Sudakov.pdf\n",
      "Petr Aleksandrov.docx\n",
      "Petr Ivanov.docx\n",
      "Polina Gorbunova.pdf\n",
      "Rafael Alaskarzada.docx\n",
      "Regina DASHKEVICH.docx\n",
      "Renat Ivanov.pdf\n",
      "Ron Magauin.docx\n",
      "Ross  Magauin.docx\n",
      "Safronov Leonid.pdf\n",
      "Saveliiy Dovidenko.docx\n",
      "SEMEN BOKUN.pdf\n",
      "Semen Ivanov.pdf\n",
      "Serj Mkrtchyan.pdf\n",
      "Sharif Sharapov.docx\n",
      "Stanislav Gavrilov.pdf\n",
      "Stas Nasonov.docx\n",
      "Stas Sergeev.docx\n",
      "STEPAN GOLDOBIN.pdf\n",
      "Timofey Makarov.docx\n",
      "Vadim Bozhenko.pdf\n",
      "Vadim Brezovsky.pdf\n",
      "Vadim Sosnov.docx\n",
      "Vadim Traigel.docx\n",
      "Valera Yeliesichev.docx\n",
      "Vera Pugacheva.docx\n",
      "Victor Babenko.docx\n",
      "Victor Ivaniushenko.pdf\n",
      "Viktor Gavrilov.docx\n",
      "Viktor Pavlenko.pdf\n",
      "Viktor Portianka.docx\n",
      "Viktor Shupenka.pdf\n",
      "VLAD KUTUZOV.docx\n",
      "VLADIMIR MATVEEV.pdf\n",
      "Vladimir Slutskii.docx\n",
      "Vladislav Zakharchenko.docx\n",
      "Vladyslav Tyshchenko Data Analyst v2.pdf\n",
      "Vladyslav Tyshchenko.docx\n",
      "Vsevolod Vinogradov.pdf\n",
      "Yan Doe.pdf\n",
      "Yuriy SHAKIRBEKOV.docx\n",
      "ZAKHAR LOPTEV.docx\n",
      "АЛЕКСЕЙ КУРБАНОВ.pdf\n",
      "Алексей Тугаенко.docx\n",
      "Алифанова  Алина.docx\n",
      "Андрей Васильев.docx\n",
      "Бармин Антон.docx\n",
      "Валаев Георгий.docx\n",
      "Владимир Никонов.docx\n",
      "Иванова Валерия.docx\n",
      "Кириленков Матвей.docx\n",
      "Малиновский Аркадий.pdf\n",
      "Михалько Людмила.docx\n",
      "Нурутдинов Александр.doc\n",
      "Резниченко Алексей.pdf\n",
      "Худорожков Алексей.docx\n"
     ]
    }
   ],
   "source": [
    "import os\n",
    "import pandas as pd\n",
    "from PyPDF2 import PdfReader\n",
    " \n",
    "# путь к директории\n",
    "directory = \"./data\"\n",
    "# список файлов\n",
    "files = os.listdir(directory)\n",
    "# выводим список файлов\n",
    "print('Список файлов:\\n')\n",
    "print(*files, sep='\\n')"
   ]
  },
  {
   "cell_type": "code",
   "execution_count": 3,
   "metadata": {},
   "outputs": [
    {
     "name": "stdout",
     "output_type": "stream",
     "text": [
      "Число всех файлов резюме - 214, число .pdf файлов - 106, число .docx файлов - 107, число других файлов - 1\n",
      "Все файлы резюме считаны\n"
     ]
    }
   ],
   "source": [
    "pdf_files = list()\n",
    "docx_files = list()\n",
    "another_files = list()\n",
    "\n",
    "for file in files:\n",
    "    if file.endswith('.pdf'):\n",
    "        pdf_files.append(file)\n",
    "    elif file.endswith('.docx'):\n",
    "        docx_files.append(file)\n",
    "    else:\n",
    "        another_files.append(file)\n",
    "\n",
    "print('Число всех файлов резюме - {}, число .pdf файлов - {}, число .docx файлов - {}, число других файлов - {}'.format(len(files), \\\n",
    "        len(pdf_files), len(docx_files), len(another_files)))\n",
    "\n",
    "if len(pdf_files)+len(docx_files)+len(another_files) == len(files):\n",
    "    print('Все файлы резюме считаны')\n",
    "else:\n",
    "    print('Часть файлов не считаны')"
   ]
  },
  {
   "cell_type": "code",
   "execution_count": 4,
   "metadata": {},
   "outputs": [],
   "source": [
    "# работаем с pdf - файлами\n",
    "\n",
    "text_pdf_resumes = dict()\n",
    "text = str()\n",
    "\n",
    "for file in pdf_files:\n",
    "    path_to_resume = 'data/'+file\n",
    "    reader = PdfReader(path_to_resume)\n",
    "    for i in range(len(reader.pages)):\n",
    "        page = reader.pages[i]\n",
    "        text += page.extract_text()\n",
    "\n",
    "    text_pdf_resumes[file.split('.')[0]] = text\n",
    "    text = str()"
   ]
  },
  {
   "cell_type": "code",
   "execution_count": 5,
   "metadata": {},
   "outputs": [],
   "source": [
    "# создаем данные, для последующей передачи в DataFrame\n",
    "data = list()\n",
    "# добавляем данные каждого резюме - вледельца и текст\n",
    "for key in text_pdf_resumes:\n",
    "    list_value = [key, text_pdf_resumes[key]] \n",
    "    data.append(list_value)"
   ]
  },
  {
   "cell_type": "code",
   "execution_count": 6,
   "metadata": {},
   "outputs": [],
   "source": [
    "# создаем DataFrame с данными из всех резюме в формате PDF\n",
    "\n",
    "text_pdf_data = pd.DataFrame(\n",
    "    data = data,\n",
    "    columns = ['Name', 'Text of resume']\n",
    ")\n",
    "text_pdf_data.to_csv('PDF-resumes-text.csv', index=False) "
   ]
  },
  {
   "cell_type": "markdown",
   "metadata": {},
   "source": [
    "# Docx - files\n"
   ]
  },
  {
   "cell_type": "code",
   "execution_count": 7,
   "metadata": {},
   "outputs": [],
   "source": [
    "from docx import Document\n",
    "text_docx_resumes = dict()\n",
    "text = str()\n",
    "\n",
    "for file in docx_files:\n",
    "    path_to_resume = 'data/' + file.replace('\\t', ' ')\n",
    "    source = Document(path_to_resume)\n",
    "    paras = source.paragraphs\n",
    "    for i in range(len(paras)):\n",
    "        text += paras[i].text +'@&@'\n",
    "    text_docx_resumes[file.split('.')[0]] = text\n",
    "    text = str()\n"
   ]
  },
  {
   "cell_type": "code",
   "execution_count": 8,
   "metadata": {},
   "outputs": [],
   "source": [
    "# создаем данные, для последующей передачи в DataFrame\n",
    "data = list()\n",
    "# добавляем данные каждого резюме - вледельца и текст\n",
    "for key in text_docx_resumes:\n",
    "    list_value = [key, text_docx_resumes[key]] \n",
    "    data.append(list_value)"
   ]
  },
  {
   "cell_type": "code",
   "execution_count": 9,
   "metadata": {},
   "outputs": [],
   "source": [
    "text_docx_data = pd.DataFrame(\n",
    "    data = data,\n",
    "    columns = ['Name', 'Text of resume']\n",
    ")\n",
    "text_docx_data.to_csv('Docx-resumes-text.csv', index=False) "
   ]
  },
  {
   "cell_type": "markdown",
   "metadata": {},
   "source": [
    "# Объединение данных"
   ]
  },
  {
   "cell_type": "code",
   "execution_count": 10,
   "metadata": {},
   "outputs": [
    {
     "ename": "TypeError",
     "evalue": "concat() takes 1 positional argument but 2 were given",
     "output_type": "error",
     "traceback": [
      "\u001b[1;31m---------------------------------------------------------------------------\u001b[0m",
      "\u001b[1;31mTypeError\u001b[0m                                 Traceback (most recent call last)",
      "Cell \u001b[1;32mIn[10], line 1\u001b[0m\n\u001b[1;32m----> 1\u001b[0m resumes_data \u001b[38;5;241m=\u001b[39m \u001b[43mpd\u001b[49m\u001b[38;5;241;43m.\u001b[39;49m\u001b[43mconcat\u001b[49m\u001b[43m(\u001b[49m\u001b[43mtext_pdf_data\u001b[49m\u001b[43m,\u001b[49m\u001b[43m \u001b[49m\u001b[43mtext_docx_data\u001b[49m\u001b[43m)\u001b[49m\n\u001b[0;32m      3\u001b[0m display(resumes_data)\n",
      "\u001b[1;31mTypeError\u001b[0m: concat() takes 1 positional argument but 2 were given"
     ]
    }
   ],
   "source": [
    "resumes_data = pd.concat(text_pdf_data, text_docx_data)\n",
    "\n",
    "display(resumes_data)"
   ]
  },
  {
   "cell_type": "markdown",
   "metadata": {},
   "source": [
    "# Doc-files"
   ]
  },
  {
   "cell_type": "code",
   "execution_count": null,
   "metadata": {},
   "outputs": [
    {
     "name": "stdout",
     "output_type": "stream",
     "text": [
      "{'Нурутдинов Александр': ''}\n"
     ]
    }
   ],
   "source": [
    "text_doc_resumes = dict()\n",
    "\n",
    "for file in another_files:\n",
    "    try:\n",
    "        input_word_file = file\n",
    "        output_text_file = \"output_file.txt\"\n",
    "        os.system('antiword %s > %s' % (input_word_file, output_text_file))\n",
    "        f = open(\"output_file.txt\", 'r')\n",
    "        content = f.read() \n",
    "        text_doc_resumes[file.split('.')[0]] = content\n",
    "    except Exception:\n",
    "        text_doc_resumes[file.split('.')[0]] = 'Невозможно считать данные из файлы'\n",
    "\n",
    "print(text_doc_resumes)\n",
    "\n"
   ]
  },
  {
   "cell_type": "code",
   "execution_count": null,
   "metadata": {},
   "outputs": [],
   "source": [
    "# создаем данные, для последующей передачи в DataFrame\n",
    "data = list()\n",
    "# добавляем данные каждого резюме - вледельца и текст\n",
    "for key in text_docx_resumes:\n",
    "    list_value = [key, text_docx_resumes[key]] \n",
    "    data.append(list_value)"
   ]
  },
  {
   "cell_type": "code",
   "execution_count": null,
   "metadata": {},
   "outputs": [
    {
     "ename": "KeyError",
     "evalue": "\"There is no item named 'word/document.xml' in the archive\"",
     "output_type": "error",
     "traceback": [
      "\u001b[1;31m---------------------------------------------------------------------------\u001b[0m",
      "\u001b[1;31mKeyError\u001b[0m                                  Traceback (most recent call last)",
      "Cell \u001b[1;32mIn[255], line 6\u001b[0m\n\u001b[0;32m      3\u001b[0m path \u001b[38;5;241m=\u001b[39m \u001b[38;5;124m'\u001b[39m\u001b[38;5;124mdata/Нурутдинов Александр.doc\u001b[39m\u001b[38;5;124m'\u001b[39m\u001b[38;5;241m.\u001b[39mreplace(\u001b[38;5;124m'\u001b[39m\u001b[38;5;130;01m\\t\u001b[39;00m\u001b[38;5;124m'\u001b[39m, \u001b[38;5;124m'\u001b[39m\u001b[38;5;124m \u001b[39m\u001b[38;5;124m'\u001b[39m)\n\u001b[0;32m      5\u001b[0m \u001b[38;5;66;03m# Укажите путь к вашему файлу .doc\u001b[39;00m\n\u001b[1;32m----> 6\u001b[0m my_text \u001b[38;5;241m=\u001b[39m \u001b[43mdocx2txt\u001b[49m\u001b[38;5;241;43m.\u001b[39;49m\u001b[43mprocess\u001b[49m\u001b[43m(\u001b[49m\u001b[43mpath\u001b[49m\u001b[43m)\u001b[49m\n\u001b[0;32m      7\u001b[0m \u001b[38;5;28mprint\u001b[39m(my_text)\n",
      "File \u001b[1;32m~\\AppData\\Local\\Packages\\PythonSoftwareFoundation.Python.3.12_qbz5n2kfra8p0\\LocalCache\\local-packages\\Python312\\site-packages\\docx2txt\\docx2txt.py:88\u001b[0m, in \u001b[0;36mprocess\u001b[1;34m(docx, img_dir)\u001b[0m\n\u001b[0;32m     86\u001b[0m \u001b[38;5;66;03m# get main text\u001b[39;00m\n\u001b[0;32m     87\u001b[0m doc_xml \u001b[38;5;241m=\u001b[39m \u001b[38;5;124m'\u001b[39m\u001b[38;5;124mword/document.xml\u001b[39m\u001b[38;5;124m'\u001b[39m\n\u001b[1;32m---> 88\u001b[0m text \u001b[38;5;241m+\u001b[39m\u001b[38;5;241m=\u001b[39m xml2text(\u001b[43mzipf\u001b[49m\u001b[38;5;241;43m.\u001b[39;49m\u001b[43mread\u001b[49m\u001b[43m(\u001b[49m\u001b[43mdoc_xml\u001b[49m\u001b[43m)\u001b[49m)\n\u001b[0;32m     90\u001b[0m \u001b[38;5;66;03m# get footer text\u001b[39;00m\n\u001b[0;32m     91\u001b[0m \u001b[38;5;66;03m# there can be 3 footer files in the zip\u001b[39;00m\n\u001b[0;32m     92\u001b[0m footer_xmls \u001b[38;5;241m=\u001b[39m \u001b[38;5;124m'\u001b[39m\u001b[38;5;124mword/footer[0-9]*.xml\u001b[39m\u001b[38;5;124m'\u001b[39m\n",
      "File \u001b[1;32mC:\\Program Files\\WindowsApps\\PythonSoftwareFoundation.Python.3.12_3.12.752.0_x64__qbz5n2kfra8p0\\Lib\\zipfile\\__init__.py:1558\u001b[0m, in \u001b[0;36mZipFile.read\u001b[1;34m(self, name, pwd)\u001b[0m\n\u001b[0;32m   1556\u001b[0m \u001b[38;5;28;01mdef\u001b[39;00m \u001b[38;5;21mread\u001b[39m(\u001b[38;5;28mself\u001b[39m, name, pwd\u001b[38;5;241m=\u001b[39m\u001b[38;5;28;01mNone\u001b[39;00m):\n\u001b[0;32m   1557\u001b[0m \u001b[38;5;250m    \u001b[39m\u001b[38;5;124;03m\"\"\"Return file bytes for name.\"\"\"\u001b[39;00m\n\u001b[1;32m-> 1558\u001b[0m     \u001b[38;5;28;01mwith\u001b[39;00m \u001b[38;5;28;43mself\u001b[39;49m\u001b[38;5;241;43m.\u001b[39;49m\u001b[43mopen\u001b[49m\u001b[43m(\u001b[49m\u001b[43mname\u001b[49m\u001b[43m,\u001b[49m\u001b[43m \u001b[49m\u001b[38;5;124;43m\"\u001b[39;49m\u001b[38;5;124;43mr\u001b[39;49m\u001b[38;5;124;43m\"\u001b[39;49m\u001b[43m,\u001b[49m\u001b[43m \u001b[49m\u001b[43mpwd\u001b[49m\u001b[43m)\u001b[49m \u001b[38;5;28;01mas\u001b[39;00m fp:\n\u001b[0;32m   1559\u001b[0m         \u001b[38;5;28;01mreturn\u001b[39;00m fp\u001b[38;5;241m.\u001b[39mread()\n",
      "File \u001b[1;32mC:\\Program Files\\WindowsApps\\PythonSoftwareFoundation.Python.3.12_3.12.752.0_x64__qbz5n2kfra8p0\\Lib\\zipfile\\__init__.py:1595\u001b[0m, in \u001b[0;36mZipFile.open\u001b[1;34m(self, name, mode, pwd, force_zip64)\u001b[0m\n\u001b[0;32m   1592\u001b[0m     zinfo\u001b[38;5;241m.\u001b[39m_compresslevel \u001b[38;5;241m=\u001b[39m \u001b[38;5;28mself\u001b[39m\u001b[38;5;241m.\u001b[39mcompresslevel\n\u001b[0;32m   1593\u001b[0m \u001b[38;5;28;01melse\u001b[39;00m:\n\u001b[0;32m   1594\u001b[0m     \u001b[38;5;66;03m# Get info object for name\u001b[39;00m\n\u001b[1;32m-> 1595\u001b[0m     zinfo \u001b[38;5;241m=\u001b[39m \u001b[38;5;28;43mself\u001b[39;49m\u001b[38;5;241;43m.\u001b[39;49m\u001b[43mgetinfo\u001b[49m\u001b[43m(\u001b[49m\u001b[43mname\u001b[49m\u001b[43m)\u001b[49m\n\u001b[0;32m   1597\u001b[0m \u001b[38;5;28;01mif\u001b[39;00m mode \u001b[38;5;241m==\u001b[39m \u001b[38;5;124m'\u001b[39m\u001b[38;5;124mw\u001b[39m\u001b[38;5;124m'\u001b[39m:\n\u001b[0;32m   1598\u001b[0m     \u001b[38;5;28;01mreturn\u001b[39;00m \u001b[38;5;28mself\u001b[39m\u001b[38;5;241m.\u001b[39m_open_to_write(zinfo, force_zip64\u001b[38;5;241m=\u001b[39mforce_zip64)\n",
      "File \u001b[1;32mC:\\Program Files\\WindowsApps\\PythonSoftwareFoundation.Python.3.12_3.12.752.0_x64__qbz5n2kfra8p0\\Lib\\zipfile\\__init__.py:1524\u001b[0m, in \u001b[0;36mZipFile.getinfo\u001b[1;34m(self, name)\u001b[0m\n\u001b[0;32m   1522\u001b[0m info \u001b[38;5;241m=\u001b[39m \u001b[38;5;28mself\u001b[39m\u001b[38;5;241m.\u001b[39mNameToInfo\u001b[38;5;241m.\u001b[39mget(name)\n\u001b[0;32m   1523\u001b[0m \u001b[38;5;28;01mif\u001b[39;00m info \u001b[38;5;129;01mis\u001b[39;00m \u001b[38;5;28;01mNone\u001b[39;00m:\n\u001b[1;32m-> 1524\u001b[0m     \u001b[38;5;28;01mraise\u001b[39;00m \u001b[38;5;167;01mKeyError\u001b[39;00m(\n\u001b[0;32m   1525\u001b[0m         \u001b[38;5;124m'\u001b[39m\u001b[38;5;124mThere is no item named \u001b[39m\u001b[38;5;132;01m%r\u001b[39;00m\u001b[38;5;124m in the archive\u001b[39m\u001b[38;5;124m'\u001b[39m \u001b[38;5;241m%\u001b[39m name)\n\u001b[0;32m   1527\u001b[0m \u001b[38;5;28;01mreturn\u001b[39;00m info\n",
      "\u001b[1;31mKeyError\u001b[0m: \"There is no item named 'word/document.xml' in the archive\""
     ]
    }
   ],
   "source": [
    "import docx2txt\n",
    "\n",
    "path = 'data/Нурутдинов Александр.doc'.replace('\\t', ' ')\n",
    "\n",
    "# Укажите путь к вашему файлу .doc\n",
    "my_text = docx2txt.process(path)\n",
    "print(my_text)\n"
   ]
  },
  {
   "cell_type": "code",
   "execution_count": 3,
   "metadata": {},
   "outputs": [
    {
     "data": {
      "text/plain": [
       "'Akhundo v\\nDamat\\nSo\\nF\\nTW\\nAR\\nE\\nENGiNEE\\nR\\n·\\nB\\nA\\nCKEND\\nDEVELoPE\\nR\\nB a k u ,\\nA z e r b a i j a n\\n( + 9 9 4 )\\n5 1\\n0 0 0 - 6 0 - 1 7\\n|\\na k h u n d o v 1 d a m a t @ g m a i l . c o m\\n|\\na k h u n d\\nd a m a t\\n|\\na k h u n d o v 1\\nd a m a t\\n“Software\\nis\\nart.”\\nSum\\nmary\\nCurrent\\nMiddle\\nBackend\\nDeveloper\\nat\\nproduct\\ncompany\\nOnline\\nGymnasium.\\nI\\nhave\\nexperience\\nin\\ndeveloping\\nmicroservice \\narchitecture,\\nworking\\nwith\\ndatabases,\\nparallel\\ntasks,\\nconverting\\nfiles,\\nintegrating\\nexternal\\nservices,\\nworking\\nwith\\ncaching,\\nas\\nwell \\nas\\ntraining\\nnew\\nemployees.\\nSpecial\\n‑\\nizing\\nin\\nRESTful\\nAPI\\nrealization.\\nUsing\\nDjango\\nREST\\nFramework\\nand\\nFastAPI\\nfor\\nthis\\npurpose. \\nPrefer\\nto\\nuse\\nFastAPI\\nand\\ndeveloping\\nstructure\\nof\\nsystem\\nmanually.\\nAlso\\nprefer\\nto\\nuse\\nLinux,\\nnamely\\nManjaro.\\nInterested\\nin \\nchallenging\\ntasks\\nrelated\\nto\\narchitecture\\ndevelopment\\nand\\nlearning\\nnew\\ntechnologies.\\nWor\\nk\\nExperience\\nOnline\\nGymnasiumR emot e\\nMiDDLE\\nB\\nA\\nCKEND\\nDEVELoPE\\nR\\n•\\nDeveloped\\ndatabase\\nstructure\\nvia\\nDjango\\nORM. \\n•\\nWorked\\nwith\\nCelery\\ntasks.\\nApplied\\nbest\\npractises. \\n•\\nImplemented\\nintegration\\nbetween\\nBigBlueButton \\nand\\nDjango\\nREST\\nFramework. \\n•\\nUsed\\nTest\\nDriven\\nDevelopment. \\n•\\nBuilt\\nstructure\\nof\\nthe\\nproject\\nvia\\nstyle\\nguide. \\n•\\nImplemented\\nRESTful\\nAPI\\nmicroservice. \\n•\\nWorked\\nwith\\nDocker\\nand\\nDocker\\nCompose. \\n•\\nRealised\\nORM\\noptimization. \\n•\\nDeveloped\\nan\\napplication\\nfor\\nconverting\\nfiles\\nfrom \\ntwo\\nservices\\n(JOD\\nConverter\\nand\\nCloudCon vert)F e b .2 0 2 0\\n‑P r e s e n t .\\nFreelanceBak u,Az er baij an\\nJ\\nU\\nN\\nIOR\\nB\\nA\\nCKEND\\nDEVEL\\nO\\nPE\\nR\\n•\\nDeveloped\\npayment \\nsystem.\\n•\\nWorked\\nwith\\nOpenCV\\non \\nPython.\\n•\\nRealized\\nauthentication \\nsystem\\nfor\\nFastAPI.F e b .2 0 1 9\\n‑F e b .2 0 2 0\\nSki\\nlls\\nDevOps\\nDocker,\\nDocker\\nCompose\\nFrameworks\\nDjango\\nREST\\nFramework,\\nDjango,\\nFastAPI,\\nREST\\nAPI\\nMethodologies\\nTest\\nDriven\\nDevelopment,\\nDomain\\nDriven\\nDevelopment\\nPrinciples\\nSOLID,\\nYAGNI,\\nDRY\\nDatabases\\nPostgres,\\nRedis,\\nCassandr a\\nProgramming\\nLanguages\\nPython,\\nC\\nLanguages\\nEnglish,\\nRussian,\\nAzerbaijani\\nEdu\\ncation\\nASOIU(Azerbaijan\\nState\\nOil\\nand\\nIndustrial\\nUniversity)Bak u,Az er baij an\\nB.S.\\nI\\nN\\nIN\\nFOR\\nM\\nA\\nT\\nIO\\nN\\nTECHN\\nO\\nL\\nO\\nG\\nI\\nES\\nA\\nND\\nM\\nA\\nN\\nA\\nGEMENT\\n•\\nGot\\na\\nFull\\nScholarship .\\nO c t .2 0 2 0\\n‑O c t .2 0 2 4\\nRamin\\nMahmudzadeh\\nschool\\nof\\nsolving\\nOlympiad\\nproblemsBak u,Az er baij an\\nOLYMP\\nIA\\nD\\nP\\nRO\\nBLEMS\\nS\\nO\\nLVE\\nR\\n•\\nLearned\\nto\\nsolve\\nproblems\\nof \\ndifferent\\nlevel\\nof\\ncomplexi ty.S e p .2 0 1 8\\n‑2 0 1 9\\nDECEMBE\\nR\\n16,\\n2021\\nAKH\\nU\\nND\\nO\\nV\\nM\\nURA\\nD\\n·\\nRÉS\\nU\\nMÉ\\n1'"
      ]
     },
     "execution_count": 3,
     "metadata": {},
     "output_type": "execute_result"
    }
   ],
   "source": [
    "import pandas as pd\n",
    "df_pdf = pd.read_csv('PDF-resumes-text.csv')\n",
    "df_pdf['Text of resume'].iloc[0]"
   ]
  },
  {
   "cell_type": "code",
   "execution_count": null,
   "metadata": {},
   "outputs": [],
   "source": [
    "{'text': 'Akhundo v\\nDamat\\nSo\\nF\\nTW\\nAR\\nE\\nENGiNEE\\nR\\n·\\nB\\nA\\nCKEND\\nDEVELoPE\\nR\\nB a k u ,\\nA z e r b a i j a n\\n( + 9 9 4 )\\n5 1\\n0 0 0 - 6 0 - 1 7\\n|\\na k h u n d o v 1 d a m a t @ g m a i l . c o m\\n|\\na k h u n d\\nd a m a t\\n|\\na k h u n d o v 1\\nd a m a t\\n“Software\\nis\\nart.”\\nSum\\nmary\\nCurrent\\nMiddle\\nBackend\\nDeveloper\\nat\\nproduct\\ncompany\\nOnline\\nGymnasium.\\nI\\nhave\\nexperience\\nin\\ndeveloping\\nmicroservice \\narchitecture,\\nworking\\nwith\\ndatabases,\\nparallel\\ntasks,\\nconverting\\nfiles,\\nintegrating\\nexternal\\nservices,\\nworking\\nwith\\ncaching,\\nas\\nwell \\nas\\ntraining\\nnew\\nemployees.\\nSpecial\\n‑\\nizing\\nin\\nRESTful\\nAPI\\nrealization.\\nUsing\\nDjango\\nREST\\nFramework\\nand\\nFastAPI\\nfor\\nthis\\npurpose. \\nPrefer\\nto\\nuse\\nFastAPI\\nand\\ndeveloping\\nstructure\\nof\\nsystem\\nmanually.\\nAlso\\nprefer\\nto\\nuse\\nLinux,\\nnamely\\nManjaro.\\nInterested\\nin \\nchallenging\\ntasks\\nrelated\\nto\\narchitecture\\ndevelopment\\nand\\nlearning\\nnew\\ntechnologies.\\nWor\\nk\\nExperience\\nOnline\\nGymnasiumR emot e\\nMiDDLE\\nB\\nA\\nCKEND\\nDEVELoPE\\nR\\n•\\nDeveloped\\ndatabase\\nstructure\\nvia\\nDjango\\nORM. \\n•\\nWorked\\nwith\\nCelery\\ntasks.\\nApplied\\nbest\\npractises. \\n•\\nImplemented\\nintegration\\nbetween\\nBigBlueButton \\nand\\nDjango\\nREST\\nFramework. \\n•\\nUsed\\nTest\\nDriven\\nDevelopment. \\n•\\nBuilt\\nstructure\\nof\\nthe\\nproject\\nvia\\nstyle\\nguide. \\n•\\nImplemented\\nRESTful\\nAPI\\nmicroservice. \\n•\\nWorked\\nwith\\nDocker\\nand\\nDocker\\nCompose. \\n•\\nRealised\\nORM\\noptimization. \\n•\\nDeveloped\\nan\\napplication\\nfor\\nconverting\\nfiles\\nfrom \\ntwo\\nservices\\n(JOD\\nConverter\\nand\\nCloudCon vert)F e b .2 0 2 0\\n‑P r e s e n t .\\nFreelanceBak u,Az er baij an\\nJ\\nU\\nN\\nIOR\\nB\\nA\\nCKEND\\nDEVEL\\nO\\nPE\\nR\\n•\\nDeveloped\\npayment \\nsystem.\\n•\\nWorked\\nwith\\nOpenCV\\non \\nPython.\\n•\\nRealized\\nauthentication \\nsystem\\nfor\\nFastAPI.F e b .2 0 1 9\\n‑F e b .2 0 2 0\\nSki\\nlls\\nDevOps\\nDocker,\\nDocker\\nCompose\\nFrameworks\\nDjango\\nREST\\nFramework,\\nDjango,\\nFastAPI,\\nREST\\nAPI\\nMethodologies\\nTest\\nDriven\\nDevelopment,\\nDomain\\nDriven\\nDevelopment\\nPrinciples\\nSOLID,\\nYAGNI,\\nDRY\\nDatabases\\nPostgres,\\nRedis,\\nCassandr a\\nProgramming\\nLanguages\\nPython,\\nC\\nLanguages\\nEnglish,\\nRussian,\\nAzerbaijani\\nEdu\\ncation\\nASOIU(Azerbaijan\\nState\\nOil\\nand\\nIndustrial\\nUniversity)Bak u,Az er baij an\\nB.S.\\nI\\nN\\nIN\\nFOR\\nM\\nA\\nT\\nIO\\nN\\nTECHN\\nO\\nL\\nO\\nG\\nI\\nES\\nA\\nND\\nM\\nA\\nN\\nA\\nGEMENT\\n•\\nGot\\na\\nFull\\nScholarship .\\nO c t .2 0 2 0\\n‑O c t .2 0 2 4\\nRamin\\nMahmudzadeh\\nschool\\nof\\nsolving\\nOlympiad\\nproblemsBak u,Az er baij an\\nOLYMP\\nIA\\nD\\nP\\nRO\\nBLEMS\\nS\\nO\\nLVE\\nR\\n•\\nLearned\\nto\\nsolve\\nproblems\\nof \\ndifferent\\nlevel\\nof\\ncomplexi ty.S e p .2 0 1 8\\n‑2 0 1 9\\nDECEMBE\\nR\\n16,\\n2021\\nAKH\\nU\\nND\\nO\\nV\\nM\\nURA\\nD\\n·\\nRÉS\\nU\\nMÉ\\n1',\n",
    " \n",
    " 'target': {'University': 'ASOIU(Azerbaijan State Oil and Industrial University) Baku, Azerbaijan', \n",
    "            'School': 'Ramin Mahmudzadeh school of solving Olympiad problems Baku, Azerbaijan',\n",
    "            'Skills': 'DevOps Docker, Docker Compose Frameworks Django REST Framework, Django, FastAPI, REST API Methodologies Test Driven Development, Domain Driven Development Principles SOLID, YAGNI, DRYDatabases Postgres, Redis, Cassandra Programming Languages Python, C Languages English, Russian, Azerbaijan',\n",
    "            'Work Experience': 'Online Gymnasium Remote',\n",
    "            'Summary': 'Current Middle Backend Developer at product company Online Gymnasium. I have experience in developing microservice architecture, working with databases, parallel tasks, converting files, integrating external services, working with caching, as well as training new employees. Special‑ izing in RESTful API realization. Using Django REST Framework and FastAPI for this purpose. Prefer to use FastAPI and developing structure of system manually. Also prefer to use Linux, namely Manjaro. Interested in challenging tasks related to architecture development and learning new technologies.'}\n",
    "}"
   ]
  },
  {
   "cell_type": "code",
   "execution_count": 4,
   "metadata": {},
   "outputs": [
    {
     "data": {
      "text/plain": [
       "\"Alan Abdirasul Senior Java Software Engineer |aаааааааbdirasul@gmail.com Summary  Experienced Software Engineer with 5+ years of experience participating in all aspects of the software development lifecycle, which includes estimating, technical design, implementation documentation, testing, deployment, and support of applications developed for various clients. Skills    • Programming Languages: Java, Kotlin, JavaScript, TypeScript • Backend Technologies: Spring boot, WebFlux, Gradle, Maven, RabbitMQ, Kafka, WebSocket, Spring Cloud, Hibernate, GraphQL, gRPC • Databases: PostgreSql, MySql, MongoDB, Redis, Oracle Database, R2DBC • Frontend Technologies: React, Redux, HTML, CSS • Software development tools: Git, Github, Gitlab, CodeCommit, CI/CD, CircleCi, Jenkins, Grafana, Prometheus, Graphite, JUnit, Mockito • Cloud: Docker, Kubernetes, AWS, Digital Ocean • Soft Skills: Leadership, communication, problem-solving, adaptability, teamwork, time management, critical thinking, emotional intelligence. Experience    Lead Java Software Engineer Peaksoft Chicago, Illinois USA(Remote) 05/2022 - Present • Deployed and scaled applications on AWS. • Effectively communicated within a multi-disciplined team, across 23 locations and 5 time zones. • Managed task assignments and priorities for timely deliveries. • Collaborated with stakeholders to prioritize system enhancements, boosting business process efficiency by 27%. • Introduced pair programming, elevating code quality by 35% and accelerating project delivery. • Orchestrated successful implementation of microservices architecture for improved scalability. • Mentored and supported 18 junior and middle developers, enhancing code quality by 30%.  Senior Software Engineer Peaksoft Chicago, Illinois USA(Remote) 05/2021 - 05/2022 • Enhanced application responsiveness and scalability through algorithm optimization.. • Skillfully integrated third-party systems, contributing to a 23% increase in global revenue. • IImplemented and optimized Grafana deployments, elevating application monitoring capabilities. • Automated software delivery processes using CircleCI for efficient deployment.  Software Engineer Inclusive Technology Bishkek, Kyrgyzstan(On-site) 11/2020 - 06/2021 • Optimized workflows, reducing development time by 25%. • Orchestrated efficient communication across frontend, backend, and AQA teams, advancing deadlines by 12%. • Guided 6 junior and middle developers, fostering growth and development. • Engineered innovative features, including real-time grammar checking. Full-Stack Developer Aksoft Bishkek, Kyrgyzstan(On-site) 05/2018 - 11/2020 • Developed scalable applications using Java, JavaScript, React.js, and Redux.js. • Optimized database designs and query performance, resulting in more efficient data management. • Collaborated with cross-functional teams to gather requirements and deliver solutions tailored to client needs. • Implemented CI/CD pipelines using CircleCI, achieving a significant 70% boost in deployment efficiency. • Leveraged Docker for containerization, which reduced deployment time by 32% while improving the app's scalability.. • Managed projects efficiently through the use of Gradle and Maven, facilitating coordinated efforts. • Leveraged Amazon S3 to enhance metadata storage and retrieval within Spring MVC projects.  Education    Computer Science, Bachelor's Degree Kirgizistan-Türkiye Manas Üniversitesi 09/2017 - 09/2020 Mentorship    • CodeWise Academy: I employed interactive teaching methods, real-world examples, and hands-on coding projects to enhance students' grasp of Java programming concepts. I led face-to-face Zoom sessions accommodating diverse language preferences, inspire critical thinking, conduct assessments, and have successfully guided over 180 students, with 87 securing jobs, fostering their growth through mentoring and code reviews. (09/2022 - Present) • Avenir Education Company: Instructed students in backend development (Spring, Java, JDBC), guiding coding assignments, configuring CI/CD pipelines, and leading projects. Mentored 300+ students in web development with Java-based backend systems, conducting code reviews and providing career advice for success. (03/2020 - 01/2022) \""
      ]
     },
     "execution_count": 4,
     "metadata": {},
     "output_type": "execute_result"
    }
   ],
   "source": [
    "df_pdf['Text of resume'].iloc[1]"
   ]
  },
  {
   "cell_type": "code",
   "execution_count": null,
   "metadata": {},
   "outputs": [],
   "source": [
    "{'text': 'Alan Abdirasul Senior Java Software Engineer |aаааааааbdirasul@gmail.com Summary  Experienced Software Engineer with 5+ years of experience participating in all aspects of the software development lifecycle, which includes estimating, technical design, implementation documentation, testing, deployment, and support of applications developed for various clients. Skills    • Programming Languages: Java, Kotlin, JavaScript, TypeScript • Backend Technologies: Spring boot, WebFlux, Gradle, Maven, RabbitMQ, Kafka, WebSocket, Spring Cloud, Hibernate, GraphQL, gRPC • Databases: PostgreSql, MySql, MongoDB, Redis, Oracle Database, R2DBC • Frontend Technologies: React, Redux, HTML, CSS • Software development tools: Git, Github, Gitlab, CodeCommit, CI/CD, CircleCi, Jenkins, Grafana, Prometheus, Graphite, JUnit, Mockito • Cloud: Docker, Kubernetes, AWS, Digital Ocean • Soft Skills: Leadership, communication, problem-solving, adaptability, teamwork, time management, critical thinking, emotional intelligence. Experience    Lead Java Software Engineer Peaksoft Chicago, Illinois USA(Remote) 05/2022 - Present • Deployed and scaled applications on AWS. • Effectively communicated within a multi-disciplined team, across 23 locations and 5 time zones. • Managed task assignments and priorities for timely deliveries. • Collaborated with stakeholders to prioritize system enhancements, boosting business process efficiency by 27%. • Introduced pair programming, elevating code quality by 35% and accelerating project delivery. • Orchestrated successful implementation of microservices architecture for improved scalability. • Mentored and supported 18 junior and middle developers, enhancing code quality by 30%.  Senior Software Engineer Peaksoft Chicago, Illinois USA(Remote) 05/2021 - 05/2022 • Enhanced application responsiveness and scalability through algorithm optimization.. • Skillfully integrated third-party systems, contributing to a 23% increase in global revenue. • IImplemented and optimized Grafana deployments, elevating application monitoring capabilities. • Automated software delivery processes using CircleCI for efficient deployment.  Software Engineer Inclusive Technology Bishkek, Kyrgyzstan(On-site) 11/2020 - 06/2021 • Optimized workflows, reducing development time by 25%. • Orchestrated efficient communication across frontend, backend, and AQA teams, advancing deadlines by 12%. • Guided 6 junior and middle developers, fostering growth and development. • Engineered innovative features, including real-time grammar checking. Full-Stack Developer Aksoft Bishkek, Kyrgyzstan(On-site) 05/2018 - 11/2020 • Developed scalable applications using Java, JavaScript, React.js, and Redux.js. • Optimized database designs and query performance, resulting in more efficient data management. • Collaborated with cross-functional teams to gather requirements and deliver solutions tailored to client needs. • Implemented CI/CD pipelines using CircleCI, achieving a significant 70% boost in deployment efficiency. • Leveraged Docker for containerization, which reduced deployment time by 32% while improving the app's scalability.. • Managed projects efficiently through the use of Gradle and Maven, facilitating coordinated efforts. • Leveraged Amazon S3 to enhance metadata storage and retrieval within Spring MVC projects.  Education    Computer Science, Bachelor's Degree Kirgizistan-Türkiye Manas Üniversitesi 09/2017 - 09/2020 Mentorship    • CodeWise Academy: I employed interactive teaching methods, real-world examples, and hands-on coding projects to enhance students' grasp of Java programming concepts. I led face-to-face Zoom sessions accommodating diverse language preferences, inspire critical thinking, conduct assessments, and have successfully guided over 180 students, with 87 securing jobs, fostering their growth through mentoring and code reviews. (09/2022 - Present) • Avenir Education Company: Instructed students in backend development (Spring, Java, JDBC), guiding coding assignments, configuring CI/CD pipelines, and leading projects. Mentored 300+ students in web development with Java-based backend systems, conducting code reviews and providing career advice for success. (03/2020 - 01/2022)',\n",
    " 'target': {'Summary': '',\n",
    "            'Skills': '',\n",
    "            'Experience': '',\n",
    "            'Education': '',\n",
    "            'Mentorship'}}"
   ]
  }
 ],
 "metadata": {
  "kernelspec": {
   "display_name": "Python 3",
   "language": "python",
   "name": "python3"
  },
  "language_info": {
   "codemirror_mode": {
    "name": "ipython",
    "version": 3
   },
   "file_extension": ".py",
   "mimetype": "text/x-python",
   "name": "python",
   "nbconvert_exporter": "python",
   "pygments_lexer": "ipython3",
   "version": "3.12.2"
  }
 },
 "nbformat": 4,
 "nbformat_minor": 2
}

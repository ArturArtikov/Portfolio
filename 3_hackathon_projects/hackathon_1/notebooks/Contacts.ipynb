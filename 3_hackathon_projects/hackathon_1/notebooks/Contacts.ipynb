{
  "nbformat": 4,
  "nbformat_minor": 0,
  "metadata": {
    "colab": {
      "provenance": []
    },
    "kernelspec": {
      "name": "python3",
      "display_name": "Python 3"
    },
    "language_info": {
      "name": "python"
    }
  },
  "cells": [
    {
      "cell_type": "code",
      "source": [
        "def extract_contact_info(resume_lines):\n",
        "    email_pattern = r\"[a-zA-Z0-9._%+-]+@[a-zA-Z0-9.-]+\\.[a-zA-Z]{2,}\"\n",
        "    phone_pattern = r\"\\+?[0-9\\s\\-\\(\\)]{7,}\"\n",
        "    linkedin_pattern = r\"\\b(?:https?:\\/\\/)?(?:www\\.)?(linkedin\\.com\\/[^\\s,]*)\"\n",
        "    github_pattern = r\"\\b(?:https?:\\/\\/)?(?:www\\.)?(github\\.com\\/[^\\s,]*|[a-zA-Z0-9-]+\\.github\\.io\\/?[^\\s,]*)\"\n",
        "\n",
        "    email, phone, linkedin, github = None, None, None, None\n",
        "\n",
        "    for line in resume_lines:\n",
        "        if not email:\n",
        "            email_match = re.search(email_pattern, line)\n",
        "            if email_match:\n",
        "                email = email_match.group(0)\n",
        "\n",
        "        if not phone:\n",
        "            phone_match = re.search(phone_pattern, line)\n",
        "            if phone_match:\n",
        "                phone = phone_match.group(0)\n",
        "\n",
        "        if not linkedin:\n",
        "            linkedin_match = re.search(linkedin_pattern, line)\n",
        "            if linkedin_match:\n",
        "                linkedin = linkedin_match.group(0)\n",
        "\n",
        "        if not github:\n",
        "            github_match = re.search(github_pattern, line)\n",
        "            if github_match:\n",
        "                github = github_match.group(0)\n",
        "\n",
        "        if email and phone and linkedin and github:\n",
        "            break\n",
        "\n",
        "    return email, phone, linkedin, github\n",
        "\n",
        "\n",
        "email, phone, linkedin, github = extract_contact_info(list_resume)\n",
        "print(\"Контактная информация:\")\n",
        "print(\"Email:\", email or \"не найден\")\n",
        "print(\"Телефон:\", phone or \"не найден\")\n",
        "print(\"LinkedIn:\", linkedin or \"не найден\")\n",
        "print(\"GitHub:\", github or \"не найден\")"
      ],
      "metadata": {
        "id": "GyYNI3ESvynf"
      },
      "execution_count": null,
      "outputs": []
    }
  ]
}
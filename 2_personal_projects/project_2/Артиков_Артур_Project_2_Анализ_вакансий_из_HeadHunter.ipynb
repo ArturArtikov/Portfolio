{
  "cells": [
    {
      "cell_type": "markdown",
      "id": "42289889-bd57-434e-9637-d3e354756316",
      "metadata": {
        "id": "42289889-bd57-434e-9637-d3e354756316"
      },
      "source": [
        "<center> <img src = https://raw.githubusercontent.com/AndreyRysistov/DatasetsForPandas/main/hh%20label.jpg alt=\"drawing\" style=\"width:400px;\">"
      ]
    },
    {
      "cell_type": "markdown",
      "id": "829cb75b-f14e-4ba8-9195-7ba929a7d656",
      "metadata": {
        "tags": [],
        "id": "829cb75b-f14e-4ba8-9195-7ba929a7d656"
      },
      "source": [
        "# <center> Проект: Анализ вакансий из HeadHunter. Выполнил - Артиков Артур\n",
        "   "
      ]
    },
    {
      "cell_type": "code",
      "execution_count": 3,
      "id": "dccfde33-2452-43fb-a8a5-5c6ebc02a71d",
      "metadata": {
        "id": "dccfde33-2452-43fb-a8a5-5c6ebc02a71d"
      },
      "outputs": [],
      "source": [
        "import pandas as pd\n",
        "import psycopg2"
      ]
    },
    {
      "cell_type": "code",
      "source": [
        "DBNAME = 'confidential_dbname' # данные являются конфиденциальными и не могут быть вылажены в открытый доступ\n",
        "USER = 'confidential_user'\n",
        "PASSWORD = 'confidential_password'\n",
        "HOST = 'confidential_host'\n",
        "PORT = 'confidential_port'"
      ],
      "metadata": {
        "id": "oVKH4ehvf8Ay"
      },
      "id": "oVKH4ehvf8Ay",
      "execution_count": 88,
      "outputs": []
    },
    {
      "cell_type": "code",
      "source": [
        "connection = psycopg2.connect(\n",
        "    dbname=DBNAME,\n",
        "    user=USER,\n",
        "    host=HOST,\n",
        "    password=PASSWORD,\n",
        "    port=PORT\n",
        ")"
      ],
      "metadata": {
        "id": "G4X_q8KBf7SF"
      },
      "id": "G4X_q8KBf7SF",
      "execution_count": 5,
      "outputs": []
    },
    {
      "cell_type": "code",
      "source": [
        "!pip freeze > requirements.txt"
      ],
      "metadata": {
        "id": "HMw-f5R5EDNW"
      },
      "id": "HMw-f5R5EDNW",
      "execution_count": 89,
      "outputs": []
    },
    {
      "cell_type": "markdown",
      "id": "0dc6476b-7a00-44f1-ac93-6e3baed33a29",
      "metadata": {
        "id": "0dc6476b-7a00-44f1-ac93-6e3baed33a29"
      },
      "source": [
        "# Юнит 3. Предварительный анализ данных"
      ]
    },
    {
      "cell_type": "markdown",
      "id": "889782b6-8d1c-410e-8920-e57f27917c64",
      "metadata": {
        "id": "889782b6-8d1c-410e-8920-e57f27917c64"
      },
      "source": [
        "1. Напишите запрос, который посчитает количество вакансий в нашей базе (вакансии находятся в таблице vacancies)."
      ]
    },
    {
      "cell_type": "code",
      "execution_count": 6,
      "id": "bc39e68e-ed02-4ee2-9235-7258a2f867a8",
      "metadata": {
        "id": "bc39e68e-ed02-4ee2-9235-7258a2f867a8"
      },
      "outputs": [],
      "source": [
        "# текст запроса\n",
        "query_3_1 = f'''select count(*) /*используем count(*) чтобы подсчитать общее число вакансий*/\n",
        "            from public.vacancies\n",
        "            '''"
      ]
    },
    {
      "cell_type": "code",
      "source": [
        "count_of_vacancies = pd.read_sql_query(query_3_1, connection) # Получаем Датафрейм, состоящий из 1 элемента. Для вывода числа воспользуемся DF.iloc\n",
        "print('Общее число вакансий -', count_of_vacancies.iloc[0]['count'])"
      ],
      "metadata": {
        "id": "7mAwtsk4hEHY",
        "colab": {
          "base_uri": "https://localhost:8080/"
        },
        "outputId": "0144008e-70db-4f2a-ec20-9cb0bc557c3b"
      },
      "id": "7mAwtsk4hEHY",
      "execution_count": 7,
      "outputs": [
        {
          "output_type": "stream",
          "name": "stderr",
          "text": [
            "<ipython-input-7-e824c5e14b8c>:1: UserWarning: pandas only supports SQLAlchemy connectable (engine/connection) or database string URI or sqlite3 DBAPI2 connection. Other DBAPI2 objects are not tested. Please consider using SQLAlchemy.\n",
            "  count_of_vacancies = pd.read_sql_query(query_3_1, connection) # Получаем Датафрейм, состоящий из 1 элемента. Для вывода числа воспользуемся DF.iloc\n"
          ]
        },
        {
          "output_type": "stream",
          "name": "stdout",
          "text": [
            "Общее число вакансий - 49197\n"
          ]
        }
      ]
    },
    {
      "cell_type": "markdown",
      "id": "b583485d-1f9e-494e-ada4-80ffff7c53d6",
      "metadata": {
        "id": "b583485d-1f9e-494e-ada4-80ffff7c53d6"
      },
      "source": [
        "2. Напишите запрос, который посчитает количество работодателей (таблица employers)."
      ]
    },
    {
      "cell_type": "code",
      "execution_count": 8,
      "id": "5408c52c-3407-4a63-b25b-1aafa2322d28",
      "metadata": {
        "id": "5408c52c-3407-4a63-b25b-1aafa2322d28"
      },
      "outputs": [],
      "source": [
        "query_3_2 = f'''select count(*) /*используем count(*) чтобы подсчитать общее число работодателей*/\n",
        "            from public.employers\n",
        "            '''"
      ]
    },
    {
      "cell_type": "code",
      "source": [
        "count_of_employers = pd.read_sql_query(query_3_2, connection) # Получаем Датафрейм, состоящий из 1 элемента. Для вывода числа воспользуемся DF.iloc\n",
        "print('Общее число работодателей -', count_of_employers.iloc[0]['count'])\n"
      ],
      "metadata": {
        "id": "jVL4eshKhdqc",
        "colab": {
          "base_uri": "https://localhost:8080/"
        },
        "outputId": "b4e696ef-936a-487e-962f-6db19f0344f0"
      },
      "id": "jVL4eshKhdqc",
      "execution_count": 9,
      "outputs": [
        {
          "output_type": "stream",
          "name": "stdout",
          "text": [
            "Общее число работодателей - 23501\n"
          ]
        },
        {
          "output_type": "stream",
          "name": "stderr",
          "text": [
            "<ipython-input-9-e2f3aa17408b>:1: UserWarning: pandas only supports SQLAlchemy connectable (engine/connection) or database string URI or sqlite3 DBAPI2 connection. Other DBAPI2 objects are not tested. Please consider using SQLAlchemy.\n",
            "  count_of_employers = pd.read_sql_query(query_3_2, connection) # Получаем Датафрейм, состоящий из 1 элемента. Для вывода числа воспользуемся DF.iloc\n"
          ]
        }
      ]
    },
    {
      "cell_type": "markdown",
      "id": "a2bfff1f-c975-4bf6-84be-2185d79dcb76",
      "metadata": {
        "id": "a2bfff1f-c975-4bf6-84be-2185d79dcb76"
      },
      "source": [
        "3. Посчитате с помощью запроса количество регионов (таблица areas)."
      ]
    },
    {
      "cell_type": "code",
      "source": [
        "query_3_3 = f'''\n",
        "            select count(*) /*используем count(*) чтобы подсчитать общее число регионов*/\n",
        "            from public.areas\n",
        "            '''"
      ],
      "metadata": {
        "id": "1m8QJwBYhey6"
      },
      "id": "1m8QJwBYhey6",
      "execution_count": 10,
      "outputs": []
    },
    {
      "cell_type": "code",
      "source": [
        "count_of_areas = pd.read_sql_query(query_3_3, connection) # Получаем Датафрейм, состоящий из 1 элемента. Для вывода числа воспользуемся DF.iloc\n",
        "print('Общее число регионов -', count_of_areas.iloc[0]['count'])"
      ],
      "metadata": {
        "id": "EZsn9tlfhe7f",
        "colab": {
          "base_uri": "https://localhost:8080/"
        },
        "outputId": "4c4047f3-4d8e-4cba-a0cb-a647be5f8538"
      },
      "id": "EZsn9tlfhe7f",
      "execution_count": 11,
      "outputs": [
        {
          "output_type": "stream",
          "name": "stdout",
          "text": [
            "Общее число регионов - 1362\n"
          ]
        },
        {
          "output_type": "stream",
          "name": "stderr",
          "text": [
            "<ipython-input-11-7662abc8636c>:1: UserWarning: pandas only supports SQLAlchemy connectable (engine/connection) or database string URI or sqlite3 DBAPI2 connection. Other DBAPI2 objects are not tested. Please consider using SQLAlchemy.\n",
            "  count_of_areas = pd.read_sql_query(query_3_3, connection) # Получаем Датафрейм, состоящий из 1 элемента. Для вывода числа воспользуемся DF.iloc\n"
          ]
        }
      ]
    },
    {
      "cell_type": "markdown",
      "id": "41bb59f3-53cc-4a67-a5bc-bedf573955e4",
      "metadata": {
        "id": "41bb59f3-53cc-4a67-a5bc-bedf573955e4"
      },
      "source": [
        "4. Посчитате с помощью запроса количество сфер деятельности в базе (таблица industries)."
      ]
    },
    {
      "cell_type": "code",
      "execution_count": 12,
      "id": "d286cf4c-707b-4cd2-9190-7ab3587d04a1",
      "metadata": {
        "id": "d286cf4c-707b-4cd2-9190-7ab3587d04a1"
      },
      "outputs": [],
      "source": [
        "query_3_4 = f'''\n",
        "            select count(*) /*используем count(*) чтобы подсчитать общее число сфер деятельности*/\n",
        "            from public.industries\n",
        "            '''"
      ]
    },
    {
      "cell_type": "code",
      "source": [
        "count_of_industries = pd.read_sql_query(query_3_4, connection)\n",
        "print('Общее число сфер деятельности -', count_of_industries.iloc[0]['count'])"
      ],
      "metadata": {
        "id": "JYAaoZ4qhfzW",
        "colab": {
          "base_uri": "https://localhost:8080/"
        },
        "outputId": "7d8603f8-4f33-4b82-e8ae-fd6aaa1f31e3"
      },
      "id": "JYAaoZ4qhfzW",
      "execution_count": 13,
      "outputs": [
        {
          "output_type": "stream",
          "name": "stdout",
          "text": [
            "Общее число сфер деятельности - 294\n"
          ]
        },
        {
          "output_type": "stream",
          "name": "stderr",
          "text": [
            "<ipython-input-13-19e12afe974d>:1: UserWarning: pandas only supports SQLAlchemy connectable (engine/connection) or database string URI or sqlite3 DBAPI2 connection. Other DBAPI2 objects are not tested. Please consider using SQLAlchemy.\n",
            "  count_of_industries = pd.read_sql_query(query_3_4, connection)\n"
          ]
        }
      ]
    },
    {
      "cell_type": "markdown",
      "id": "9a8a2181-6914-448b-85f1-38f5f18b8a93",
      "metadata": {
        "id": "9a8a2181-6914-448b-85f1-38f5f18b8a93"
      },
      "source": [
        "***"
      ]
    },
    {
      "cell_type": "code",
      "execution_count": 14,
      "id": "be4e9bd3-a4db-4a20-82fb-6b02fc2957e0",
      "metadata": {
        "id": "be4e9bd3-a4db-4a20-82fb-6b02fc2957e0",
        "colab": {
          "base_uri": "https://localhost:8080/"
        },
        "outputId": "03696c2e-6747-4f79-8094-fdf380cafbc9"
      },
      "outputs": [
        {
          "output_type": "stream",
          "name": "stdout",
          "text": [
            "Общее число вакансий - 49197\n",
            "Общее число работодателей - 23501\n",
            "Общее число регионов - 1362\n",
            "Общее число сфер деятельности - 294\n"
          ]
        }
      ],
      "source": [
        "print('Общее число вакансий -', count_of_vacancies.iloc[0]['count'])\n",
        "print('Общее число работодателей -', count_of_employers.iloc[0]['count'])\n",
        "print('Общее число регионов -', count_of_areas.iloc[0]['count'])\n",
        "print('Общее число сфер деятельности -', count_of_industries.iloc[0]['count'])"
      ]
    },
    {
      "cell_type": "markdown",
      "source": [
        "### Выводы по предварительному анализу данных\n",
        "\n",
        "На основании полученной информации, можно сделать несколько базовых выводов о составе таблиц. Во-первых, наибольшее число данных представленно в таблице с вакансиями, что доказывает верность того, что именно эта таблица взята в анализе как основная.\n",
        "\n",
        "Число работодателей примерно в 2 раза меньше, чем число вакансий. Можно сделать вывод, что каждый из работодателей разместил в среднем 2-3 вакансии (конечно реальные данные могут отличаться, т.к. точное количество не было высчитано).\n",
        "\n",
        "Число регионов, равное 1362 свидетельствует о большом географическом разбросе вакансий. Возможно также, что в данных есть информация о некоторых вакансиях не на территории России, однако для доказательства этого предположения нужно более детально изучить таблицу areas.\n",
        "\n",
        "Наконец, наименьшим по числу является количество представленных сфер деятельности - всего 294. Можно предположить, что из-за отличия в написании сфер деятельности, при помощи разных регистров, или разных языков (английский, русский) число сфер деятельности получилось большим, нежели уникальное число таковых на самом деле. В ходе анализа следует дополнительно учесть данное обстоятельство, поскольку различные способы написания сфер деятельности стоит учитывать при поиске интересующего варианта для соискателя."
      ],
      "metadata": {
        "id": "up9MW3q6Cbur"
      },
      "id": "up9MW3q6Cbur"
    },
    {
      "cell_type": "markdown",
      "id": "8d62a9f3-f64e-4fe7-bdac-c4dffa16155e",
      "metadata": {
        "id": "8d62a9f3-f64e-4fe7-bdac-c4dffa16155e"
      },
      "source": [
        "# Юнит 4. Детальный анализ вакансий"
      ]
    },
    {
      "cell_type": "markdown",
      "id": "93053d3d-b284-481a-9cf7-012d7014c0e0",
      "metadata": {
        "id": "93053d3d-b284-481a-9cf7-012d7014c0e0"
      },
      "source": [
        "1. Напишите запрос, который позволит узнать, сколько (cnt) вакансий в каждом регионе (area).\n",
        "Отсортируйте по количеству вакансий в порядке убывания."
      ]
    },
    {
      "cell_type": "code",
      "execution_count": 15,
      "id": "3f069da6-fdc9-4ae7-b514-fafe2675efd3",
      "metadata": {
        "id": "3f069da6-fdc9-4ae7-b514-fafe2675efd3"
      },
      "outputs": [],
      "source": [
        "query_4_1 = f'''\n",
        "            select count(*) as \"cnt\", a.name as \"areas\"\n",
        "            from public.vacancies as v\n",
        "              join public.areas as a on v.area_id = a.id\n",
        "            group by a.name\n",
        "            order by cnt desc\n",
        "            '''\n",
        "# Объединяем наши таблицы по столбцам с идентичной информацией."
      ]
    },
    {
      "cell_type": "code",
      "source": [
        "vacancies_areas = pd.read_sql_query(query_4_1, connection)\n",
        "display(vacancies_areas.head(5))  # Выводим лидеров по числу вакансий"
      ],
      "metadata": {
        "id": "P7QL86hrjhRJ",
        "colab": {
          "base_uri": "https://localhost:8080/",
          "height": 261
        },
        "outputId": "3d957b39-e52d-4786-89de-db3605fe3ec8"
      },
      "id": "P7QL86hrjhRJ",
      "execution_count": 16,
      "outputs": [
        {
          "output_type": "stream",
          "name": "stderr",
          "text": [
            "<ipython-input-16-b33be77bde23>:1: UserWarning: pandas only supports SQLAlchemy connectable (engine/connection) or database string URI or sqlite3 DBAPI2 connection. Other DBAPI2 objects are not tested. Please consider using SQLAlchemy.\n",
            "  vacancies_areas = pd.read_sql_query(query_4_1, connection)\n"
          ]
        },
        {
          "output_type": "display_data",
          "data": {
            "text/plain": [
              "    cnt            areas\n",
              "0  5333           Москва\n",
              "1  2851  Санкт-Петербург\n",
              "2  2112            Минск\n",
              "3  2006      Новосибирск\n",
              "4  1892           Алматы"
            ],
            "text/html": [
              "\n",
              "\n",
              "  <div id=\"df-32d12651-c2b2-4257-915a-9c69bc4a6d99\">\n",
              "    <div class=\"colab-df-container\">\n",
              "      <div>\n",
              "<style scoped>\n",
              "    .dataframe tbody tr th:only-of-type {\n",
              "        vertical-align: middle;\n",
              "    }\n",
              "\n",
              "    .dataframe tbody tr th {\n",
              "        vertical-align: top;\n",
              "    }\n",
              "\n",
              "    .dataframe thead th {\n",
              "        text-align: right;\n",
              "    }\n",
              "</style>\n",
              "<table border=\"1\" class=\"dataframe\">\n",
              "  <thead>\n",
              "    <tr style=\"text-align: right;\">\n",
              "      <th></th>\n",
              "      <th>cnt</th>\n",
              "      <th>areas</th>\n",
              "    </tr>\n",
              "  </thead>\n",
              "  <tbody>\n",
              "    <tr>\n",
              "      <th>0</th>\n",
              "      <td>5333</td>\n",
              "      <td>Москва</td>\n",
              "    </tr>\n",
              "    <tr>\n",
              "      <th>1</th>\n",
              "      <td>2851</td>\n",
              "      <td>Санкт-Петербург</td>\n",
              "    </tr>\n",
              "    <tr>\n",
              "      <th>2</th>\n",
              "      <td>2112</td>\n",
              "      <td>Минск</td>\n",
              "    </tr>\n",
              "    <tr>\n",
              "      <th>3</th>\n",
              "      <td>2006</td>\n",
              "      <td>Новосибирск</td>\n",
              "    </tr>\n",
              "    <tr>\n",
              "      <th>4</th>\n",
              "      <td>1892</td>\n",
              "      <td>Алматы</td>\n",
              "    </tr>\n",
              "  </tbody>\n",
              "</table>\n",
              "</div>\n",
              "      <button class=\"colab-df-convert\" onclick=\"convertToInteractive('df-32d12651-c2b2-4257-915a-9c69bc4a6d99')\"\n",
              "              title=\"Convert this dataframe to an interactive table.\"\n",
              "              style=\"display:none;\">\n",
              "\n",
              "  <svg xmlns=\"http://www.w3.org/2000/svg\" height=\"24px\"viewBox=\"0 0 24 24\"\n",
              "       width=\"24px\">\n",
              "    <path d=\"M0 0h24v24H0V0z\" fill=\"none\"/>\n",
              "    <path d=\"M18.56 5.44l.94 2.06.94-2.06 2.06-.94-2.06-.94-.94-2.06-.94 2.06-2.06.94zm-11 1L8.5 8.5l.94-2.06 2.06-.94-2.06-.94L8.5 2.5l-.94 2.06-2.06.94zm10 10l.94 2.06.94-2.06 2.06-.94-2.06-.94-.94-2.06-.94 2.06-2.06.94z\"/><path d=\"M17.41 7.96l-1.37-1.37c-.4-.4-.92-.59-1.43-.59-.52 0-1.04.2-1.43.59L10.3 9.45l-7.72 7.72c-.78.78-.78 2.05 0 2.83L4 21.41c.39.39.9.59 1.41.59.51 0 1.02-.2 1.41-.59l7.78-7.78 2.81-2.81c.8-.78.8-2.07 0-2.86zM5.41 20L4 18.59l7.72-7.72 1.47 1.35L5.41 20z\"/>\n",
              "  </svg>\n",
              "      </button>\n",
              "\n",
              "\n",
              "\n",
              "    <div id=\"df-702704af-c163-42e4-8b1a-753079c09f78\">\n",
              "      <button class=\"colab-df-quickchart\" onclick=\"quickchart('df-702704af-c163-42e4-8b1a-753079c09f78')\"\n",
              "              title=\"Suggest charts.\"\n",
              "              style=\"display:none;\">\n",
              "\n",
              "<svg xmlns=\"http://www.w3.org/2000/svg\" height=\"24px\"viewBox=\"0 0 24 24\"\n",
              "     width=\"24px\">\n",
              "    <g>\n",
              "        <path d=\"M19 3H5c-1.1 0-2 .9-2 2v14c0 1.1.9 2 2 2h14c1.1 0 2-.9 2-2V5c0-1.1-.9-2-2-2zM9 17H7v-7h2v7zm4 0h-2V7h2v10zm4 0h-2v-4h2v4z\"/>\n",
              "    </g>\n",
              "</svg>\n",
              "      </button>\n",
              "    </div>\n",
              "\n",
              "<style>\n",
              "  .colab-df-quickchart {\n",
              "    background-color: #E8F0FE;\n",
              "    border: none;\n",
              "    border-radius: 50%;\n",
              "    cursor: pointer;\n",
              "    display: none;\n",
              "    fill: #1967D2;\n",
              "    height: 32px;\n",
              "    padding: 0 0 0 0;\n",
              "    width: 32px;\n",
              "  }\n",
              "\n",
              "  .colab-df-quickchart:hover {\n",
              "    background-color: #E2EBFA;\n",
              "    box-shadow: 0px 1px 2px rgba(60, 64, 67, 0.3), 0px 1px 3px 1px rgba(60, 64, 67, 0.15);\n",
              "    fill: #174EA6;\n",
              "  }\n",
              "\n",
              "  [theme=dark] .colab-df-quickchart {\n",
              "    background-color: #3B4455;\n",
              "    fill: #D2E3FC;\n",
              "  }\n",
              "\n",
              "  [theme=dark] .colab-df-quickchart:hover {\n",
              "    background-color: #434B5C;\n",
              "    box-shadow: 0px 1px 3px 1px rgba(0, 0, 0, 0.15);\n",
              "    filter: drop-shadow(0px 1px 2px rgba(0, 0, 0, 0.3));\n",
              "    fill: #FFFFFF;\n",
              "  }\n",
              "</style>\n",
              "\n",
              "    <script>\n",
              "      async function quickchart(key) {\n",
              "        const containerElement = document.querySelector('#' + key);\n",
              "        const charts = await google.colab.kernel.invokeFunction(\n",
              "            'suggestCharts', [key], {});\n",
              "      }\n",
              "    </script>\n",
              "\n",
              "      <script>\n",
              "\n",
              "function displayQuickchartButton(domScope) {\n",
              "  let quickchartButtonEl =\n",
              "    domScope.querySelector('#df-702704af-c163-42e4-8b1a-753079c09f78 button.colab-df-quickchart');\n",
              "  quickchartButtonEl.style.display =\n",
              "    google.colab.kernel.accessAllowed ? 'block' : 'none';\n",
              "}\n",
              "\n",
              "        displayQuickchartButton(document);\n",
              "      </script>\n",
              "      <style>\n",
              "    .colab-df-container {\n",
              "      display:flex;\n",
              "      flex-wrap:wrap;\n",
              "      gap: 12px;\n",
              "    }\n",
              "\n",
              "    .colab-df-convert {\n",
              "      background-color: #E8F0FE;\n",
              "      border: none;\n",
              "      border-radius: 50%;\n",
              "      cursor: pointer;\n",
              "      display: none;\n",
              "      fill: #1967D2;\n",
              "      height: 32px;\n",
              "      padding: 0 0 0 0;\n",
              "      width: 32px;\n",
              "    }\n",
              "\n",
              "    .colab-df-convert:hover {\n",
              "      background-color: #E2EBFA;\n",
              "      box-shadow: 0px 1px 2px rgba(60, 64, 67, 0.3), 0px 1px 3px 1px rgba(60, 64, 67, 0.15);\n",
              "      fill: #174EA6;\n",
              "    }\n",
              "\n",
              "    [theme=dark] .colab-df-convert {\n",
              "      background-color: #3B4455;\n",
              "      fill: #D2E3FC;\n",
              "    }\n",
              "\n",
              "    [theme=dark] .colab-df-convert:hover {\n",
              "      background-color: #434B5C;\n",
              "      box-shadow: 0px 1px 3px 1px rgba(0, 0, 0, 0.15);\n",
              "      filter: drop-shadow(0px 1px 2px rgba(0, 0, 0, 0.3));\n",
              "      fill: #FFFFFF;\n",
              "    }\n",
              "  </style>\n",
              "\n",
              "      <script>\n",
              "        const buttonEl =\n",
              "          document.querySelector('#df-32d12651-c2b2-4257-915a-9c69bc4a6d99 button.colab-df-convert');\n",
              "        buttonEl.style.display =\n",
              "          google.colab.kernel.accessAllowed ? 'block' : 'none';\n",
              "\n",
              "        async function convertToInteractive(key) {\n",
              "          const element = document.querySelector('#df-32d12651-c2b2-4257-915a-9c69bc4a6d99');\n",
              "          const dataTable =\n",
              "            await google.colab.kernel.invokeFunction('convertToInteractive',\n",
              "                                                     [key], {});\n",
              "          if (!dataTable) return;\n",
              "\n",
              "          const docLinkHtml = 'Like what you see? Visit the ' +\n",
              "            '<a target=\"_blank\" href=https://colab.research.google.com/notebooks/data_table.ipynb>data table notebook</a>'\n",
              "            + ' to learn more about interactive tables.';\n",
              "          element.innerHTML = '';\n",
              "          dataTable['output_type'] = 'display_data';\n",
              "          await google.colab.output.renderOutput(dataTable, element);\n",
              "          const docLink = document.createElement('div');\n",
              "          docLink.innerHTML = docLinkHtml;\n",
              "          element.appendChild(docLink);\n",
              "        }\n",
              "      </script>\n",
              "    </div>\n",
              "  </div>\n"
            ]
          },
          "metadata": {}
        }
      ]
    },
    {
      "cell_type": "markdown",
      "id": "4266f0b6-1646-492a-88b4-2f6a46502135",
      "metadata": {
        "id": "4266f0b6-1646-492a-88b4-2f6a46502135"
      },
      "source": [
        "2. Напишите запрос, чтобы определить у какого количества вакансий заполнено хотя бы одно из двух полей с зарплатой."
      ]
    },
    {
      "cell_type": "code",
      "execution_count": 17,
      "id": "0c44b350-72eb-4d65-8b54-a1fc449ba9fd",
      "metadata": {
        "id": "0c44b350-72eb-4d65-8b54-a1fc449ba9fd"
      },
      "outputs": [],
      "source": [
        "query_4_2 = f'''\n",
        "            select count(*)\n",
        "            from public.vacancies as v\n",
        "            where v.salary_from is not null or v.salary_to is not null\n",
        "            '''"
      ]
    },
    {
      "cell_type": "code",
      "source": [
        "completed_salary = pd.read_sql_query(query_4_2, connection)\n",
        "print('Число вакансий, в которых заполнено хотя бы одно поле зарплаты -', completed_salary.iloc[0]['count'])"
      ],
      "metadata": {
        "id": "rhvwaMDkoWTi",
        "colab": {
          "base_uri": "https://localhost:8080/"
        },
        "outputId": "2d0dd2fd-5bce-4c3f-a8dc-52960606ef1a"
      },
      "id": "rhvwaMDkoWTi",
      "execution_count": 18,
      "outputs": [
        {
          "output_type": "stream",
          "name": "stdout",
          "text": [
            "Число вакансий, в которых заполнено хотя бы одно поле зарплаты - 24073\n"
          ]
        },
        {
          "output_type": "stream",
          "name": "stderr",
          "text": [
            "<ipython-input-18-8f48c862835d>:1: UserWarning: pandas only supports SQLAlchemy connectable (engine/connection) or database string URI or sqlite3 DBAPI2 connection. Other DBAPI2 objects are not tested. Please consider using SQLAlchemy.\n",
            "  completed_salary = pd.read_sql_query(query_4_2, connection)\n"
          ]
        }
      ]
    },
    {
      "cell_type": "markdown",
      "id": "635c4d5d-f323-4c66-b428-50a088120aa0",
      "metadata": {
        "id": "635c4d5d-f323-4c66-b428-50a088120aa0"
      },
      "source": [
        "3. Найдите средние значения для нижней и верхней границы зарплатной вилки. Округлите значения до целого."
      ]
    },
    {
      "cell_type": "code",
      "execution_count": 19,
      "id": "603cdbe4-0ec3-4106-8eaf-c73fcdd29165",
      "metadata": {
        "id": "603cdbe4-0ec3-4106-8eaf-c73fcdd29165"
      },
      "outputs": [],
      "source": [
        "query_4_3 = f'''\n",
        "            select round(avg(v.salary_from)) as \"Нижняя граница зарплатной вилки\", round(avg(v.salary_to)) as \"Верхняя граница зарплатной вилки\"\n",
        "            from public.vacancies as v\n",
        "            '''"
      ]
    },
    {
      "cell_type": "code",
      "source": [
        "salary_mean = pd.read_sql_query(query_4_3, connection)\n",
        "print('Средняя нижняя граница зарплатной вилки, округленная до целого, равна -', salary_mean.iloc[0]['Нижняя граница зарплатной вилки'] , 'рублей')\n",
        "print('Средняя верхняя граница зарплатной вилки, округленная до целого, равна -', salary_mean.iloc[0]['Верхняя граница зарплатной вилки'] , 'рублей')"
      ],
      "metadata": {
        "id": "pswpAb66ovZZ",
        "colab": {
          "base_uri": "https://localhost:8080/"
        },
        "outputId": "309520b9-6260-4fe5-f421-e363c9b16e62"
      },
      "id": "pswpAb66ovZZ",
      "execution_count": 20,
      "outputs": [
        {
          "output_type": "stream",
          "name": "stdout",
          "text": [
            "Средняя нижняя граница зарплатной вилки, округленная до целого, равна - 71065.0 рублей\n",
            "Средняя верхняя граница зарплатной вилки, округленная до целого, равна - 110537.0 рублей\n"
          ]
        },
        {
          "output_type": "stream",
          "name": "stderr",
          "text": [
            "<ipython-input-20-615c01aa95b5>:1: UserWarning: pandas only supports SQLAlchemy connectable (engine/connection) or database string URI or sqlite3 DBAPI2 connection. Other DBAPI2 objects are not tested. Please consider using SQLAlchemy.\n",
            "  salary_mean = pd.read_sql_query(query_4_3, connection)\n"
          ]
        }
      ]
    },
    {
      "cell_type": "markdown",
      "id": "f3fdaec9-5fd3-4260-9cf5-1d7406b628a5",
      "metadata": {
        "id": "f3fdaec9-5fd3-4260-9cf5-1d7406b628a5"
      },
      "source": [
        "4. Напишите запрос, который выведет количество вакансий для каждого сочетания типа рабочего графика (schedule) и типа трудоустройства (employment), используемого в вакансиях. Результат отсортируйте по убыванию количества.\n"
      ]
    },
    {
      "cell_type": "code",
      "execution_count": 21,
      "id": "1ea710ec-871b-431e-9462-c7d0fd87011b",
      "metadata": {
        "id": "1ea710ec-871b-431e-9462-c7d0fd87011b"
      },
      "outputs": [],
      "source": [
        "query_4_4 = f'''\n",
        "            select v.schedule as \"Тип рабочего графика\", v.employment as \"Тип трудоустройства\", count(*) as \"Количество вакансий\"\n",
        "            from public.vacancies as v\n",
        "            group by v.schedule, v.employment\n",
        "            order by \"Количество вакансий\" desc\n",
        "            '''"
      ]
    },
    {
      "cell_type": "code",
      "source": [
        "schedule_employment = pd.read_sql_query(query_4_4, connection)\n",
        "display(schedule_employment.head()) # Верхняя часть созданного Датафрейма\n",
        "print('Второе по популярности сочетание рабочего графика и типа трудоустроства:', schedule_employment.iloc[1], sep='\\n')"
      ],
      "metadata": {
        "id": "lGUVqavdo4JQ",
        "colab": {
          "base_uri": "https://localhost:8080/",
          "height": 347
        },
        "outputId": "6b58869a-cb56-40d3-b453-95c99f0d71e0"
      },
      "id": "lGUVqavdo4JQ",
      "execution_count": 22,
      "outputs": [
        {
          "output_type": "stream",
          "name": "stderr",
          "text": [
            "<ipython-input-22-d8e85c57843b>:1: UserWarning: pandas only supports SQLAlchemy connectable (engine/connection) or database string URI or sqlite3 DBAPI2 connection. Other DBAPI2 objects are not tested. Please consider using SQLAlchemy.\n",
            "  schedule_employment = pd.read_sql_query(query_4_4, connection)\n"
          ]
        },
        {
          "output_type": "display_data",
          "data": {
            "text/plain": [
              "  Тип рабочего графика  Тип трудоустройства  Количество вакансий\n",
              "0          Полный день     Полная занятость                35367\n",
              "1     Удаленная работа     Полная занятость                 7802\n",
              "2        Гибкий график     Полная занятость                 1593\n",
              "3     Удаленная работа  Частичная занятость                 1312\n",
              "4       Сменный график     Полная занятость                  940"
            ],
            "text/html": [
              "\n",
              "\n",
              "  <div id=\"df-24f4cc13-a363-48c7-ae45-db47e6e34d6a\">\n",
              "    <div class=\"colab-df-container\">\n",
              "      <div>\n",
              "<style scoped>\n",
              "    .dataframe tbody tr th:only-of-type {\n",
              "        vertical-align: middle;\n",
              "    }\n",
              "\n",
              "    .dataframe tbody tr th {\n",
              "        vertical-align: top;\n",
              "    }\n",
              "\n",
              "    .dataframe thead th {\n",
              "        text-align: right;\n",
              "    }\n",
              "</style>\n",
              "<table border=\"1\" class=\"dataframe\">\n",
              "  <thead>\n",
              "    <tr style=\"text-align: right;\">\n",
              "      <th></th>\n",
              "      <th>Тип рабочего графика</th>\n",
              "      <th>Тип трудоустройства</th>\n",
              "      <th>Количество вакансий</th>\n",
              "    </tr>\n",
              "  </thead>\n",
              "  <tbody>\n",
              "    <tr>\n",
              "      <th>0</th>\n",
              "      <td>Полный день</td>\n",
              "      <td>Полная занятость</td>\n",
              "      <td>35367</td>\n",
              "    </tr>\n",
              "    <tr>\n",
              "      <th>1</th>\n",
              "      <td>Удаленная работа</td>\n",
              "      <td>Полная занятость</td>\n",
              "      <td>7802</td>\n",
              "    </tr>\n",
              "    <tr>\n",
              "      <th>2</th>\n",
              "      <td>Гибкий график</td>\n",
              "      <td>Полная занятость</td>\n",
              "      <td>1593</td>\n",
              "    </tr>\n",
              "    <tr>\n",
              "      <th>3</th>\n",
              "      <td>Удаленная работа</td>\n",
              "      <td>Частичная занятость</td>\n",
              "      <td>1312</td>\n",
              "    </tr>\n",
              "    <tr>\n",
              "      <th>4</th>\n",
              "      <td>Сменный график</td>\n",
              "      <td>Полная занятость</td>\n",
              "      <td>940</td>\n",
              "    </tr>\n",
              "  </tbody>\n",
              "</table>\n",
              "</div>\n",
              "      <button class=\"colab-df-convert\" onclick=\"convertToInteractive('df-24f4cc13-a363-48c7-ae45-db47e6e34d6a')\"\n",
              "              title=\"Convert this dataframe to an interactive table.\"\n",
              "              style=\"display:none;\">\n",
              "\n",
              "  <svg xmlns=\"http://www.w3.org/2000/svg\" height=\"24px\"viewBox=\"0 0 24 24\"\n",
              "       width=\"24px\">\n",
              "    <path d=\"M0 0h24v24H0V0z\" fill=\"none\"/>\n",
              "    <path d=\"M18.56 5.44l.94 2.06.94-2.06 2.06-.94-2.06-.94-.94-2.06-.94 2.06-2.06.94zm-11 1L8.5 8.5l.94-2.06 2.06-.94-2.06-.94L8.5 2.5l-.94 2.06-2.06.94zm10 10l.94 2.06.94-2.06 2.06-.94-2.06-.94-.94-2.06-.94 2.06-2.06.94z\"/><path d=\"M17.41 7.96l-1.37-1.37c-.4-.4-.92-.59-1.43-.59-.52 0-1.04.2-1.43.59L10.3 9.45l-7.72 7.72c-.78.78-.78 2.05 0 2.83L4 21.41c.39.39.9.59 1.41.59.51 0 1.02-.2 1.41-.59l7.78-7.78 2.81-2.81c.8-.78.8-2.07 0-2.86zM5.41 20L4 18.59l7.72-7.72 1.47 1.35L5.41 20z\"/>\n",
              "  </svg>\n",
              "      </button>\n",
              "\n",
              "\n",
              "\n",
              "    <div id=\"df-ac64bcc1-39e0-494f-8875-4a38d78428d9\">\n",
              "      <button class=\"colab-df-quickchart\" onclick=\"quickchart('df-ac64bcc1-39e0-494f-8875-4a38d78428d9')\"\n",
              "              title=\"Suggest charts.\"\n",
              "              style=\"display:none;\">\n",
              "\n",
              "<svg xmlns=\"http://www.w3.org/2000/svg\" height=\"24px\"viewBox=\"0 0 24 24\"\n",
              "     width=\"24px\">\n",
              "    <g>\n",
              "        <path d=\"M19 3H5c-1.1 0-2 .9-2 2v14c0 1.1.9 2 2 2h14c1.1 0 2-.9 2-2V5c0-1.1-.9-2-2-2zM9 17H7v-7h2v7zm4 0h-2V7h2v10zm4 0h-2v-4h2v4z\"/>\n",
              "    </g>\n",
              "</svg>\n",
              "      </button>\n",
              "    </div>\n",
              "\n",
              "<style>\n",
              "  .colab-df-quickchart {\n",
              "    background-color: #E8F0FE;\n",
              "    border: none;\n",
              "    border-radius: 50%;\n",
              "    cursor: pointer;\n",
              "    display: none;\n",
              "    fill: #1967D2;\n",
              "    height: 32px;\n",
              "    padding: 0 0 0 0;\n",
              "    width: 32px;\n",
              "  }\n",
              "\n",
              "  .colab-df-quickchart:hover {\n",
              "    background-color: #E2EBFA;\n",
              "    box-shadow: 0px 1px 2px rgba(60, 64, 67, 0.3), 0px 1px 3px 1px rgba(60, 64, 67, 0.15);\n",
              "    fill: #174EA6;\n",
              "  }\n",
              "\n",
              "  [theme=dark] .colab-df-quickchart {\n",
              "    background-color: #3B4455;\n",
              "    fill: #D2E3FC;\n",
              "  }\n",
              "\n",
              "  [theme=dark] .colab-df-quickchart:hover {\n",
              "    background-color: #434B5C;\n",
              "    box-shadow: 0px 1px 3px 1px rgba(0, 0, 0, 0.15);\n",
              "    filter: drop-shadow(0px 1px 2px rgba(0, 0, 0, 0.3));\n",
              "    fill: #FFFFFF;\n",
              "  }\n",
              "</style>\n",
              "\n",
              "    <script>\n",
              "      async function quickchart(key) {\n",
              "        const containerElement = document.querySelector('#' + key);\n",
              "        const charts = await google.colab.kernel.invokeFunction(\n",
              "            'suggestCharts', [key], {});\n",
              "      }\n",
              "    </script>\n",
              "\n",
              "      <script>\n",
              "\n",
              "function displayQuickchartButton(domScope) {\n",
              "  let quickchartButtonEl =\n",
              "    domScope.querySelector('#df-ac64bcc1-39e0-494f-8875-4a38d78428d9 button.colab-df-quickchart');\n",
              "  quickchartButtonEl.style.display =\n",
              "    google.colab.kernel.accessAllowed ? 'block' : 'none';\n",
              "}\n",
              "\n",
              "        displayQuickchartButton(document);\n",
              "      </script>\n",
              "      <style>\n",
              "    .colab-df-container {\n",
              "      display:flex;\n",
              "      flex-wrap:wrap;\n",
              "      gap: 12px;\n",
              "    }\n",
              "\n",
              "    .colab-df-convert {\n",
              "      background-color: #E8F0FE;\n",
              "      border: none;\n",
              "      border-radius: 50%;\n",
              "      cursor: pointer;\n",
              "      display: none;\n",
              "      fill: #1967D2;\n",
              "      height: 32px;\n",
              "      padding: 0 0 0 0;\n",
              "      width: 32px;\n",
              "    }\n",
              "\n",
              "    .colab-df-convert:hover {\n",
              "      background-color: #E2EBFA;\n",
              "      box-shadow: 0px 1px 2px rgba(60, 64, 67, 0.3), 0px 1px 3px 1px rgba(60, 64, 67, 0.15);\n",
              "      fill: #174EA6;\n",
              "    }\n",
              "\n",
              "    [theme=dark] .colab-df-convert {\n",
              "      background-color: #3B4455;\n",
              "      fill: #D2E3FC;\n",
              "    }\n",
              "\n",
              "    [theme=dark] .colab-df-convert:hover {\n",
              "      background-color: #434B5C;\n",
              "      box-shadow: 0px 1px 3px 1px rgba(0, 0, 0, 0.15);\n",
              "      filter: drop-shadow(0px 1px 2px rgba(0, 0, 0, 0.3));\n",
              "      fill: #FFFFFF;\n",
              "    }\n",
              "  </style>\n",
              "\n",
              "      <script>\n",
              "        const buttonEl =\n",
              "          document.querySelector('#df-24f4cc13-a363-48c7-ae45-db47e6e34d6a button.colab-df-convert');\n",
              "        buttonEl.style.display =\n",
              "          google.colab.kernel.accessAllowed ? 'block' : 'none';\n",
              "\n",
              "        async function convertToInteractive(key) {\n",
              "          const element = document.querySelector('#df-24f4cc13-a363-48c7-ae45-db47e6e34d6a');\n",
              "          const dataTable =\n",
              "            await google.colab.kernel.invokeFunction('convertToInteractive',\n",
              "                                                     [key], {});\n",
              "          if (!dataTable) return;\n",
              "\n",
              "          const docLinkHtml = 'Like what you see? Visit the ' +\n",
              "            '<a target=\"_blank\" href=https://colab.research.google.com/notebooks/data_table.ipynb>data table notebook</a>'\n",
              "            + ' to learn more about interactive tables.';\n",
              "          element.innerHTML = '';\n",
              "          dataTable['output_type'] = 'display_data';\n",
              "          await google.colab.output.renderOutput(dataTable, element);\n",
              "          const docLink = document.createElement('div');\n",
              "          docLink.innerHTML = docLinkHtml;\n",
              "          element.appendChild(docLink);\n",
              "        }\n",
              "      </script>\n",
              "    </div>\n",
              "  </div>\n"
            ]
          },
          "metadata": {}
        },
        {
          "output_type": "stream",
          "name": "stdout",
          "text": [
            "Второе по популярности сочетание рабочего графика и типа трудоустроства:\n",
            "Тип рабочего графика    Удаленная работа\n",
            "Тип трудоустройства     Полная занятость\n",
            "Количество вакансий                 7802\n",
            "Name: 1, dtype: object\n"
          ]
        }
      ]
    },
    {
      "cell_type": "markdown",
      "id": "0136ffee-0ead-4a6b-b608-61d1c753a438",
      "metadata": {
        "id": "0136ffee-0ead-4a6b-b608-61d1c753a438"
      },
      "source": [
        "5. Напишите запрос, выводящий значения поля Требуемый опыт работы (experience) в порядке возрастания количества вакансий, в которых указан данный вариант опыта."
      ]
    },
    {
      "cell_type": "code",
      "execution_count": 23,
      "id": "5b3a8e79-f7ab-4008-b767-12aea3a205ea",
      "metadata": {
        "id": "5b3a8e79-f7ab-4008-b767-12aea3a205ea"
      },
      "outputs": [],
      "source": [
        "query_4_5 = f'''\n",
        "            select v.experience as \"Требуемый опыт работы\", count(*) as \"Число вакансий\"\n",
        "            from public.vacancies as v\n",
        "            group by v.experience\n",
        "            order by  \"Число вакансий\" asc\n",
        "\n",
        "            '''"
      ]
    },
    {
      "cell_type": "code",
      "source": [
        "experience_count = pd.read_sql_query(query_4_5, connection)\n",
        "display(experience_count)"
      ],
      "metadata": {
        "id": "3Is64Y-hpDpq",
        "colab": {
          "base_uri": "https://localhost:8080/",
          "height": 229
        },
        "outputId": "611d4526-70ca-46ee-cf5e-f5ee1bf24b7b"
      },
      "id": "3Is64Y-hpDpq",
      "execution_count": 24,
      "outputs": [
        {
          "output_type": "stream",
          "name": "stderr",
          "text": [
            "<ipython-input-24-763d9372d4da>:1: UserWarning: pandas only supports SQLAlchemy connectable (engine/connection) or database string URI or sqlite3 DBAPI2 connection. Other DBAPI2 objects are not tested. Please consider using SQLAlchemy.\n",
            "  experience_count = pd.read_sql_query(query_4_5, connection)\n"
          ]
        },
        {
          "output_type": "display_data",
          "data": {
            "text/plain": [
              "  Требуемый опыт работы  Число вакансий\n",
              "0           Более 6 лет            1337\n",
              "1             Нет опыта            7197\n",
              "2         От 3 до 6 лет           14511\n",
              "3    От 1 года до 3 лет           26152"
            ],
            "text/html": [
              "\n",
              "\n",
              "  <div id=\"df-b8dd0ec1-113d-4a32-9b6d-852e050150d8\">\n",
              "    <div class=\"colab-df-container\">\n",
              "      <div>\n",
              "<style scoped>\n",
              "    .dataframe tbody tr th:only-of-type {\n",
              "        vertical-align: middle;\n",
              "    }\n",
              "\n",
              "    .dataframe tbody tr th {\n",
              "        vertical-align: top;\n",
              "    }\n",
              "\n",
              "    .dataframe thead th {\n",
              "        text-align: right;\n",
              "    }\n",
              "</style>\n",
              "<table border=\"1\" class=\"dataframe\">\n",
              "  <thead>\n",
              "    <tr style=\"text-align: right;\">\n",
              "      <th></th>\n",
              "      <th>Требуемый опыт работы</th>\n",
              "      <th>Число вакансий</th>\n",
              "    </tr>\n",
              "  </thead>\n",
              "  <tbody>\n",
              "    <tr>\n",
              "      <th>0</th>\n",
              "      <td>Более 6 лет</td>\n",
              "      <td>1337</td>\n",
              "    </tr>\n",
              "    <tr>\n",
              "      <th>1</th>\n",
              "      <td>Нет опыта</td>\n",
              "      <td>7197</td>\n",
              "    </tr>\n",
              "    <tr>\n",
              "      <th>2</th>\n",
              "      <td>От 3 до 6 лет</td>\n",
              "      <td>14511</td>\n",
              "    </tr>\n",
              "    <tr>\n",
              "      <th>3</th>\n",
              "      <td>От 1 года до 3 лет</td>\n",
              "      <td>26152</td>\n",
              "    </tr>\n",
              "  </tbody>\n",
              "</table>\n",
              "</div>\n",
              "      <button class=\"colab-df-convert\" onclick=\"convertToInteractive('df-b8dd0ec1-113d-4a32-9b6d-852e050150d8')\"\n",
              "              title=\"Convert this dataframe to an interactive table.\"\n",
              "              style=\"display:none;\">\n",
              "\n",
              "  <svg xmlns=\"http://www.w3.org/2000/svg\" height=\"24px\"viewBox=\"0 0 24 24\"\n",
              "       width=\"24px\">\n",
              "    <path d=\"M0 0h24v24H0V0z\" fill=\"none\"/>\n",
              "    <path d=\"M18.56 5.44l.94 2.06.94-2.06 2.06-.94-2.06-.94-.94-2.06-.94 2.06-2.06.94zm-11 1L8.5 8.5l.94-2.06 2.06-.94-2.06-.94L8.5 2.5l-.94 2.06-2.06.94zm10 10l.94 2.06.94-2.06 2.06-.94-2.06-.94-.94-2.06-.94 2.06-2.06.94z\"/><path d=\"M17.41 7.96l-1.37-1.37c-.4-.4-.92-.59-1.43-.59-.52 0-1.04.2-1.43.59L10.3 9.45l-7.72 7.72c-.78.78-.78 2.05 0 2.83L4 21.41c.39.39.9.59 1.41.59.51 0 1.02-.2 1.41-.59l7.78-7.78 2.81-2.81c.8-.78.8-2.07 0-2.86zM5.41 20L4 18.59l7.72-7.72 1.47 1.35L5.41 20z\"/>\n",
              "  </svg>\n",
              "      </button>\n",
              "\n",
              "\n",
              "\n",
              "    <div id=\"df-8840fca3-69e4-49e1-9374-b7f2ac5f6b71\">\n",
              "      <button class=\"colab-df-quickchart\" onclick=\"quickchart('df-8840fca3-69e4-49e1-9374-b7f2ac5f6b71')\"\n",
              "              title=\"Suggest charts.\"\n",
              "              style=\"display:none;\">\n",
              "\n",
              "<svg xmlns=\"http://www.w3.org/2000/svg\" height=\"24px\"viewBox=\"0 0 24 24\"\n",
              "     width=\"24px\">\n",
              "    <g>\n",
              "        <path d=\"M19 3H5c-1.1 0-2 .9-2 2v14c0 1.1.9 2 2 2h14c1.1 0 2-.9 2-2V5c0-1.1-.9-2-2-2zM9 17H7v-7h2v7zm4 0h-2V7h2v10zm4 0h-2v-4h2v4z\"/>\n",
              "    </g>\n",
              "</svg>\n",
              "      </button>\n",
              "    </div>\n",
              "\n",
              "<style>\n",
              "  .colab-df-quickchart {\n",
              "    background-color: #E8F0FE;\n",
              "    border: none;\n",
              "    border-radius: 50%;\n",
              "    cursor: pointer;\n",
              "    display: none;\n",
              "    fill: #1967D2;\n",
              "    height: 32px;\n",
              "    padding: 0 0 0 0;\n",
              "    width: 32px;\n",
              "  }\n",
              "\n",
              "  .colab-df-quickchart:hover {\n",
              "    background-color: #E2EBFA;\n",
              "    box-shadow: 0px 1px 2px rgba(60, 64, 67, 0.3), 0px 1px 3px 1px rgba(60, 64, 67, 0.15);\n",
              "    fill: #174EA6;\n",
              "  }\n",
              "\n",
              "  [theme=dark] .colab-df-quickchart {\n",
              "    background-color: #3B4455;\n",
              "    fill: #D2E3FC;\n",
              "  }\n",
              "\n",
              "  [theme=dark] .colab-df-quickchart:hover {\n",
              "    background-color: #434B5C;\n",
              "    box-shadow: 0px 1px 3px 1px rgba(0, 0, 0, 0.15);\n",
              "    filter: drop-shadow(0px 1px 2px rgba(0, 0, 0, 0.3));\n",
              "    fill: #FFFFFF;\n",
              "  }\n",
              "</style>\n",
              "\n",
              "    <script>\n",
              "      async function quickchart(key) {\n",
              "        const containerElement = document.querySelector('#' + key);\n",
              "        const charts = await google.colab.kernel.invokeFunction(\n",
              "            'suggestCharts', [key], {});\n",
              "      }\n",
              "    </script>\n",
              "\n",
              "      <script>\n",
              "\n",
              "function displayQuickchartButton(domScope) {\n",
              "  let quickchartButtonEl =\n",
              "    domScope.querySelector('#df-8840fca3-69e4-49e1-9374-b7f2ac5f6b71 button.colab-df-quickchart');\n",
              "  quickchartButtonEl.style.display =\n",
              "    google.colab.kernel.accessAllowed ? 'block' : 'none';\n",
              "}\n",
              "\n",
              "        displayQuickchartButton(document);\n",
              "      </script>\n",
              "      <style>\n",
              "    .colab-df-container {\n",
              "      display:flex;\n",
              "      flex-wrap:wrap;\n",
              "      gap: 12px;\n",
              "    }\n",
              "\n",
              "    .colab-df-convert {\n",
              "      background-color: #E8F0FE;\n",
              "      border: none;\n",
              "      border-radius: 50%;\n",
              "      cursor: pointer;\n",
              "      display: none;\n",
              "      fill: #1967D2;\n",
              "      height: 32px;\n",
              "      padding: 0 0 0 0;\n",
              "      width: 32px;\n",
              "    }\n",
              "\n",
              "    .colab-df-convert:hover {\n",
              "      background-color: #E2EBFA;\n",
              "      box-shadow: 0px 1px 2px rgba(60, 64, 67, 0.3), 0px 1px 3px 1px rgba(60, 64, 67, 0.15);\n",
              "      fill: #174EA6;\n",
              "    }\n",
              "\n",
              "    [theme=dark] .colab-df-convert {\n",
              "      background-color: #3B4455;\n",
              "      fill: #D2E3FC;\n",
              "    }\n",
              "\n",
              "    [theme=dark] .colab-df-convert:hover {\n",
              "      background-color: #434B5C;\n",
              "      box-shadow: 0px 1px 3px 1px rgba(0, 0, 0, 0.15);\n",
              "      filter: drop-shadow(0px 1px 2px rgba(0, 0, 0, 0.3));\n",
              "      fill: #FFFFFF;\n",
              "    }\n",
              "  </style>\n",
              "\n",
              "      <script>\n",
              "        const buttonEl =\n",
              "          document.querySelector('#df-b8dd0ec1-113d-4a32-9b6d-852e050150d8 button.colab-df-convert');\n",
              "        buttonEl.style.display =\n",
              "          google.colab.kernel.accessAllowed ? 'block' : 'none';\n",
              "\n",
              "        async function convertToInteractive(key) {\n",
              "          const element = document.querySelector('#df-b8dd0ec1-113d-4a32-9b6d-852e050150d8');\n",
              "          const dataTable =\n",
              "            await google.colab.kernel.invokeFunction('convertToInteractive',\n",
              "                                                     [key], {});\n",
              "          if (!dataTable) return;\n",
              "\n",
              "          const docLinkHtml = 'Like what you see? Visit the ' +\n",
              "            '<a target=\"_blank\" href=https://colab.research.google.com/notebooks/data_table.ipynb>data table notebook</a>'\n",
              "            + ' to learn more about interactive tables.';\n",
              "          element.innerHTML = '';\n",
              "          dataTable['output_type'] = 'display_data';\n",
              "          await google.colab.output.renderOutput(dataTable, element);\n",
              "          const docLink = document.createElement('div');\n",
              "          docLink.innerHTML = docLinkHtml;\n",
              "          element.appendChild(docLink);\n",
              "        }\n",
              "      </script>\n",
              "    </div>\n",
              "  </div>\n"
            ]
          },
          "metadata": {}
        }
      ]
    },
    {
      "cell_type": "markdown",
      "source": [
        "***"
      ],
      "metadata": {
        "id": "oq2b7n1QpIka"
      },
      "id": "oq2b7n1QpIka"
    },
    {
      "cell_type": "markdown",
      "source": [
        "### Выводы по детальному анализу вакансий\n",
        "\n",
        "Во время решения задания 4.1 были получены полезные сведения о городах, с наибольшим числом размещенных вакансий. В топ-5 городов по числу вакансий вошли топ-3 города России по населению (Москва, Санкт-Петербург и Новосибирск), а также два города с наибольшим число жителей Казахстана (Алматы) и Республики Беларусь (Минск). Также получило подтверждение теория, выдвинутая по выводам предварительного анализа данных, а именно - наличие в базе вакансий не только России, но и других стран, таких как Казахстан и Беларусь.\n",
        "\n",
        "При решении задания 4.2 было найдено число вакансий, в которых заполнено хотя бы одно поле с заработной платой. Число таковых вакансий - 24073, то есть менее 50% от числа всех вакансий. Графа с заработной платой очень сильно влияет на желание соискателя пойти на собеседование на ту, или иную должность, поскольку отсутствие четких рамок, или хотя бы четкой нижней (верхней) границы в зарплатах может служить триггером для отказа от собеседования, в пользу той компании, где данная граница записана, ввиду страха быть обманутым, или нежелания соискателя идти туда, где платят неизвестное количество денег.\n",
        "\n",
        "Задание 4.3 помогло понять, как в среднем выглядит зарплатная вилка для вакансий. В среднем соискатель может рассчитывать на заработную плату в размере от 71065 рублей, до 110537 рублей. Эти данные могут помочь в будущем при отбрасывании значений, которые являются экстремально большими, или мелкими по сравнению с нормальной зарплатной вилкой.\n",
        "\n",
        "Предпоследнее задание дало нам возможность понять, какого соотношение типа рабочего графика и типа трудоустройства и количество вакансий по данным соотношениям. Наиболее популярным является сочетание \"полный день - полная занятость\", на втором месте \"удаленная работа - полная занятость\" и замыкает тройку лидеров \"гибкий график - полная занятость\". Как видно, во всех вариантах присутствует полная занятость, следовательно у соискателя больше шансов найти работу, если он готов к работе в стандартном режиме 5/2 по 8 часов в день, чем при других вариантах времени работы.\n",
        "\n",
        "Наконец, решение задания 4.5 дало нам возможность понять, какого число вакансий по требуемому опыту работы. Больше всего вакансий, подразумевают наличие опыта \"от 1 года до 3 лет\", в 2 раза меньше вакансий требуют опыт \"от 3 до 6 лет\", что соответствует уровню middle-senior, на предпоследнем месте вакансии, не требующие опыта работы. Наименьшее число представленных вакансий предполагает наличие опыта от 6 лет и более, что соответствует уровню senior-lead. Данное распределение достаточно легко понять. Более всего интересны соискатели с уровнями junior+ - middle+, вакансии, требующие большего опыта достаточно редки, поскольку наличие рабочих мест (позиций в компании), требующих такого большого опыта - крайне невелико."
      ],
      "metadata": {
        "id": "e4z4hDjiMK0_"
      },
      "id": "e4z4hDjiMK0_"
    },
    {
      "cell_type": "markdown",
      "id": "7ea20ab6-04a7-40a0-adec-443a0e5a42c3",
      "metadata": {
        "id": "7ea20ab6-04a7-40a0-adec-443a0e5a42c3"
      },
      "source": [
        "# Юнит 5. Анализ работодателей"
      ]
    },
    {
      "cell_type": "markdown",
      "id": "968aed80-74ef-4ffb-b5bf-c65b84e9caea",
      "metadata": {
        "id": "968aed80-74ef-4ffb-b5bf-c65b84e9caea"
      },
      "source": [
        "1. Напишите запрос, который позволит узнать, какие работодатели находятся на первом и пятом месте по количеству вакансий."
      ]
    },
    {
      "cell_type": "code",
      "execution_count": 25,
      "id": "f2d62796-d400-4ec1-a675-88112739a50e",
      "metadata": {
        "id": "f2d62796-d400-4ec1-a675-88112739a50e"
      },
      "outputs": [],
      "source": [
        "query_5_1 = f'''\n",
        "            select distinct e.name as \"Название компании\", count(*) as \"Число вакансий\"\n",
        "            from public.vacancies as v\n",
        "                 join public.employers as e on v.employer_id = e.id\n",
        "            group by e.name\n",
        "            order by \"Число вакансий\" desc\n",
        "            '''"
      ]
    },
    {
      "cell_type": "code",
      "source": [
        "employer_count = pd.read_sql_query(query_5_1, connection)\n",
        "print('Работадатель, на первом месте по количеству вакансий -', employer_count.iloc[0]['Название компании'])\n",
        "print('Работодатель, на пятом месте по количеству вакансий -', employer_count.iloc[4]['Название компании'])"
      ],
      "metadata": {
        "id": "64tOMkAxqkQk",
        "colab": {
          "base_uri": "https://localhost:8080/"
        },
        "outputId": "8528a6d8-7f18-49ec-8e77-97511c82c8b5"
      },
      "id": "64tOMkAxqkQk",
      "execution_count": 26,
      "outputs": [
        {
          "output_type": "stream",
          "name": "stderr",
          "text": [
            "<ipython-input-26-30fe35558223>:1: UserWarning: pandas only supports SQLAlchemy connectable (engine/connection) or database string URI or sqlite3 DBAPI2 connection. Other DBAPI2 objects are not tested. Please consider using SQLAlchemy.\n",
            "  employer_count = pd.read_sql_query(query_5_1, connection)\n"
          ]
        },
        {
          "output_type": "stream",
          "name": "stdout",
          "text": [
            "Работадатель, на первом месте по количеству вакансий - Яндекс\n",
            "Работодатель, на пятом месте по количеству вакансий - Газпром нефть\n"
          ]
        }
      ]
    },
    {
      "cell_type": "markdown",
      "id": "68377cfc-b378-43dc-ab7d-1195abf2c515",
      "metadata": {
        "id": "68377cfc-b378-43dc-ab7d-1195abf2c515"
      },
      "source": [
        "2. Напишите запрос, который для каждого региона выведет количество работодателей и вакансий в нём.\n",
        "Среди регионов, в которых нет вакансий, найдите тот, в котором наибольшее количество работодателей.\n"
      ]
    },
    {
      "cell_type": "code",
      "execution_count": 28,
      "id": "dd7df27a-e3e8-412e-a21a-5d389b71e891",
      "metadata": {
        "id": "dd7df27a-e3e8-412e-a21a-5d389b71e891"
      },
      "outputs": [],
      "source": [
        "query_5_2 = f'''\n",
        "            select a.name as \"Название региона\", count(v.id) as \"Количество вакансий\", count(e.id) as \"Количество работодателей\"\n",
        "            from public.areas as a\n",
        "                 left join public.vacancies as v on a.id = v.area_id\n",
        "                 left join public.employers as e on a.id = e.area\n",
        "            where v.id is null\n",
        "            group by a.name\n",
        "            order by  \"Количество работодателей\" desc\n",
        "            '''"
      ]
    },
    {
      "cell_type": "code",
      "source": [
        "employers_nullvacancies = pd.read_sql_query(query_5_2, connection)\n",
        "display(employers_nullvacancies.head())\n",
        "print('\\nРегион с наибольшим числом работодателей, не имеющий вакансий -', employers_nullvacancies.iloc[0]['Название региона'])"
      ],
      "metadata": {
        "id": "x1ikWbydrbf6",
        "colab": {
          "base_uri": "https://localhost:8080/",
          "height": 295
        },
        "outputId": "d51b9bb9-0984-4f41-95d6-725f0d094711"
      },
      "id": "x1ikWbydrbf6",
      "execution_count": 29,
      "outputs": [
        {
          "output_type": "stream",
          "name": "stderr",
          "text": [
            "<ipython-input-29-af56aa34da58>:1: UserWarning: pandas only supports SQLAlchemy connectable (engine/connection) or database string URI or sqlite3 DBAPI2 connection. Other DBAPI2 objects are not tested. Please consider using SQLAlchemy.\n",
            "  employers_nullvacancies = pd.read_sql_query(query_5_2, connection)\n"
          ]
        },
        {
          "output_type": "display_data",
          "data": {
            "text/plain": [
              "     Название региона  Количество вакансий  Количество работодателей\n",
              "0              Россия                    0                       410\n",
              "1           Казахстан                    0                       207\n",
              "2  Московская область                    0                        75\n",
              "3  Краснодарский край                    0                        19\n",
              "4            Беларусь                    0                        18"
            ],
            "text/html": [
              "\n",
              "\n",
              "  <div id=\"df-c3813e06-6095-43a1-9fbf-2975f8fe71ce\">\n",
              "    <div class=\"colab-df-container\">\n",
              "      <div>\n",
              "<style scoped>\n",
              "    .dataframe tbody tr th:only-of-type {\n",
              "        vertical-align: middle;\n",
              "    }\n",
              "\n",
              "    .dataframe tbody tr th {\n",
              "        vertical-align: top;\n",
              "    }\n",
              "\n",
              "    .dataframe thead th {\n",
              "        text-align: right;\n",
              "    }\n",
              "</style>\n",
              "<table border=\"1\" class=\"dataframe\">\n",
              "  <thead>\n",
              "    <tr style=\"text-align: right;\">\n",
              "      <th></th>\n",
              "      <th>Название региона</th>\n",
              "      <th>Количество вакансий</th>\n",
              "      <th>Количество работодателей</th>\n",
              "    </tr>\n",
              "  </thead>\n",
              "  <tbody>\n",
              "    <tr>\n",
              "      <th>0</th>\n",
              "      <td>Россия</td>\n",
              "      <td>0</td>\n",
              "      <td>410</td>\n",
              "    </tr>\n",
              "    <tr>\n",
              "      <th>1</th>\n",
              "      <td>Казахстан</td>\n",
              "      <td>0</td>\n",
              "      <td>207</td>\n",
              "    </tr>\n",
              "    <tr>\n",
              "      <th>2</th>\n",
              "      <td>Московская область</td>\n",
              "      <td>0</td>\n",
              "      <td>75</td>\n",
              "    </tr>\n",
              "    <tr>\n",
              "      <th>3</th>\n",
              "      <td>Краснодарский край</td>\n",
              "      <td>0</td>\n",
              "      <td>19</td>\n",
              "    </tr>\n",
              "    <tr>\n",
              "      <th>4</th>\n",
              "      <td>Беларусь</td>\n",
              "      <td>0</td>\n",
              "      <td>18</td>\n",
              "    </tr>\n",
              "  </tbody>\n",
              "</table>\n",
              "</div>\n",
              "      <button class=\"colab-df-convert\" onclick=\"convertToInteractive('df-c3813e06-6095-43a1-9fbf-2975f8fe71ce')\"\n",
              "              title=\"Convert this dataframe to an interactive table.\"\n",
              "              style=\"display:none;\">\n",
              "\n",
              "  <svg xmlns=\"http://www.w3.org/2000/svg\" height=\"24px\"viewBox=\"0 0 24 24\"\n",
              "       width=\"24px\">\n",
              "    <path d=\"M0 0h24v24H0V0z\" fill=\"none\"/>\n",
              "    <path d=\"M18.56 5.44l.94 2.06.94-2.06 2.06-.94-2.06-.94-.94-2.06-.94 2.06-2.06.94zm-11 1L8.5 8.5l.94-2.06 2.06-.94-2.06-.94L8.5 2.5l-.94 2.06-2.06.94zm10 10l.94 2.06.94-2.06 2.06-.94-2.06-.94-.94-2.06-.94 2.06-2.06.94z\"/><path d=\"M17.41 7.96l-1.37-1.37c-.4-.4-.92-.59-1.43-.59-.52 0-1.04.2-1.43.59L10.3 9.45l-7.72 7.72c-.78.78-.78 2.05 0 2.83L4 21.41c.39.39.9.59 1.41.59.51 0 1.02-.2 1.41-.59l7.78-7.78 2.81-2.81c.8-.78.8-2.07 0-2.86zM5.41 20L4 18.59l7.72-7.72 1.47 1.35L5.41 20z\"/>\n",
              "  </svg>\n",
              "      </button>\n",
              "\n",
              "\n",
              "\n",
              "    <div id=\"df-8165230f-d6bd-496b-b5d0-e8e5e0ff58a5\">\n",
              "      <button class=\"colab-df-quickchart\" onclick=\"quickchart('df-8165230f-d6bd-496b-b5d0-e8e5e0ff58a5')\"\n",
              "              title=\"Suggest charts.\"\n",
              "              style=\"display:none;\">\n",
              "\n",
              "<svg xmlns=\"http://www.w3.org/2000/svg\" height=\"24px\"viewBox=\"0 0 24 24\"\n",
              "     width=\"24px\">\n",
              "    <g>\n",
              "        <path d=\"M19 3H5c-1.1 0-2 .9-2 2v14c0 1.1.9 2 2 2h14c1.1 0 2-.9 2-2V5c0-1.1-.9-2-2-2zM9 17H7v-7h2v7zm4 0h-2V7h2v10zm4 0h-2v-4h2v4z\"/>\n",
              "    </g>\n",
              "</svg>\n",
              "      </button>\n",
              "    </div>\n",
              "\n",
              "<style>\n",
              "  .colab-df-quickchart {\n",
              "    background-color: #E8F0FE;\n",
              "    border: none;\n",
              "    border-radius: 50%;\n",
              "    cursor: pointer;\n",
              "    display: none;\n",
              "    fill: #1967D2;\n",
              "    height: 32px;\n",
              "    padding: 0 0 0 0;\n",
              "    width: 32px;\n",
              "  }\n",
              "\n",
              "  .colab-df-quickchart:hover {\n",
              "    background-color: #E2EBFA;\n",
              "    box-shadow: 0px 1px 2px rgba(60, 64, 67, 0.3), 0px 1px 3px 1px rgba(60, 64, 67, 0.15);\n",
              "    fill: #174EA6;\n",
              "  }\n",
              "\n",
              "  [theme=dark] .colab-df-quickchart {\n",
              "    background-color: #3B4455;\n",
              "    fill: #D2E3FC;\n",
              "  }\n",
              "\n",
              "  [theme=dark] .colab-df-quickchart:hover {\n",
              "    background-color: #434B5C;\n",
              "    box-shadow: 0px 1px 3px 1px rgba(0, 0, 0, 0.15);\n",
              "    filter: drop-shadow(0px 1px 2px rgba(0, 0, 0, 0.3));\n",
              "    fill: #FFFFFF;\n",
              "  }\n",
              "</style>\n",
              "\n",
              "    <script>\n",
              "      async function quickchart(key) {\n",
              "        const containerElement = document.querySelector('#' + key);\n",
              "        const charts = await google.colab.kernel.invokeFunction(\n",
              "            'suggestCharts', [key], {});\n",
              "      }\n",
              "    </script>\n",
              "\n",
              "      <script>\n",
              "\n",
              "function displayQuickchartButton(domScope) {\n",
              "  let quickchartButtonEl =\n",
              "    domScope.querySelector('#df-8165230f-d6bd-496b-b5d0-e8e5e0ff58a5 button.colab-df-quickchart');\n",
              "  quickchartButtonEl.style.display =\n",
              "    google.colab.kernel.accessAllowed ? 'block' : 'none';\n",
              "}\n",
              "\n",
              "        displayQuickchartButton(document);\n",
              "      </script>\n",
              "      <style>\n",
              "    .colab-df-container {\n",
              "      display:flex;\n",
              "      flex-wrap:wrap;\n",
              "      gap: 12px;\n",
              "    }\n",
              "\n",
              "    .colab-df-convert {\n",
              "      background-color: #E8F0FE;\n",
              "      border: none;\n",
              "      border-radius: 50%;\n",
              "      cursor: pointer;\n",
              "      display: none;\n",
              "      fill: #1967D2;\n",
              "      height: 32px;\n",
              "      padding: 0 0 0 0;\n",
              "      width: 32px;\n",
              "    }\n",
              "\n",
              "    .colab-df-convert:hover {\n",
              "      background-color: #E2EBFA;\n",
              "      box-shadow: 0px 1px 2px rgba(60, 64, 67, 0.3), 0px 1px 3px 1px rgba(60, 64, 67, 0.15);\n",
              "      fill: #174EA6;\n",
              "    }\n",
              "\n",
              "    [theme=dark] .colab-df-convert {\n",
              "      background-color: #3B4455;\n",
              "      fill: #D2E3FC;\n",
              "    }\n",
              "\n",
              "    [theme=dark] .colab-df-convert:hover {\n",
              "      background-color: #434B5C;\n",
              "      box-shadow: 0px 1px 3px 1px rgba(0, 0, 0, 0.15);\n",
              "      filter: drop-shadow(0px 1px 2px rgba(0, 0, 0, 0.3));\n",
              "      fill: #FFFFFF;\n",
              "    }\n",
              "  </style>\n",
              "\n",
              "      <script>\n",
              "        const buttonEl =\n",
              "          document.querySelector('#df-c3813e06-6095-43a1-9fbf-2975f8fe71ce button.colab-df-convert');\n",
              "        buttonEl.style.display =\n",
              "          google.colab.kernel.accessAllowed ? 'block' : 'none';\n",
              "\n",
              "        async function convertToInteractive(key) {\n",
              "          const element = document.querySelector('#df-c3813e06-6095-43a1-9fbf-2975f8fe71ce');\n",
              "          const dataTable =\n",
              "            await google.colab.kernel.invokeFunction('convertToInteractive',\n",
              "                                                     [key], {});\n",
              "          if (!dataTable) return;\n",
              "\n",
              "          const docLinkHtml = 'Like what you see? Visit the ' +\n",
              "            '<a target=\"_blank\" href=https://colab.research.google.com/notebooks/data_table.ipynb>data table notebook</a>'\n",
              "            + ' to learn more about interactive tables.';\n",
              "          element.innerHTML = '';\n",
              "          dataTable['output_type'] = 'display_data';\n",
              "          await google.colab.output.renderOutput(dataTable, element);\n",
              "          const docLink = document.createElement('div');\n",
              "          docLink.innerHTML = docLinkHtml;\n",
              "          element.appendChild(docLink);\n",
              "        }\n",
              "      </script>\n",
              "    </div>\n",
              "  </div>\n"
            ]
          },
          "metadata": {}
        },
        {
          "output_type": "stream",
          "name": "stdout",
          "text": [
            "\n",
            "Регион с наибольшим числом работодателей, не имеющий вакансий - Россия\n"
          ]
        }
      ]
    },
    {
      "cell_type": "markdown",
      "id": "f2fe0acb-ab1a-4e15-9326-2560e22d73c1",
      "metadata": {
        "id": "f2fe0acb-ab1a-4e15-9326-2560e22d73c1"
      },
      "source": [
        "3. Для каждого работодателя посчитайте количество регионов, в которых он публикует свои вакансии. Отсортируйте результат по убыванию количества.\n"
      ]
    },
    {
      "cell_type": "code",
      "execution_count": 30,
      "id": "6271f8ad-bd2e-4196-ae4a-5b39c4c1010e",
      "metadata": {
        "id": "6271f8ad-bd2e-4196-ae4a-5b39c4c1010e"
      },
      "outputs": [],
      "source": [
        "query_5_3 = f'''\n",
        "select distinct e.name as \"Название компании\", count(distinct v.area_id) as \"Количество регионов\"\n",
        "from public.vacancies as v\n",
        "     left join public.employers as e on v.employer_id = e.id\n",
        "group by e.name\n",
        "order by \"Количество регионов\" desc\n",
        "  '''"
      ]
    },
    {
      "cell_type": "code",
      "source": [
        "employer_countareas = pd.read_sql_query(query_5_3, connection)\n",
        "display(employer_countareas.head())\n",
        "print('Компания', employer_countareas.iloc[0][\"Название компании\"], 'имеет вакансии в', employer_countareas.iloc[0][\"Количество регионов\"], 'различном регионе')"
      ],
      "metadata": {
        "id": "1EIvX3HasH4F",
        "colab": {
          "base_uri": "https://localhost:8080/",
          "height": 278
        },
        "outputId": "a987fec2-4674-4a75-bb00-4e8680fb588f"
      },
      "id": "1EIvX3HasH4F",
      "execution_count": 31,
      "outputs": [
        {
          "output_type": "stream",
          "name": "stderr",
          "text": [
            "<ipython-input-31-43bf9bd140dd>:1: UserWarning: pandas only supports SQLAlchemy connectable (engine/connection) or database string URI or sqlite3 DBAPI2 connection. Other DBAPI2 objects are not tested. Please consider using SQLAlchemy.\n",
            "  employer_countareas = pd.read_sql_query(query_5_3, connection)\n"
          ]
        },
        {
          "output_type": "display_data",
          "data": {
            "text/plain": [
              "        Название компании  Количество регионов\n",
              "0                  Яндекс                  181\n",
              "1              Ростелеком                  152\n",
              "2              Спецремонт                  116\n",
              "3  Поляков Денис Иванович                   88\n",
              "4               ООО ЕФИН                    71"
            ],
            "text/html": [
              "\n",
              "\n",
              "  <div id=\"df-dc321285-69b2-4637-a535-cd3a4dd565a9\">\n",
              "    <div class=\"colab-df-container\">\n",
              "      <div>\n",
              "<style scoped>\n",
              "    .dataframe tbody tr th:only-of-type {\n",
              "        vertical-align: middle;\n",
              "    }\n",
              "\n",
              "    .dataframe tbody tr th {\n",
              "        vertical-align: top;\n",
              "    }\n",
              "\n",
              "    .dataframe thead th {\n",
              "        text-align: right;\n",
              "    }\n",
              "</style>\n",
              "<table border=\"1\" class=\"dataframe\">\n",
              "  <thead>\n",
              "    <tr style=\"text-align: right;\">\n",
              "      <th></th>\n",
              "      <th>Название компании</th>\n",
              "      <th>Количество регионов</th>\n",
              "    </tr>\n",
              "  </thead>\n",
              "  <tbody>\n",
              "    <tr>\n",
              "      <th>0</th>\n",
              "      <td>Яндекс</td>\n",
              "      <td>181</td>\n",
              "    </tr>\n",
              "    <tr>\n",
              "      <th>1</th>\n",
              "      <td>Ростелеком</td>\n",
              "      <td>152</td>\n",
              "    </tr>\n",
              "    <tr>\n",
              "      <th>2</th>\n",
              "      <td>Спецремонт</td>\n",
              "      <td>116</td>\n",
              "    </tr>\n",
              "    <tr>\n",
              "      <th>3</th>\n",
              "      <td>Поляков Денис Иванович</td>\n",
              "      <td>88</td>\n",
              "    </tr>\n",
              "    <tr>\n",
              "      <th>4</th>\n",
              "      <td>ООО ЕФИН</td>\n",
              "      <td>71</td>\n",
              "    </tr>\n",
              "  </tbody>\n",
              "</table>\n",
              "</div>\n",
              "      <button class=\"colab-df-convert\" onclick=\"convertToInteractive('df-dc321285-69b2-4637-a535-cd3a4dd565a9')\"\n",
              "              title=\"Convert this dataframe to an interactive table.\"\n",
              "              style=\"display:none;\">\n",
              "\n",
              "  <svg xmlns=\"http://www.w3.org/2000/svg\" height=\"24px\"viewBox=\"0 0 24 24\"\n",
              "       width=\"24px\">\n",
              "    <path d=\"M0 0h24v24H0V0z\" fill=\"none\"/>\n",
              "    <path d=\"M18.56 5.44l.94 2.06.94-2.06 2.06-.94-2.06-.94-.94-2.06-.94 2.06-2.06.94zm-11 1L8.5 8.5l.94-2.06 2.06-.94-2.06-.94L8.5 2.5l-.94 2.06-2.06.94zm10 10l.94 2.06.94-2.06 2.06-.94-2.06-.94-.94-2.06-.94 2.06-2.06.94z\"/><path d=\"M17.41 7.96l-1.37-1.37c-.4-.4-.92-.59-1.43-.59-.52 0-1.04.2-1.43.59L10.3 9.45l-7.72 7.72c-.78.78-.78 2.05 0 2.83L4 21.41c.39.39.9.59 1.41.59.51 0 1.02-.2 1.41-.59l7.78-7.78 2.81-2.81c.8-.78.8-2.07 0-2.86zM5.41 20L4 18.59l7.72-7.72 1.47 1.35L5.41 20z\"/>\n",
              "  </svg>\n",
              "      </button>\n",
              "\n",
              "\n",
              "\n",
              "    <div id=\"df-03ee277a-f617-4e69-9521-dc3024894f6c\">\n",
              "      <button class=\"colab-df-quickchart\" onclick=\"quickchart('df-03ee277a-f617-4e69-9521-dc3024894f6c')\"\n",
              "              title=\"Suggest charts.\"\n",
              "              style=\"display:none;\">\n",
              "\n",
              "<svg xmlns=\"http://www.w3.org/2000/svg\" height=\"24px\"viewBox=\"0 0 24 24\"\n",
              "     width=\"24px\">\n",
              "    <g>\n",
              "        <path d=\"M19 3H5c-1.1 0-2 .9-2 2v14c0 1.1.9 2 2 2h14c1.1 0 2-.9 2-2V5c0-1.1-.9-2-2-2zM9 17H7v-7h2v7zm4 0h-2V7h2v10zm4 0h-2v-4h2v4z\"/>\n",
              "    </g>\n",
              "</svg>\n",
              "      </button>\n",
              "    </div>\n",
              "\n",
              "<style>\n",
              "  .colab-df-quickchart {\n",
              "    background-color: #E8F0FE;\n",
              "    border: none;\n",
              "    border-radius: 50%;\n",
              "    cursor: pointer;\n",
              "    display: none;\n",
              "    fill: #1967D2;\n",
              "    height: 32px;\n",
              "    padding: 0 0 0 0;\n",
              "    width: 32px;\n",
              "  }\n",
              "\n",
              "  .colab-df-quickchart:hover {\n",
              "    background-color: #E2EBFA;\n",
              "    box-shadow: 0px 1px 2px rgba(60, 64, 67, 0.3), 0px 1px 3px 1px rgba(60, 64, 67, 0.15);\n",
              "    fill: #174EA6;\n",
              "  }\n",
              "\n",
              "  [theme=dark] .colab-df-quickchart {\n",
              "    background-color: #3B4455;\n",
              "    fill: #D2E3FC;\n",
              "  }\n",
              "\n",
              "  [theme=dark] .colab-df-quickchart:hover {\n",
              "    background-color: #434B5C;\n",
              "    box-shadow: 0px 1px 3px 1px rgba(0, 0, 0, 0.15);\n",
              "    filter: drop-shadow(0px 1px 2px rgba(0, 0, 0, 0.3));\n",
              "    fill: #FFFFFF;\n",
              "  }\n",
              "</style>\n",
              "\n",
              "    <script>\n",
              "      async function quickchart(key) {\n",
              "        const containerElement = document.querySelector('#' + key);\n",
              "        const charts = await google.colab.kernel.invokeFunction(\n",
              "            'suggestCharts', [key], {});\n",
              "      }\n",
              "    </script>\n",
              "\n",
              "      <script>\n",
              "\n",
              "function displayQuickchartButton(domScope) {\n",
              "  let quickchartButtonEl =\n",
              "    domScope.querySelector('#df-03ee277a-f617-4e69-9521-dc3024894f6c button.colab-df-quickchart');\n",
              "  quickchartButtonEl.style.display =\n",
              "    google.colab.kernel.accessAllowed ? 'block' : 'none';\n",
              "}\n",
              "\n",
              "        displayQuickchartButton(document);\n",
              "      </script>\n",
              "      <style>\n",
              "    .colab-df-container {\n",
              "      display:flex;\n",
              "      flex-wrap:wrap;\n",
              "      gap: 12px;\n",
              "    }\n",
              "\n",
              "    .colab-df-convert {\n",
              "      background-color: #E8F0FE;\n",
              "      border: none;\n",
              "      border-radius: 50%;\n",
              "      cursor: pointer;\n",
              "      display: none;\n",
              "      fill: #1967D2;\n",
              "      height: 32px;\n",
              "      padding: 0 0 0 0;\n",
              "      width: 32px;\n",
              "    }\n",
              "\n",
              "    .colab-df-convert:hover {\n",
              "      background-color: #E2EBFA;\n",
              "      box-shadow: 0px 1px 2px rgba(60, 64, 67, 0.3), 0px 1px 3px 1px rgba(60, 64, 67, 0.15);\n",
              "      fill: #174EA6;\n",
              "    }\n",
              "\n",
              "    [theme=dark] .colab-df-convert {\n",
              "      background-color: #3B4455;\n",
              "      fill: #D2E3FC;\n",
              "    }\n",
              "\n",
              "    [theme=dark] .colab-df-convert:hover {\n",
              "      background-color: #434B5C;\n",
              "      box-shadow: 0px 1px 3px 1px rgba(0, 0, 0, 0.15);\n",
              "      filter: drop-shadow(0px 1px 2px rgba(0, 0, 0, 0.3));\n",
              "      fill: #FFFFFF;\n",
              "    }\n",
              "  </style>\n",
              "\n",
              "      <script>\n",
              "        const buttonEl =\n",
              "          document.querySelector('#df-dc321285-69b2-4637-a535-cd3a4dd565a9 button.colab-df-convert');\n",
              "        buttonEl.style.display =\n",
              "          google.colab.kernel.accessAllowed ? 'block' : 'none';\n",
              "\n",
              "        async function convertToInteractive(key) {\n",
              "          const element = document.querySelector('#df-dc321285-69b2-4637-a535-cd3a4dd565a9');\n",
              "          const dataTable =\n",
              "            await google.colab.kernel.invokeFunction('convertToInteractive',\n",
              "                                                     [key], {});\n",
              "          if (!dataTable) return;\n",
              "\n",
              "          const docLinkHtml = 'Like what you see? Visit the ' +\n",
              "            '<a target=\"_blank\" href=https://colab.research.google.com/notebooks/data_table.ipynb>data table notebook</a>'\n",
              "            + ' to learn more about interactive tables.';\n",
              "          element.innerHTML = '';\n",
              "          dataTable['output_type'] = 'display_data';\n",
              "          await google.colab.output.renderOutput(dataTable, element);\n",
              "          const docLink = document.createElement('div');\n",
              "          docLink.innerHTML = docLinkHtml;\n",
              "          element.appendChild(docLink);\n",
              "        }\n",
              "      </script>\n",
              "    </div>\n",
              "  </div>\n"
            ]
          },
          "metadata": {}
        },
        {
          "output_type": "stream",
          "name": "stdout",
          "text": [
            "Компания Яндекс имеет вакансии в 181 различном регионе\n"
          ]
        }
      ]
    },
    {
      "cell_type": "markdown",
      "id": "eab2206d-d95b-468b-8e5f-34381abf0ce7",
      "metadata": {
        "id": "eab2206d-d95b-468b-8e5f-34381abf0ce7"
      },
      "source": [
        "4. Напишите запрос для подсчёта количества работодателей, у которых не указана сфера деятельности."
      ]
    },
    {
      "cell_type": "code",
      "execution_count": 32,
      "id": "80defb23-bfb1-4a18-8be6-bf36aa7165d5",
      "metadata": {
        "id": "80defb23-bfb1-4a18-8be6-bf36aa7165d5"
      },
      "outputs": [],
      "source": [
        "query_5_4 = f'''\n",
        "select count(*) as \"Число работодателей\" /*Число работодателей с неуказанными сферами деятельности*/\n",
        "from public.employers as e\n",
        "     left join public.employers_industries as i on e.id = i.employer_id\n",
        "where i.industry_id is null\n",
        "'''"
      ]
    },
    {
      "cell_type": "code",
      "source": [
        "employers_nullindustries = pd.read_sql_query(query_5_4, connection)\n",
        "print('Число работодателей с неуказанными сферами деятельности', employers_nullindustries.iloc[0]['Число работодателей'])"
      ],
      "metadata": {
        "id": "Dp_yCx6ysQSu",
        "colab": {
          "base_uri": "https://localhost:8080/"
        },
        "outputId": "c7e317c4-7b1e-4dae-e199-f2838dbdad37"
      },
      "id": "Dp_yCx6ysQSu",
      "execution_count": 33,
      "outputs": [
        {
          "output_type": "stream",
          "name": "stdout",
          "text": [
            "Число работодателей с неуказанными сферами деятельности 8419\n"
          ]
        },
        {
          "output_type": "stream",
          "name": "stderr",
          "text": [
            "<ipython-input-33-e7bb1db44e72>:1: UserWarning: pandas only supports SQLAlchemy connectable (engine/connection) or database string URI or sqlite3 DBAPI2 connection. Other DBAPI2 objects are not tested. Please consider using SQLAlchemy.\n",
            "  employers_nullindustries = pd.read_sql_query(query_5_4, connection)\n"
          ]
        }
      ]
    },
    {
      "cell_type": "markdown",
      "id": "0112af31-f6b0-4e3b-82ab-71296e752e5e",
      "metadata": {
        "id": "0112af31-f6b0-4e3b-82ab-71296e752e5e"
      },
      "source": [
        "5. Напишите запрос, чтобы узнать название компании, находящейся на третьем месте в алфавитном списке (по названию) компаний, у которых указано четыре сферы деятельности."
      ]
    },
    {
      "cell_type": "code",
      "execution_count": 34,
      "id": "973b0cfc-a972-470a-8b4a-68744ef220c4",
      "metadata": {
        "id": "973b0cfc-a972-470a-8b4a-68744ef220c4"
      },
      "outputs": [],
      "source": [
        "query_5_5 = f'''\n",
        "select e.name \"Название компании\"\n",
        "from public.employers as e\n",
        "     left join public.employers_industries as i on e.id = i.employer_id\n",
        "group by e.name\n",
        "having count(*) = 4\n",
        "order by e.name asc\n",
        "'''"
      ]
    },
    {
      "cell_type": "code",
      "source": [
        "company_4industries = pd.read_sql_query(query_5_5, connection)\n",
        "display(company_4industries.head())\n",
        "print('Третья в алфавитном порядке компания, имеющая 4 сферы деятельности -', company_4industries.iloc[2]['Название компании'])"
      ],
      "metadata": {
        "id": "xsPtpp8EsaED",
        "colab": {
          "base_uri": "https://localhost:8080/",
          "height": 278
        },
        "outputId": "02e6111e-9d74-47d5-f0f7-74efe404bd6c"
      },
      "id": "xsPtpp8EsaED",
      "execution_count": 35,
      "outputs": [
        {
          "output_type": "stream",
          "name": "stderr",
          "text": [
            "<ipython-input-35-24f76cfca1ef>:1: UserWarning: pandas only supports SQLAlchemy connectable (engine/connection) or database string URI or sqlite3 DBAPI2 connection. Other DBAPI2 objects are not tested. Please consider using SQLAlchemy.\n",
            "  company_4industries = pd.read_sql_query(query_5_5, connection)\n"
          ]
        },
        {
          "output_type": "display_data",
          "data": {
            "text/plain": [
              "  Название компании\n",
              "0      101 Интернет\n",
              "1          21vek.by\n",
              "2              2ГИС\n",
              "3                2К\n",
              "4       4 пикселя +"
            ],
            "text/html": [
              "\n",
              "\n",
              "  <div id=\"df-1e256ada-e759-4799-92ff-92027cbeaa5f\">\n",
              "    <div class=\"colab-df-container\">\n",
              "      <div>\n",
              "<style scoped>\n",
              "    .dataframe tbody tr th:only-of-type {\n",
              "        vertical-align: middle;\n",
              "    }\n",
              "\n",
              "    .dataframe tbody tr th {\n",
              "        vertical-align: top;\n",
              "    }\n",
              "\n",
              "    .dataframe thead th {\n",
              "        text-align: right;\n",
              "    }\n",
              "</style>\n",
              "<table border=\"1\" class=\"dataframe\">\n",
              "  <thead>\n",
              "    <tr style=\"text-align: right;\">\n",
              "      <th></th>\n",
              "      <th>Название компании</th>\n",
              "    </tr>\n",
              "  </thead>\n",
              "  <tbody>\n",
              "    <tr>\n",
              "      <th>0</th>\n",
              "      <td>101 Интернет</td>\n",
              "    </tr>\n",
              "    <tr>\n",
              "      <th>1</th>\n",
              "      <td>21vek.by</td>\n",
              "    </tr>\n",
              "    <tr>\n",
              "      <th>2</th>\n",
              "      <td>2ГИС</td>\n",
              "    </tr>\n",
              "    <tr>\n",
              "      <th>3</th>\n",
              "      <td>2К</td>\n",
              "    </tr>\n",
              "    <tr>\n",
              "      <th>4</th>\n",
              "      <td>4 пикселя +</td>\n",
              "    </tr>\n",
              "  </tbody>\n",
              "</table>\n",
              "</div>\n",
              "      <button class=\"colab-df-convert\" onclick=\"convertToInteractive('df-1e256ada-e759-4799-92ff-92027cbeaa5f')\"\n",
              "              title=\"Convert this dataframe to an interactive table.\"\n",
              "              style=\"display:none;\">\n",
              "\n",
              "  <svg xmlns=\"http://www.w3.org/2000/svg\" height=\"24px\"viewBox=\"0 0 24 24\"\n",
              "       width=\"24px\">\n",
              "    <path d=\"M0 0h24v24H0V0z\" fill=\"none\"/>\n",
              "    <path d=\"M18.56 5.44l.94 2.06.94-2.06 2.06-.94-2.06-.94-.94-2.06-.94 2.06-2.06.94zm-11 1L8.5 8.5l.94-2.06 2.06-.94-2.06-.94L8.5 2.5l-.94 2.06-2.06.94zm10 10l.94 2.06.94-2.06 2.06-.94-2.06-.94-.94-2.06-.94 2.06-2.06.94z\"/><path d=\"M17.41 7.96l-1.37-1.37c-.4-.4-.92-.59-1.43-.59-.52 0-1.04.2-1.43.59L10.3 9.45l-7.72 7.72c-.78.78-.78 2.05 0 2.83L4 21.41c.39.39.9.59 1.41.59.51 0 1.02-.2 1.41-.59l7.78-7.78 2.81-2.81c.8-.78.8-2.07 0-2.86zM5.41 20L4 18.59l7.72-7.72 1.47 1.35L5.41 20z\"/>\n",
              "  </svg>\n",
              "      </button>\n",
              "\n",
              "\n",
              "\n",
              "    <div id=\"df-0b8ee4db-ad10-4281-a287-d3d62b803bc7\">\n",
              "      <button class=\"colab-df-quickchart\" onclick=\"quickchart('df-0b8ee4db-ad10-4281-a287-d3d62b803bc7')\"\n",
              "              title=\"Suggest charts.\"\n",
              "              style=\"display:none;\">\n",
              "\n",
              "<svg xmlns=\"http://www.w3.org/2000/svg\" height=\"24px\"viewBox=\"0 0 24 24\"\n",
              "     width=\"24px\">\n",
              "    <g>\n",
              "        <path d=\"M19 3H5c-1.1 0-2 .9-2 2v14c0 1.1.9 2 2 2h14c1.1 0 2-.9 2-2V5c0-1.1-.9-2-2-2zM9 17H7v-7h2v7zm4 0h-2V7h2v10zm4 0h-2v-4h2v4z\"/>\n",
              "    </g>\n",
              "</svg>\n",
              "      </button>\n",
              "    </div>\n",
              "\n",
              "<style>\n",
              "  .colab-df-quickchart {\n",
              "    background-color: #E8F0FE;\n",
              "    border: none;\n",
              "    border-radius: 50%;\n",
              "    cursor: pointer;\n",
              "    display: none;\n",
              "    fill: #1967D2;\n",
              "    height: 32px;\n",
              "    padding: 0 0 0 0;\n",
              "    width: 32px;\n",
              "  }\n",
              "\n",
              "  .colab-df-quickchart:hover {\n",
              "    background-color: #E2EBFA;\n",
              "    box-shadow: 0px 1px 2px rgba(60, 64, 67, 0.3), 0px 1px 3px 1px rgba(60, 64, 67, 0.15);\n",
              "    fill: #174EA6;\n",
              "  }\n",
              "\n",
              "  [theme=dark] .colab-df-quickchart {\n",
              "    background-color: #3B4455;\n",
              "    fill: #D2E3FC;\n",
              "  }\n",
              "\n",
              "  [theme=dark] .colab-df-quickchart:hover {\n",
              "    background-color: #434B5C;\n",
              "    box-shadow: 0px 1px 3px 1px rgba(0, 0, 0, 0.15);\n",
              "    filter: drop-shadow(0px 1px 2px rgba(0, 0, 0, 0.3));\n",
              "    fill: #FFFFFF;\n",
              "  }\n",
              "</style>\n",
              "\n",
              "    <script>\n",
              "      async function quickchart(key) {\n",
              "        const containerElement = document.querySelector('#' + key);\n",
              "        const charts = await google.colab.kernel.invokeFunction(\n",
              "            'suggestCharts', [key], {});\n",
              "      }\n",
              "    </script>\n",
              "\n",
              "      <script>\n",
              "\n",
              "function displayQuickchartButton(domScope) {\n",
              "  let quickchartButtonEl =\n",
              "    domScope.querySelector('#df-0b8ee4db-ad10-4281-a287-d3d62b803bc7 button.colab-df-quickchart');\n",
              "  quickchartButtonEl.style.display =\n",
              "    google.colab.kernel.accessAllowed ? 'block' : 'none';\n",
              "}\n",
              "\n",
              "        displayQuickchartButton(document);\n",
              "      </script>\n",
              "      <style>\n",
              "    .colab-df-container {\n",
              "      display:flex;\n",
              "      flex-wrap:wrap;\n",
              "      gap: 12px;\n",
              "    }\n",
              "\n",
              "    .colab-df-convert {\n",
              "      background-color: #E8F0FE;\n",
              "      border: none;\n",
              "      border-radius: 50%;\n",
              "      cursor: pointer;\n",
              "      display: none;\n",
              "      fill: #1967D2;\n",
              "      height: 32px;\n",
              "      padding: 0 0 0 0;\n",
              "      width: 32px;\n",
              "    }\n",
              "\n",
              "    .colab-df-convert:hover {\n",
              "      background-color: #E2EBFA;\n",
              "      box-shadow: 0px 1px 2px rgba(60, 64, 67, 0.3), 0px 1px 3px 1px rgba(60, 64, 67, 0.15);\n",
              "      fill: #174EA6;\n",
              "    }\n",
              "\n",
              "    [theme=dark] .colab-df-convert {\n",
              "      background-color: #3B4455;\n",
              "      fill: #D2E3FC;\n",
              "    }\n",
              "\n",
              "    [theme=dark] .colab-df-convert:hover {\n",
              "      background-color: #434B5C;\n",
              "      box-shadow: 0px 1px 3px 1px rgba(0, 0, 0, 0.15);\n",
              "      filter: drop-shadow(0px 1px 2px rgba(0, 0, 0, 0.3));\n",
              "      fill: #FFFFFF;\n",
              "    }\n",
              "  </style>\n",
              "\n",
              "      <script>\n",
              "        const buttonEl =\n",
              "          document.querySelector('#df-1e256ada-e759-4799-92ff-92027cbeaa5f button.colab-df-convert');\n",
              "        buttonEl.style.display =\n",
              "          google.colab.kernel.accessAllowed ? 'block' : 'none';\n",
              "\n",
              "        async function convertToInteractive(key) {\n",
              "          const element = document.querySelector('#df-1e256ada-e759-4799-92ff-92027cbeaa5f');\n",
              "          const dataTable =\n",
              "            await google.colab.kernel.invokeFunction('convertToInteractive',\n",
              "                                                     [key], {});\n",
              "          if (!dataTable) return;\n",
              "\n",
              "          const docLinkHtml = 'Like what you see? Visit the ' +\n",
              "            '<a target=\"_blank\" href=https://colab.research.google.com/notebooks/data_table.ipynb>data table notebook</a>'\n",
              "            + ' to learn more about interactive tables.';\n",
              "          element.innerHTML = '';\n",
              "          dataTable['output_type'] = 'display_data';\n",
              "          await google.colab.output.renderOutput(dataTable, element);\n",
              "          const docLink = document.createElement('div');\n",
              "          docLink.innerHTML = docLinkHtml;\n",
              "          element.appendChild(docLink);\n",
              "        }\n",
              "      </script>\n",
              "    </div>\n",
              "  </div>\n"
            ]
          },
          "metadata": {}
        },
        {
          "output_type": "stream",
          "name": "stdout",
          "text": [
            "Третья в алфавитном порядке компания, имеющая 4 сферы деятельности - 2ГИС\n"
          ]
        }
      ]
    },
    {
      "cell_type": "markdown",
      "id": "3bfcfdaf-755d-4d2b-8ed8-326201dc07ab",
      "metadata": {
        "id": "3bfcfdaf-755d-4d2b-8ed8-326201dc07ab"
      },
      "source": [
        "6. С помощью запроса выясните, у какого количества работодателей в качестве сферы деятельности указана Разработка программного обеспечения.\n"
      ]
    },
    {
      "cell_type": "code",
      "execution_count": 36,
      "id": "ad3f270f-2991-47eb-929b-e8f88a55b0d1",
      "metadata": {
        "id": "ad3f270f-2991-47eb-929b-e8f88a55b0d1"
      },
      "outputs": [],
      "source": [
        "query_5_6 = f'''\n",
        "select count(*)\n",
        "from public.employers_industries as ei\n",
        "     join public.industries as i on ei.industry_id = i.id\n",
        "where name = 'Разработка программного обеспечения'\n",
        "'''"
      ]
    },
    {
      "cell_type": "code",
      "source": [
        "count_employers_software = pd.read_sql_query(query_5_6, connection)\n",
        "print('Число компаний, занимающихся разработкой программного обеспечения -', count_employers_software.iloc[0]['count'])"
      ],
      "metadata": {
        "id": "H72qxWM0shPR",
        "colab": {
          "base_uri": "https://localhost:8080/"
        },
        "outputId": "db436a54-95f1-48dc-c39d-f23f3b6b4d44"
      },
      "id": "H72qxWM0shPR",
      "execution_count": 37,
      "outputs": [
        {
          "output_type": "stream",
          "name": "stdout",
          "text": [
            "Число компаний, занимающихся разработкой программного обеспечения - 3553\n"
          ]
        },
        {
          "output_type": "stream",
          "name": "stderr",
          "text": [
            "<ipython-input-37-e1e617cdc432>:1: UserWarning: pandas only supports SQLAlchemy connectable (engine/connection) or database string URI or sqlite3 DBAPI2 connection. Other DBAPI2 objects are not tested. Please consider using SQLAlchemy.\n",
            "  count_employers_software = pd.read_sql_query(query_5_6, connection)\n"
          ]
        }
      ]
    },
    {
      "cell_type": "markdown",
      "id": "7b02bb86-0546-40fb-94a4-242f050a5c57",
      "metadata": {
        "id": "7b02bb86-0546-40fb-94a4-242f050a5c57"
      },
      "source": [
        "7. Для компании «Яндекс» выведите список регионов-миллионников, в которых представлены вакансии компании, вместе с количеством вакансий в этих регионах. Также добавьте строку Total с общим количеством вакансий компании. Результат отсортируйте по возрастанию количества.\n",
        "\n",
        "Список городов-милионников надо взять [отсюда](https://ru.wikipedia.org/wiki/%D0%93%D0%BE%D1%80%D0%BE%D0%B4%D0%B0-%D0%BC%D0%B8%D0%BB%D0%BB%D0%B8%D0%BE%D0%BD%D0%B5%D1%80%D1%8B_%D0%A0%D0%BE%D1%81%D1%81%D0%B8%D0%B8).\n",
        "\n",
        "Если возникнут трудности с этим задание посмотрите материалы модуля  PYTHON-17. Как получать данные из веб-источников и API."
      ]
    },
    {
      "cell_type": "code",
      "source": [
        "import requests\n",
        "from bs4 import BeautifulSoup\n",
        "url = 'https://ru.wikipedia.org/wiki/Города-миллионеры_России'\n",
        "response = requests.get(url)\n",
        "page = BeautifulSoup(response.text, 'lxml')\n",
        "\n",
        "cities_links = list()\n",
        "for i in range(2, 18):\n",
        "  link = f'#mw-content-text > div > table.standard.sortable > tbody > tr:nth-child({i}) > td:nth-child(2) > a' # создаем прообраз для селектора на ссылки на названия городов - миллионников\n",
        "  cities_links.append(page.select(link))    # получаем текст ссылки, а также название города, внутри тега <a>\n",
        "\n",
        "for i in range(len(cities_links)):\n",
        "  cities_links[i] = str(*cities_links[i])   # переводим тип полученной ссылки с текстом в строковый вид\n",
        "\n",
        "cities = list()\n",
        "for city_link in cities_links:\n",
        "  city = city_link.split('\"')[-2]           # разделям строку по символам двоной кавычки, после чего получаем минус второй элемент - название города\n",
        "  cities.append(city)\n",
        "\n",
        "cities = tuple(cities)                      # переводим список с городами в кортеж\n"
      ],
      "metadata": {
        "id": "ZdfrL6gIs1Pn"
      },
      "id": "ZdfrL6gIs1Pn",
      "execution_count": 38,
      "outputs": []
    },
    {
      "cell_type": "code",
      "execution_count": 39,
      "id": "5a0e32a4-e68a-4365-8a39-2fe24c542c36",
      "metadata": {
        "id": "5a0e32a4-e68a-4365-8a39-2fe24c542c36"
      },
      "outputs": [],
      "source": [
        "query_5_7 = f'''\n",
        "select a.name as \"Название города\", count(*) as \"Число вакансий\"\n",
        "from public.vacancies as v\n",
        "     left join public.areas as a on v.area_id = a.id\n",
        "     left join public.employers as e on v.employer_id = e.id\n",
        "where a.name in {cities} and e.name = 'Яндекс'\n",
        "group by a.name\n",
        "\n",
        "union all\n",
        "\n",
        "(select 'Total', count(*)\n",
        "from public.vacancies as v\n",
        "     left join public.areas as a on v.area_id = a.id\n",
        "     left join public.employers as e on v.employer_id = e.id\n",
        "where a.name in {cities} and e.name = 'Яндекс'\n",
        "order by 2 desc\n",
        "limit 1)\n",
        "\n",
        "'''"
      ]
    },
    {
      "cell_type": "code",
      "source": [
        "yandex_vacancies = pd.read_sql_query(query_5_7, connection)\n",
        "display(yandex_vacancies)"
      ],
      "metadata": {
        "id": "ttPhiO1rsvPq",
        "colab": {
          "base_uri": "https://localhost:8080/",
          "height": 637
        },
        "outputId": "770e597c-1fbc-4e8e-ce8d-c3755af3b6a0"
      },
      "id": "ttPhiO1rsvPq",
      "execution_count": 40,
      "outputs": [
        {
          "output_type": "stream",
          "name": "stderr",
          "text": [
            "<ipython-input-40-d015f4803ecf>:1: UserWarning: pandas only supports SQLAlchemy connectable (engine/connection) or database string URI or sqlite3 DBAPI2 connection. Other DBAPI2 objects are not tested. Please consider using SQLAlchemy.\n",
            "  yandex_vacancies = pd.read_sql_query(query_5_7, connection)\n"
          ]
        },
        {
          "output_type": "display_data",
          "data": {
            "text/plain": [
              "    Название города  Число вакансий\n",
              "0         Волгоград              24\n",
              "1           Воронеж              32\n",
              "2      Екатеринбург              39\n",
              "3            Казань              25\n",
              "4         Краснодар              30\n",
              "5        Красноярск              23\n",
              "6            Москва              54\n",
              "7   Нижний Новгород              36\n",
              "8       Новосибирск              35\n",
              "9              Омск              21\n",
              "10            Пермь              25\n",
              "11   Ростов-на-Дону              25\n",
              "12           Самара              26\n",
              "13  Санкт-Петербург              42\n",
              "14              Уфа              26\n",
              "15        Челябинск              22\n",
              "16            Total             485"
            ],
            "text/html": [
              "\n",
              "\n",
              "  <div id=\"df-025f3f6b-533c-4e3f-ac4b-32dc29d8187e\">\n",
              "    <div class=\"colab-df-container\">\n",
              "      <div>\n",
              "<style scoped>\n",
              "    .dataframe tbody tr th:only-of-type {\n",
              "        vertical-align: middle;\n",
              "    }\n",
              "\n",
              "    .dataframe tbody tr th {\n",
              "        vertical-align: top;\n",
              "    }\n",
              "\n",
              "    .dataframe thead th {\n",
              "        text-align: right;\n",
              "    }\n",
              "</style>\n",
              "<table border=\"1\" class=\"dataframe\">\n",
              "  <thead>\n",
              "    <tr style=\"text-align: right;\">\n",
              "      <th></th>\n",
              "      <th>Название города</th>\n",
              "      <th>Число вакансий</th>\n",
              "    </tr>\n",
              "  </thead>\n",
              "  <tbody>\n",
              "    <tr>\n",
              "      <th>0</th>\n",
              "      <td>Волгоград</td>\n",
              "      <td>24</td>\n",
              "    </tr>\n",
              "    <tr>\n",
              "      <th>1</th>\n",
              "      <td>Воронеж</td>\n",
              "      <td>32</td>\n",
              "    </tr>\n",
              "    <tr>\n",
              "      <th>2</th>\n",
              "      <td>Екатеринбург</td>\n",
              "      <td>39</td>\n",
              "    </tr>\n",
              "    <tr>\n",
              "      <th>3</th>\n",
              "      <td>Казань</td>\n",
              "      <td>25</td>\n",
              "    </tr>\n",
              "    <tr>\n",
              "      <th>4</th>\n",
              "      <td>Краснодар</td>\n",
              "      <td>30</td>\n",
              "    </tr>\n",
              "    <tr>\n",
              "      <th>5</th>\n",
              "      <td>Красноярск</td>\n",
              "      <td>23</td>\n",
              "    </tr>\n",
              "    <tr>\n",
              "      <th>6</th>\n",
              "      <td>Москва</td>\n",
              "      <td>54</td>\n",
              "    </tr>\n",
              "    <tr>\n",
              "      <th>7</th>\n",
              "      <td>Нижний Новгород</td>\n",
              "      <td>36</td>\n",
              "    </tr>\n",
              "    <tr>\n",
              "      <th>8</th>\n",
              "      <td>Новосибирск</td>\n",
              "      <td>35</td>\n",
              "    </tr>\n",
              "    <tr>\n",
              "      <th>9</th>\n",
              "      <td>Омск</td>\n",
              "      <td>21</td>\n",
              "    </tr>\n",
              "    <tr>\n",
              "      <th>10</th>\n",
              "      <td>Пермь</td>\n",
              "      <td>25</td>\n",
              "    </tr>\n",
              "    <tr>\n",
              "      <th>11</th>\n",
              "      <td>Ростов-на-Дону</td>\n",
              "      <td>25</td>\n",
              "    </tr>\n",
              "    <tr>\n",
              "      <th>12</th>\n",
              "      <td>Самара</td>\n",
              "      <td>26</td>\n",
              "    </tr>\n",
              "    <tr>\n",
              "      <th>13</th>\n",
              "      <td>Санкт-Петербург</td>\n",
              "      <td>42</td>\n",
              "    </tr>\n",
              "    <tr>\n",
              "      <th>14</th>\n",
              "      <td>Уфа</td>\n",
              "      <td>26</td>\n",
              "    </tr>\n",
              "    <tr>\n",
              "      <th>15</th>\n",
              "      <td>Челябинск</td>\n",
              "      <td>22</td>\n",
              "    </tr>\n",
              "    <tr>\n",
              "      <th>16</th>\n",
              "      <td>Total</td>\n",
              "      <td>485</td>\n",
              "    </tr>\n",
              "  </tbody>\n",
              "</table>\n",
              "</div>\n",
              "      <button class=\"colab-df-convert\" onclick=\"convertToInteractive('df-025f3f6b-533c-4e3f-ac4b-32dc29d8187e')\"\n",
              "              title=\"Convert this dataframe to an interactive table.\"\n",
              "              style=\"display:none;\">\n",
              "\n",
              "  <svg xmlns=\"http://www.w3.org/2000/svg\" height=\"24px\"viewBox=\"0 0 24 24\"\n",
              "       width=\"24px\">\n",
              "    <path d=\"M0 0h24v24H0V0z\" fill=\"none\"/>\n",
              "    <path d=\"M18.56 5.44l.94 2.06.94-2.06 2.06-.94-2.06-.94-.94-2.06-.94 2.06-2.06.94zm-11 1L8.5 8.5l.94-2.06 2.06-.94-2.06-.94L8.5 2.5l-.94 2.06-2.06.94zm10 10l.94 2.06.94-2.06 2.06-.94-2.06-.94-.94-2.06-.94 2.06-2.06.94z\"/><path d=\"M17.41 7.96l-1.37-1.37c-.4-.4-.92-.59-1.43-.59-.52 0-1.04.2-1.43.59L10.3 9.45l-7.72 7.72c-.78.78-.78 2.05 0 2.83L4 21.41c.39.39.9.59 1.41.59.51 0 1.02-.2 1.41-.59l7.78-7.78 2.81-2.81c.8-.78.8-2.07 0-2.86zM5.41 20L4 18.59l7.72-7.72 1.47 1.35L5.41 20z\"/>\n",
              "  </svg>\n",
              "      </button>\n",
              "\n",
              "\n",
              "\n",
              "    <div id=\"df-1b5abc19-329b-4a7e-8eeb-1f9ac400187c\">\n",
              "      <button class=\"colab-df-quickchart\" onclick=\"quickchart('df-1b5abc19-329b-4a7e-8eeb-1f9ac400187c')\"\n",
              "              title=\"Suggest charts.\"\n",
              "              style=\"display:none;\">\n",
              "\n",
              "<svg xmlns=\"http://www.w3.org/2000/svg\" height=\"24px\"viewBox=\"0 0 24 24\"\n",
              "     width=\"24px\">\n",
              "    <g>\n",
              "        <path d=\"M19 3H5c-1.1 0-2 .9-2 2v14c0 1.1.9 2 2 2h14c1.1 0 2-.9 2-2V5c0-1.1-.9-2-2-2zM9 17H7v-7h2v7zm4 0h-2V7h2v10zm4 0h-2v-4h2v4z\"/>\n",
              "    </g>\n",
              "</svg>\n",
              "      </button>\n",
              "    </div>\n",
              "\n",
              "<style>\n",
              "  .colab-df-quickchart {\n",
              "    background-color: #E8F0FE;\n",
              "    border: none;\n",
              "    border-radius: 50%;\n",
              "    cursor: pointer;\n",
              "    display: none;\n",
              "    fill: #1967D2;\n",
              "    height: 32px;\n",
              "    padding: 0 0 0 0;\n",
              "    width: 32px;\n",
              "  }\n",
              "\n",
              "  .colab-df-quickchart:hover {\n",
              "    background-color: #E2EBFA;\n",
              "    box-shadow: 0px 1px 2px rgba(60, 64, 67, 0.3), 0px 1px 3px 1px rgba(60, 64, 67, 0.15);\n",
              "    fill: #174EA6;\n",
              "  }\n",
              "\n",
              "  [theme=dark] .colab-df-quickchart {\n",
              "    background-color: #3B4455;\n",
              "    fill: #D2E3FC;\n",
              "  }\n",
              "\n",
              "  [theme=dark] .colab-df-quickchart:hover {\n",
              "    background-color: #434B5C;\n",
              "    box-shadow: 0px 1px 3px 1px rgba(0, 0, 0, 0.15);\n",
              "    filter: drop-shadow(0px 1px 2px rgba(0, 0, 0, 0.3));\n",
              "    fill: #FFFFFF;\n",
              "  }\n",
              "</style>\n",
              "\n",
              "    <script>\n",
              "      async function quickchart(key) {\n",
              "        const containerElement = document.querySelector('#' + key);\n",
              "        const charts = await google.colab.kernel.invokeFunction(\n",
              "            'suggestCharts', [key], {});\n",
              "      }\n",
              "    </script>\n",
              "\n",
              "      <script>\n",
              "\n",
              "function displayQuickchartButton(domScope) {\n",
              "  let quickchartButtonEl =\n",
              "    domScope.querySelector('#df-1b5abc19-329b-4a7e-8eeb-1f9ac400187c button.colab-df-quickchart');\n",
              "  quickchartButtonEl.style.display =\n",
              "    google.colab.kernel.accessAllowed ? 'block' : 'none';\n",
              "}\n",
              "\n",
              "        displayQuickchartButton(document);\n",
              "      </script>\n",
              "      <style>\n",
              "    .colab-df-container {\n",
              "      display:flex;\n",
              "      flex-wrap:wrap;\n",
              "      gap: 12px;\n",
              "    }\n",
              "\n",
              "    .colab-df-convert {\n",
              "      background-color: #E8F0FE;\n",
              "      border: none;\n",
              "      border-radius: 50%;\n",
              "      cursor: pointer;\n",
              "      display: none;\n",
              "      fill: #1967D2;\n",
              "      height: 32px;\n",
              "      padding: 0 0 0 0;\n",
              "      width: 32px;\n",
              "    }\n",
              "\n",
              "    .colab-df-convert:hover {\n",
              "      background-color: #E2EBFA;\n",
              "      box-shadow: 0px 1px 2px rgba(60, 64, 67, 0.3), 0px 1px 3px 1px rgba(60, 64, 67, 0.15);\n",
              "      fill: #174EA6;\n",
              "    }\n",
              "\n",
              "    [theme=dark] .colab-df-convert {\n",
              "      background-color: #3B4455;\n",
              "      fill: #D2E3FC;\n",
              "    }\n",
              "\n",
              "    [theme=dark] .colab-df-convert:hover {\n",
              "      background-color: #434B5C;\n",
              "      box-shadow: 0px 1px 3px 1px rgba(0, 0, 0, 0.15);\n",
              "      filter: drop-shadow(0px 1px 2px rgba(0, 0, 0, 0.3));\n",
              "      fill: #FFFFFF;\n",
              "    }\n",
              "  </style>\n",
              "\n",
              "      <script>\n",
              "        const buttonEl =\n",
              "          document.querySelector('#df-025f3f6b-533c-4e3f-ac4b-32dc29d8187e button.colab-df-convert');\n",
              "        buttonEl.style.display =\n",
              "          google.colab.kernel.accessAllowed ? 'block' : 'none';\n",
              "\n",
              "        async function convertToInteractive(key) {\n",
              "          const element = document.querySelector('#df-025f3f6b-533c-4e3f-ac4b-32dc29d8187e');\n",
              "          const dataTable =\n",
              "            await google.colab.kernel.invokeFunction('convertToInteractive',\n",
              "                                                     [key], {});\n",
              "          if (!dataTable) return;\n",
              "\n",
              "          const docLinkHtml = 'Like what you see? Visit the ' +\n",
              "            '<a target=\"_blank\" href=https://colab.research.google.com/notebooks/data_table.ipynb>data table notebook</a>'\n",
              "            + ' to learn more about interactive tables.';\n",
              "          element.innerHTML = '';\n",
              "          dataTable['output_type'] = 'display_data';\n",
              "          await google.colab.output.renderOutput(dataTable, element);\n",
              "          const docLink = document.createElement('div');\n",
              "          docLink.innerHTML = docLinkHtml;\n",
              "          element.appendChild(docLink);\n",
              "        }\n",
              "      </script>\n",
              "    </div>\n",
              "  </div>\n"
            ]
          },
          "metadata": {}
        }
      ]
    },
    {
      "cell_type": "markdown",
      "id": "04966e40-3bc3-4dc8-9ba2-e80580ce3abc",
      "metadata": {
        "id": "04966e40-3bc3-4dc8-9ba2-e80580ce3abc"
      },
      "source": [
        "***"
      ]
    },
    {
      "cell_type": "markdown",
      "source": [
        "### Выводы по анализу работодателей\n",
        "\n",
        "В ходе анализа работодателей удалось дополнительно прояснить, какие компании лучше всего выбирать для поиска в них работы, а также какие из работодателей наиболее заинтересованы в привлечении новых сотрудников.\n",
        "\n",
        "Первое задание позволило нам узнать соотношение работодателей и числа предлагаемых ими вакансий. В топ-3 данного списка вошли Яндекс, Ростелеком и Тинькофф. Следовательно, при поиске работы следует обратить внимание на вакансии, предлагаемые данными организациями, поскольку наличие большого числа открытых вакансий свидетельствует о том, что компания развивает новые направления и продукты, а следовательно ей требуются новые специалисты.\n",
        "\n",
        "Следующее задание позволило нам узнать те регионы, в которых нет вакансий, однако есть работодатели. Рекордсменом в данной категории стала \"Россия\", как отдельный регион. Это связано в первую очередь с тем, что некоторым работодателям не важно нахождение человека в конкретном городе, следовательно в вакансии указывается местоположение \"Россия\", как приемлемый регион (возможно, в данных компаниях делается акцент на удаленную работу).\n",
        "\n",
        "Задание 5.3 позволило нам узнать о количестве регионов, в которых работодатель публикует свои вакансии. Чем больше компания - тем в большем числе регионов она будет публиковать свои предложения о работе, чтобы находить различных соискателей, готовых работать по разным направлениям.\n",
        "\n",
        "При решении задания 5.4 выяснилось, что из представленных работодателей - 8419 работодателей не указывают сферы деятельности. Данная ситуация может происходить по одной из двух причин:\n",
        "1. Род деятельности компании понятен из ее названия, например \"МВД России по Республике Башкортостан\"\n",
        "2. Компания является частью более большого конгломерата, а вакансия публикуется в рамкой отдельной части данного конгломерата, например \"2ГИС-Хабаровск\"\n",
        "Тем не менее, также есть компании, сфера деятельности которых непонятна, а название не дает каких-либо дополнительных представлений о области, в которой работает компания. Для соискателя отсутствие описанной сферы деятельности у компании может стать причиной для отказа от отклика на вакансию, поскольку навыки, необходимые для работы в компании часто зависят от сферы ее деятельности\n",
        "\n",
        "Задание 5.5 и 5.6 расширили наше познание в количествах сфер деятельности компаний, а также в видах данных сфер деятельности. Существует огромное число компаний, работающий более чем в 1 сфере. Это опять-таки свидетельствует о том, что компания развивает разносторонние продукты и является активным участником рынка.\n",
        "\n",
        "Финальное задание позволило лучше ознакомиться с одним из лидеров рынка - компанией Яндекс, а также с тем, какого число вакансий у данной компании, в городах миллионниках.\n",
        "\n"
      ],
      "metadata": {
        "id": "TLC-_ksaoy4A"
      },
      "id": "TLC-_ksaoy4A"
    },
    {
      "cell_type": "markdown",
      "id": "b1ef156a-efcb-49ce-bb23-90763e7f35b2",
      "metadata": {
        "tags": [],
        "id": "b1ef156a-efcb-49ce-bb23-90763e7f35b2"
      },
      "source": [
        "# Юнит 6. Предметный анализ"
      ]
    },
    {
      "cell_type": "markdown",
      "id": "b9cd50a0-992d-4988-8463-2b2b1c4629b4",
      "metadata": {
        "id": "b9cd50a0-992d-4988-8463-2b2b1c4629b4"
      },
      "source": [
        "1. Сколько вакансий имеет отношение к данным?\n",
        "\n",
        "Считаем, что вакансия имеет отношение к данным, если в её названии содержатся слова 'data' или 'данн'.\n",
        "\n",
        "*Подсказка: Обратите внимание, что названия вакансий могут быть написаны в любом регистре.*\n"
      ]
    },
    {
      "cell_type": "code",
      "execution_count": 41,
      "id": "54ab0e50-c0f1-47cc-a54b-bc5c8bc363f9",
      "metadata": {
        "id": "54ab0e50-c0f1-47cc-a54b-bc5c8bc363f9"
      },
      "outputs": [],
      "source": [
        "query_6_1 = f'''\n",
        "select count(*)\n",
        "from public.vacancies as v\n",
        "where lower(v.name) like '%data%' or lower(v.name) like '%данн%'\n",
        "'''"
      ]
    },
    {
      "cell_type": "code",
      "source": [
        "data_vacancies = pd.read_sql_query(query_6_1, connection)\n",
        "print('Число вакансий имеющих отношение к данным -', data_vacancies.iloc[0]['count'])"
      ],
      "metadata": {
        "id": "9F1meAqsuUjd",
        "colab": {
          "base_uri": "https://localhost:8080/"
        },
        "outputId": "6f6efe08-204b-46cd-e4f6-6e73c4b0e3d9"
      },
      "id": "9F1meAqsuUjd",
      "execution_count": 42,
      "outputs": [
        {
          "output_type": "stream",
          "name": "stderr",
          "text": [
            "<ipython-input-42-80da9b0526b8>:1: UserWarning: pandas only supports SQLAlchemy connectable (engine/connection) or database string URI or sqlite3 DBAPI2 connection. Other DBAPI2 objects are not tested. Please consider using SQLAlchemy.\n",
            "  data_vacancies = pd.read_sql_query(query_6_1, connection)\n"
          ]
        },
        {
          "output_type": "stream",
          "name": "stdout",
          "text": [
            "Число вакансий имеющих отношение к данным - 1771\n"
          ]
        }
      ]
    },
    {
      "cell_type": "markdown",
      "id": "4dea20cb-a36b-474a-a0b9-e08e8e3857a5",
      "metadata": {
        "id": "4dea20cb-a36b-474a-a0b9-e08e8e3857a5"
      },
      "source": [
        "2. Сколько есть подходящих вакансий для начинающего дата-сайентиста?\n",
        "Будем считать вакансиями для дата-сайентистов такие, в названии которых есть хотя бы одно из следующих сочетаний:\n",
        "* 'data scientist'\n",
        "* 'data science'\n",
        "* 'исследователь данных'\n",
        "* 'ML' (здесь не нужно брать вакансии по HTML)\n",
        "* 'machine learning'\n",
        "* 'машинн%обучен%'\n",
        "\n",
        "** В следующих заданиях мы продолжим работать с вакансиями по этому условию.*\n",
        "\n",
        "Считаем вакансиями для специалистов уровня Junior следующие:\n",
        "* в названии есть слово 'junior' *или*\n",
        "* требуемый опыт — Нет опыта *или*\n",
        "* тип трудоустройства — Стажировка.\n"
      ]
    },
    {
      "cell_type": "code",
      "execution_count": 43,
      "id": "9c61b3c0-bb66-46c9-ae1e-81d3f5752b4a",
      "metadata": {
        "id": "9c61b3c0-bb66-46c9-ae1e-81d3f5752b4a"
      },
      "outputs": [],
      "source": [
        "query_6_2 = f'''\n",
        "select count(*)\n",
        "from public.vacancies as v\n",
        "where (lower(v.name) like '%data scientist%' or\n",
        "       lower(v.name) like '%data science%' or\n",
        "       lower(v.name) like '%исследователь данных%' or\n",
        "       (v.name like '%ML%' and v.name not like '%HTML%') or\n",
        "       lower(v.name) like '%machine learning%' or\n",
        "       lower(v.name) like '%машинн%обучен%')\n",
        "       and\n",
        "       (lower(v.name) like '%junior%' or\n",
        "       v.experience like 'Нет опыта' or\n",
        "       v.employment like 'Стажировка')\n",
        "'''"
      ]
    },
    {
      "cell_type": "code",
      "source": [
        "junior_ds_vacancies = pd.read_sql_query(query_6_2, connection)\n",
        "print('Число вакансий для начинающих Data Scientist - специалистов:', junior_ds_vacancies.iloc[0]['count'])"
      ],
      "metadata": {
        "id": "ZNM-LLYuu1dj",
        "colab": {
          "base_uri": "https://localhost:8080/"
        },
        "outputId": "a667ad68-be79-4adb-b994-529eaa54f709"
      },
      "id": "ZNM-LLYuu1dj",
      "execution_count": 44,
      "outputs": [
        {
          "output_type": "stream",
          "name": "stderr",
          "text": [
            "<ipython-input-44-c8ae5a27c97b>:1: UserWarning: pandas only supports SQLAlchemy connectable (engine/connection) or database string URI or sqlite3 DBAPI2 connection. Other DBAPI2 objects are not tested. Please consider using SQLAlchemy.\n",
            "  junior_ds_vacancies = pd.read_sql_query(query_6_2, connection)\n"
          ]
        },
        {
          "output_type": "stream",
          "name": "stdout",
          "text": [
            "Число вакансий для начинающих Data Scientist - специалистов: 51\n"
          ]
        }
      ]
    },
    {
      "cell_type": "markdown",
      "id": "eedceb80-c5ca-480e-b27a-278dfb8b4438",
      "metadata": {
        "id": "eedceb80-c5ca-480e-b27a-278dfb8b4438"
      },
      "source": [
        "3. Сколько есть вакансий для DS, в которых в качестве ключевого навыка указан SQL или postgres?\n",
        "\n",
        "** Критерии для отнесения вакансии к DS указаны в предыдущем задании.*"
      ]
    },
    {
      "cell_type": "code",
      "execution_count": 45,
      "id": "69621713-0cc5-4f1b-a1d7-bb144fa6148c",
      "metadata": {
        "id": "69621713-0cc5-4f1b-a1d7-bb144fa6148c"
      },
      "outputs": [],
      "source": [
        "query_6_3 = f'''\n",
        "select count(*)\n",
        "from public.vacancies as v\n",
        "where (lower(v.name) like '%data scientist%' or\n",
        "       lower(v.name) like '%data science%' or\n",
        "       lower(v.name) like '%исследователь данных%' or\n",
        "       (v.name like '%ML%' and v.name not like '%HTML%') or\n",
        "       lower(v.name) like '%machine learning%' or\n",
        "       lower(v.name) like '%машинн%обучен%')\n",
        "       and\n",
        "       (lower(v.key_skills) like '%sql%' or\n",
        "       lower(v.key_skills) like '%postgres%')\n",
        "\n",
        "except\n",
        "\n",
        "select count(*)\n",
        "from public.vacancies as v\n",
        "where (lower(v.name) like '%data scientist%' or\n",
        "       lower(v.name) like '%data science%' or\n",
        "       lower(v.name) like '%исследователь данных%' or\n",
        "       (v.name like '%ML%' and v.name not like '%HTML%') or\n",
        "       lower(v.name) like '%machine learning%' or\n",
        "       lower(v.name) like '%машинн%обучен%')\n",
        "       and\n",
        "       (lower(v.name) like '%junior%' or\n",
        "       v.experience like 'Нет опыта' or\n",
        "       v.employment like 'Стажировка')\n",
        "'''"
      ]
    },
    {
      "cell_type": "code",
      "source": [
        "count_notjunior_ds = pd.read_sql_query(query_6_3, connection)\n",
        "print('Число вакансий, для уровня выше Junior Data Scientis, с ключевыми навыками \"SQL\"/\"Postgres\" -', count_notjunior_ds.iloc[0]['count'])"
      ],
      "metadata": {
        "id": "alA8WEAAvGdf",
        "colab": {
          "base_uri": "https://localhost:8080/"
        },
        "outputId": "578bf09d-34c3-48b7-c3d1-eb8e4fc5708b"
      },
      "id": "alA8WEAAvGdf",
      "execution_count": 46,
      "outputs": [
        {
          "output_type": "stream",
          "name": "stderr",
          "text": [
            "<ipython-input-46-bc194b470660>:1: UserWarning: pandas only supports SQLAlchemy connectable (engine/connection) or database string URI or sqlite3 DBAPI2 connection. Other DBAPI2 objects are not tested. Please consider using SQLAlchemy.\n",
            "  count_notjunior_ds = pd.read_sql_query(query_6_3, connection)\n"
          ]
        },
        {
          "output_type": "stream",
          "name": "stdout",
          "text": [
            "Число вакансий, для уровня выше Junior Data Scientis, с ключевыми навыками \"SQL\"/\"Postgres\" - 201\n"
          ]
        }
      ]
    },
    {
      "cell_type": "markdown",
      "id": "1be1e9c6-37cf-4a5f-bfeb-04cab799dc80",
      "metadata": {
        "id": "1be1e9c6-37cf-4a5f-bfeb-04cab799dc80"
      },
      "source": [
        "4. Проверьте, насколько популярен Python в требованиях работодателей к DS.Для этого вычислите количество вакансий, в которых в качестве ключевого навыка указан Python.\n",
        "\n",
        "** Это можно сделать помощью запроса, аналогичного предыдущему.*"
      ]
    },
    {
      "cell_type": "code",
      "execution_count": 47,
      "id": "0036a355-9ccf-4564-8b01-73d8194297e7",
      "metadata": {
        "id": "0036a355-9ccf-4564-8b01-73d8194297e7"
      },
      "outputs": [],
      "source": [
        "query_6_4 = f'''\n",
        "select count(*)\n",
        "from public.vacancies as v\n",
        "where (lower(v.name) like '%data scientist%' or\n",
        "       lower(v.name) like '%data science%' or\n",
        "       lower(v.name) like '%исследователь данных%' or\n",
        "       (v.name like '%ML%' and v.name not like '%HTML%') or\n",
        "       lower(v.name) like '%machine learning%' or\n",
        "       lower(v.name) like '%машинн%обучен%')\n",
        "       and\n",
        "       (lower(v.key_skills) like '%python%')\n",
        "\n",
        "except\n",
        "\n",
        "select count(*)\n",
        "from public.vacancies as v\n",
        "where (lower(v.name) like '%data scientist%' or\n",
        "       lower(v.name) like '%data science%' or\n",
        "       lower(v.name) like '%исследователь данных%' or\n",
        "       (v.name like '%ML%' and v.name not like '%HTML%') or\n",
        "       lower(v.name) like '%machine learning%' or\n",
        "       lower(v.name) like '%машинн%обучен%')\n",
        "       and\n",
        "       (lower(v.name) like '%junior%' or\n",
        "       v.experience like 'Нет опыта' or\n",
        "       v.employment like 'Стажировка')\n",
        "'''"
      ]
    },
    {
      "cell_type": "code",
      "source": [
        "ds_python_keyskill = pd.read_sql_query(query_6_4, connection)\n",
        "print('Число DS - вакансий, для уровня выше Junior, с ключевым навыком Python -', ds_python_keyskill.iloc[0]['count'])"
      ],
      "metadata": {
        "id": "1i-5WyucvQ6v",
        "colab": {
          "base_uri": "https://localhost:8080/"
        },
        "outputId": "3439455b-edf5-4159-99a1-a71412e947f1"
      },
      "id": "1i-5WyucvQ6v",
      "execution_count": 48,
      "outputs": [
        {
          "output_type": "stream",
          "name": "stderr",
          "text": [
            "<ipython-input-48-ebb4d13c118a>:1: UserWarning: pandas only supports SQLAlchemy connectable (engine/connection) or database string URI or sqlite3 DBAPI2 connection. Other DBAPI2 objects are not tested. Please consider using SQLAlchemy.\n",
            "  ds_python_keyskill = pd.read_sql_query(query_6_4, connection)\n"
          ]
        },
        {
          "output_type": "stream",
          "name": "stdout",
          "text": [
            "Число DS - вакансий, для уровня выше Junior, с ключевым навыком Python - 351\n"
          ]
        }
      ]
    },
    {
      "cell_type": "markdown",
      "id": "ec3c8db7-fa21-4a41-a994-1af63742a642",
      "metadata": {
        "id": "ec3c8db7-fa21-4a41-a994-1af63742a642"
      },
      "source": [
        "5. Сколько ключевых навыков в среднем указывают в вакансиях для DS?\n",
        "Ответ округлите до двух знаков после точки-разделителя."
      ]
    },
    {
      "cell_type": "code",
      "execution_count": 65,
      "id": "949132bc-d5b6-4611-8218-0b9a504d74f4",
      "metadata": {
        "id": "949132bc-d5b6-4611-8218-0b9a504d74f4"
      },
      "outputs": [],
      "source": [
        "query_6_5 = f'''\n",
        "select 1+length(v.key_skills) - length(replace(v.key_skills, chr(9), '')) as \"count_of_keyskills\"\n",
        "from public.vacancies as v\n",
        "where (lower(v.name) like '%data scientist%' or\n",
        "       lower(v.name) like '%data science%' or\n",
        "       lower(v.name) like '%исследователь данных%' or\n",
        "       (v.name like '%ML%' and v.name not like '%HTML%') or\n",
        "       lower(v.name) like '%machine learning%' or\n",
        "       lower(v.name) like '%машинн%обучен%')\n",
        "       and\n",
        "       v.key_skills is not null\n",
        "'''"
      ]
    },
    {
      "cell_type": "code",
      "source": [
        "key_skills_ds = pd.read_sql_query(query_6_5, connection)\n",
        "print('В вакансиях для DS чаще всего указывают', round(key_skills_ds['count_of_keyskills'].mean(), 2), 'навыка')"
      ],
      "metadata": {
        "id": "a3V24Tvmviqk",
        "colab": {
          "base_uri": "https://localhost:8080/"
        },
        "outputId": "0ef21c56-dc15-4e55-e5e5-a153f8dc25fb"
      },
      "id": "a3V24Tvmviqk",
      "execution_count": 66,
      "outputs": [
        {
          "output_type": "stream",
          "name": "stderr",
          "text": [
            "<ipython-input-66-9200dd17debe>:1: UserWarning: pandas only supports SQLAlchemy connectable (engine/connection) or database string URI or sqlite3 DBAPI2 connection. Other DBAPI2 objects are not tested. Please consider using SQLAlchemy.\n",
            "  key_skills_ds = pd.read_sql_query(query_6_5, connection)\n"
          ]
        },
        {
          "output_type": "stream",
          "name": "stdout",
          "text": [
            "В вакансиях для DS чаще всего указывают 6.41 навыка\n"
          ]
        }
      ]
    },
    {
      "cell_type": "markdown",
      "id": "1041c17a-ca8f-4543-a0ca-32778914fb00",
      "metadata": {
        "id": "1041c17a-ca8f-4543-a0ca-32778914fb00"
      },
      "source": [
        "6. Напишите запрос, позволяющий вычислить, какую зарплату для DS в **среднем** указывают для каждого типа требуемого опыта (уникальное значение из поля *experience*).\n",
        "\n",
        "При решении задачи примите во внимание следующее:\n",
        "1. Рассматриваем только вакансии, у которых заполнено хотя бы одно из двух полей с зарплатой.\n",
        "2. Если заполнены оба поля с зарплатой, то считаем зарплату по каждой вакансии как сумму двух полей, делённую на 2. Если заполнено только одно из полей, то его и считаем зарплатой по вакансии.\n",
        "3. Если в расчётах участвует null, в результате он тоже даст null (посмотрите, что возвращает запрос select 1 + null). Чтобы избежать этой ситуацию, мы воспользуемся функцией [coalesce](https://postgrespro.ru/docs/postgresql/9.5/functions-conditional#functions-coalesce-nvl-ifnull), которая заменит null на значение, которое мы передадим. Например, посмотрите, что возвращает запрос `select 1 + coalesce(null, 0)`\n",
        "\n",
        "Выясните, на какую зарплату в среднем может рассчитывать дата-сайентист с опытом работы от 3 до 6 лет. Результат округлите до целого числа."
      ]
    },
    {
      "cell_type": "code",
      "execution_count": 75,
      "id": "6a743d39-5204-48d3-8271-b9f88e68d40e",
      "metadata": {
        "id": "6a743d39-5204-48d3-8271-b9f88e68d40e"
      },
      "outputs": [],
      "source": [
        "query_6_6 = f'''\n",
        "select distinct v.experience, round(avg(coalesce((v.salary_from+v.salary_to)/2, salary_from, salary_to))) as salary\n",
        "from public.vacancies as v\n",
        "where (lower(v.name) like '%data scientist%' or\n",
        "       lower(v.name) like '%data science%' or\n",
        "       lower(v.name) like '%исследователь данных%' or\n",
        "       (v.name like '%ML%' and v.name not like '%HTML%') or\n",
        "       lower(v.name) like '%machine learning%' or\n",
        "       lower(v.name) like '%машинн%обучен%')\n",
        "       and\n",
        "       (v.salary_from is not null or v.salary_to is not null)\n",
        "group by v.experience\n",
        "'''"
      ]
    },
    {
      "cell_type": "code",
      "source": [
        "ds_expierence_salary = pd.read_sql_query(query_6_6, connection)\n",
        "print('Средняя заработная плата, на которую может рассчитывать Data Scientist с опытом работы от 3 до 6 лет -', ds_expierence_salary.iloc[2]['salary'])"
      ],
      "metadata": {
        "id": "aRIJ0mZEwU1_",
        "colab": {
          "base_uri": "https://localhost:8080/"
        },
        "outputId": "13c877db-8240-449e-a14b-9ed920693a4c"
      },
      "id": "aRIJ0mZEwU1_",
      "execution_count": 76,
      "outputs": [
        {
          "output_type": "stream",
          "name": "stderr",
          "text": [
            "<ipython-input-76-e1502e266b3f>:1: UserWarning: pandas only supports SQLAlchemy connectable (engine/connection) or database string URI or sqlite3 DBAPI2 connection. Other DBAPI2 objects are not tested. Please consider using SQLAlchemy.\n",
            "  ds_expierence_salary = pd.read_sql_query(query_6_6, connection)\n"
          ]
        },
        {
          "output_type": "stream",
          "name": "stdout",
          "text": [
            "Средняя заработная плата, на которую может рассчитывать Data Scientist с опытом работы от 3 до 6 лет - 243115.0\n"
          ]
        }
      ]
    },
    {
      "cell_type": "markdown",
      "id": "6a7892b4-4113-4746-adce-18aa2844f18e",
      "metadata": {
        "id": "6a7892b4-4113-4746-adce-18aa2844f18e"
      },
      "source": [
        "***"
      ]
    },
    {
      "cell_type": "markdown",
      "source": [
        "### Выводы по предметному анализу\n",
        "\n",
        "После предметного анализа данных, были полученны новые данные, относительно вакансий, так или иначе связанных с Data Science.\n",
        "* Во-первых, было получено число вакансий, так или иначе связанных с данными, их оказалось 1771.\n",
        "* Во-вторых, среди всех вакансий были найдены только те, что подходят для начинающего Data Science - специалиста. За ключевые признаки были взяты слова \"junior\" в названии вакансии, \"Нет опыта\" - в графе требуемого опыта работы и \"Стажировка\", как тип трудоустройства.\n",
        "* Следующим шагом бало нахождение вакансий, с указанными требованиями, такими как SQL и Postgres (таких вакансий представлено 201) и Python (таких вакансий представлено 351) для уровня выше Junior (задания 3-4).\n",
        "* Пятым шагом был подсчет среднего числа ключевых навыков, для вакансий\n",
        "* Последним шагом была подсчитана заработная плата, на которую может рассчитывать специалист с разным опытом. При этом отбрасывались вакансии, в которых не была указана ни нижняя, ни верхняя граница заработной платы."
      ],
      "metadata": {
        "id": "VqI4Nm3DZDv7"
      },
      "id": "VqI4Nm3DZDv7"
    },
    {
      "cell_type": "markdown",
      "source": [
        "# Дополнительные исследования"
      ],
      "metadata": {
        "id": "OnSq20pza841"
      },
      "id": "OnSq20pza841"
    },
    {
      "cell_type": "markdown",
      "source": [
        "1. В ходе решения мы посчитали зависимость заработной платы от опыта, а также среднее значение для минимального и максимального значения заработной платы. Теперь посчитаем среднюю заработную плату по городам"
      ],
      "metadata": {
        "id": "UwacMBsPbHrP"
      },
      "id": "UwacMBsPbHrP"
    },
    {
      "cell_type": "code",
      "source": [
        "extra_query_1 = f'''\n",
        "select a.name as \"Область\", round(avg(coalesce((v.salary_from+v.salary_to)/2, salary_from, salary_to))) as \"Средняя З/П по городу\"\n",
        "from public.vacancies as v\n",
        "    left join public.areas as a on v.area_id = a.id\n",
        "where (v.salary_from is not null or v.salary_to is not null)\n",
        "group by a.name\n",
        "order by \"Средняя З/П по городу\" desc\n",
        "'''"
      ],
      "metadata": {
        "id": "Y-A1sm_YcI9s"
      },
      "id": "Y-A1sm_YcI9s",
      "execution_count": 77,
      "outputs": []
    },
    {
      "cell_type": "code",
      "source": [
        "salary_areas = pd.read_sql_query(extra_query_1, connection)\n",
        "display(salary_areas.head())"
      ],
      "metadata": {
        "colab": {
          "base_uri": "https://localhost:8080/",
          "height": 261
        },
        "id": "hgvTNgyFlVvO",
        "outputId": "7c846946-3321-4fb4-a69c-e416fa548ec0"
      },
      "id": "hgvTNgyFlVvO",
      "execution_count": 79,
      "outputs": [
        {
          "output_type": "stream",
          "name": "stderr",
          "text": [
            "<ipython-input-79-a02ff90ed792>:1: UserWarning: pandas only supports SQLAlchemy connectable (engine/connection) or database string URI or sqlite3 DBAPI2 connection. Other DBAPI2 objects are not tested. Please consider using SQLAlchemy.\n",
            "  salary_areas = pd.read_sql_query(extra_query_1, connection)\n"
          ]
        },
        {
          "output_type": "display_data",
          "data": {
            "text/plain": [
              "      Область  Средняя З/П по городу\n",
              "0    Германия               452751.0\n",
              "1    Болгария               324348.0\n",
              "2     Испания               300000.0\n",
              "3  Черногория               288589.0\n",
              "4       Литва               263019.0"
            ],
            "text/html": [
              "\n",
              "\n",
              "  <div id=\"df-bff6f400-6f41-45e4-89ee-be4460d0aa6d\">\n",
              "    <div class=\"colab-df-container\">\n",
              "      <div>\n",
              "<style scoped>\n",
              "    .dataframe tbody tr th:only-of-type {\n",
              "        vertical-align: middle;\n",
              "    }\n",
              "\n",
              "    .dataframe tbody tr th {\n",
              "        vertical-align: top;\n",
              "    }\n",
              "\n",
              "    .dataframe thead th {\n",
              "        text-align: right;\n",
              "    }\n",
              "</style>\n",
              "<table border=\"1\" class=\"dataframe\">\n",
              "  <thead>\n",
              "    <tr style=\"text-align: right;\">\n",
              "      <th></th>\n",
              "      <th>Область</th>\n",
              "      <th>Средняя З/П по городу</th>\n",
              "    </tr>\n",
              "  </thead>\n",
              "  <tbody>\n",
              "    <tr>\n",
              "      <th>0</th>\n",
              "      <td>Германия</td>\n",
              "      <td>452751.0</td>\n",
              "    </tr>\n",
              "    <tr>\n",
              "      <th>1</th>\n",
              "      <td>Болгария</td>\n",
              "      <td>324348.0</td>\n",
              "    </tr>\n",
              "    <tr>\n",
              "      <th>2</th>\n",
              "      <td>Испания</td>\n",
              "      <td>300000.0</td>\n",
              "    </tr>\n",
              "    <tr>\n",
              "      <th>3</th>\n",
              "      <td>Черногория</td>\n",
              "      <td>288589.0</td>\n",
              "    </tr>\n",
              "    <tr>\n",
              "      <th>4</th>\n",
              "      <td>Литва</td>\n",
              "      <td>263019.0</td>\n",
              "    </tr>\n",
              "  </tbody>\n",
              "</table>\n",
              "</div>\n",
              "      <button class=\"colab-df-convert\" onclick=\"convertToInteractive('df-bff6f400-6f41-45e4-89ee-be4460d0aa6d')\"\n",
              "              title=\"Convert this dataframe to an interactive table.\"\n",
              "              style=\"display:none;\">\n",
              "\n",
              "  <svg xmlns=\"http://www.w3.org/2000/svg\" height=\"24px\"viewBox=\"0 0 24 24\"\n",
              "       width=\"24px\">\n",
              "    <path d=\"M0 0h24v24H0V0z\" fill=\"none\"/>\n",
              "    <path d=\"M18.56 5.44l.94 2.06.94-2.06 2.06-.94-2.06-.94-.94-2.06-.94 2.06-2.06.94zm-11 1L8.5 8.5l.94-2.06 2.06-.94-2.06-.94L8.5 2.5l-.94 2.06-2.06.94zm10 10l.94 2.06.94-2.06 2.06-.94-2.06-.94-.94-2.06-.94 2.06-2.06.94z\"/><path d=\"M17.41 7.96l-1.37-1.37c-.4-.4-.92-.59-1.43-.59-.52 0-1.04.2-1.43.59L10.3 9.45l-7.72 7.72c-.78.78-.78 2.05 0 2.83L4 21.41c.39.39.9.59 1.41.59.51 0 1.02-.2 1.41-.59l7.78-7.78 2.81-2.81c.8-.78.8-2.07 0-2.86zM5.41 20L4 18.59l7.72-7.72 1.47 1.35L5.41 20z\"/>\n",
              "  </svg>\n",
              "      </button>\n",
              "\n",
              "\n",
              "\n",
              "    <div id=\"df-3b9c20a9-57df-4746-af5e-4fdedef1179e\">\n",
              "      <button class=\"colab-df-quickchart\" onclick=\"quickchart('df-3b9c20a9-57df-4746-af5e-4fdedef1179e')\"\n",
              "              title=\"Suggest charts.\"\n",
              "              style=\"display:none;\">\n",
              "\n",
              "<svg xmlns=\"http://www.w3.org/2000/svg\" height=\"24px\"viewBox=\"0 0 24 24\"\n",
              "     width=\"24px\">\n",
              "    <g>\n",
              "        <path d=\"M19 3H5c-1.1 0-2 .9-2 2v14c0 1.1.9 2 2 2h14c1.1 0 2-.9 2-2V5c0-1.1-.9-2-2-2zM9 17H7v-7h2v7zm4 0h-2V7h2v10zm4 0h-2v-4h2v4z\"/>\n",
              "    </g>\n",
              "</svg>\n",
              "      </button>\n",
              "    </div>\n",
              "\n",
              "<style>\n",
              "  .colab-df-quickchart {\n",
              "    background-color: #E8F0FE;\n",
              "    border: none;\n",
              "    border-radius: 50%;\n",
              "    cursor: pointer;\n",
              "    display: none;\n",
              "    fill: #1967D2;\n",
              "    height: 32px;\n",
              "    padding: 0 0 0 0;\n",
              "    width: 32px;\n",
              "  }\n",
              "\n",
              "  .colab-df-quickchart:hover {\n",
              "    background-color: #E2EBFA;\n",
              "    box-shadow: 0px 1px 2px rgba(60, 64, 67, 0.3), 0px 1px 3px 1px rgba(60, 64, 67, 0.15);\n",
              "    fill: #174EA6;\n",
              "  }\n",
              "\n",
              "  [theme=dark] .colab-df-quickchart {\n",
              "    background-color: #3B4455;\n",
              "    fill: #D2E3FC;\n",
              "  }\n",
              "\n",
              "  [theme=dark] .colab-df-quickchart:hover {\n",
              "    background-color: #434B5C;\n",
              "    box-shadow: 0px 1px 3px 1px rgba(0, 0, 0, 0.15);\n",
              "    filter: drop-shadow(0px 1px 2px rgba(0, 0, 0, 0.3));\n",
              "    fill: #FFFFFF;\n",
              "  }\n",
              "</style>\n",
              "\n",
              "    <script>\n",
              "      async function quickchart(key) {\n",
              "        const containerElement = document.querySelector('#' + key);\n",
              "        const charts = await google.colab.kernel.invokeFunction(\n",
              "            'suggestCharts', [key], {});\n",
              "      }\n",
              "    </script>\n",
              "\n",
              "      <script>\n",
              "\n",
              "function displayQuickchartButton(domScope) {\n",
              "  let quickchartButtonEl =\n",
              "    domScope.querySelector('#df-3b9c20a9-57df-4746-af5e-4fdedef1179e button.colab-df-quickchart');\n",
              "  quickchartButtonEl.style.display =\n",
              "    google.colab.kernel.accessAllowed ? 'block' : 'none';\n",
              "}\n",
              "\n",
              "        displayQuickchartButton(document);\n",
              "      </script>\n",
              "      <style>\n",
              "    .colab-df-container {\n",
              "      display:flex;\n",
              "      flex-wrap:wrap;\n",
              "      gap: 12px;\n",
              "    }\n",
              "\n",
              "    .colab-df-convert {\n",
              "      background-color: #E8F0FE;\n",
              "      border: none;\n",
              "      border-radius: 50%;\n",
              "      cursor: pointer;\n",
              "      display: none;\n",
              "      fill: #1967D2;\n",
              "      height: 32px;\n",
              "      padding: 0 0 0 0;\n",
              "      width: 32px;\n",
              "    }\n",
              "\n",
              "    .colab-df-convert:hover {\n",
              "      background-color: #E2EBFA;\n",
              "      box-shadow: 0px 1px 2px rgba(60, 64, 67, 0.3), 0px 1px 3px 1px rgba(60, 64, 67, 0.15);\n",
              "      fill: #174EA6;\n",
              "    }\n",
              "\n",
              "    [theme=dark] .colab-df-convert {\n",
              "      background-color: #3B4455;\n",
              "      fill: #D2E3FC;\n",
              "    }\n",
              "\n",
              "    [theme=dark] .colab-df-convert:hover {\n",
              "      background-color: #434B5C;\n",
              "      box-shadow: 0px 1px 3px 1px rgba(0, 0, 0, 0.15);\n",
              "      filter: drop-shadow(0px 1px 2px rgba(0, 0, 0, 0.3));\n",
              "      fill: #FFFFFF;\n",
              "    }\n",
              "  </style>\n",
              "\n",
              "      <script>\n",
              "        const buttonEl =\n",
              "          document.querySelector('#df-bff6f400-6f41-45e4-89ee-be4460d0aa6d button.colab-df-convert');\n",
              "        buttonEl.style.display =\n",
              "          google.colab.kernel.accessAllowed ? 'block' : 'none';\n",
              "\n",
              "        async function convertToInteractive(key) {\n",
              "          const element = document.querySelector('#df-bff6f400-6f41-45e4-89ee-be4460d0aa6d');\n",
              "          const dataTable =\n",
              "            await google.colab.kernel.invokeFunction('convertToInteractive',\n",
              "                                                     [key], {});\n",
              "          if (!dataTable) return;\n",
              "\n",
              "          const docLinkHtml = 'Like what you see? Visit the ' +\n",
              "            '<a target=\"_blank\" href=https://colab.research.google.com/notebooks/data_table.ipynb>data table notebook</a>'\n",
              "            + ' to learn more about interactive tables.';\n",
              "          element.innerHTML = '';\n",
              "          dataTable['output_type'] = 'display_data';\n",
              "          await google.colab.output.renderOutput(dataTable, element);\n",
              "          const docLink = document.createElement('div');\n",
              "          docLink.innerHTML = docLinkHtml;\n",
              "          element.appendChild(docLink);\n",
              "        }\n",
              "      </script>\n",
              "    </div>\n",
              "  </div>\n"
            ]
          },
          "metadata": {}
        }
      ]
    },
    {
      "cell_type": "markdown",
      "source": [
        "### Вывод по дополнительному исследованию\n",
        "\n",
        "Как видно из полученного Датафрейма, наибольшая средняя зарплата, округленная до целого числа, среди всех представленных областей возможно заработать в Германии. Следующие страны, находящиеся в топ-5, также относятся к Евросоюзу, это: Германия, Болгария, Испания, Черногория и Литва. На основании собранных данных можно сделать о том, что средяя зарплата в Европе в средне выше, чем в России и странах-членах СНГ."
      ],
      "metadata": {
        "id": "wSdSRnlFlhPw"
      },
      "id": "wSdSRnlFlhPw"
    },
    {
      "cell_type": "markdown",
      "source": [
        "2. Теперь получим топ компаний, по числу их сфер деятельности\n"
      ],
      "metadata": {
        "id": "ssVVavDvmcZB"
      },
      "id": "ssVVavDvmcZB"
    },
    {
      "cell_type": "code",
      "source": [
        "extra_query_2 = f'''\n",
        "select distinct e.id, e.name, count(*) as \"Число сфер деятельности\"\n",
        "from public.employers as e\n",
        "     left join public.employers_industries as ei on e.id = ei.employer_id\n",
        "     join public.industries as i on ei.industry_id = i.id\n",
        "group by e.id, e.name\n",
        "order by \"Число сфер деятельности\" desc\n",
        "'''"
      ],
      "metadata": {
        "id": "0nhWIFnwoPpS"
      },
      "id": "0nhWIFnwoPpS",
      "execution_count": 83,
      "outputs": []
    },
    {
      "cell_type": "code",
      "source": [
        "count_industries = pd.read_sql_query(extra_query_2, connection)\n",
        "display(count_industries.head(10))"
      ],
      "metadata": {
        "colab": {
          "base_uri": "https://localhost:8080/",
          "height": 417
        },
        "id": "qCpwz7nAoTsx",
        "outputId": "4c8ed997-4927-46d8-a83a-ac98b58a37cf"
      },
      "id": "qCpwz7nAoTsx",
      "execution_count": 86,
      "outputs": [
        {
          "output_type": "stream",
          "name": "stderr",
          "text": [
            "<ipython-input-86-b77dc2cae596>:1: UserWarning: pandas only supports SQLAlchemy connectable (engine/connection) or database string URI or sqlite3 DBAPI2 connection. Other DBAPI2 objects are not tested. Please consider using SQLAlchemy.\n",
            "  count_industries = pd.read_sql_query(extra_query_2, connection)\n"
          ]
        },
        {
          "output_type": "display_data",
          "data": {
            "text/plain": [
              "    id                                 name  Число сфер деятельности\n",
              "0   15                          Наука-Связь                        5\n",
              "1  205                                 Марс                        5\n",
              "2  228        GE (General Electric Company)                        5\n",
              "3  272                          DHL Express                        5\n",
              "4  330                               Nestle                        5\n",
              "5  355                   Philips HealthTech                        5\n",
              "6  389  БИОКАД, биотехнологическая компания                        5\n",
              "7  540                                ZEBRA                        5\n",
              "8  616                        Lanck Telecom                        5\n",
              "9  673                   METRO Cash & Carry                        5"
            ],
            "text/html": [
              "\n",
              "\n",
              "  <div id=\"df-f5c724b9-42e6-41da-a910-ab96be3d76bd\">\n",
              "    <div class=\"colab-df-container\">\n",
              "      <div>\n",
              "<style scoped>\n",
              "    .dataframe tbody tr th:only-of-type {\n",
              "        vertical-align: middle;\n",
              "    }\n",
              "\n",
              "    .dataframe tbody tr th {\n",
              "        vertical-align: top;\n",
              "    }\n",
              "\n",
              "    .dataframe thead th {\n",
              "        text-align: right;\n",
              "    }\n",
              "</style>\n",
              "<table border=\"1\" class=\"dataframe\">\n",
              "  <thead>\n",
              "    <tr style=\"text-align: right;\">\n",
              "      <th></th>\n",
              "      <th>id</th>\n",
              "      <th>name</th>\n",
              "      <th>Число сфер деятельности</th>\n",
              "    </tr>\n",
              "  </thead>\n",
              "  <tbody>\n",
              "    <tr>\n",
              "      <th>0</th>\n",
              "      <td>15</td>\n",
              "      <td>Наука-Связь</td>\n",
              "      <td>5</td>\n",
              "    </tr>\n",
              "    <tr>\n",
              "      <th>1</th>\n",
              "      <td>205</td>\n",
              "      <td>Марс</td>\n",
              "      <td>5</td>\n",
              "    </tr>\n",
              "    <tr>\n",
              "      <th>2</th>\n",
              "      <td>228</td>\n",
              "      <td>GE (General Electric Company)</td>\n",
              "      <td>5</td>\n",
              "    </tr>\n",
              "    <tr>\n",
              "      <th>3</th>\n",
              "      <td>272</td>\n",
              "      <td>DHL Express</td>\n",
              "      <td>5</td>\n",
              "    </tr>\n",
              "    <tr>\n",
              "      <th>4</th>\n",
              "      <td>330</td>\n",
              "      <td>Nestle</td>\n",
              "      <td>5</td>\n",
              "    </tr>\n",
              "    <tr>\n",
              "      <th>5</th>\n",
              "      <td>355</td>\n",
              "      <td>Philips HealthTech</td>\n",
              "      <td>5</td>\n",
              "    </tr>\n",
              "    <tr>\n",
              "      <th>6</th>\n",
              "      <td>389</td>\n",
              "      <td>БИОКАД, биотехнологическая компания</td>\n",
              "      <td>5</td>\n",
              "    </tr>\n",
              "    <tr>\n",
              "      <th>7</th>\n",
              "      <td>540</td>\n",
              "      <td>ZEBRA</td>\n",
              "      <td>5</td>\n",
              "    </tr>\n",
              "    <tr>\n",
              "      <th>8</th>\n",
              "      <td>616</td>\n",
              "      <td>Lanck Telecom</td>\n",
              "      <td>5</td>\n",
              "    </tr>\n",
              "    <tr>\n",
              "      <th>9</th>\n",
              "      <td>673</td>\n",
              "      <td>METRO Cash &amp; Carry</td>\n",
              "      <td>5</td>\n",
              "    </tr>\n",
              "  </tbody>\n",
              "</table>\n",
              "</div>\n",
              "      <button class=\"colab-df-convert\" onclick=\"convertToInteractive('df-f5c724b9-42e6-41da-a910-ab96be3d76bd')\"\n",
              "              title=\"Convert this dataframe to an interactive table.\"\n",
              "              style=\"display:none;\">\n",
              "\n",
              "  <svg xmlns=\"http://www.w3.org/2000/svg\" height=\"24px\"viewBox=\"0 0 24 24\"\n",
              "       width=\"24px\">\n",
              "    <path d=\"M0 0h24v24H0V0z\" fill=\"none\"/>\n",
              "    <path d=\"M18.56 5.44l.94 2.06.94-2.06 2.06-.94-2.06-.94-.94-2.06-.94 2.06-2.06.94zm-11 1L8.5 8.5l.94-2.06 2.06-.94-2.06-.94L8.5 2.5l-.94 2.06-2.06.94zm10 10l.94 2.06.94-2.06 2.06-.94-2.06-.94-.94-2.06-.94 2.06-2.06.94z\"/><path d=\"M17.41 7.96l-1.37-1.37c-.4-.4-.92-.59-1.43-.59-.52 0-1.04.2-1.43.59L10.3 9.45l-7.72 7.72c-.78.78-.78 2.05 0 2.83L4 21.41c.39.39.9.59 1.41.59.51 0 1.02-.2 1.41-.59l7.78-7.78 2.81-2.81c.8-.78.8-2.07 0-2.86zM5.41 20L4 18.59l7.72-7.72 1.47 1.35L5.41 20z\"/>\n",
              "  </svg>\n",
              "      </button>\n",
              "\n",
              "\n",
              "\n",
              "    <div id=\"df-f9c7b187-57ae-4fa0-a36d-5d21e5ddea1f\">\n",
              "      <button class=\"colab-df-quickchart\" onclick=\"quickchart('df-f9c7b187-57ae-4fa0-a36d-5d21e5ddea1f')\"\n",
              "              title=\"Suggest charts.\"\n",
              "              style=\"display:none;\">\n",
              "\n",
              "<svg xmlns=\"http://www.w3.org/2000/svg\" height=\"24px\"viewBox=\"0 0 24 24\"\n",
              "     width=\"24px\">\n",
              "    <g>\n",
              "        <path d=\"M19 3H5c-1.1 0-2 .9-2 2v14c0 1.1.9 2 2 2h14c1.1 0 2-.9 2-2V5c0-1.1-.9-2-2-2zM9 17H7v-7h2v7zm4 0h-2V7h2v10zm4 0h-2v-4h2v4z\"/>\n",
              "    </g>\n",
              "</svg>\n",
              "      </button>\n",
              "    </div>\n",
              "\n",
              "<style>\n",
              "  .colab-df-quickchart {\n",
              "    background-color: #E8F0FE;\n",
              "    border: none;\n",
              "    border-radius: 50%;\n",
              "    cursor: pointer;\n",
              "    display: none;\n",
              "    fill: #1967D2;\n",
              "    height: 32px;\n",
              "    padding: 0 0 0 0;\n",
              "    width: 32px;\n",
              "  }\n",
              "\n",
              "  .colab-df-quickchart:hover {\n",
              "    background-color: #E2EBFA;\n",
              "    box-shadow: 0px 1px 2px rgba(60, 64, 67, 0.3), 0px 1px 3px 1px rgba(60, 64, 67, 0.15);\n",
              "    fill: #174EA6;\n",
              "  }\n",
              "\n",
              "  [theme=dark] .colab-df-quickchart {\n",
              "    background-color: #3B4455;\n",
              "    fill: #D2E3FC;\n",
              "  }\n",
              "\n",
              "  [theme=dark] .colab-df-quickchart:hover {\n",
              "    background-color: #434B5C;\n",
              "    box-shadow: 0px 1px 3px 1px rgba(0, 0, 0, 0.15);\n",
              "    filter: drop-shadow(0px 1px 2px rgba(0, 0, 0, 0.3));\n",
              "    fill: #FFFFFF;\n",
              "  }\n",
              "</style>\n",
              "\n",
              "    <script>\n",
              "      async function quickchart(key) {\n",
              "        const containerElement = document.querySelector('#' + key);\n",
              "        const charts = await google.colab.kernel.invokeFunction(\n",
              "            'suggestCharts', [key], {});\n",
              "      }\n",
              "    </script>\n",
              "\n",
              "      <script>\n",
              "\n",
              "function displayQuickchartButton(domScope) {\n",
              "  let quickchartButtonEl =\n",
              "    domScope.querySelector('#df-f9c7b187-57ae-4fa0-a36d-5d21e5ddea1f button.colab-df-quickchart');\n",
              "  quickchartButtonEl.style.display =\n",
              "    google.colab.kernel.accessAllowed ? 'block' : 'none';\n",
              "}\n",
              "\n",
              "        displayQuickchartButton(document);\n",
              "      </script>\n",
              "      <style>\n",
              "    .colab-df-container {\n",
              "      display:flex;\n",
              "      flex-wrap:wrap;\n",
              "      gap: 12px;\n",
              "    }\n",
              "\n",
              "    .colab-df-convert {\n",
              "      background-color: #E8F0FE;\n",
              "      border: none;\n",
              "      border-radius: 50%;\n",
              "      cursor: pointer;\n",
              "      display: none;\n",
              "      fill: #1967D2;\n",
              "      height: 32px;\n",
              "      padding: 0 0 0 0;\n",
              "      width: 32px;\n",
              "    }\n",
              "\n",
              "    .colab-df-convert:hover {\n",
              "      background-color: #E2EBFA;\n",
              "      box-shadow: 0px 1px 2px rgba(60, 64, 67, 0.3), 0px 1px 3px 1px rgba(60, 64, 67, 0.15);\n",
              "      fill: #174EA6;\n",
              "    }\n",
              "\n",
              "    [theme=dark] .colab-df-convert {\n",
              "      background-color: #3B4455;\n",
              "      fill: #D2E3FC;\n",
              "    }\n",
              "\n",
              "    [theme=dark] .colab-df-convert:hover {\n",
              "      background-color: #434B5C;\n",
              "      box-shadow: 0px 1px 3px 1px rgba(0, 0, 0, 0.15);\n",
              "      filter: drop-shadow(0px 1px 2px rgba(0, 0, 0, 0.3));\n",
              "      fill: #FFFFFF;\n",
              "    }\n",
              "  </style>\n",
              "\n",
              "      <script>\n",
              "        const buttonEl =\n",
              "          document.querySelector('#df-f5c724b9-42e6-41da-a910-ab96be3d76bd button.colab-df-convert');\n",
              "        buttonEl.style.display =\n",
              "          google.colab.kernel.accessAllowed ? 'block' : 'none';\n",
              "\n",
              "        async function convertToInteractive(key) {\n",
              "          const element = document.querySelector('#df-f5c724b9-42e6-41da-a910-ab96be3d76bd');\n",
              "          const dataTable =\n",
              "            await google.colab.kernel.invokeFunction('convertToInteractive',\n",
              "                                                     [key], {});\n",
              "          if (!dataTable) return;\n",
              "\n",
              "          const docLinkHtml = 'Like what you see? Visit the ' +\n",
              "            '<a target=\"_blank\" href=https://colab.research.google.com/notebooks/data_table.ipynb>data table notebook</a>'\n",
              "            + ' to learn more about interactive tables.';\n",
              "          element.innerHTML = '';\n",
              "          dataTable['output_type'] = 'display_data';\n",
              "          await google.colab.output.renderOutput(dataTable, element);\n",
              "          const docLink = document.createElement('div');\n",
              "          docLink.innerHTML = docLinkHtml;\n",
              "          element.appendChild(docLink);\n",
              "        }\n",
              "      </script>\n",
              "    </div>\n",
              "  </div>\n"
            ]
          },
          "metadata": {}
        }
      ]
    },
    {
      "cell_type": "markdown",
      "source": [
        "### Вывод по дополнительным исследованиям\n",
        "\n",
        "Как видно из полученных данных, почти все компании, имеющие 5 сфер деятельности являются транснациональными корпорациями. В топ-10 компаний вошли General Electric, DHL Express, Nestle, Philips, METRO, Zebra и Lanck Telekom. Также в числе лидеров такие компании как Биокад - крупнейшая Российская биотехнологическая компания полного цикла, Наука-Связь - Российская компания, предоставляющая телекоммуникационные услуги (телефония, интернет и прочее), а также Марс - один из мировых лидеров по производству пищевых продуктов длительного хранения (производит шоколадные батончики, корма для животных и прочее).\n",
        "\n",
        "В целом, можно сделать вывод о том, что от размера компании зависит то, какого число ее сфер деятельности. Чем больше компания, тем больше у нее сфер деятельности, следовательно тем больше возможности у соискателя попасть в эту компанию на работу."
      ],
      "metadata": {
        "id": "orRJxmXmolzq"
      },
      "id": "orRJxmXmolzq"
    },
    {
      "cell_type": "code",
      "source": [
        "connection.close()"
      ],
      "metadata": {
        "id": "pPgjfM1ADYlq"
      },
      "id": "pPgjfM1ADYlq",
      "execution_count": 87,
      "outputs": []
    },
    {
      "cell_type": "markdown",
      "source": [
        "# Общий вывод по проекту"
      ],
      "metadata": {
        "id": "c0ED6fh7wiBT"
      },
      "id": "c0ED6fh7wiBT"
    },
    {
      "cell_type": "markdown",
      "source": [
        "В ходе работы над проектом были получены выводы, которые могут помочь соискателю в поиске работы, а также помочь работодателю грамотнее искать исполнителей на свои вакансии.\n",
        "\n",
        "*Что будет полезно для соискателя:*\n",
        "1. Наибольшее число вакансий возможно найти в больших городах (в полученном исследовании это были Москва, Санкт-Петербург, Новосибирск, Минск и Алматы). Следовательно, при поиске работы лучше находиться в крупном городе, или быть готовым к переезду в один из вышеперечисленных крупных городов\n",
        "2. Средняя зарплатная вилка среди всех вакансий имеет вид: 71-110 тыс. рублей. При поиске работы нужно обращать внимание на данную вилку, поскольку для начинающих специалистов ориентировка на нее способна помочь мыслить критически и понимать, какие зарплаты стоит или не стоит ожидать.\n",
        "3. Почти все работодатели заинтересованы в работе сотрудника в формате полной занятости. График может варьироваться от гибридного до удаленного, однако нужно быть готовым работать стандартные 8 часов 4-5 дней в неделю, если соискатель хочет расти в карьере и получать достойную зарплату.\n",
        "4. Опыт работы влияет на количество вакансий. Наибольшее число вакансий включает в себя требование к опыту: от 1 года до 3 лет, следовательно наличие опыта в той сфере, в которой работает компания станет плюсом как при поиске вакансии, так и при обсуждении размера заработной платы.\n",
        "5. Поиск работы в крупных компаниях, таких как \"Яндекс\", \"Тинькофф\" и \"Ростелеком\" с б__о__льшей вероятностью приведут к успеху, поскольку наличие большого числа вакансий дает соискателю шанс выбрать похожее направление работы, при неудаче в одном из таковых.\n",
        "6. Следует обращать внимание на сферу деятельности работодателя, чтобы лучше понимать свои силы. Познания в области программирования, направленные на медицинску сферу навряд ли будут также эффективны при работе в банке. Именно соответствие сферы работы компании умениям соискателя приведут в конечном итоге к выгоде для обеих сторон.\n",
        "7. Для соискателей уровня выше Middle и выше, имеется возможность найти работу за границей. Тем не менее стоит также учитывать то, что для работы за границей потребуется дополнительное знание как минимум двух языков: местного языка (для Германии - немецкий, для Испании - испанский, и.т.д), а также английского, чтобы иметь возможность работать с документацией и прояснять рабочие моменты.\n",
        "8. Для специалистов в сфере Data Science на рынке присутствует огромное число вакансий всех возможных вариаций. Начинающие специалисты в данной сфере также имеют возможность попасть на стажировку/работу, чтобы, в случае ее удачного прохождения, получить оффер.\n",
        "9. Следует обращать внимание на ключевые навыки, указанные компанией. Соответствие ключевым навыкам работадателя гарантированно поможет в получении работы, а также поможет понять, когда необходимо получить новые знания.\n",
        "\n",
        "*Что будет полезно для работодателей*\n",
        "1. Географический разброс вакансий. Если компания обладает разными вакансиями, в разных частях страны, или даже мира, то это с высокой вероятностью привет к тому, что компания легко сможет найти нового работника, по совершенно разным проектам.\n",
        "2. Наличие удаленного формата работы. Компании, дающие возможность своим работникам работать как удаленно, так и из офиса будут иметь возможность нанять почти любого сотрудника. Также наличие удаленного формата работы, помимо работы в течение полного дня, создаст у работника ощущение доверия и свободы, поскольку незапланированная поездка, или форс-мажорная ситуация никак негативно не скажется ни на работе сотрудника, ни на решении проекта компании.\n",
        "3. Необходимо указывать сферу деятельности компании. Те фирмы, которые не указывают свои сферы деятельности могут испытывать трудности с поиском персонала. Очень часто соискатель обращает внимание на сферу деятельности компании, в котороую он будет подавать резюме. Отсутствие данной информации может привести к тому, что соискатель просто выберет другую компанию для работы.\n",
        "4. Необходимо указывать зарплатную вилку (желательно обе границы). В огромном количестве случаев соискатель ищет работу, основываясь на желании получать определенную заработную плату. Если у вакансии отсуствуют четкие границы для ЗП, то соискатель с меньшей вероятностью откликнется на нее, следовательно компании придется дольше искать работника на определенную должность.\n",
        "5. Ключевые навыки - главный фактор для соискателя. Наличие описанных ключевых навыков дают возможность будущему работнику развивать те навыки, которых у него пока что нет, а также понимать, соответсвтует ли он необходимым условиям для получения работы в данной компании.\n"
      ],
      "metadata": {
        "id": "O_Kt8IbluFUz"
      },
      "id": "O_Kt8IbluFUz"
    }
  ],
  "metadata": {
    "kernelspec": {
      "display_name": "Python 3 (ipykernel)",
      "language": "python",
      "name": "python3"
    },
    "language_info": {
      "codemirror_mode": {
        "name": "ipython",
        "version": 3
      },
      "file_extension": ".py",
      "mimetype": "text/x-python",
      "name": "python",
      "nbconvert_exporter": "python",
      "pygments_lexer": "ipython3",
      "version": "3.9.7"
    },
    "colab": {
      "provenance": []
    }
  },
  "nbformat": 4,
  "nbformat_minor": 5
}